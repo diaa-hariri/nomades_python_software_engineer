{
 "cells": [
  {
   "cell_type": "markdown",
   "id": "d7f9a40d",
   "metadata": {},
   "source": [
    "# Python File I/O\n",
    "## Python file operation\n",
    "\n",
    "Un fichier est un conteneur pour stocker des données. Python a plusieurs fonctions pour créer, lire, mettre à jour et supprimer des fichiers.\n",
    "\n",
    "Pour manipuler un fichier, il faut d'abord l'ouvrir, le modifier (ecrire/lire) puis le fermer. Il est indispensable de fermer un fichier après l'avoir ouvert afin de libérer les ressources associées au fichier."
   ]
  },
  {
   "cell_type": "markdown",
   "id": "1718513a",
   "metadata": {},
   "source": [
    "## Ouvrir un fichier en python\n",
    "\n",
    "En python, on peut ouvrir un fichier en utilisant la fonction `open()`. La syntaxe de la fonction `open()` est la suivante:\n",
    "\n",
    "```python\n",
    "open(file, mode='r', buffering=-1, encoding=None, errors=None, newline=None, closefd=True, opener=None)\n",
    "```\n",
    "\n",
    "La fonction `open()` retourne un objet de type `file`. On peut utiliser cet objet pour lire, écrire et modifier le fichier.\n",
    "\n",
    "> **Note**: Nous allons utiliser le fichier stocké dans `./files/test.txt` dans ce `Jupyter Notebook`.\n"
   ]
  },
  {
   "cell_type": "code",
   "execution_count": null,
   "id": "74dbde33",
   "metadata": {},
   "outputs": [],
   "source": [
    "TEST_FILE_PATH = \"./files/test.txt\""
   ]
  },
  {
   "cell_type": "code",
   "execution_count": 3,
   "id": "aba3985c",
   "metadata": {},
   "outputs": [],
   "source": [
    "# open file\n",
    "file1 = open(\"./files/test.txt\")\n",
    "\n",
    "# Explicit mode declaration\n",
    "file2 = open(TEST_FILE_PATH, \"r\")"
   ]
  },
  {
   "cell_type": "markdown",
   "id": "7acdfaec",
   "metadata": {},
   "source": [
    "Ici, nous avons crée un objet `file1` qui est associé au fichier `test.txt`. Par défaut s'il n'est pas spécifié, le mode d'ouverture est `r` (read). On peut spécifier le mode d'ouverture en utilisant le paramètre `mode` de la fonction `open()`."
   ]
  },
  {
   "cell_type": "markdown",
   "id": "c44c1373",
   "metadata": {},
   "source": [
    "### Différents modes d'ouverture\n",
    "\n",
    "| Mode | Description |\n",
    "| --- | --- |\n",
    "| `r` | Ouvre un fichier en lecture seule. C'est le mode par défaut. |\n",
    "| `w` | Ouvre un fichier en écriture seule. Ecrase le fichier s'il existe. Crée un nouveau fichier sinon. |\n",
    "| `a` | Ouvre un fichier en écriture seule. Ajoute le contenu à la fin du fichier s'il existe. Crée un nouveau fichier sinon. |\n",
    "| `x` | Ouvre un fichier en écriture seule. Crée un nouveau fichier. Retourne une erreur si le fichier existe déjà. |\n",
    "| `t` | Ouvre un fichier en mode texte. C'est le mode par défaut. |\n",
    "| `+` | Ouvre un fichier en lecture et écriture. |\n",
    "| `b` | Ouvre un fichier en mode binaire. |"
   ]
  },
  {
   "cell_type": "code",
   "execution_count": 5,
   "id": "da87dd19",
   "metadata": {},
   "outputs": [],
   "source": [
    "file1 = open(TEST_FILE_PATH)      # equivalent to 'r' or 'rt'\n",
    "file1 = open(TEST_FILE_PATH,'w')  # write in text mode\n",
    "file1 = open(TEST_FILE_PATH,'r+b') # read and write in binary mode"
   ]
  },
  {
   "cell_type": "markdown",
   "id": "cf56e26c",
   "metadata": {},
   "source": [
    "## Read file\n",
    "\n",
    "Une fois le fichier ouvert, on peut lire son contenu en utilisant la méthode `read()` de l'objet `file`. La méthode `read()` retourne le contenu du fichier sous forme de chaîne de caractères. La syntaxe de la méthode `read()` est la suivante:\n",
    "\n",
    "```python\n",
    "file.read(size=-1)\n",
    "```\n",
    "\n",
    "La méthode `read()` prend un paramètre optionnel `size` qui indique le nombre maximum de caractères à lire. Si le paramètre `size` n'est pas spécifié, la méthode `read()` lit tout le contenu du fichier."
   ]
  },
  {
   "cell_type": "code",
   "execution_count": 8,
   "id": "5521440e",
   "metadata": {},
   "outputs": [
    {
     "name": "stdout",
     "output_type": "stream",
     "text": [
      "\n"
     ]
    }
   ],
   "source": [
    "# open a file\n",
    "file1 = open(TEST_FILE_PATH, \"r\")\n",
    "\n",
    "# read the file\n",
    "read_content = file1.read()\n",
    "print(read_content)"
   ]
  },
  {
   "cell_type": "code",
   "execution_count": null,
   "id": "2b0c988d",
   "metadata": {},
   "outputs": [],
   "source": []
  }
 ],
 "metadata": {
  "kernelspec": {
   "display_name": "Python 3",
   "language": "python",
   "name": "python3"
  },
  "language_info": {
   "codemirror_mode": {
    "name": "ipython",
    "version": 3
   },
   "file_extension": ".py",
   "mimetype": "text/x-python",
   "name": "python",
   "nbconvert_exporter": "python",
   "pygments_lexer": "ipython3",
   "version": "3.9.17"
  }
 },
 "nbformat": 4,
 "nbformat_minor": 5
}
