{
 "cells": [
  {
   "cell_type": "markdown",
   "id": "e40d8fa4",
   "metadata": {},
   "source": [
    "# Python Directory and Files Management"
   ]
  },
  {
   "cell_type": "code",
   "execution_count": null,
   "id": "97b360c0",
   "metadata": {},
   "outputs": [],
   "source": []
  }
 ],
 "metadata": {
  "kernelspec": {
   "display_name": "Python 3",
   "language": "python",
   "name": "python3"
  },
  "language_info": {
   "codemirror_mode": {
    "name": "ipython",
    "version": 3
   },
   "file_extension": ".py",
   "mimetype": "text/x-python",
   "name": "python",
   "nbconvert_exporter": "python",
   "pygments_lexer": "ipython3",
   "version": "3.9.17"
  }
 },
 "nbformat": 4,
 "nbformat_minor": 5
}
