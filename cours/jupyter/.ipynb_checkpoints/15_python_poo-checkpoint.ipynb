{
 "cells": [
  {
   "cell_type": "markdown",
   "id": "c68bc7e5",
   "metadata": {},
   "source": [
    "# Python Programation Orientée Objet"
   ]
  },
  {
   "cell_type": "code",
   "execution_count": null,
   "id": "3bc8c115",
   "metadata": {},
   "outputs": [],
   "source": []
  }
 ],
 "metadata": {
  "kernelspec": {
   "display_name": "Python 3",
   "language": "python",
   "name": "python3"
  },
  "language_info": {
   "codemirror_mode": {
    "name": "ipython",
    "version": 3
   },
   "file_extension": ".py",
   "mimetype": "text/x-python",
   "name": "python",
   "nbconvert_exporter": "python",
   "pygments_lexer": "ipython3",
   "version": "3.9.17"
  }
 },
 "nbformat": 4,
 "nbformat_minor": 5
}
