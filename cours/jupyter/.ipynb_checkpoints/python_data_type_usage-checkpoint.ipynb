{
 "cells": [
  {
   "cell_type": "markdown",
   "id": "f7368d70",
   "metadata": {
    "slideshow": {
     "slide_type": "slide"
    }
   },
   "source": [
    "# Python Random Module\n",
    "\n",
    "Python offre des fonctions pour générer des nombres aléatoires. Voici quelques exemples:"
   ]
  },
  {
   "cell_type": "code",
   "execution_count": null,
   "id": "6a61366b",
   "metadata": {
    "slideshow": {
     "slide_type": "slide"
    }
   },
   "outputs": [],
   "source": [
    "import random\n",
    "\n",
    "# Print random element\n",
    "print(random.random())\n",
    "\n",
    "# Print random uniform element\n",
    "print(random.uniform(10, 20))\n",
    "\n",
    "# Print random integer element\n",
    "print(random.randint(10, 20))\n",
    "\n",
    "# Print random element\n",
    "print(random.randrange(10, 20, 8))\n",
    "\n",
    "list1 = ['a', 'b', 'c', 'd', 'e']\n",
    "\n",
    "# get random item from list1\n",
    "print(random.choice(list1))\n",
    "\n",
    "# Shuffle list1\n",
    "random.shuffle(list1)\n",
    "\n",
    "# Print the shuffled list1\n",
    "print(list1)"
   ]
  },
  {
   "cell_type": "markdown",
   "id": "c53fdd24",
   "metadata": {
    "slideshow": {
     "slide_type": "slide"
    }
   },
   "source": [
    "- random.random()\\t: retourne un nombre flottant aléatoire entre 0 et 1\n",
    "- random.uniform(a, b)\\t: retourne un nombre flottant aléatoire entre a et b (inclus)\n",
    "- random.randint(a, b)\\t: retourne un nombre entier aléatoire entre a (inclus) et b (inclus)\n",
    "- random.randrange(a, b, step)\\t: retourne un nombre entier aléatoire entre a (inclus) et b (exclus) avec un pas de step\n",
    "- random.choice(sequence)\\t: retourne un élément aléatoire de la séquence\n",
    "- random.shuffle(sequence)\\t: mélange la séquence"
   ]
  },
  {
   "cell_type": "markdown",
   "id": "45b828f8",
   "metadata": {
    "slideshow": {
     "slide_type": "slide"
    }
   },
   "source": [
    "# Python Mathematics\n",
    "\n",
    "Python offre des fonctions mathématiques pour effectuer des opérations mathématiques plus complexes. Voici quelques exemples:\n",
    "\n",
    "vous trouverez plus d'informations sur le module math ainsi que toutes les fonctiosn proposées [ici](https://docs.python.org/3/library/math.html)"
   ]
  },
  {
   "cell_type": "code",
   "execution_count": null,
   "id": "e9c67fe0",
   "metadata": {
    "slideshow": {
     "slide_type": "slide"
    }
   },
   "outputs": [],
   "source": [
    "import math\n",
    "\n",
    "print(f\"PI\\t\\t:\\t{math.pi}\")\n",
    "print(f\"e\\t\\t:\\t{math.e}\")\n",
    "\n",
    "print(f\"ceil(4.4)\\t:\\t{math.ceil(4.4)}\")\n",
    "print(f\"floor(4.4)\\t:\\t{math.floor(4.4)}\")\n",
    "print(f\"fabs(-4.4)\\t:\\t{math.fabs(-4.4)}\")\n",
    "\n",
    "print(f\"factorial(4)\\t:\\t{math.factorial(4)}\")\n",
    "\n",
    "print(f\"pow(2,2)\\t:\\t{math.pow(2,2)}\")\n",
    "print(f\"sqrt(4)\\t\\t:\\t{math.sqrt(4)}\")\n",
    "print(f\"exp(3)\\t\\t:\\t{math.exp(3)}\")\n",
    "print(f\"log(1000)\\t:\\t{math.log(1000)}\")\n",
    "print(f\"log10(1000)\\t:\\t{math.log10(1000)}\")\n",
    "print(f\"log2(1024)\\t:\\t{math.log2(1024)}\")\n",
    "\n",
    "print(f\"sin(PI)\\t\\t:\\t{math.sin(math.pi)}\")\n",
    "print(f\"cos(PI)\\t\\t:\\t{math.cos(math.pi)}\")\n",
    "\n",
    "print(f\"degrees(PI)\\t:\\t{math.degrees(math.pi)}\")\n",
    "print(f\"radians(180)\\t:\\t{math.radians(180)}\")"
   ]
  },
  {
   "cell_type": "markdown",
   "id": "f0180e20",
   "metadata": {
    "slideshow": {
     "slide_type": "slide"
    }
   },
   "source": [
    "# Python Lists\n",
    "\n",
    "Les listes sont des objets qui peuvent contenir plusieurs éléments. Ils sont définis par des crochets et les éléments sont séparés par des virgules. Les éléments peuvent être de différents types."
   ]
  },
  {
   "cell_type": "markdown",
   "id": "a00b90ce",
   "metadata": {
    "slideshow": {
     "slide_type": "slide"
    }
   },
   "source": [
    "## Create a List\n",
    "\n",
    "Pour créer une liste, vous pouvez utiliser la fonction list() ou les crochets [].\n",
    "\n",
    "```python\n",
    "# Create a list\n",
    "my_list = list()\n",
    "my_list = []\n",
    "```"
   ]
  },
  {
   "cell_type": "code",
   "execution_count": null,
   "id": "5dfd8000",
   "metadata": {},
   "outputs": [],
   "source": [
    "import timeit\n",
    "print(timeit.timeit('[]', number=10**7))\n",
    "print(timeit.timeit('list()', number=10**7))"
   ]
  },
  {
   "cell_type": "markdown",
   "id": "1d0808e4",
   "metadata": {},
   "source": [
    "> **Note**: La création d'une liste vide en utilisant `[]` est ~2X plus rapide que d'utiliser la fonction `list()`"
   ]
  },
  {
   "cell_type": "markdown",
   "id": "4638ad2d",
   "metadata": {
    "slideshow": {
     "slide_type": "slide"
    }
   },
   "source": [
    "Autres Façons de créer une liste:"
   ]
  },
  {
   "cell_type": "code",
   "execution_count": null,
   "id": "70bcf00b",
   "metadata": {},
   "outputs": [],
   "source": [
    "l = [1, 2, 3, 4, 5]\n",
    "print(l)\n",
    "\n",
    "l2 = list(range(1, 6))\n",
    "print(l2)"
   ]
  },
  {
   "cell_type": "markdown",
   "id": "1e3e1d2b",
   "metadata": {
    "slideshow": {
     "slide_type": "slide"
    }
   },
   "source": [
    "Une liste peut :\n",
    "- contenir des éléments de différents types (nombres, chaînes de caractères, booléens, listes, etc.)\n",
    "- contenir des éléments dupliqués"
   ]
  },
  {
   "cell_type": "code",
   "execution_count": null,
   "id": "ca800e86",
   "metadata": {},
   "outputs": [],
   "source": [
    "# list with elements of different data types\n",
    "list1 = [1, \"Hello\", 3.4]\n",
    "\n",
    "# list with duplicate elements\n",
    "list2 = [1, \"Hello\", 3.4, \"Hello\", 1]\n",
    "\n",
    "# empty list\n",
    "list3 = []\n",
    "\n",
    "# nested list\n",
    "list4 = list(range(1, 10, 2))\n",
    "\n",
    "# lambda function\n",
    "list5 = list(map(lambda x: x**2, range(1, 10, 2)))\n",
    "\n",
    "print(list1)\n",
    "print(list2)\n",
    "print(list3)\n",
    "print(list4)\n",
    "print(list5)"
   ]
  },
  {
   "cell_type": "markdown",
   "id": "00db3e1f",
   "metadata": {
    "slideshow": {
     "slide_type": "slide"
    }
   },
   "source": [
    "## Acceder aux elements d'une liste\n",
    "\n",
    "En python les listes sont des objets indexés. Cela signifie que chaque élément de la liste a un index. L'index est un nombre entier qui commence à 0. Pour accéder à un élément de la liste, vous devez utiliser l'index de cet élément."
   ]
  },
  {
   "cell_type": "code",
   "execution_count": null,
   "id": "23de50a4",
   "metadata": {},
   "outputs": [],
   "source": [
    "languages = [\"Python\", \"Swift\", \"C++\"]\n",
    "\n",
    "# access item at index 0\n",
    "print(languages[0])\n",
    "\n",
    "# access item at index 2\n",
    "print(languages[2])"
   ]
  },
  {
   "cell_type": "markdown",
   "id": "0d1240b2",
   "metadata": {
    "slideshow": {
     "slide_type": "slide"
    }
   },
   "source": [
    "![\"Liste index\"](./imgs/list-index-in-python.png)\n",
    "[Source](https://www.programiz.com/python-programming/list)\n",
    "> **Note**: Les index des listes commencent à 0"
   ]
  },
  {
   "cell_type": "markdown",
   "id": "84c8a6f5",
   "metadata": {
    "slideshow": {
     "slide_type": "slide"
    }
   },
   "source": [
    "## Les index négatifs\n",
    "\n",
    "Les index négatifs sont utilisés pour accéder aux éléments de la liste en partant de la fin. L'index -1 correspond au dernier élément de la liste, l'index -2 correspond à l'avant-dernier élément de la liste, etc."
   ]
  },
  {
   "cell_type": "code",
   "execution_count": null,
   "id": "66b1c8dd",
   "metadata": {},
   "outputs": [],
   "source": [
    "languages = [\"Python\", \"Swift\", \"C++\"]\n",
    "\n",
    "# access item at index 0\n",
    "print(languages[-3])\n",
    "\n",
    "# access item at index 2\n",
    "print(languages[-1])"
   ]
  },
  {
   "cell_type": "markdown",
   "id": "aa875ccc",
   "metadata": {
    "slideshow": {
     "slide_type": "slide"
    }
   },
   "source": [
    "![\"list index negatifs\"](./imgs/python-list-negative-index.png)\n",
    "[Source](https://www.programiz.com/python-programming/list)\n",
    "\n",
    "> **Note**: Si un index n'existe pas, une erreur de type `IndexError` sera levée"
   ]
  },
  {
   "cell_type": "markdown",
   "id": "994b1137",
   "metadata": {
    "slideshow": {
     "slide_type": "slide"
    }
   },
   "source": [
    "## List slicing\n",
    "\n",
    "Vous pouvez accéder à une partie de la liste en utilisant la notation de tranche. La notation de tranche est `list[start:end:step]`. Les éléments de la liste sont inclus de l'index de début à l'index de fin - 1. Le pas est facultatif et par défaut, il est égal à 1."
   ]
  },
  {
   "cell_type": "code",
   "execution_count": null,
   "id": "e332c1d2",
   "metadata": {
    "slideshow": {
     "slide_type": "slide"
    }
   },
   "outputs": [],
   "source": [
    "# List slicing in Python\n",
    "my_list = ['A','n','t','o','n','i','o']\n",
    "\n",
    "# items from index 2 to index 4\n",
    "print(my_list[2:5])\n",
    "\n",
    "# items from index 5 to end\n",
    "print(my_list[5:])\n",
    "\n",
    "# items from begining to index 5\n",
    "print(my_list[:5])\n",
    "\n",
    "# items beginning to end\n",
    "print(my_list[:])\n",
    "\n",
    "# List slicing with negative index\n",
    "print(my_list[2:-2])\n",
    "\n",
    "# List slicing with step - show every 2nd item\n",
    "print(my_list[::2])"
   ]
  },
  {
   "cell_type": "markdown",
   "id": "faf1c681",
   "metadata": {
    "slideshow": {
     "slide_type": "slide"
    }
   },
   "source": [
    "Ici : \n",
    "\n",
    "- `my_list[2:5]` - accéder aux éléments de la liste de l'index 2 à l'index 4\n",
    "- `my_list[5:]` - accéder aux éléments de la liste de l'index 5 à la fin de la liste\n",
    "- `my_list[:5]` - accéder aux éléments de la liste du début de la liste à l'index 4\n",
    "- `my_list[:]` - accéder à tous les éléments de la liste\n",
    "- `my_list[2:-2]` - accéder aux éléments de la liste de l'index 2 à l'avant-dernier élément de la liste\n",
    "- `my_list[::2]` - accéder à tous les éléments de la liste avec un pas de 2\n",
    "\n",
    "> **Note**: Lors du `slicing`, le premier index est inclus et le dernier index est exclu"
   ]
  },
  {
   "cell_type": "markdown",
   "id": "a631936c",
   "metadata": {
    "slideshow": {
     "slide_type": "slide"
    }
   },
   "source": [
    "## Ajouter un élément à une liste\n",
    "\n",
    "Pour ajouter un élément à une liste, vous pouvez utiliser la méthode `append()`, `extends()` ou `insert()`.\n",
    "\n",
    "Il est possible d'ajouter des éléments aux `listes`, car les `listes` sont des objets mutables (modifiables)."
   ]
  },
  {
   "cell_type": "markdown",
   "id": "0a1dbe1a",
   "metadata": {
    "slideshow": {
     "slide_type": "slide"
    }
   },
   "source": [
    "1. ### append()\n",
    "\n",
    "La méthode `append()` ajoute un élément à la fin de la liste."
   ]
  },
  {
   "cell_type": "code",
   "execution_count": null,
   "id": "205ba587",
   "metadata": {},
   "outputs": [],
   "source": [
    "numbers = [21, 34, 54, 12]\n",
    "\n",
    "print(\"Before Append:\", numbers)\n",
    "\n",
    "# using append method\n",
    "numbers.append(32)\n",
    "\n",
    "print(\"After Append:\", numbers)"
   ]
  },
  {
   "cell_type": "markdown",
   "id": "cc4b3913",
   "metadata": {
    "slideshow": {
     "slide_type": "slide"
    }
   },
   "source": [
    "2. ### extend()\n",
    "\n",
    "La méthode `extend()` ajoute tous les éléments d'un itérable (list, tuples, string, dictionary, etc.) à la fin de la liste."
   ]
  },
  {
   "cell_type": "code",
   "execution_count": null,
   "id": "4167f16e",
   "metadata": {},
   "outputs": [],
   "source": [
    "numbers = [1, 3, 5]\n",
    "\n",
    "even_numbers = [4, 6, 8]\n",
    "\n",
    "# add elements of even_numbers to the numbers list\n",
    "numbers.extend(even_numbers)\n",
    "\n",
    "print(\"List after append:\", numbers) "
   ]
  },
  {
   "cell_type": "markdown",
   "id": "625d325e",
   "metadata": {
    "slideshow": {
     "slide_type": "slide"
    }
   },
   "source": [
    "3. ### insert()\n",
    "\n",
    "La méthode `insert()` ajoute un élément à un index spécifique de la liste."
   ]
  },
  {
   "cell_type": "code",
   "execution_count": null,
   "id": "f4008f41",
   "metadata": {},
   "outputs": [],
   "source": [
    "numbers = [10, 30, 40]\n",
    "\n",
    "# insert an element at index 1 (second position)\n",
    "numbers.insert(1, 20)\n",
    "\n",
    "print(numbers) # [10, 20, 30, 40]"
   ]
  },
  {
   "cell_type": "markdown",
   "id": "1a0ac8ed",
   "metadata": {
    "slideshow": {
     "slide_type": "slide"
    }
   },
   "source": [
    "## Changer la valeur d'un élément d'une liste\n",
    "\n",
    "Les listes en python sont mutables, ce qui signifie que vous pouvez modifier les valeurs des éléments de la liste. Pour changer une valeur d'un élément de la liste, vous devez utiliser l'index de cet élément. et assigner une valeur en utilisant l'opérateur d'affectation `=`."
   ]
  },
  {
   "cell_type": "code",
   "execution_count": null,
   "id": "0b8fab0e",
   "metadata": {},
   "outputs": [],
   "source": [
    "languages = ['Python', 'Swift', 'C++']\n",
    "print(languages)\n",
    "\n",
    "# changing the third item to 'C'\n",
    "languages[2] = 'C'\n",
    "\n",
    "print(languages)"
   ]
  },
  {
   "cell_type": "markdown",
   "id": "3c588278",
   "metadata": {
    "slideshow": {
     "slide_type": "slide"
    }
   },
   "source": [
    "## Suppression d'un élément\n",
    "\n",
    "Pour supprimer un élément de la liste, vous pouvez utiliser la méthode [del](https://www.programiz.com/python-programming/del), `remove()` ou `pop()`."
   ]
  },
  {
   "cell_type": "markdown",
   "id": "1adf58f9",
   "metadata": {
    "slideshow": {
     "slide_type": "slide"
    }
   },
   "source": [
    "1. ### del"
   ]
  },
  {
   "cell_type": "code",
   "execution_count": null,
   "id": "2572ff6c",
   "metadata": {},
   "outputs": [],
   "source": [
    "languages = ['Python', 'Swift', 'C++', 'C', 'Java', 'Rust', 'R']\n",
    "print(languages)\n",
    "\n",
    "# deleting the second item\n",
    "del languages[1]\n",
    "print(languages)\n",
    "\n",
    "# deleting the last item\n",
    "del languages[-1]\n",
    "print(languages)\n",
    "# delete the first two items\n",
    "del languages[0 : 2]\n",
    "print(languages)"
   ]
  },
  {
   "cell_type": "markdown",
   "id": "b4bb8ce7",
   "metadata": {
    "slideshow": {
     "slide_type": "slide"
    }
   },
   "source": [
    "2. ### remove()\n",
    "\n",
    "La fonction `remove()` supprime le premier élément de la liste dont la valeur est égale à la valeur passée en paramètre."
   ]
  },
  {
   "cell_type": "code",
   "execution_count": null,
   "id": "ce4f2a1d",
   "metadata": {},
   "outputs": [],
   "source": [
    "languages = ['Python', 'Swift', 'C++', 'C', 'Java', 'Rust', 'R']\n",
    "print(languages)\n",
    "\n",
    "# remove 'Python' from the list\n",
    "languages.remove('Python')\n",
    "\n",
    "print(languages)"
   ]
  },
  {
   "cell_type": "markdown",
   "id": "4c557e5c",
   "metadata": {
    "slideshow": {
     "slide_type": "slide"
    }
   },
   "source": [
    "3. ### pop()\n",
    "\n",
    "La méthode `pop()` supprime l'élément à l'index spécifié et retourne cet élément."
   ]
  },
  {
   "cell_type": "code",
   "execution_count": null,
   "id": "4f9228e0",
   "metadata": {},
   "outputs": [],
   "source": [
    "languages = ['Python', 'Swift', 'C++', 'C', 'Java', 'Rust', 'R']\n",
    "print(languages)\n",
    "\n",
    "# remove and return the last item\n",
    "print(languages.pop())\n",
    "print(languages)\n",
    "\n",
    "# remove and return the second last item\n",
    "print(languages.pop(-2))\n",
    "\n",
    "print(languages)"
   ]
  },
  {
   "cell_type": "markdown",
   "id": "139aa155",
   "metadata": {
    "slideshow": {
     "slide_type": "slide"
    }
   },
   "source": [
    "## Methodes de listes\n",
    "\n",
    "Voici quelques méthodes utiles pour les listes:\n",
    "\n",
    "| Method | Description |\n",
    "| --- | --- |\n",
    "| `append()` | Ajoute un élément à la fin de la liste |\n",
    "| `extend()` | Ajoute tous les éléments d'un itérable (list, tuples, string, dictionary, etc.) à la fin de la liste |\n",
    "| `insert()` | Ajoute un élément à un index spécifique de la liste |\n",
    "| `remove()` | Supprime le premier élément de la liste dont la valeur est égale à la valeur passée en paramètre |\n",
    "| `pop()` | Supprime l'élément à l'index spécifié et retourne cet élément |\n",
    "| `clear()` | Supprime tous les éléments de la liste |\n",
    "| `index()` | Retourne l'index du premier élément de la liste dont la valeur est égale à la valeur passée en paramètre |\n",
    "| `count()` | Retourne le nombre d'éléments de la liste dont la valeur est égale à la valeur passée en paramètre |\n",
    "| `sort()` | Trie les éléments de la liste |\n",
    "| `reverse()` | Inverse l'ordre des éléments de la liste |\n",
    "| `copy()` | Retourne une copie de la liste |"
   ]
  },
  {
   "cell_type": "markdown",
   "id": "eeac4a4a",
   "metadata": {
    "slideshow": {
     "slide_type": "slide"
    }
   },
   "source": [
    "## Itérer sur une liste\n",
    "\n",
    "Pour itérer sur une liste, vous pouvez utiliser la boucle `for` ou la boucle `while`."
   ]
  },
  {
   "cell_type": "code",
   "execution_count": null,
   "id": "5b2e1993",
   "metadata": {},
   "outputs": [],
   "source": [
    "my_list = [3, 8, 1, 6, 0, 8, 4]\n",
    "\n",
    "# Iterate over a list using for loop\n",
    "for item in my_list:\n",
    "    print(item, end=\" \")\n",
    "print()\n",
    "# Iterate over a list using while loop\n",
    "i = 0\n",
    "while i < len(my_list):\n",
    "    print(my_list[i], end=\" \")\n",
    "    i += 1"
   ]
  },
  {
   "cell_type": "markdown",
   "id": "e9e3d433",
   "metadata": {
    "slideshow": {
     "slide_type": "slide"
    }
   },
   "source": [
    "## Check if an element exists in a list\n",
    "\n",
    "Pour vérifier si un élément existe dans une liste, vous pouvez utiliser l'opérateur `in` ou `not in`."
   ]
  },
  {
   "cell_type": "code",
   "execution_count": null,
   "id": "42b942b4",
   "metadata": {},
   "outputs": [],
   "source": [
    "languages = ['Python', 'Swift', 'C++']\n",
    "\n",
    "print('C' in languages)\n",
    "print('Python' in languages)\n",
    "\n",
    "print('C' not in languages)\n",
    "print('Python' not in languages)"
   ]
  },
  {
   "cell_type": "markdown",
   "id": "15c12c8a",
   "metadata": {
    "slideshow": {
     "slide_type": "slide"
    }
   },
   "source": [
    "## Longueur d'une liste\n",
    "\n",
    "Pour obtenir la longueur d'une liste, vous pouvez utiliser la fonction `len()`."
   ]
  },
  {
   "cell_type": "code",
   "execution_count": null,
   "id": "1c327a6e",
   "metadata": {},
   "outputs": [],
   "source": [
    "languages = ['Python', 'Swift', 'C++']\n",
    "\n",
    "print(\"List: \", languages)\n",
    "\n",
    "print(\"Total Elements: \", len(languages))"
   ]
  },
  {
   "cell_type": "markdown",
   "id": "0d7430e4",
   "metadata": {
    "slideshow": {
     "slide_type": "slide"
    }
   },
   "source": [
    "## List Comprehension\n",
    "\n",
    "La compréhension de liste est une façon élégante de définir et de créer des listes en python. Nous pouvons créer des listes en utilisant une boucle `for` et une condition `if` sur cette boucle. La syntaxe de la compréhension de liste est la suivante:\n",
    "\n",
    "```python\n",
    "[expression for item in list]\n",
    "```\n"
   ]
  },
  {
   "cell_type": "markdown",
   "id": "2dedb7d4",
   "metadata": {
    "slideshow": {
     "slide_type": "slide"
    }
   },
   "source": [
    "Supposons que nous voulions séparer les lettres du mot `human`. L'approche classique consiste à utiliser une boucle `for` comme ceci:"
   ]
  },
  {
   "cell_type": "code",
   "execution_count": null,
   "id": "3216f353",
   "metadata": {},
   "outputs": [],
   "source": [
    "h_letters = []\n",
    "\n",
    "for letter in 'human':\n",
    "    h_letters.append(letter)\n",
    "\n",
    "print(h_letters)"
   ]
  },
  {
   "cell_type": "markdown",
   "id": "e2db7871",
   "metadata": {
    "slideshow": {
     "slide_type": "slide"
    }
   },
   "source": [
    "Cependant, en utilisant la compréhension de liste, nous pouvons le faire en une seule ligne de code."
   ]
  },
  {
   "cell_type": "code",
   "execution_count": null,
   "id": "491c516c",
   "metadata": {},
   "outputs": [],
   "source": [
    "h_letters = [ letter for letter in 'human' ]\n",
    "print( h_letters)"
   ]
  },
  {
   "cell_type": "markdown",
   "id": "2f422fc9",
   "metadata": {
    "slideshow": {
     "slide_type": "slide"
    }
   },
   "source": [
    "### Syntax de la compréhension de liste\n",
    "\n",
    "```python\n",
    "[expression for item in list]\n",
    "```\n",
    "\n",
    "![\"lc\"](./imgs/lc.jpg)\n",
    "[Source](https://www.programiz.com/python-programming/list-comprehension)"
   ]
  },
  {
   "cell_type": "markdown",
   "id": "4b001163",
   "metadata": {
    "slideshow": {
     "slide_type": "slide"
    }
   },
   "source": [
    "## List comprehensions avec Condition\n",
    "\n",
    "La syntaxe de la compréhension de liste avec condition est la suivante:\n",
    "\n",
    "```python\n",
    "[expression for item in list if condition]\n",
    "```"
   ]
  },
  {
   "cell_type": "code",
   "execution_count": null,
   "id": "73cf0add",
   "metadata": {},
   "outputs": [],
   "source": [
    "number_list = [ x for x in range(20) if x % 2 == 0]\n",
    "print(number_list)"
   ]
  },
  {
   "cell_type": "markdown",
   "id": "646f8d34",
   "metadata": {
    "slideshow": {
     "slide_type": "slide"
    }
   },
   "source": [
    "## List comprehensions avec plusieurs conditions\n",
    "\n",
    "La syntaxe de la compréhension de liste avec plusieurs conditions est la suivante:\n",
    "\n",
    "```python\n",
    "[expression for item in list if condition1 and condition2]\n",
    "```\n",
    "\n",
    "Le comportement de la compréhension de liste avec plusieurs conditions est similaire à l'utilisation de la clause `and` dans une boucle `for`."
   ]
  },
  {
   "cell_type": "code",
   "execution_count": null,
   "id": "6252c1e7",
   "metadata": {},
   "outputs": [],
   "source": [
    "num_list = [y for y in range(100) if y % 2 == 0 if y % 5 == 0]\n",
    "print(num_list)"
   ]
  },
  {
   "cell_type": "markdown",
   "id": "aa296e6c",
   "metadata": {
    "slideshow": {
     "slide_type": "slide"
    }
   },
   "source": [
    "Ici, la `compréhension de liste` vérifie si:\n",
    "- `y` est divisible par 2\n",
    "- `y` est divisible par 5\n",
    "\n",
    "`y` sera ajouté à la liste si les deux conditions sont `True` (and)."
   ]
  },
  {
   "cell_type": "markdown",
   "id": "b0b1894f",
   "metadata": {
    "slideshow": {
     "slide_type": "slide"
    }
   },
   "source": [
    "## if...else With List Comprehension\n",
    "\n",
    "La syntaxe de la compréhension de liste avec `if...else` est la suivante:\n",
    "\n",
    "```python\n",
    "[true_expression if condition else false_expression for item in list]\n",
    "```"
   ]
  },
  {
   "cell_type": "code",
   "execution_count": null,
   "id": "9b10adbc",
   "metadata": {},
   "outputs": [],
   "source": [
    "obj = [\"Even\" if i%2==0 else \"Odd\" for i in range(10)]\n",
    "print(obj)"
   ]
  },
  {
   "cell_type": "markdown",
   "id": "6ca1f1e6",
   "metadata": {
    "slideshow": {
     "slide_type": "slide"
    }
   },
   "source": [
    "## Nested loops in List Comprehensions\n",
    "\n",
    "La syntaxe de la compréhension de liste avec des boucles imbriquées est la suivante:\n",
    "\n",
    "```python\n",
    "[expression for item in list1 for item2 in list2]\n",
    "```"
   ]
  },
  {
   "cell_type": "markdown",
   "id": "9721167e",
   "metadata": {},
   "source": [
    "Supposons que nous voulions calculer la transposée de la matrice suivante:\n",
    "\n",
    "|1|2|3|4|\n",
    "|---|---|---|---|\n",
    "|4|5|6|8|\n",
    "\n",
    "Nous pouvons utiliser le code python basique suivant:"
   ]
  },
  {
   "cell_type": "code",
   "execution_count": null,
   "id": "625bc029",
   "metadata": {
    "slideshow": {
     "slide_type": "slide"
    }
   },
   "outputs": [],
   "source": [
    "\n",
    "# Initialize an empty list to store the transposed matrix\n",
    "transposed = []\n",
    "\n",
    "# Original matrix\n",
    "matrix = [[1, 2, 3, 4], [4, 5, 6, 8]]\n",
    "\n",
    "# Iterate over the columns of the original matrix\n",
    "for i in range(len(matrix[0])):\n",
    "    # Initialize an empty list to store the transposed row\n",
    "    transposed_row = []\n",
    "\n",
    "    # Iterate over the rows of the original matrix\n",
    "    for row in matrix:\n",
    "        # Append the element at the corresponding column to the transposed row\n",
    "        transposed_row.append(row[i])\n",
    "\n",
    "    # Append the transposed row to the transposed matrix\n",
    "    transposed.append(transposed_row)\n",
    "\n",
    "# Print the transposed matrix\n",
    "print(transposed)"
   ]
  },
  {
   "cell_type": "markdown",
   "id": "01ff5625",
   "metadata": {
    "slideshow": {
     "slide_type": "slide"
    }
   },
   "source": [
    "Ce code utilise deux boucles `for` imbriquées pour transposer la matrice. \n",
    "\n",
    "Nous pouvons le faire en une seule ligne de code en utilisant la compréhension de liste imbriquée."
   ]
  },
  {
   "cell_type": "code",
   "execution_count": null,
   "id": "2f3036b5",
   "metadata": {},
   "outputs": [],
   "source": [
    "# Original matrix\n",
    "matrix = [[1, 2, 3, 4], [4, 5, 6, 8]]\n",
    "\n",
    "# Transpose the matrix using a list comprehension\n",
    "transposed = [[row[i] for row in matrix] for i in range(len(matrix[0]))]\n",
    "\n",
    "# Print the transposed matrix\n",
    "print(transposed)"
   ]
  },
  {
   "cell_type": "markdown",
   "id": "3c68e3bc",
   "metadata": {
    "slideshow": {
     "slide_type": "slide"
    }
   },
   "source": [
    "## Bonus\n",
    "\n",
    "Il est possible d'obtenir, le meme résultat, en utilisant la fonction `map()` et la fonction `lambda`."
   ]
  },
  {
   "cell_type": "code",
   "execution_count": null,
   "id": "ed743b56",
   "metadata": {},
   "outputs": [],
   "source": [
    "letters = list(map(lambda x: x, 'human'))\n",
    "print(letters)"
   ]
  },
  {
   "cell_type": "markdown",
   "id": "2eac97d2",
   "metadata": {
    "slideshow": {
     "slide_type": "slide"
    }
   },
   "source": [
    "## List comprehension Conclusion\n",
    "\n",
    "- La compréhension de liste est une façon élégante de définir et de créer des listes en python.\n",
    "- Les listes de compréhension sont plus rapides que les boucles `for` et `while` traditionnelles. Elles sont aussi plus compactes.\n",
    "- `/!\\` Les listes de compréhension peuvent être difficiles à lire. Essayez d'éviter les listes de compréhension imbriquées de plus de deux niveaux ou trop longues\n",
    "- Chaque compréhension de liste peut être réécrite en boucle `for` traditionnelle. Mais chaque boucle `for` ne peut pas être réécrite en compréhension de liste."
   ]
  },
  {
   "cell_type": "markdown",
   "id": "7b87af57",
   "metadata": {
    "slideshow": {
     "slide_type": "slide"
    }
   },
   "source": [
    "# Python Tuples\n",
    "\n",
    "Les tuples sont des séquences immuables, c'est-à-dire qu'elles ne peuvent pas être modifiées après leur création. Les tuples sont utilisés pour stocker des collections d'éléments de données. Un tuple est similaire à une liste. Cependant, les tuples utilisent des parenthèses et les listes utilisent des crochets."
   ]
  },
  {
   "cell_type": "markdown",
   "id": "925e703f",
   "metadata": {
    "slideshow": {
     "slide_type": "slide"
    }
   },
   "source": [
    "## Creation de tuples\n",
    "\n",
    "Pour créer un tuple, il suffit de meetre les éléments entre les `()` et de les séparer par des virgules. Il est également possible d'utiliser la fonction `tuple()`.\n",
    "\n",
    "> **Note**: Un tuple avec un seul élément doit avoir une virgule après l'élément, sinon il sera considéré comme un type différent.\n",
    "\n",
    "> **Note**: Les parenthèses ne sont pas obligatoires pour créer un tuple. Mais il est fortement recommandé d'utiliser des parenthèses."
   ]
  },
  {
   "cell_type": "code",
   "execution_count": null,
   "id": "54599d1a",
   "metadata": {
    "slideshow": {
     "slide_type": "slide"
    }
   },
   "outputs": [],
   "source": [
    "# Different types of tuples\n",
    "\n",
    "# Empty tuple\n",
    "my_tuple = ()\n",
    "print(my_tuple)\n",
    "\n",
    "# Tuple having 1 item\n",
    "my_tuple = (1)\n",
    "print(type(my_tuple), my_tuple)\n",
    "\n",
    "my_tuple = (1)\n",
    "print(type(my_tuple), my_tuple)\n",
    "\n",
    "# tuple with mixed datatypes\n",
    "my_tuple = (1, \"Hello\", 3.4)\n",
    "print(my_tuple)\n",
    "\n",
    "# nested tuple\n",
    "my_tuple = (\"mouse\", [8, 4, 6], (1, 2, 3))\n",
    "print(my_tuple)\n",
    "\n",
    "# tuple can be created without parentheses\n",
    "my_tuple = 3, 4.6, \"dog\"\n",
    "print(my_tuple)"
   ]
  },
  {
   "cell_type": "markdown",
   "id": "b55d47d0",
   "metadata": {
    "slideshow": {
     "slide_type": "slide"
    }
   },
   "source": [
    "## Acceder aux elements d'un tuple\n",
    "\n",
    "Comme pour les listes, les tuples sont indexés et vous pouvez accéder aux éléments d'un tuple en utilisant des indices. l'index commence à 0."
   ]
  },
  {
   "cell_type": "markdown",
   "id": "d0c51346",
   "metadata": {
    "slideshow": {
     "slide_type": "slide"
    }
   },
   "source": [
    "1. ### Indexing\n",
    "\n",
    "Pour accéder à un élément d'un tuple, vous pouvez utiliser l'opérateur `[]` avec l'index correspondant. Si l'index n'existe pas, une exception `IndexError` est levée. Si on utilise un index de type autre que `int`, une exception `TypeError` est levée."
   ]
  },
  {
   "cell_type": "code",
   "execution_count": null,
   "id": "938d2517",
   "metadata": {},
   "outputs": [],
   "source": [
    "# accessing tuple elements using indexing\n",
    "letters = (\"A\", \"n\", \"t\", \"o\", \"n\", \"i\", \"o\")\n",
    "\n",
    "print(letters[0])\n",
    "print(letters[5])"
   ]
  },
  {
   "cell_type": "markdown",
   "id": "1a2a7e2f",
   "metadata": {
    "slideshow": {
     "slide_type": "slide"
    }
   },
   "source": [
    "2. ### Negative indexing in tuples\n",
    "\n",
    "Les tuples prennent également en charge l'indexation négative. Cela signifie que vous pouvez accéder aux éléments d'un tuple en utilisant des indices négatifs. L'index `-1` fait référence au dernier élément, `-2` fait référence à l'avant-dernier élément, et ainsi de suite."
   ]
  },
  {
   "cell_type": "code",
   "execution_count": null,
   "id": "5d534afe",
   "metadata": {},
   "outputs": [],
   "source": [
    "# accessing tuple elements using negative indexing\n",
    "letters = (\"A\", \"n\", \"t\", \"o\", \"n\", \"i\", \"o\")\n",
    "\n",
    "print(letters[-1])   # prints 'z' \n",
    "print(letters[-3])   # prints 'm'"
   ]
  },
  {
   "cell_type": "markdown",
   "id": "43a76963",
   "metadata": {
    "slideshow": {
     "slide_type": "slide"
    }
   },
   "source": [
    "3. ### Slicing of Tuple\n",
    "\n",
    "Vous pouvez accéder à une plage de valeurs dans un tuple en utilisant la notation de tranche. La syntaxe de la tranche de tuple est la suivante:\n",
    "\n",
    "```python\n",
    "tuple[start:stop:step]\n",
    "```"
   ]
  },
  {
   "cell_type": "code",
   "execution_count": 1,
   "id": "a6b9d981",
   "metadata": {
    "slideshow": {
     "slide_type": "slide"
    }
   },
   "outputs": [
    {
     "name": "stdout",
     "output_type": "stream",
     "text": [
      "('n', 't', 'o')\n",
      "('A', 'n')\n",
      "('i', 'o')\n",
      "('A', 'n', 't', 'o', 'n', 'i', 'o')\n",
      "('A', 't', 'n', 'o')\n"
     ]
    }
   ],
   "source": [
    "# accessing tuple elements using slicing\n",
    "my_tuple = (\"A\", \"n\", \"t\", \"o\", \"n\", \"i\", \"o\")\n",
    "\n",
    "# elements 2nd to 4th index\n",
    "print(my_tuple[1:4])\n",
    "\n",
    "# elements beginning to 2nd\n",
    "print(my_tuple[:-5])\n",
    "\n",
    "# elements 5th to end\n",
    "print(my_tuple[5:])\n",
    "\n",
    "# elements beginning to end\n",
    "print(my_tuple[:])\n",
    "\n",
    "# all the elements with step 2\n",
    "print(my_tuple[::2])"
   ]
  },
  {
   "cell_type": "markdown",
   "id": "67eb81f6",
   "metadata": {
    "slideshow": {
     "slide_type": "slide"
    }
   },
   "source": [
    "## Change or delete a tuple\n",
    "\n",
    "Les tuples sont immuables, ce qui signifie que vous ne pouvez pas modifier ou mettre à jour les valeurs des éléments d'un tuple. Vous ne pouvez pas non plus supprimer d'éléments d'un tuple. Cependant, vous pouvez supprimer un tuple entier en utilisant l'instruction `del`."
   ]
  },
  {
   "cell_type": "code",
   "execution_count": 2,
   "id": "1049dd92",
   "metadata": {},
   "outputs": [
    {
     "ename": "TypeError",
     "evalue": "'tuple' object does not support item assignment",
     "output_type": "error",
     "traceback": [
      "\u001b[0;31m---------------------------------------------------------------------------\u001b[0m",
      "\u001b[0;31mTypeError\u001b[0m                                 Traceback (most recent call last)",
      "Cell \u001b[0;32mIn[2], line 4\u001b[0m\n\u001b[1;32m      1\u001b[0m my_tuple \u001b[38;5;241m=\u001b[39m (\u001b[38;5;124m\"\u001b[39m\u001b[38;5;124mA\u001b[39m\u001b[38;5;124m\"\u001b[39m, \u001b[38;5;124m\"\u001b[39m\u001b[38;5;124mn\u001b[39m\u001b[38;5;124m\"\u001b[39m, \u001b[38;5;124m\"\u001b[39m\u001b[38;5;124mt\u001b[39m\u001b[38;5;124m\"\u001b[39m, \u001b[38;5;124m\"\u001b[39m\u001b[38;5;124mo\u001b[39m\u001b[38;5;124m\"\u001b[39m, \u001b[38;5;124m\"\u001b[39m\u001b[38;5;124mn\u001b[39m\u001b[38;5;124m\"\u001b[39m, \u001b[38;5;124m\"\u001b[39m\u001b[38;5;124mi\u001b[39m\u001b[38;5;124m\"\u001b[39m, \u001b[38;5;124m\"\u001b[39m\u001b[38;5;124mo\u001b[39m\u001b[38;5;124m\"\u001b[39m)\n\u001b[1;32m      3\u001b[0m \u001b[38;5;66;03m# changing element value\u001b[39;00m\n\u001b[0;32m----> 4\u001b[0m \u001b[43mmy_tuple\u001b[49m\u001b[43m[\u001b[49m\u001b[38;5;241;43m0\u001b[39;49m\u001b[43m]\u001b[49m \u001b[38;5;241m=\u001b[39m \u001b[38;5;124m\"\u001b[39m\u001b[38;5;124ma\u001b[39m\u001b[38;5;124m\"\u001b[39m    \u001b[38;5;66;03m# TypeError: 'tuple' object does not support item assignment\u001b[39;00m\n\u001b[1;32m      6\u001b[0m \u001b[38;5;66;03m# deleting a tuple\u001b[39;00m\n\u001b[1;32m      7\u001b[0m \u001b[38;5;28;01mdel\u001b[39;00m my_tuple\n",
      "\u001b[0;31mTypeError\u001b[0m: 'tuple' object does not support item assignment"
     ]
    }
   ],
   "source": [
    "my_tuple = (\"A\", \"n\", \"t\", \"o\", \"n\", \"i\", \"o\")\n",
    "\n",
    "# changing element value\n",
    "my_tuple[0] = \"a\"    # TypeError: 'tuple' object does not support item assignment\n",
    "\n",
    "# deleting a tuple\n",
    "del my_tuple\n",
    "print(my_tuple)  # NameError: name 'my_tuple' is not defined"
   ]
  },
  {
   "cell_type": "markdown",
   "id": "d13ebd72",
   "metadata": {
    "slideshow": {
     "slide_type": "slide"
    }
   },
   "source": [
    "## Python tuples methods\n",
    "\n",
    "| Method | Description |\n",
    "|---|---|\n",
    "| `count()` | Retourne le nombre de fois qu'un élément apparaît dans un tuple |\n",
    "| `index()` | Recherche l'élément spécifié et renvoie son index |"
   ]
  },
  {
   "cell_type": "code",
   "execution_count": null,
   "id": "f70a6cce",
   "metadata": {},
   "outputs": [],
   "source": [
    "my_tuple = ('a', 'p', 'p', 'l', 'e',)\n",
    "\n",
    "print(my_tuple.count('p'))  # prints 2\n",
    "print(my_tuple.index('l'))  # prints 3"
   ]
  },
  {
   "cell_type": "markdown",
   "id": "fdb6e8ce",
   "metadata": {
    "slideshow": {
     "slide_type": "slide"
    }
   },
   "source": [
    "## Iterating Through a Tuple\n",
    "\n",
    "Vous pouvez itérer à travers un tuple en utilisant une boucle `for`. Vous pouvez également utiliser la boucle `while` pour itérer à travers un tuple. Il est aussi intéressant de noter que l'on peut `unpack` un tuple."
   ]
  },
  {
   "cell_type": "code",
   "execution_count": null,
   "id": "d367caf6",
   "metadata": {
    "slideshow": {
     "slide_type": "slide"
    }
   },
   "outputs": [],
   "source": [
    "languages = ('Python', 'Swift', 'C++')\n",
    "\n",
    "# iterating through the tuple\n",
    "for language in languages:\n",
    "    print(language, end=\" \")\n",
    "\n",
    "print()\n",
    "i=0\n",
    "while i < len(languages):\n",
    "    print(languages[i], end=\" \")\n",
    "    i += 1\n",
    "\n",
    "print()\n",
    "# tuple unpacking is also possible\n",
    "languages = ('Python', 'Swift', 'C++')\n",
    "\n",
    "# unpacking tuple\n",
    "language1, language2, language3 = languages\n",
    "\n",
    "print(language1, language2, language3)"
   ]
  },
  {
   "cell_type": "markdown",
   "id": "983a30c6",
   "metadata": {
    "slideshow": {
     "slide_type": "slide"
    }
   },
   "source": [
    "## Vérifier si un élément est présent dans un tuple\n",
    "\n",
    "Pour vérifier si un élément est présent dans un tuple, vous pouvez utiliser l'opérateur `in` et `not in`."
   ]
  },
  {
   "cell_type": "code",
   "execution_count": null,
   "id": "5032fdcf",
   "metadata": {},
   "outputs": [],
   "source": [
    "languages = ('Python', 'Swift', 'C++')\n",
    "\n",
    "print('C' in languages)\n",
    "print('Python' in languages)\n",
    "print('C' not in languages)\n",
    "print('Python' not in languages)"
   ]
  },
  {
   "cell_type": "markdown",
   "id": "2ea9d0dd",
   "metadata": {
    "slideshow": {
     "slide_type": "slide"
    }
   },
   "source": [
    "## Avantages d'utiliser des tuples\n",
    "\n",
    "Comme les tuples sont similaires aux listes, les deux sont utilisés dans des situations. Cependant, il existe quelques avantages à utiliser des tuples au lieu de listes.\n",
    "\n",
    "- Souvent on utilise les `tuples` quand on veut stocker des données de type **hétérogènes**(differentes). Les listes sont utilisées pour stocker des données de type **homogènes**(même type).\n",
    "- Comme les tuples sont immuables, le traitement des tuples est plus rapide que celui des listes. \n",
    "- Comme les `tuples` sont immuables, il est possible de les utilisés comme clé dans un dictionnaire. Les listes ne peuvent pas être utilisées comme clé dans un dictionnaire car les listes peuvent être modifiées après leur création.\n",
    "- Si vous avez des donnnées qui ne doivent pas être changées, vous devez utiliser un tuple, car vos donnée seront protégées contre l'écriture `write protected`."
   ]
  },
  {
   "cell_type": "markdown",
   "id": "25dd971a",
   "metadata": {
    "slideshow": {
     "slide_type": "slide"
    }
   },
   "source": [
    "# Les dictionnaires en Python\n",
    "\n",
    "Les dictionnaires sont des structures de données utilisées pour stocker des données sous forme de paires clé-valeur. Les dictionnaires sont indexés par des clés. Les clés sont uniques dans un dictionnaire. Les dictionnaires sont construits avec des accolades `{}` et les paires clé-valeur sont séparées par des virgules."
   ]
  },
  {
   "cell_type": "markdown",
   "id": "9bb691c6",
   "metadata": {
    "slideshow": {
     "slide_type": "slide"
    }
   },
   "source": [
    "## Creation de dictionnaires\n",
    "\n",
    "Pour créer un dictionnaire, il suffit de mettre les paires clé-valeur entre les `{}` et de les séparer par des virgules. Il est également possible d'utiliser la fonction `dict()`. Les pairs clé-valeur sont séparées par des virgules et la clé et la valeur sont séparées par `:`."
   ]
  },
  {
   "cell_type": "code",
   "execution_count": 3,
   "id": "34b7cccb",
   "metadata": {},
   "outputs": [
    {
     "name": "stdout",
     "output_type": "stream",
     "text": [
      "{'United States': 'Washington D.C.', 'Italy': 'Rome', 'England': 'London'}\n"
     ]
    }
   ],
   "source": [
    "# creating a dictionary\n",
    "country_capitals = {\n",
    "  \"United States\": \"Washington D.C.\", \n",
    "  \"Italy\": \"Rome\", \n",
    "  \"England\": \"London\"\n",
    "}\n",
    "\n",
    "# printing the dictionary\n",
    "print(country_capitals)"
   ]
  },
  {
   "cell_type": "markdown",
   "id": "cf4605b6",
   "metadata": {
    "slideshow": {
     "slide_type": "slide"
    }
   },
   "source": [
    "> **Note**: Les clés doivent être uniques dans un dictionnaire, c'est-à-dire qu'il ne peut y avoir qu'une seule occurrence d'une clé donnée dans un dictionnaire.\n",
    "> **Note**: Les clés doivent être de type immuable, c'est-à-dire qu'elles doivent être de type `string`, `number` ou `tuple`."
   ]
  },
  {
   "cell_type": "code",
   "execution_count": null,
   "id": "678ee3a1",
   "metadata": {
    "slideshow": {
     "slide_type": "slide"
    }
   },
   "outputs": [],
   "source": [
    "# Valid dictionary\n",
    "\n",
    "my_dict = {\n",
    "  1: \"Hello\", \n",
    "  (1, 2): \"Hello Hi\", \n",
    "  3: [1, 2, 3]\n",
    "}\n",
    "\n",
    "print(my_dict)\n",
    "\n",
    "# Invalid dictionary\n",
    "# Error: using a list as a key is not allowed\n",
    "\n",
    "my_dict = {\n",
    "  1: \"Hello\", \n",
    "  [1, 2]: \"Hello Hi\", \n",
    "}\n",
    "\n",
    "print(my_dict)\n",
    "\n",
    "# creating an empty dictionary\n",
    "my_dict = {}\n",
    "my_dict = dict()"
   ]
  },
  {
   "cell_type": "code",
   "execution_count": null,
   "id": "7304220b",
   "metadata": {
    "slideshow": {
     "slide_type": "slide"
    }
   },
   "outputs": [],
   "source": [
    "import timeit\n",
    "print(timeit.timeit('{}', number=10**7))\n",
    "print(timeit.timeit('dict()', number=10**7))"
   ]
  },
  {
   "cell_type": "markdown",
   "id": "c193cee4",
   "metadata": {
    "slideshow": {
     "slide_type": "slide"
    }
   },
   "source": [
    "## Longueur d'un dictionnaire\n",
    "\n",
    "Pour obtenir la longueur d'un dictionnaire, vous pouvez utiliser la fonction `len()`."
   ]
  },
  {
   "cell_type": "code",
   "execution_count": null,
   "id": "98263865",
   "metadata": {},
   "outputs": [],
   "source": [
    "country_capitals = {\n",
    "  \"United States\": \"Washington D.C.\", \n",
    "  \"Italy\": \"Rome\", \n",
    "  \"England\": \"London\"\n",
    "}\n",
    "\n",
    "# get dictionary's length\n",
    "print(len(country_capitals)) # 3"
   ]
  },
  {
   "cell_type": "markdown",
   "id": "1f4bdb43",
   "metadata": {
    "slideshow": {
     "slide_type": "slide"
    }
   },
   "source": [
    "## Acceder aux valeurs d'un dictionnaire\n",
    "\n",
    "Pour accéder à une valeur d'un dictionnaire, vous pouvez utiliser l'opérateur `[]` avec la clé correspondante. Si la clé n'existe pas, une exception `KeyError` est levée. Si on utilise une clé de type autre que `string`, `number` ou `tuple`, une exception `TypeError` est levée. On peut aussi utiliser la méthode `get()`."
   ]
  },
  {
   "cell_type": "code",
   "execution_count": null,
   "id": "46991759",
   "metadata": {
    "slideshow": {
     "slide_type": "slide"
    }
   },
   "outputs": [],
   "source": [
    "country_capitals = {\n",
    "  \"United States\": \"Washington D.C.\", \n",
    "  \"Italy\": \"Rome\", \n",
    "  \"England\": \"London\"\n",
    "}\n",
    "\n",
    "print(country_capitals[\"United States\"])  # Washington D.C.\n",
    "print(country_capitals[\"England\"]) # London\n",
    "print(country_capitals[\"France\"]) # KeyError: 'France'\n",
    "\n",
    "\n",
    "print(country_capitals.get(\"Italy\")) # Rome\n",
    "print(country_capitals.get(\"France\")) # None\n",
    "print(country_capitals.get(\"France\", \"capitale non reconnue\")) # None\n"
   ]
  },
  {
   "cell_type": "markdown",
   "id": "63e9d527",
   "metadata": {
    "slideshow": {
     "slide_type": "slide"
    }
   },
   "source": [
    "## Manipuler les dictionnaires"
   ]
  },
  {
   "cell_type": "markdown",
   "id": "f8871560",
   "metadata": {
    "slideshow": {
     "slide_type": "slide"
    }
   },
   "source": [
    "### Modifier les valeurs d'un dictionnaire\n",
    "\n",
    "Les dictionnaires sont mutables, ce qui signifie que vous pouvez modifier les valeurs d'un dictionnaire après sa création.\n",
    "\n",
    "Pour changer la valeur d'un élément d'un dictionnaire, on utilise l'opérateur `[]` avec la clé correspondante. Si la clé n'existe pas, une nouvelle paire clé-valeur est ajoutée au dictionnaire. Si on utilise une clé de type autre que `string`, `number` ou `tuple`, une exception `TypeError` est levée."
   ]
  },
  {
   "cell_type": "code",
   "execution_count": 4,
   "id": "b645292c",
   "metadata": {},
   "outputs": [
    {
     "name": "stdout",
     "output_type": "stream",
     "text": [
      "{'United States': 'New York', 'Italy': 'Rome', 'England': 'London'}\n"
     ]
    }
   ],
   "source": [
    "country_capitals = {\n",
    "  \"United States\": \"New York\", \n",
    "  \"Italy\": \"Naples\",\n",
    "  \"England\": \"London\"\n",
    "}\n",
    "\n",
    "# change the value of \"Italy\" key to \"Rome\"\n",
    "country_capitals[\"Italy\"] = \"Rome\"\n",
    "\n",
    "print(country_capitals)"
   ]
  },
  {
   "cell_type": "markdown",
   "id": "c34d4969",
   "metadata": {
    "slideshow": {
     "slide_type": "slide"
    }
   },
   "source": [
    "### Ajouter des éléments à un dictionnaire\n",
    "\n",
    "Pour ajouter un nouvel élément à un dictionnaire, on utilise l'opérateur `[]` avec une nouvelle clé et on lui attribue une valeur. Si la clé existe déjà, la valeur existante est remplacée par la nouvelle valeur. Sinon la nouvelle paire clé-valeur est ajoutée au dictionnaire."
   ]
  },
  {
   "cell_type": "code",
   "execution_count": null,
   "id": "d31c8e8e",
   "metadata": {},
   "outputs": [],
   "source": [
    "country_capitals = {\n",
    "  \"United States\": \"New York\", \n",
    "  \"Italy\": \"Rome\" \n",
    "}\n",
    "\n",
    "# add an item with \"Germany\" as key and \"Berlin\" as its value\n",
    "country_capitals[\"Germany\"] = \"Berlin\"\n",
    "\n",
    "print(country_capitals)"
   ]
  },
  {
   "cell_type": "markdown",
   "id": "d7de7ef2",
   "metadata": {},
   "source": [
    "> **Note**: On peut aussi utiliser la méthode `update()` pour ajouter un nouvel élément à un dictionnaire."
   ]
  },
  {
   "cell_type": "code",
   "execution_count": null,
   "id": "1e7bebec",
   "metadata": {
    "slideshow": {
     "slide_type": "slide"
    }
   },
   "outputs": [],
   "source": [
    "# update method on country_capitals dictionary\n",
    "country_capitals = {\n",
    "  \"United States\": \"New York\",\n",
    "  \"Italy\": \"Naple\"\n",
    "}\n",
    "\n",
    "# update the dictionary with key-value pairs\n",
    "country_capitals.update({\"France\": \"Paris\"})\n",
    "country_capitals.update({\"Germany\": \"Berlin\"})\n",
    "country_capitals.update({\"Italy\": \"Rome\"})\n",
    "\n",
    "print(country_capitals)"
   ]
  },
  {
   "cell_type": "markdown",
   "id": "785e398e",
   "metadata": {
    "slideshow": {
     "slide_type": "slide"
    }
   },
   "source": [
    "### Supression d'un élément\n",
    "\n",
    "Pour supprimer un élément d'un dictionnaire, on utilise l'instruction `del`. Si la clé n'existe pas, une exception `KeyError` est levée. On peut aussi utiliser la méthode `pop()`, `popitem()` et `clear()`."
   ]
  },
  {
   "cell_type": "code",
   "execution_count": null,
   "id": "fab97fe8",
   "metadata": {
    "slideshow": {
     "slide_type": "slide"
    }
   },
   "outputs": [],
   "source": [
    "country_capitals = {\n",
    "  \"United States\": \"New York\", \n",
    "  \"Italy\": \"Naples\",\n",
    "  \"England\": \"London\",\n",
    "  \"France\": \"Paris\",\n",
    "  \"Germany\": \"Berlin\"\n",
    "}\n",
    "print(country_capitals)\n",
    "\n",
    "# delete item having \"United States\" key\n",
    "del country_capitals[\"United States\"]\n",
    "\n",
    "print(country_capitals)\n",
    "\n",
    "print(country_capitals.popitem())\n",
    "print(country_capitals)\n",
    "\n",
    "print(country_capitals.pop(\"Italy\"))\n",
    "print(country_capitals)\n",
    "\n",
    "country_capitals.clear()\n",
    "print(country_capitals)\n",
    "\n",
    "country_capitals = {\n",
    "  \"United States\": \"New York\",\n",
    "  \"Italy\": \"Rome\",\n",
    "  \"France\": \"Paris\",\n",
    "  \"Germany\": \"Berlin\"\n",
    "}"
   ]
  },
  {
   "cell_type": "markdown",
   "id": "5b03ea74",
   "metadata": {
    "slideshow": {
     "slide_type": "slide"
    }
   },
   "source": [
    "## Dictionary Methods\n",
    "\n",
    "| Method | Description |\n",
    "|---|---|\n",
    "| `clear()` | Supprime tous les éléments d'un dictionnaire |\n",
    "| `copy()` | Retourne une copie d'un dictionnaire |\n",
    "| `get()` | Retourne la valeur de la clé spécifiée |\n",
    "| `items()` | Retourne une liste contenant une séquence de tuples, chacun représentant une paire clé-valeur |\n",
    "| `keys()` | Retourne une liste contenant les clés d'un dictionnaire |\n",
    "| `pop()` | Supprime l'élément avec la clé spécifiée |\n",
    "| `popitem()` | Supprime le dernier élément inséré |\n",
    "| `setdefault()` | Retourne la valeur de la clé spécifiée. Si la clé ne figure pas dans le dictionnaire, la clé est insérée avec la valeur spécifiée |\n",
    "| `update()` | Met à jour le dictionnaire avec les paires clé-valeur spécifiées |\n",
    "| `values()` | Retourne une liste de toutes les valeurs d'un dictionnaire |\n",
    "| `pop()` | Supprime l'élément avec la clé spécifiée |"
   ]
  },
  {
   "cell_type": "markdown",
   "id": "8a915e79",
   "metadata": {
    "slideshow": {
     "slide_type": "slide"
    }
   },
   "source": [
    "## Vérifier l'existence d'une clé\n",
    "\n",
    "Pour vérifier si une clé existe dans un dictionnaire, on utilise l'opérateur `in` et `not in`."
   ]
  },
  {
   "cell_type": "code",
   "execution_count": null,
   "id": "47d821ae",
   "metadata": {},
   "outputs": [],
   "source": [
    "my_list = {1: \"Hello\", \"Hi\": 25, \"Howdy\": 100}\n",
    "\n",
    "print(1 in my_list)\n",
    "\n",
    "# the not in operator checks whether key doesn't exist\n",
    "print(\"Howdy\" not in my_list)\n",
    "\n",
    "print(\"Hello\" in my_list)"
   ]
  },
  {
   "cell_type": "markdown",
   "id": "cb48abf3",
   "metadata": {},
   "source": [
    "> **Note**: les operateurs `in` et `not in` check uniquement les clés et non les valeurs."
   ]
  },
  {
   "cell_type": "markdown",
   "id": "159830de",
   "metadata": {
    "slideshow": {
     "slide_type": "slide"
    }
   },
   "source": [
    "## Iterating Through a Dictionary\n",
    "\n",
    "Depuis Python 3.7, les dictionnaires sont ordonnés. ce qui signifie que vous pouvez itérer à travers un dictionnaire en utilisant une boucle `for`."
   ]
  },
  {
   "cell_type": "code",
   "execution_count": null,
   "id": "2762cccf",
   "metadata": {},
   "outputs": [],
   "source": [
    "country_capitals = {\n",
    "  \"United States\": \"New York\", \n",
    "  \"Italy\": \"Naples\" \n",
    "}\n",
    "\n",
    "# print dictionary keys one by one\n",
    "for country in country_capitals:\n",
    "    print(country)\n",
    "\n",
    "print(\"----------\")\n",
    "\n",
    "# print dictionary values one by one\n",
    "for country in country_capitals:\n",
    "    capital = country_capitals[country]\n",
    "    print(capital)\n",
    "\n",
    "print(\"----------\")\n",
    "\n",
    "# iterate over keys and values\n",
    "for country, capital in country_capitals.items():\n",
    "    print(country, \" - \", capital)\n"
   ]
  }
 ],
 "metadata": {
  "celltoolbar": "Slideshow",
  "kernelspec": {
   "display_name": "Python 3",
   "language": "python",
   "name": "python3"
  },
  "language_info": {
   "codemirror_mode": {
    "name": "ipython",
    "version": 3
   },
   "file_extension": ".py",
   "mimetype": "text/x-python",
   "name": "python",
   "nbconvert_exporter": "python",
   "pygments_lexer": "ipython3",
   "version": "3.9.17"
  }
 },
 "nbformat": 4,
 "nbformat_minor": 5
}
