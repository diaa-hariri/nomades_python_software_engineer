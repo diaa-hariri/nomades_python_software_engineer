{
 "cells": [
  {
   "cell_type": "markdown",
   "id": "bc4829dc",
   "metadata": {
    "slideshow": {
     "slide_type": "slide"
    }
   },
   "source": [
    "# Python Basic Input and Output\n",
    "\n",
    "En python, on peut utiliser la fonction `print()` pour afficher du texte en output"
   ]
  },
  {
   "cell_type": "code",
   "execution_count": 16,
   "id": "91ca7deb",
   "metadata": {},
   "outputs": [
    {
     "name": "stdout",
     "output_type": "stream",
     "text": [
      "le chiffre actuel est :  0  valeurs\n",
      "le chiffre actuel est :  1  valeurs\n",
      "le chiffre actuel est :  2  valeurs\n",
      "le chiffre actuel est :  3  valeurs\n",
      "le chiffre actuel est :  4  valeurs\n",
      "le chiffre actuel est :  5  valeurs\n",
      "le chiffre actuel est :  6  valeurs\n",
      "le chiffre actuel est :  7  valeurs\n",
      "le chiffre actuel est :  8  valeurs\n",
      "le chiffre actuel est :  9  valeurs\n"
     ]
    }
   ],
   "source": [
    "from time import sleep\n",
    "for i in range(10):\n",
    "    print(\"le chiffre actuel est : \", i, \" valeurs\", end=\"\\n\")\n",
    "    sleep(1)"
   ]
  },
  {
   "cell_type": "markdown",
   "id": "9f5aced5",
   "metadata": {
    "slideshow": {
     "slide_type": "slide"
    }
   },
   "source": [
    "Ici, `print()` prend un seul paramètre, qui est une chaîne de caractères (string). Cependant, `print()` attend **5** paramètres\n",
    "\n",
    "```python\n",
    "print(object=, sep=, end=, file=, flush=)\n",
    "```\n",
    "\n",
    "- `object` : la/les variable(s) à afficher\n",
    "- `sep (optionnel)` : le séparateur entre les `objects` (par défaut, un espace)\n",
    "- `end (optionnel)` : le caractère à ajouter à la fin de l'affichage (par défaut, un retour à la ligne)\n",
    "- `file (optionnel)` : le fichier dans lequel écrire (par défaut, la sortie standard `sys.stdout`)\n",
    "- `flush (optionnel)` : Valeur booléenne indiquant s'il faut vider le buffer après l'affichage (par défaut, `False`)"
   ]
  },
  {
   "cell_type": "markdown",
   "id": "b47942f8",
   "metadata": {
    "slideshow": {
     "slide_type": "slide"
    }
   },
   "source": [
    "### Exemple 1 : Python Print Statement\n",
    "\n",
    "Affichage de deux String, ici la valeur de `end` n'est pas renseignée, donc par défaut un retour à la ligne est ajouté à la fin de l'affichage. L'affichage des deux string se fera sur deux ligne différentes."
   ]
  },
  {
   "cell_type": "code",
   "execution_count": 13,
   "id": "e6904ca3",
   "metadata": {},
   "outputs": [
    {
     "name": "stdout",
     "output_type": "stream",
     "text": [
      "Good Morning!\n",
      "It is rainy today\n"
     ]
    }
   ],
   "source": [
    "print('Good Morning!')\n",
    "print('It is rainy today')"
   ]
  },
  {
   "cell_type": "markdown",
   "id": "5997ec3a",
   "metadata": {
    "slideshow": {
     "slide_type": "slide"
    }
   },
   "source": [
    "### Exemple 2 : Python Print() avec end\n",
    "\n",
    "Affichage de deux String, ici la valeur de `end` est renseignée, donc un espace est ajouté à la fin de l'affichage. L'affichage des deux string se fera sur une seule ligne."
   ]
  },
  {
   "cell_type": "code",
   "execution_count": 17,
   "id": "902ea390",
   "metadata": {},
   "outputs": [
    {
     "name": "stdout",
     "output_type": "stream",
     "text": [
      "Good Morning! It is rainy today\n"
     ]
    }
   ],
   "source": [
    "# print with end whitespace\n",
    "print('Good Morning!', end= ' ')\n",
    "\n",
    "print('It is rainy today')"
   ]
  },
  {
   "cell_type": "markdown",
   "id": "39c87cd0",
   "metadata": {
    "slideshow": {
     "slide_type": "slide"
    }
   },
   "source": [
    "### Exemple 3: Python print() avec sep parameter\n",
    "\n",
    "Affichage de plusieurs objets, ici la valeur de `sep` est renseignée, donc un séparateur est ajouté entre les objets."
   ]
  },
  {
   "cell_type": "code",
   "execution_count": 25,
   "id": "d29a537b",
   "metadata": {},
   "outputs": [
    {
     "name": "stdout",
     "output_type": "stream",
     "text": [
      "New Year. 16. 1. See you soon!\n"
     ]
    }
   ],
   "source": [
    "def un():\n",
    "    return 1\n",
    "print('New Year', 3+13, un(), 'See you soon!', sep= '. ')"
   ]
  },
  {
   "cell_type": "markdown",
   "id": "0a87abe2",
   "metadata": {
    "slideshow": {
     "slide_type": "slide"
    }
   },
   "source": [
    "### Example: Print Python Variables and Literals\n",
    "\n",
    "On peut utiliser `print()` pour afficher des variables et des littéraux (littéraux = valeurs littérales, c'est à dire des valeurs qui ne sont pas stockées dans une variable)"
   ]
  },
  {
   "cell_type": "code",
   "execution_count": 27,
   "id": "8e86f587",
   "metadata": {},
   "outputs": [
    {
     "name": "stdout",
     "output_type": "stream",
     "text": [
      "5\n",
      "-10.6\n",
      "Antonio\n",
      "-10.6\n",
      "Antonio\n"
     ]
    }
   ],
   "source": [
    "number = -10.6\n",
    "\n",
    "name = \"Antonio\"\n",
    "\n",
    "# print literals     \n",
    "print(5)\n",
    "\n",
    "# print variables\n",
    "print(number)\n",
    "print(name)\n",
    "print(number, name, sep=\"\\n\")"
   ]
  },
  {
   "cell_type": "markdown",
   "id": "d6de2eed",
   "metadata": {
    "slideshow": {
     "slide_type": "slide"
    }
   },
   "source": [
    "### Exemple: Print avec concatenation de string\n",
    "\n",
    "On peut `join` 2 strings ensemble a l'intérieur de la fonction `print()` avec l'opérateur `+`"
   ]
  },
  {
   "cell_type": "code",
   "execution_count": 29,
   "id": "f8275971",
   "metadata": {},
   "outputs": [
    {
     "name": "stdout",
     "output_type": "stream",
     "text": [
      "Hello World.\n"
     ]
    }
   ],
   "source": [
    "v = 'Hello ' + 'World.'\n",
    "print(v)"
   ]
  },
  {
   "cell_type": "markdown",
   "id": "6e8ff5f8",
   "metadata": {
    "slideshow": {
     "slide_type": "slide"
    }
   },
   "source": [
    "# Output formatting\n",
    "\n",
    "On peut utiliser la fonction `format()` pour formater l'affichage de variables dans une chaîne de caractères."
   ]
  },
  {
   "cell_type": "code",
   "execution_count": 45,
   "id": "474f9509",
   "metadata": {},
   "outputs": [
    {
     "name": "stdout",
     "output_type": "stream",
     "text": [
      "The value of x is 5 and y is 10\n",
      "I love {bread and butter}\n",
      "Hello John, Good Morning\n",
      "z is 10.56\n",
      "z is 10.56\n"
     ]
    }
   ],
   "source": [
    "x = 5\n",
    "y = 10\n",
    "z = 10.555555555\n",
    "\n",
    "print('The value of x is {} and y is {}'.format(x,y))\n",
    "\n",
    "print('I love {{{0} and {1}}}'.format('bread','butter'))\n",
    "\n",
    "# on peut aussi formatter l'affichage des variables\n",
    "\n",
    "print('Hello {name}, {greeting}'.format(greeting = 'Good Morning', name = 'John'))\n",
    "\n",
    "# on peut aussi formatter les nombres a afficher\n",
    "print(\"z is %0.2f\" %(z))\n",
    "print(\"z is {0:.2f}\".format(z))\n"
   ]
  },
  {
   "cell_type": "markdown",
   "id": "34d8f326",
   "metadata": {
    "slideshow": {
     "slide_type": "slide"
    }
   },
   "source": [
    "## F-Strings: A New and Improved Way to Format Strings in Python\n",
    "\n",
    "Depuis Python 3.6, on peut utiliser les `f-strings` pour formater l'affichage de variables dans une chaîne de caractères."
   ]
  },
  {
   "cell_type": "code",
   "execution_count": 47,
   "id": "c40f6d65",
   "metadata": {},
   "outputs": [
    {
     "name": "stdout",
     "output_type": "stream",
     "text": [
      "The value of x is 12.35\n",
      "The value of x is 12.35\n",
      "The value of x is 12.35\n",
      "Hello John, Good Morning\n"
     ]
    }
   ],
   "source": [
    "# old style formatting\n",
    "x = 12.3456789\n",
    "print('The value of x is %0.2f' %x)\n",
    "\n",
    "# new style formatting\n",
    "print('The value of x is {:.2f}'.format(x))\n",
    "print(f\"The value of x is {x:.2f}\")\n",
    "\n",
    "name = 'John'\n",
    "greeting = 'Good Morning'\n",
    "\n",
    "print(f\"Hello {name}, {greeting}\")"
   ]
  },
  {
   "cell_type": "markdown",
   "id": "97e9820c",
   "metadata": {
    "slideshow": {
     "slide_type": "slide"
    }
   },
   "source": [
    "# Python Input\n",
    "\n",
    "En python, il est possible de demander à l'utilisateur d'entrer une valeur avec la fonction `input()`"
   ]
  },
  {
   "cell_type": "code",
   "execution_count": null,
   "id": "2598bfc6",
   "metadata": {},
   "outputs": [],
   "source": [
    "user_input = input('Enter your name: ')"
   ]
  },
  {
   "cell_type": "markdown",
   "id": "d16d6bd5",
   "metadata": {},
   "source": [
    "Ici, on affichera le string: 'Enter your name' et l'utilisateur pourra entrer une valeur. Cette valeur sera stockée dans la variable `user_input`  "
   ]
  },
  {
   "cell_type": "code",
   "execution_count": 49,
   "id": "b5d5843b",
   "metadata": {
    "slideshow": {
     "slide_type": "slide"
    }
   },
   "outputs": [
    {
     "name": "stdout",
     "output_type": "stream",
     "text": [
      "Enter a number: 12\n",
      "You Entered: 12\n",
      "Data type of num: <class 'str'>\n",
      "Enter a number: 12\n",
      "You entered: 12\n",
      "Data type of num_int: s <class 'int'> salut\n"
     ]
    }
   ],
   "source": [
    "# using input() to take user input\n",
    "num = input('Enter a number: ')\n",
    "print('You Entered:', num)\n",
    "print('Data type of num:', type(num))\n",
    "\n",
    "num_int = int(input('Enter a number: '))\n",
    "print(f'You entered: {num_int}')\n",
    "print(f'Data type of num_int: {type(num_int)}')"
   ]
  }
 ],
 "metadata": {
  "celltoolbar": "Slideshow",
  "kernelspec": {
   "display_name": "Python 3",
   "language": "python",
   "name": "python3"
  },
  "language_info": {
   "codemirror_mode": {
    "name": "ipython",
    "version": 3
   },
   "file_extension": ".py",
   "mimetype": "text/x-python",
   "name": "python",
   "nbconvert_exporter": "python",
   "pygments_lexer": "ipython3",
   "version": "3.9.7"
  }
 },
 "nbformat": 4,
 "nbformat_minor": 5
}
