{
 "cells": [
  {
   "cell_type": "markdown",
   "id": "bc4829dc",
   "metadata": {
    "slideshow": {
     "slide_type": "slide"
    }
   },
   "source": [
    "# Python Basic Input and Output\n",
    "\n",
    "En python, on peut utiliser la fonction `print()` pour afficher du texte en output"
   ]
  },
  {
   "cell_type": "code",
   "execution_count": 10,
   "id": "91ca7deb",
   "metadata": {},
   "outputs": [
    {
     "name": "stdout",
     "output_type": "stream",
     "text": [
      "le chiffre actuel est :\t0\tvaleurs\n",
      "le chiffre actuel est :\t1\tvaleurs\n",
      "le chiffre actuel est :\t2\tvaleurs\n",
      "le chiffre actuel est :\t3\tvaleurs\n",
      "le chiffre actuel est :\t4\tvaleurs\n",
      "le chiffre actuel est :\t5\tvaleurs\n",
      "le chiffre actuel est :\t6\tvaleurs\n",
      "le chiffre actuel est :\t7\tvaleurs\n",
      "le chiffre actuel est :\t8\tvaleurs\n",
      "le chiffre actuel est :\t9\tvaleurs\n"
     ]
    }
   ],
   "source": [
    "from time import sleep\n",
    "for i in range(10):\n",
    "    print(\"le chiffre actuel est :\", i, \"valeurs\", sep=\"\\t\", flush=True)\n",
    "    sleep(1)"
   ]
  },
  {
   "cell_type": "markdown",
   "id": "9f5aced5",
   "metadata": {
    "slideshow": {
     "slide_type": "slide"
    }
   },
   "source": [
    "Ici, `print()` prend un seul paramètre, qui est une chaîne de caractères (string). Cependant, `print()` attend **5** paramètres\n",
    "\n",
    "```python\n",
    "print(object=, sep=, end=, file=, flush=)\n",
    "```\n",
    "\n",
    "- `object` : la/les variable(s) à afficher\n",
    "- `sep (optionnel)` : le séparateur entre les `objects` (par défaut, un espace)\n",
    "- `end (optionnel)` : le caractère à ajouter à la fin de l'affichage (par défaut, un retour à la ligne)\n",
    "- `file (optionnel)` : le fichier dans lequel écrire (par défaut, la sortie standard `sys.stdout`)\n",
    "- `flush (optionnel)` : Valeur booléenne indiquant s'il faut vider le buffer après l'affichage (par défaut, `False`)"
   ]
  },
  {
   "cell_type": "markdown",
   "id": "b47942f8",
   "metadata": {
    "slideshow": {
     "slide_type": "slide"
    }
   },
   "source": [
    "### Exemple 1 : Python Print Statement\n",
    "\n",
    "Affichage de deux String, ici la valeur de `end` n'est pas renseignée, donc par défaut un retour à la ligne est ajouté à la fin de l'affichage. L'affichage des deux string se fera sur deux ligne différentes."
   ]
  },
  {
   "cell_type": "code",
   "execution_count": 13,
   "id": "e6904ca3",
   "metadata": {},
   "outputs": [
    {
     "name": "stdout",
     "output_type": "stream",
     "text": [
      "Good Morning!\tIt is rainy today\n"
     ]
    }
   ],
   "source": [
    "print('Good Morning!', end=\"\\t\")\n",
    "print('It is rainy today')"
   ]
  },
  {
   "cell_type": "markdown",
   "id": "5997ec3a",
   "metadata": {
    "slideshow": {
     "slide_type": "slide"
    }
   },
   "source": [
    "### Exemple 2 : Python Print() avec end\n",
    "\n",
    "Affichage de deux String, ici la valeur de `end` est renseignée, donc un espace est ajouté à la fin de l'affichage. L'affichage des deux string se fera sur une seule ligne."
   ]
  },
  {
   "cell_type": "code",
   "execution_count": null,
   "id": "902ea390",
   "metadata": {},
   "outputs": [],
   "source": [
    "# print with end whitespace\n",
    "print('Good Morning!', end= ' ')\n",
    "\n",
    "print('It is rainy today')"
   ]
  },
  {
   "cell_type": "markdown",
   "id": "39c87cd0",
   "metadata": {
    "slideshow": {
     "slide_type": "slide"
    }
   },
   "source": [
    "### Exemple 3: Python print() avec sep parameter\n",
    "\n",
    "Affichage de plusieurs objets, ici la valeur de `sep` est renseignée, donc un séparateur est ajouté entre les objets."
   ]
  },
  {
   "cell_type": "code",
   "execution_count": 14,
   "id": "d29a537b",
   "metadata": {},
   "outputs": [
    {
     "name": "stdout",
     "output_type": "stream",
     "text": [
      "New Year. 16. 1. See you soon!\n"
     ]
    }
   ],
   "source": [
    "def un():\n",
    "    return 1\n",
    "print('New Year', 3+13, un(), 'See you soon!', sep= '. ')"
   ]
  },
  {
   "cell_type": "markdown",
   "id": "0a87abe2",
   "metadata": {
    "slideshow": {
     "slide_type": "slide"
    }
   },
   "source": [
    "### Example: Print Python Variables and Literals\n",
    "\n",
    "On peut utiliser `print()` pour afficher des variables et des littéraux (littéraux = valeurs littérales, c'est à dire des valeurs qui ne sont pas stockées dans une variable)"
   ]
  },
  {
   "cell_type": "code",
   "execution_count": 15,
   "id": "8e86f587",
   "metadata": {},
   "outputs": [
    {
     "name": "stdout",
     "output_type": "stream",
     "text": [
      "5\n",
      "-10.6\n",
      "10\n",
      "-10.6\n",
      "Antonio\n"
     ]
    }
   ],
   "source": [
    "number = -10.6\n",
    "\n",
    "name = \"Antonio\"\n",
    "\n",
    "# print literals     \n",
    "print(5)\n",
    "\n",
    "# print variables\n",
    "print(number)\n",
    "print(0xA)\n",
    "print(number, name, sep=\"\\n\")"
   ]
  },
  {
   "cell_type": "markdown",
   "id": "d6de2eed",
   "metadata": {
    "slideshow": {
     "slide_type": "slide"
    }
   },
   "source": [
    "### Exemple: Print avec concatenation de string\n",
    "\n",
    "On peut `join` 2 strings ensemble a l'intérieur de la fonction `print()` avec l'opérateur `+`"
   ]
  },
  {
   "cell_type": "code",
   "execution_count": 18,
   "id": "f8275971",
   "metadata": {},
   "outputs": [
    {
     "name": "stdout",
     "output_type": "stream",
     "text": [
      "Hello World.\n"
     ]
    }
   ],
   "source": [
    "print('Hello ' + 'World.')"
   ]
  },
  {
   "cell_type": "markdown",
   "id": "6e8ff5f8",
   "metadata": {
    "slideshow": {
     "slide_type": "slide"
    }
   },
   "source": [
    "# Output formatting\n",
    "\n",
    "On peut utiliser la fonction `format()` pour formater l'affichage de variables dans une chaîne de caractères."
   ]
  },
  {
   "cell_type": "code",
   "execution_count": 33,
   "id": "474f9509",
   "metadata": {},
   "outputs": [
    {
     "name": "stdout",
     "output_type": "stream",
     "text": [
      "The value of x is 5 and y is 10\n",
      "I love butter and bread\n",
      "Good Morning, Hello John \n",
      "z is 10.56\n",
      "z is 10.56\n"
     ]
    }
   ],
   "source": [
    "x = 5\n",
    "y = 10\n",
    "z = 10.555555555\n",
    "\n",
    "print('The value of x is {} and y is {}'.format(x,y))\n",
    "print('I love {1} and {0}'.format('bread','butter'))\n",
    "\n",
    "# on peut aussi formatter l'affichage des variables\n",
    "print('{greeting}, Hello {name} '.format(greeting = 'Good Morning', name = 'John'))\n",
    "\n",
    "\n",
    "# on peut aussi formatter les nombres a afficher\n",
    "print(\"z is %0.2f\"%(z))\n",
    "print(\"z is {0:.2f}\".format(z))"
   ]
  },
  {
   "cell_type": "markdown",
   "id": "34d8f326",
   "metadata": {
    "slideshow": {
     "slide_type": "slide"
    }
   },
   "source": [
    "## F-Strings: A New and Improved Way to Format Strings in Python\n",
    "\n",
    "Depuis Python 3.6, on peut utiliser les `f-strings` pour formater l'affichage de variables dans une chaîne de caractères."
   ]
  },
  {
   "cell_type": "code",
   "execution_count": 42,
   "id": "c40f6d65",
   "metadata": {},
   "outputs": [
    {
     "name": "stdout",
     "output_type": "stream",
     "text": [
      "The value of x is {12.35}\n",
      "The value of x is 12.35\n",
      "The value of x is 12.35\n",
      "Hello JOHN, Good Morning\n"
     ]
    }
   ],
   "source": [
    "# old style formatting\n",
    "x = 12.3456789\n",
    "print(f'The value of x is {{{x:.2f}}}')\n",
    "\n",
    "# new style formatting\n",
    "print('The value of x is {:.2f}'.format(x))\n",
    "print(f\"The value of x is {x:.2f}\")\n",
    "\n",
    "name = 'John'\n",
    "greeting = 'Good Morning'\n",
    "\n",
    "print(f\"Hello {name.upper()}, {greeting}\")"
   ]
  },
  {
   "cell_type": "markdown",
   "id": "97e9820c",
   "metadata": {
    "slideshow": {
     "slide_type": "slide"
    }
   },
   "source": [
    "# Python Input\n",
    "\n",
    "En python, il est possible de demander à l'utilisateur d'entrer une valeur avec la fonction `input()`"
   ]
  },
  {
   "cell_type": "code",
   "execution_count": 48,
   "id": "2598bfc6",
   "metadata": {},
   "outputs": [
    {
     "name": "stdout",
     "output_type": "stream",
     "text": [
      "Enter your name: 12\n",
      "<class 'str'>\n"
     ]
    }
   ],
   "source": [
    "hello = input('Enter your name: ')\n",
    "print(type(hello))"
   ]
  },
  {
   "cell_type": "markdown",
   "id": "d16d6bd5",
   "metadata": {},
   "source": [
    "Ici, on affichera le string: 'Enter your name' et l'utilisateur pourra entrer une valeur. Cette valeur sera stockée dans la variable `user_input`  "
   ]
  },
  {
   "cell_type": "code",
   "execution_count": 50,
   "id": "b5d5843b",
   "metadata": {
    "slideshow": {
     "slide_type": "slide"
    }
   },
   "outputs": [
    {
     "name": "stdout",
     "output_type": "stream",
     "text": [
      "Enter a number: 12\n",
      "You Entered: 12\n",
      "Data type of num: <class 'str'>\n",
      "Enter a number: a\n"
     ]
    },
    {
     "ename": "ValueError",
     "evalue": "invalid literal for int() with base 10: 'a'",
     "output_type": "error",
     "traceback": [
      "\u001b[0;31m---------------------------------------------------------------------------\u001b[0m",
      "\u001b[0;31mValueError\u001b[0m                                Traceback (most recent call last)",
      "Cell \u001b[0;32mIn[50], line 6\u001b[0m\n\u001b[1;32m      3\u001b[0m \u001b[38;5;28mprint\u001b[39m(\u001b[38;5;124m'\u001b[39m\u001b[38;5;124mYou Entered:\u001b[39m\u001b[38;5;124m'\u001b[39m, num)\n\u001b[1;32m      4\u001b[0m \u001b[38;5;28mprint\u001b[39m(\u001b[38;5;124m'\u001b[39m\u001b[38;5;124mData type of num:\u001b[39m\u001b[38;5;124m'\u001b[39m, \u001b[38;5;28mtype\u001b[39m(num))\n\u001b[0;32m----> 6\u001b[0m num_int \u001b[38;5;241m=\u001b[39m \u001b[38;5;28mint\u001b[39m(\u001b[38;5;28minput\u001b[39m(\u001b[38;5;124m'\u001b[39m\u001b[38;5;124mEnter a number: \u001b[39m\u001b[38;5;124m'\u001b[39m))\n\u001b[1;32m      7\u001b[0m \u001b[38;5;28mprint\u001b[39m(\u001b[38;5;124mf\u001b[39m\u001b[38;5;124m'\u001b[39m\u001b[38;5;124mYou entered: \u001b[39m\u001b[38;5;132;01m{\u001b[39;00mnum_int\u001b[38;5;132;01m}\u001b[39;00m\u001b[38;5;124m'\u001b[39m)\n\u001b[1;32m      8\u001b[0m \u001b[38;5;28mprint\u001b[39m(\u001b[38;5;124mf\u001b[39m\u001b[38;5;124m'\u001b[39m\u001b[38;5;124mData type of num_int: \u001b[39m\u001b[38;5;132;01m{\u001b[39;00m\u001b[38;5;28mtype\u001b[39m(num_int)\u001b[38;5;132;01m}\u001b[39;00m\u001b[38;5;124m'\u001b[39m)\n",
      "\u001b[0;31mValueError\u001b[0m: invalid literal for int() with base 10: 'a'"
     ]
    }
   ],
   "source": [
    "# using input() to take user input\n",
    "num = input('Enter a number: ')\n",
    "print('You Entered:', num)\n",
    "print('Data type of num:', type(num))\n",
    "\n",
    "num_int = int(input('Enter a number: '))\n",
    "print(f'You entered: {num_int}')\n",
    "print(f'Data type of num_int: {type(num_int)}')"
   ]
  }
 ],
 "metadata": {
  "celltoolbar": "Slideshow",
  "kernelspec": {
   "display_name": "Python 3 (ipykernel)",
   "language": "python",
   "name": "python3"
  },
  "language_info": {
   "codemirror_mode": {
    "name": "ipython",
    "version": 3
   },
   "file_extension": ".py",
   "mimetype": "text/x-python",
   "name": "python",
   "nbconvert_exporter": "python",
   "pygments_lexer": "ipython3",
   "version": "3.11.6"
  }
 },
 "nbformat": 4,
 "nbformat_minor": 5
}
