{
 "cells": [
  {
   "cell_type": "markdown",
   "id": "f7368d70",
   "metadata": {},
   "source": [
    "# Python Random Module\n",
    "\n",
    "Python offre des fonctions pour générer des nombres aléatoires. Voici quelques exemples:"
   ]
  },
  {
   "cell_type": "code",
   "execution_count": 47,
   "id": "6a61366b",
   "metadata": {},
   "outputs": [
    {
     "name": "stdout",
     "output_type": "stream",
     "text": [
      "0.6959787986298719\n",
      "19.922952060493863\n",
      "14\n",
      "10\n",
      "e\n",
      "['e', 'b', 'd', 'a', 'c']\n"
     ]
    }
   ],
   "source": [
    "import random\n",
    "\n",
    "# Print random element\n",
    "print(random.random())\n",
    "print(random.)\n",
    "\n",
    "# Print random uniform element\n",
    "print(random.uniform(10, 20))\n",
    "\n",
    "# Print random integer element\n",
    "print(random.randint(10, 20))\n",
    "\n",
    "# Print random element\n",
    "print(random.randrange(10, 20, 8))\n",
    "\n",
    "list1 = ['a', 'b', 'c', 'd', 'e']\n",
    "\n",
    "# get random item from list1\n",
    "print(random.choice(list1))\n",
    "\n",
    "# Shuffle list1\n",
    "random.shuffle(list1)\n",
    "\n",
    "# Print the shuffled list1\n",
    "print(list1)"
   ]
  },
  {
   "cell_type": "markdown",
   "id": "c53fdd24",
   "metadata": {},
   "source": [
    "- random.random()\\t: retourne un nombre flottant aléatoire entre 0 et 1\n",
    "- random.uniform(a, b)\\t: retourne un nombre flottant aléatoire entre a et b (inclus)\n",
    "- random.randint(a, b)\\t: retourne un nombre entier aléatoire entre a (inclus) et b (inclus)\n",
    "- random.randrange(a, b, step)\\t: retourne un nombre entier aléatoire entre a (inclus) et b (exclus) avec un pas de step\n",
    "- random.choice(sequence)\\t: retourne un élément aléatoire de la séquence\n",
    "- random.shuffle(sequence)\\t: mélange la séquence"
   ]
  },
  {
   "cell_type": "markdown",
   "id": "45b828f8",
   "metadata": {},
   "source": [
    "# Python Mathematics\n",
    "\n",
    "Python offre des fonctions mathématiques pour effectuer des opérations mathématiques plus complexes. Voici quelques exemples:\n",
    "\n",
    "vous trouverez plus d'informations sur le module math ainsi que toutes les fonctiosn proposées [ici](https://docs.python.org/3/library/math.html)"
   ]
  },
  {
   "cell_type": "code",
   "execution_count": 69,
   "id": "e9c67fe0",
   "metadata": {},
   "outputs": [
    {
     "name": "stdout",
     "output_type": "stream",
     "text": [
      "PI\t\t:\t3.141592653589793\n",
      "e\t\t:\t2.718281828459045\n",
      "ceil(4.4)\t:\t5\n",
      "floor(4.4)\t:\t4\n",
      "fabs(-4.4)\t:\t4.4\n",
      "factorial(4)\t:\t24\n",
      "pow(2,2)\t:\t4.0\n",
      "sqrt(4)\t\t:\t2.0\n",
      "exp(3)\t\t:\t20.085536923187668\n",
      "log(1000)\t:\t6.907755278982137\n",
      "log10(1000)\t:\t3.0\n",
      "log2(1024)\t:\t10.0\n",
      "sin(PI)\t\t:\t1.2246467991473532e-16\n",
      "cos(PI)\t\t:\t-1.0\n",
      "degrees(PI)\t:\t180.0\n",
      "radians(180)\t:\t3.141592653589793\n"
     ]
    }
   ],
   "source": [
    "import math\n",
    "\n",
    "print(f\"PI\\t\\t:\\t{math.pi}\")\n",
    "print(f\"e\\t\\t:\\t{math.e}\")\n",
    "\n",
    "print(f\"ceil(4.4)\\t:\\t{math.ceil(4.4)}\")\n",
    "print(f\"floor(4.4)\\t:\\t{math.floor(4.4)}\")\n",
    "print(f\"fabs(-4.4)\\t:\\t{math.fabs(-4.4)}\")\n",
    "\n",
    "print(f\"factorial(4)\\t:\\t{math.factorial(4)}\")\n",
    "\n",
    "print(f\"pow(2,2)\\t:\\t{math.pow(2,2)}\")\n",
    "print(f\"sqrt(4)\\t\\t:\\t{math.sqrt(4)}\")\n",
    "print(f\"exp(3)\\t\\t:\\t{math.exp(3)}\")\n",
    "print(f\"log(1000)\\t:\\t{math.log(1000)}\")\n",
    "print(f\"log10(1000)\\t:\\t{math.log10(1000)}\")\n",
    "print(f\"log2(1024)\\t:\\t{math.log2(1024)}\")\n",
    "\n",
    "print(f\"sin(PI)\\t\\t:\\t{math.sin(math.pi)}\")\n",
    "print(f\"cos(PI)\\t\\t:\\t{math.cos(math.pi)}\")\n",
    "\n",
    "print(f\"degrees(PI)\\t:\\t{math.degrees(math.pi)}\")\n",
    "print(f\"radians(180)\\t:\\t{math.radians(180)}\")"
   ]
  },
  {
   "cell_type": "markdown",
   "id": "f0180e20",
   "metadata": {},
   "source": [
    "# Python Lists\n",
    "\n",
    "Les listes sont des objets qui peuvent contenir plusieurs éléments. Ils sont définis par des crochets et les éléments sont séparés par des virgules. Les éléments peuvent être de différents types."
   ]
  },
  {
   "cell_type": "markdown",
   "id": "a00b90ce",
   "metadata": {},
   "source": [
    "## Create a List\n",
    "\n",
    "Pour créer une liste, vous pouvez utiliser la fonction list() ou les crochets [].\n",
    "\n",
    "```python\n",
    "# Create a list\n",
    "my_list = list()\n",
    "my_list = []\n",
    "```"
   ]
  },
  {
   "cell_type": "code",
   "execution_count": 72,
   "id": "5dfd8000",
   "metadata": {},
   "outputs": [
    {
     "name": "stdout",
     "output_type": "stream",
     "text": [
      "0.22640441599969563\n",
      "0.5308555419996992\n"
     ]
    }
   ],
   "source": [
    "import timeit\n",
    "print(timeit.timeit('[]', number=10**7))\n",
    "print(timeit.timeit('list()', number=10**7))"
   ]
  },
  {
   "cell_type": "markdown",
   "id": "1d0808e4",
   "metadata": {},
   "source": [
    "> **Note**: La création d'une liste vide en utilisant `[]` est ~2X plus rapide que d'utiliser la fonction `list()`"
   ]
  },
  {
   "cell_type": "markdown",
   "id": "4638ad2d",
   "metadata": {},
   "source": [
    "Autres Façons de créer une liste:"
   ]
  },
  {
   "cell_type": "code",
   "execution_count": 7,
   "id": "70bcf00b",
   "metadata": {},
   "outputs": [
    {
     "name": "stdout",
     "output_type": "stream",
     "text": [
      "[1, 2, 3, 4, 5]\n",
      "[1, 2, 3, 4, 5]\n",
      "['A', 'A', 'A', 'A', 'A', 'A', 'A', 'A', 'A', 'A']\n",
      "['H', 'e', 'l', 'l', 'o']\n",
      "[1, 4, 9, 16, 25]\n",
      "[1, 4, 9, 16, 25]\n"
     ]
    }
   ],
   "source": [
    "l = [1, 2, 3, 4, 5]\n",
    "print(l)\n",
    "\n",
    "l2 = list(range(1, 6))\n",
    "print(l2)\n",
    "\n",
    "l3 = ['A'] * 10\n",
    "print(l3)\n",
    "\n",
    "l4 = list('Hello')\n",
    "print(l4)\n",
    "\n",
    "l5 = list(map(lambda x: x*x, range(1, 6)))\n",
    "print(l5)\n",
    "\n",
    "l6 = [x*x for x in range(1, 6)]\n",
    "print(l6)"
   ]
  },
  {
   "cell_type": "markdown",
   "id": "1e3e1d2b",
   "metadata": {},
   "source": [
    "Une liste peut :\n",
    "- contenir des éléments de différents types (nombres, chaînes de caractères, booléens, listes, etc.)\n",
    "- contenir des éléments dupliqués"
   ]
  },
  {
   "cell_type": "code",
   "execution_count": 108,
   "id": "ca800e86",
   "metadata": {},
   "outputs": [
    {
     "name": "stdout",
     "output_type": "stream",
     "text": [
      "[1, 'Hello', 3.4]\n",
      "[1, 'Hello', 3.4, 'Hello', 1]\n",
      "[]\n",
      "[1, 3, 5, 7, 9]\n",
      "[1, 9, 25, 49, 81]\n"
     ]
    }
   ],
   "source": [
    "# list with elements of different data types\n",
    "list1 = [1, \"Hello\", 3.4]\n",
    "\n",
    "# list with duplicate elements\n",
    "list2 = [1, \"Hello\", 3.4, \"Hello\", 1]\n",
    "\n",
    "# empty list\n",
    "list3 = []\n",
    "\n",
    "# nested list\n",
    "list4 = list(range(1, 10, 2))\n",
    "\n",
    "# lambda function\n",
    "list5 = list(map(lambda x: x**2, range(1, 10, 2)))\n",
    "\n",
    "print(list1)\n",
    "print(list2)\n",
    "print(list3)\n",
    "print(list4)\n",
    "print(list5)"
   ]
  },
  {
   "cell_type": "markdown",
   "id": "00db3e1f",
   "metadata": {},
   "source": [
    "## Acceder aux elements d'une liste\n",
    "\n",
    "En python les listes sont des objets indexés. Cela signifie que chaque élément de la liste a un index. L'index est un nombre entier qui commence à 0. Pour accéder à un élément de la liste, vous devez utiliser l'index de cet élément."
   ]
  },
  {
   "cell_type": "code",
   "execution_count": 79,
   "id": "23de50a4",
   "metadata": {},
   "outputs": [
    {
     "name": "stdout",
     "output_type": "stream",
     "text": [
      "Python\n",
      "C++\n"
     ]
    }
   ],
   "source": [
    "languages = [\"Python\", \"Swift\", \"C++\"]\n",
    "\n",
    "# access item at index 0\n",
    "print(languages[0])\n",
    "\n",
    "# access item at index 2\n",
    "print(languages[2])"
   ]
  },
  {
   "cell_type": "markdown",
   "id": "0d1240b2",
   "metadata": {},
   "source": [
    "![\"Liste index\"](./imgs/list-index-in-python.png)\n",
    "[Source](https://www.programiz.com/python-programming/list)\n",
    "> **Note**: Les index des listes commencent à 0"
   ]
  },
  {
   "cell_type": "markdown",
   "id": "84c8a6f5",
   "metadata": {},
   "source": [
    "## Les index négatifs\n",
    "\n",
    "Les index négatifs sont utilisés pour accéder aux éléments de la liste en partant de la fin. L'index -1 correspond au dernier élément de la liste, l'index -2 correspond à l'avant-dernier élément de la liste, etc."
   ]
  },
  {
   "cell_type": "code",
   "execution_count": 81,
   "id": "66b1c8dd",
   "metadata": {},
   "outputs": [
    {
     "name": "stdout",
     "output_type": "stream",
     "text": [
      "Python\n",
      "C++\n"
     ]
    }
   ],
   "source": [
    "languages = [\"Python\", \"Swift\", \"C++\"]\n",
    "\n",
    "# access item at index 0\n",
    "print(languages[-3])\n",
    "\n",
    "# access item at index 2\n",
    "print(languages[-1])"
   ]
  },
  {
   "cell_type": "markdown",
   "id": "aa875ccc",
   "metadata": {},
   "source": [
    "![\"list index negatifs\"](./imgs/python-list-negative-index.png)\n",
    "[Source](https://www.programiz.com/python-programming/list)\n",
    "\n",
    "> **Note**: Si un index n'existe pas, une erreur de type `IndexError` sera levée"
   ]
  },
  {
   "cell_type": "markdown",
   "id": "994b1137",
   "metadata": {},
   "source": [
    "## List slicing\n",
    "\n",
    "Vous pouvez accéder à une partie de la liste en utilisant la notation de tranche. La notation de tranche est `list[start:end:step]`. Les éléments de la liste sont inclus de l'index de début à l'index de fin - 1. Le pas est facultatif et par défaut, il est égal à 1."
   ]
  },
  {
   "cell_type": "code",
   "execution_count": 86,
   "id": "e332c1d2",
   "metadata": {},
   "outputs": [
    {
     "name": "stdout",
     "output_type": "stream",
     "text": [
      "['t', 'o', 'n']\n",
      "['i', 'o']\n",
      "['A', 'n', 't', 'o', 'n']\n",
      "['A', 'n', 't', 'o', 'n', 'i', 'o']\n",
      "['t', 'o', 'n']\n",
      "['A', 't', 'n', 'o']\n"
     ]
    }
   ],
   "source": [
    "# List slicing in Python\n",
    "my_list = ['A','n','t','o','n','i','o']\n",
    "\n",
    "# items from index 2 to index 4\n",
    "print(my_list[2:5])\n",
    "\n",
    "# items from index 5 to end\n",
    "print(my_list[5:])\n",
    "\n",
    "# items from begining to index 5\n",
    "print(my_list[:5])\n",
    "\n",
    "# items beginning to end\n",
    "print(my_list[:])\n",
    "\n",
    "# List slicing with negative index\n",
    "print(my_list[2:-2])\n",
    "\n",
    "# List slicing with step - show every 2nd item\n",
    "print(my_list[::2])"
   ]
  },
  {
   "cell_type": "markdown",
   "id": "faf1c681",
   "metadata": {},
   "source": [
    "Ici : \n",
    "\n",
    "- `my_list[2:5]` - accéder aux éléments de la liste de l'index 2 à l'index 4\n",
    "- `my_list[5:]` - accéder aux éléments de la liste de l'index 5 à la fin de la liste\n",
    "- `my_list[:5]` - accéder aux éléments de la liste du début de la liste à l'index 4\n",
    "- `my_list[:]` - accéder à tous les éléments de la liste\n",
    "- `my_list[2:-2]` - accéder aux éléments de la liste de l'index 2 à l'avant-dernier élément de la liste\n",
    "- `my_list[::2]` - accéder à tous les éléments de la liste avec un pas de 2\n",
    "\n",
    "> **Note**: Lors du `slicing`, le premier index est inclus et le dernier index est exclu"
   ]
  },
  {
   "cell_type": "markdown",
   "id": "a631936c",
   "metadata": {},
   "source": [
    "## Ajouter un élément à une liste\n",
    "\n",
    "Pour ajouter un élément à une liste, vous pouvez utiliser la méthode `append()`, `extends()` ou `insert()`.\n",
    "\n",
    "Il est possible d'ajouter des éléments aux `listes`, car les `listes` sont des objets mutables (modifiables)."
   ]
  },
  {
   "cell_type": "markdown",
   "id": "0a1dbe1a",
   "metadata": {},
   "source": [
    "1. ### append()\n",
    "\n",
    "La méthode `append()` ajoute un élément à la fin de la liste."
   ]
  },
  {
   "cell_type": "code",
   "execution_count": 87,
   "id": "205ba587",
   "metadata": {},
   "outputs": [
    {
     "name": "stdout",
     "output_type": "stream",
     "text": [
      "Before Append: [21, 34, 54, 12]\n",
      "After Append: [21, 34, 54, 12, 32]\n"
     ]
    }
   ],
   "source": [
    "numbers = [21, 34, 54, 12]\n",
    "\n",
    "print(\"Before Append:\", numbers)\n",
    "\n",
    "# using append method\n",
    "numbers.append(32)\n",
    "\n",
    "print(\"After Append:\", numbers)"
   ]
  },
  {
   "cell_type": "markdown",
   "id": "cc4b3913",
   "metadata": {},
   "source": [
    "2. ### extend()\n",
    "\n",
    "La méthode `extend()` ajoute tous les éléments d'un itérable (list, tuples, string, dictionary, etc.) à la fin de la liste."
   ]
  },
  {
   "cell_type": "code",
   "execution_count": 88,
   "id": "4167f16e",
   "metadata": {},
   "outputs": [
    {
     "name": "stdout",
     "output_type": "stream",
     "text": [
      "List after append: [1, 3, 5, 4, 6, 8]\n"
     ]
    }
   ],
   "source": [
    "numbers = [1, 3, 5]\n",
    "\n",
    "even_numbers = [4, 6, 8]\n",
    "\n",
    "# add elements of even_numbers to the numbers list\n",
    "numbers.extend(even_numbers)\n",
    "\n",
    "print(\"List after append:\", numbers) "
   ]
  },
  {
   "cell_type": "markdown",
   "id": "625d325e",
   "metadata": {},
   "source": [
    "3. ### insert()\n",
    "\n",
    "La méthode `insert()` ajoute un élément à un index spécifique de la liste."
   ]
  },
  {
   "cell_type": "code",
   "execution_count": 91,
   "id": "f4008f41",
   "metadata": {},
   "outputs": [
    {
     "name": "stdout",
     "output_type": "stream",
     "text": [
      "[10, 20, 30, 40]\n"
     ]
    }
   ],
   "source": [
    "numbers = [10, 30, 40]\n",
    "\n",
    "# insert an element at index 1 (second position)\n",
    "numbers.insert(1, 20)\n",
    "\n",
    "print(numbers) # [10, 20, 30, 40]"
   ]
  },
  {
   "cell_type": "markdown",
   "id": "1a0ac8ed",
   "metadata": {},
   "source": [
    "## Changer la valeur d'un élément d'une liste\n",
    "\n",
    "Les listes en python sont mutables, ce qui signifie que vous pouvez modifier les valeurs des éléments de la liste. Pour changer une valeur d'un élément de la liste, vous devez utiliser l'index de cet élément. et assigner une valeur en utilisant l'opérateur d'affectation `=`."
   ]
  },
  {
   "cell_type": "code",
   "execution_count": 93,
   "id": "0b8fab0e",
   "metadata": {},
   "outputs": [
    {
     "name": "stdout",
     "output_type": "stream",
     "text": [
      "['Python', 'Swift', 'C++']\n",
      "['Python', 'Swift', 'C']\n"
     ]
    }
   ],
   "source": [
    "languages = ['Python', 'Swift', 'C++']\n",
    "print(languages)\n",
    "\n",
    "# changing the third item to 'C'\n",
    "languages[2] = 'C'\n",
    "\n",
    "print(languages)"
   ]
  },
  {
   "cell_type": "markdown",
   "id": "3c588278",
   "metadata": {},
   "source": [
    "## Suppression d'un élément\n",
    "\n",
    "Pour supprimer un élément de la liste, vous pouvez utiliser la méthode [del](https://www.programiz.com/python-programming/del), `remove()` ou `pop()`."
   ]
  },
  {
   "cell_type": "markdown",
   "id": "1adf58f9",
   "metadata": {},
   "source": [
    "1. ### del"
   ]
  },
  {
   "cell_type": "code",
   "execution_count": 95,
   "id": "2572ff6c",
   "metadata": {},
   "outputs": [
    {
     "name": "stdout",
     "output_type": "stream",
     "text": [
      "['Python', 'Swift', 'C++', 'C', 'Java', 'Rust', 'R']\n",
      "['Python', 'C++', 'C', 'Java', 'Rust', 'R']\n",
      "['Python', 'C++', 'C', 'Java', 'Rust']\n",
      "['C', 'Java', 'Rust']\n"
     ]
    }
   ],
   "source": [
    "languages = ['Python', 'Swift', 'C++', 'C', 'Java', 'Rust', 'R']\n",
    "print(languages)\n",
    "\n",
    "# deleting the second item\n",
    "del languages[1]\n",
    "print(languages)\n",
    "\n",
    "# deleting the last item\n",
    "del languages[-1]\n",
    "print(languages)\n",
    "# delete the first two items\n",
    "del languages[0 : 2]\n",
    "print(languages)"
   ]
  },
  {
   "cell_type": "markdown",
   "id": "b4bb8ce7",
   "metadata": {},
   "source": [
    "2. ### remove()\n",
    "\n",
    "La fonction `remove()` supprime le premier élément de la liste dont la valeur est égale à la valeur passée en paramètre."
   ]
  },
  {
   "cell_type": "code",
   "execution_count": 99,
   "id": "ce4f2a1d",
   "metadata": {},
   "outputs": [
    {
     "name": "stdout",
     "output_type": "stream",
     "text": [
      "['Python', 'Swift', 'C++', 'C', 'Java', 'Rust', 'R']\n",
      "['Swift', 'C++', 'C', 'Java', 'Rust', 'R']\n"
     ]
    }
   ],
   "source": [
    "languages = ['Python', 'Swift', 'C++', 'C', 'Java', 'Rust', 'R']\n",
    "print(languages)\n",
    "\n",
    "# remove 'Python' from the list\n",
    "languages.remove('Python')\n",
    "\n",
    "print(languages)"
   ]
  },
  {
   "cell_type": "markdown",
   "id": "4c557e5c",
   "metadata": {},
   "source": [
    "3. ### pop()\n",
    "\n",
    "La méthode `pop()` supprime l'élément à l'index spécifié et retourne cet élément."
   ]
  },
  {
   "cell_type": "code",
   "execution_count": 100,
   "id": "4f9228e0",
   "metadata": {},
   "outputs": [
    {
     "name": "stdout",
     "output_type": "stream",
     "text": [
      "['Python', 'Swift', 'C++', 'C', 'Java', 'Rust', 'R']\n",
      "R\n",
      "['Python', 'Swift', 'C++', 'C', 'Java', 'Rust']\n",
      "Java\n",
      "['Python', 'Swift', 'C++', 'C', 'Rust']\n"
     ]
    }
   ],
   "source": [
    "languages = ['Python', 'Swift', 'C++', 'C', 'Java', 'Rust', 'R']\n",
    "print(languages)\n",
    "\n",
    "# remove and return the last item\n",
    "print(languages.pop())\n",
    "print(languages)\n",
    "\n",
    "# remove and return the second last item\n",
    "print(languages.pop(-2))\n",
    "\n",
    "print(languages)"
   ]
  },
  {
   "cell_type": "markdown",
   "id": "139aa155",
   "metadata": {},
   "source": [
    "## Methodes de listes\n",
    "\n",
    "Voici quelques méthodes utiles pour les listes:\n",
    "\n",
    "| Method | Description |\n",
    "| --- | --- |\n",
    "| `append()` | Ajoute un élément à la fin de la liste |\n",
    "| `extend()` | Ajoute tous les éléments d'un itérable (list, tuples, string, dictionary, etc.) à la fin de la liste |\n",
    "| `insert()` | Ajoute un élément à un index spécifique de la liste |\n",
    "| `remove()` | Supprime le premier élément de la liste dont la valeur est égale à la valeur passée en paramètre |\n",
    "| `pop()` | Supprime l'élément à l'index spécifié et retourne cet élément |\n",
    "| `clear()` | Supprime tous les éléments de la liste |\n",
    "| `index()` | Retourne l'index du premier élément de la liste dont la valeur est égale à la valeur passée en paramètre |\n",
    "| `count()` | Retourne le nombre d'éléments de la liste dont la valeur est égale à la valeur passée en paramètre |\n",
    "| `sort()` | Trie les éléments de la liste |\n",
    "| `reverse()` | Inverse l'ordre des éléments de la liste |\n",
    "| `copy()` | Retourne une copie de la liste |"
   ]
  },
  {
   "cell_type": "markdown",
   "id": "eeac4a4a",
   "metadata": {},
   "source": [
    "## Itérer sur une liste\n",
    "\n",
    "Pour itérer sur une liste, vous pouvez utiliser la boucle `for` ou la boucle `while`."
   ]
  },
  {
   "cell_type": "code",
   "execution_count": 103,
   "id": "5b2e1993",
   "metadata": {},
   "outputs": [
    {
     "name": "stdout",
     "output_type": "stream",
     "text": [
      "3 8 1 6 0 8 4 \n",
      "3 8 1 6 0 8 4 "
     ]
    }
   ],
   "source": [
    "my_list = [3, 8, 1, 6, 0, 8, 4]\n",
    "\n",
    "# Iterate over a list using for loop\n",
    "for item in my_list:\n",
    "    print(item, end=\" \")\n",
    "print()\n",
    "# Iterate over a list using while loop\n",
    "i = 0\n",
    "while i < len(my_list):\n",
    "    print(my_list[i], end=\" \")\n",
    "    i += 1"
   ]
  },
  {
   "cell_type": "markdown",
   "id": "e9e3d433",
   "metadata": {},
   "source": [
    "## Check if an element exists in a list\n",
    "\n",
    "Pour vérifier si un élément existe dans une liste, vous pouvez utiliser l'opérateur `in` ou `not in`."
   ]
  },
  {
   "cell_type": "code",
   "execution_count": 104,
   "id": "42b942b4",
   "metadata": {},
   "outputs": [
    {
     "name": "stdout",
     "output_type": "stream",
     "text": [
      "False\n",
      "True\n",
      "True\n",
      "False\n"
     ]
    }
   ],
   "source": [
    "languages = ['Python', 'Swift', 'C++']\n",
    "\n",
    "print('C' in languages)\n",
    "print('Python' in languages)\n",
    "\n",
    "print('C' not in languages)\n",
    "print('Python' not in languages)"
   ]
  },
  {
   "cell_type": "markdown",
   "id": "15c12c8a",
   "metadata": {},
   "source": [
    "## Longueur d'une liste\n",
    "\n",
    "Pour obtenir la longueur d'une liste, vous pouvez utiliser la fonction `len()`."
   ]
  },
  {
   "cell_type": "code",
   "execution_count": 105,
   "id": "1c327a6e",
   "metadata": {},
   "outputs": [
    {
     "name": "stdout",
     "output_type": "stream",
     "text": [
      "List:  ['Python', 'Swift', 'C++']\n",
      "Total Elements:  3\n"
     ]
    }
   ],
   "source": [
    "languages = ['Python', 'Swift', 'C++']\n",
    "\n",
    "print(\"List: \", languages)\n",
    "\n",
    "print(\"Total Elements: \", len(languages))"
   ]
  },
  {
   "cell_type": "markdown",
   "id": "0d7430e4",
   "metadata": {},
   "source": [
    "## List Comprehension\n",
    "\n",
    "La compréhension de liste est une façon élégante de définir et de créer des listes en python. Nous pouvons créer des listes en utilisant une boucle `for` et une condition `if` sur cette boucle. La syntaxe de la compréhension de liste est la suivante:\n",
    "\n",
    "```python\n",
    "[expression for item in list]\n",
    "```\n"
   ]
  },
  {
   "cell_type": "markdown",
   "id": "2dedb7d4",
   "metadata": {},
   "source": [
    "Supposons que nous voulions séparer les lettres du mot `human`. L'approche classique consiste à utiliser une boucle `for` comme ceci:"
   ]
  },
  {
   "cell_type": "code",
   "execution_count": 106,
   "id": "3216f353",
   "metadata": {},
   "outputs": [
    {
     "name": "stdout",
     "output_type": "stream",
     "text": [
      "['h', 'u', 'm', 'a', 'n']\n"
     ]
    }
   ],
   "source": [
    "h_letters = []\n",
    "\n",
    "for letter in 'human':\n",
    "    h_letters.append(letter)\n",
    "\n",
    "print(h_letters)"
   ]
  },
  {
   "cell_type": "markdown",
   "id": "e2db7871",
   "metadata": {},
   "source": [
    "Cepeandant, en utilisant la compréhension de liste, nous pouvons le faire en une seule ligne de code."
   ]
  },
  {
   "cell_type": "code",
   "execution_count": 107,
   "id": "491c516c",
   "metadata": {},
   "outputs": [
    {
     "name": "stdout",
     "output_type": "stream",
     "text": [
      "['h', 'u', 'm', 'a', 'n']\n"
     ]
    }
   ],
   "source": [
    "h_letters = [ letter for letter in 'human' ]\n",
    "print( h_letters)"
   ]
  },
  {
   "cell_type": "markdown",
   "id": "2f422fc9",
   "metadata": {},
   "source": [
    "### Syntax de la compréhension de liste\n",
    "\n",
    "```python\n",
    "[expression for item in list]\n",
    "```\n",
    "\n",
    "![\"lc\"](./imgs/lc.jpg)\n",
    "[Source](https://www.programiz.com/python-programming/list-comprehension)"
   ]
  },
  {
   "cell_type": "markdown",
   "id": "4b001163",
   "metadata": {},
   "source": [
    "## List comprehensions avec Condition\n",
    "\n",
    "La syntaxe de la compréhension de liste avec condition est la suivante:\n",
    "\n",
    "```python\n",
    "[expression for item in list if condition]\n",
    "```"
   ]
  },
  {
   "cell_type": "code",
   "execution_count": null,
   "id": "73cf0add",
   "metadata": {},
   "outputs": [],
   "source": [
    "number_list = [ x for x in range(20) if x % 2 == 0]\n",
    "print(number_list)"
   ]
  },
  {
   "cell_type": "markdown",
   "id": "646f8d34",
   "metadata": {},
   "source": [
    "## List comprehensions avec plusieurs conditions\n",
    "\n",
    "La syntaxe de la compréhension de liste avec plusieurs conditions est la suivante:\n",
    "\n",
    "```python\n",
    "[expression for item in list if condition1 and condition2]\n",
    "```\n",
    "\n",
    "Le comportement de la compréhension de liste avec plusieurs conditions est similaire à l'utilisation de la clause `and` dans une boucle `for`."
   ]
  },
  {
   "cell_type": "code",
   "execution_count": 110,
   "id": "6252c1e7",
   "metadata": {},
   "outputs": [
    {
     "name": "stdout",
     "output_type": "stream",
     "text": [
      "[0, 10, 20, 30, 40, 50, 60, 70, 80, 90]\n"
     ]
    }
   ],
   "source": [
    "num_list = [y for y in range(100) if y % 2 == 0 if y % 5 == 0]\n",
    "print(num_list)"
   ]
  },
  {
   "cell_type": "markdown",
   "id": "aa296e6c",
   "metadata": {},
   "source": [
    "Ici, la `compréhension de liste` vérifie si:\n",
    "- `y` est divisible par 2\n",
    "- `y` est divisible par 5\n",
    "\n",
    "`y` sera ajouté à la liste si les deux conditions sont `True` (and)."
   ]
  },
  {
   "cell_type": "markdown",
   "id": "b0b1894f",
   "metadata": {},
   "source": [
    "## if...else With List Comprehension\n",
    "\n",
    "La syntaxe de la compréhension de liste avec `if...else` est la suivante:\n",
    "\n",
    "```python\n",
    "[true_expression if condition else false_expression for item in list]\n",
    "```"
   ]
  },
  {
   "cell_type": "code",
   "execution_count": 111,
   "id": "9b10adbc",
   "metadata": {},
   "outputs": [
    {
     "name": "stdout",
     "output_type": "stream",
     "text": [
      "['Even', 'Odd', 'Even', 'Odd', 'Even', 'Odd', 'Even', 'Odd', 'Even', 'Odd']\n"
     ]
    }
   ],
   "source": [
    "obj = [\"Even\" if i%2==0 else \"Odd\" for i in range(10)]\n",
    "print(obj)"
   ]
  },
  {
   "cell_type": "markdown",
   "id": "6ca1f1e6",
   "metadata": {},
   "source": [
    "## Nested loops in List Comprehensions\n",
    "\n",
    "La syntaxe de la compréhension de liste avec des boucles imbriquées est la suivante:\n",
    "\n",
    "```python\n",
    "[expression for item in list1 for item2 in list2]\n",
    "```"
   ]
  },
  {
   "cell_type": "markdown",
   "id": "9721167e",
   "metadata": {},
   "source": [
    "Supposons que nous voulions calculer la transposée de la matrice suivante:\n",
    "\n",
    "|1|2|3|4|\n",
    "|---|---|---|---|\n",
    "|4|5|6|8|\n",
    "\n",
    "Nous pouvons utiliser le code python basique suivant:"
   ]
  },
  {
   "cell_type": "code",
   "execution_count": 115,
   "id": "625bc029",
   "metadata": {},
   "outputs": [
    {
     "name": "stdout",
     "output_type": "stream",
     "text": [
      "[[1, 4], [2, 5], [3, 6], [4, 8]]\n"
     ]
    }
   ],
   "source": [
    "\n",
    "# Initialize an empty list to store the transposed matrix\n",
    "transposed = []\n",
    "\n",
    "# Original matrix\n",
    "matrix = [[1, 2, 3, 4], [4, 5, 6, 8]]\n",
    "\n",
    "# Iterate over the columns of the original matrix\n",
    "for i in range(len(matrix[0])):\n",
    "    # Initialize an empty list to store the transposed row\n",
    "    transposed_row = []\n",
    "\n",
    "    # Iterate over the rows of the original matrix\n",
    "    for row in matrix:\n",
    "        # Append the element at the corresponding column to the transposed row\n",
    "        transposed_row.append(row[i])\n",
    "\n",
    "    # Append the transposed row to the transposed matrix\n",
    "    transposed.append(transposed_row)\n",
    "\n",
    "# Print the transposed matrix\n",
    "print(transposed)"
   ]
  },
  {
   "cell_type": "markdown",
   "id": "01ff5625",
   "metadata": {},
   "source": [
    "Ce code utilise deux boucles `for` imbriquées pour transposer la matrice. \n",
    "\n",
    "Nous pouvons le faire en une seule ligne de code en utilisant la compréhension de liste imbriquée."
   ]
  },
  {
   "cell_type": "code",
   "execution_count": 116,
   "id": "2f3036b5",
   "metadata": {},
   "outputs": [
    {
     "name": "stdout",
     "output_type": "stream",
     "text": [
      "[[1, 4], [2, 5], [3, 6], [4, 8]]\n"
     ]
    }
   ],
   "source": [
    "# Original matrix\n",
    "matrix = [[1, 2, 3, 4], [4, 5, 6, 8]]\n",
    "\n",
    "# Transpose the matrix using a list comprehension\n",
    "transposed = [[row[i] for row in matrix] for i in range(len(matrix[0]))]\n",
    "\n",
    "# Print the transposed matrix\n",
    "print(transposed)"
   ]
  },
  {
   "cell_type": "markdown",
   "id": "3c68e3bc",
   "metadata": {},
   "source": [
    "## Bonus\n",
    "\n",
    "Il est possible d'obtenir, le meme résultat, en utilisant la fonction `map()` et la fonction `lambda`."
   ]
  },
  {
   "cell_type": "code",
   "execution_count": 109,
   "id": "ed743b56",
   "metadata": {},
   "outputs": [
    {
     "name": "stdout",
     "output_type": "stream",
     "text": [
      "['h', 'u', 'm', 'a', 'n']\n"
     ]
    }
   ],
   "source": [
    "letters = list(map(lambda x: x, 'human'))\n",
    "print(letters)"
   ]
  },
  {
   "cell_type": "markdown",
   "id": "2eac97d2",
   "metadata": {},
   "source": [
    "## List comprehension Conclusion\n",
    "\n",
    "- La compréhension de liste est une façon élégante de définir et de créer des listes en python.\n",
    "- Les listes de compréhension sont plus rapides que les boucles `for` et `while` traditionnelles. Elles sont aussi plus compactes.\n",
    "- `/!\\` Les listes de compréhension peuvent être difficiles à lire. Essayez d'éviter les listes de compréhension imbriquées de plus de deux niveaux ou trop longues\n",
    "- Chaque compréhension de liste peut être réécrite en boucle `for` traditionnelle. Mais chaque boucle `for` ne peut pas être réécrite en compréhension de liste."
   ]
  },
  {
   "cell_type": "markdown",
   "id": "7b87af57",
   "metadata": {},
   "source": [
    "# Python Tuples\n",
    "\n",
    "Les tuples sont des séquences immuables, c'est-à-dire qu'elles ne peuvent pas être modifiées après leur création. Les tuples sont utilisés pour stocker des collections d'éléments de données. Un tuple est similaire à une liste. Cependant, les tuples utilisent des parenthèses et les listes utilisent des crochets."
   ]
  },
  {
   "cell_type": "markdown",
   "id": "925e703f",
   "metadata": {},
   "source": [
    "## Creation de tuples\n",
    "\n",
    "Pour créer un tuple, il suffit de meetre les éléments entre les `()` et de les séparer par des virgules. Il est également possible d'utiliser la fonction `tuple()`.\n",
    "\n",
    "> **Note**: Un tuple avec un seul élément doit avoir une virgule après l'élément, sinon il sera considéré comme un type différent.\n",
    "\n",
    "> **Note**: Les parenthèses ne sont pas obligatoires pour créer un tuple. Mais il est fortement recommandé d'utiliser des parenthèses."
   ]
  },
  {
   "cell_type": "code",
   "execution_count": 121,
   "id": "54599d1a",
   "metadata": {},
   "outputs": [
    {
     "name": "stdout",
     "output_type": "stream",
     "text": [
      "()\n",
      "<class 'int'> 1\n",
      "<class 'int'> 1\n",
      "(1, 'Hello', 3.4)\n",
      "('mouse', [8, 4, 6], (1, 2, 3))\n",
      "(3, 4.6, 'dog')\n"
     ]
    }
   ],
   "source": [
    "# Different types of tuples\n",
    "\n",
    "# Empty tuple\n",
    "my_tuple = ()\n",
    "print(my_tuple)\n",
    "\n",
    "# Tuple having 1 item\n",
    "my_tuple = (1)\n",
    "print(type(my_tuple), my_tuple)\n",
    "\n",
    "my_tuple = (1)\n",
    "print(type(my_tuple), my_tuple)\n",
    "\n",
    "# tuple with mixed datatypes\n",
    "my_tuple = (1, \"Hello\", 3.4)\n",
    "print(my_tuple)\n",
    "\n",
    "# nested tuple\n",
    "my_tuple = (\"mouse\", [8, 4, 6], (1, 2, 3))\n",
    "print(my_tuple)\n",
    "\n",
    "# tuple can be created without parentheses\n",
    "my_tuple = 3, 4.6, \"dog\"\n",
    "print(my_tuple)"
   ]
  },
  {
   "cell_type": "markdown",
   "id": "b55d47d0",
   "metadata": {},
   "source": [
    "## Acceder aux elements d'un tuple\n",
    "\n",
    "Comme pour les listes, les tuples sont indexés et vous pouvez accéder aux éléments d'un tuple en utilisant des indices. l'index commence à 0."
   ]
  },
  {
   "cell_type": "markdown",
   "id": "d0c51346",
   "metadata": {},
   "source": [
    "1. ### Indexing\n",
    "\n",
    "Pour accéder à un élément d'un tuple, vous pouvez utiliser l'opérateur `[]` avec l'index correspondant. Si l'index n'existe pas, une exception `IndexError` est levée. Si on utilise un index de type autre que `int`, une exception `TypeError` est levée."
   ]
  },
  {
   "cell_type": "code",
   "execution_count": 123,
   "id": "938d2517",
   "metadata": {},
   "outputs": [
    {
     "name": "stdout",
     "output_type": "stream",
     "text": [
      "A\n",
      "i\n"
     ]
    }
   ],
   "source": [
    "# accessing tuple elements using indexing\n",
    "letters = (\"A\", \"n\", \"t\", \"o\", \"n\", \"i\", \"o\")\n",
    "\n",
    "print(letters[0])\n",
    "print(letters[5])"
   ]
  },
  {
   "cell_type": "markdown",
   "id": "1a2a7e2f",
   "metadata": {},
   "source": [
    "2. ### Negative indexing in tuples\n",
    "\n",
    "Les tuples prennent également en charge l'indexation négative. Cela signifie que vous pouvez accéder aux éléments d'un tuple en utilisant des indices négatifs. L'index `-1` fait référence au dernier élément, `-2` fait référence à l'avant-dernier élément, et ainsi de suite."
   ]
  },
  {
   "cell_type": "code",
   "execution_count": 124,
   "id": "5d534afe",
   "metadata": {},
   "outputs": [
    {
     "name": "stdout",
     "output_type": "stream",
     "text": [
      "o\n",
      "n\n"
     ]
    }
   ],
   "source": [
    "# accessing tuple elements using negative indexing\n",
    "letters = (\"A\", \"n\", \"t\", \"o\", \"n\", \"i\", \"o\")\n",
    "\n",
    "print(letters[-1])   # prints 'z' \n",
    "print(letters[-3])   # prints 'm'"
   ]
  },
  {
   "cell_type": "markdown",
   "id": "43a76963",
   "metadata": {},
   "source": [
    "3. ### Slicing of Tuple\n",
    "\n",
    "Vous pouvez accéder à une plage de valeurs dans un tuple en utilisant la notation de tranche. La syntaxe de la tranche de tuple est la suivante:\n",
    "\n",
    "```python\n",
    "tuple[start:stop:step]\n",
    "```"
   ]
  },
  {
   "cell_type": "code",
   "execution_count": 129,
   "id": "a6b9d981",
   "metadata": {},
   "outputs": [
    {
     "name": "stdout",
     "output_type": "stream",
     "text": [
      "('n', 't', 'o')\n",
      "('A', 'n')\n",
      "('i', 'o')\n",
      "('A', 'n', 't', 'o', 'n', 'i', 'o')\n",
      "('A', 't', 'n', 'o')\n"
     ]
    }
   ],
   "source": [
    "# accessing tuple elements using slicing\n",
    "my_tuple = (\"A\", \"n\", \"t\", \"o\", \"n\", \"i\", \"o\")\n",
    "\n",
    "# elements 2nd to 4th index\n",
    "print(my_tuple[1:4])\n",
    "\n",
    "# elements beginning to 2nd\n",
    "print(my_tuple[:-5])\n",
    "\n",
    "# elements 5th to end\n",
    "print(my_tuple[5:])\n",
    "\n",
    "# elements beginning to end\n",
    "print(my_tuple[:])\n",
    "\n",
    "# all the elements with step 2\n",
    "print(my_tuple[::2])"
   ]
  },
  {
   "cell_type": "markdown",
   "id": "67eb81f6",
   "metadata": {},
   "source": [
    "## Change or delete a tuple\n",
    "\n",
    "Les tuples sont immuables, ce qui signifie que vous ne pouvez pas modifier ou mettre à jour les valeurs des éléments d'un tuple. Vous ne pouvez pas non plus supprimer d'éléments d'un tuple. Cependant, vous pouvez supprimer un tuple entier en utilisant l'instruction `del`."
   ]
  },
  {
   "cell_type": "code",
   "execution_count": 135,
   "id": "1049dd92",
   "metadata": {},
   "outputs": [
    {
     "ename": "NameError",
     "evalue": "name 'my_tuple' is not defined",
     "output_type": "error",
     "traceback": [
      "\u001b[0;31m---------------------------------------------------------------------------\u001b[0m",
      "\u001b[0;31mNameError\u001b[0m                                 Traceback (most recent call last)",
      "\u001b[0;32m/var/folders/g1/0pjc_q692vd7bj_68s3h608w0000gn/T/ipykernel_13403/4044241722.py\u001b[0m in \u001b[0;36m<module>\u001b[0;34m\u001b[0m\n\u001b[1;32m      6\u001b[0m \u001b[0;31m# deleting a tuple\u001b[0m\u001b[0;34m\u001b[0m\u001b[0;34m\u001b[0m\u001b[0m\n\u001b[1;32m      7\u001b[0m \u001b[0;32mdel\u001b[0m \u001b[0mmy_tuple\u001b[0m\u001b[0;34m\u001b[0m\u001b[0;34m\u001b[0m\u001b[0m\n\u001b[0;32m----> 8\u001b[0;31m \u001b[0mprint\u001b[0m\u001b[0;34m(\u001b[0m\u001b[0mmy_tuple\u001b[0m\u001b[0;34m)\u001b[0m  \u001b[0;31m# NameError: name 'my_tuple' is not defined\u001b[0m\u001b[0;34m\u001b[0m\u001b[0;34m\u001b[0m\u001b[0m\n\u001b[0m",
      "\u001b[0;31mNameError\u001b[0m: name 'my_tuple' is not defined"
     ]
    }
   ],
   "source": [
    "my_tuple = (\"A\", \"n\", \"t\", \"o\", \"n\", \"i\", \"o\")\n",
    "\n",
    "# changing element value\n",
    "my_tuple[0] = \"a\"    # TypeError: 'tuple' object does not support item assignment\n",
    "\n",
    "# deleting a tuple\n",
    "del my_tuple\n",
    "print(my_tuple)  # NameError: name 'my_tuple' is not defined"
   ]
  },
  {
   "cell_type": "markdown",
   "id": "d13ebd72",
   "metadata": {},
   "source": [
    "## Python tuples methods\n",
    "\n",
    "| Method | Description |\n",
    "|---|---|\n",
    "| `count()` | Retourne le nombre de fois qu'un élément apparaît dans un tuple |\n",
    "| `index()` | Recherche l'élément spécifié et renvoie son index |"
   ]
  },
  {
   "cell_type": "code",
   "execution_count": 130,
   "id": "f70a6cce",
   "metadata": {},
   "outputs": [
    {
     "name": "stdout",
     "output_type": "stream",
     "text": [
      "2\n",
      "3\n"
     ]
    }
   ],
   "source": [
    "my_tuple = ('a', 'p', 'p', 'l', 'e',)\n",
    "\n",
    "print(my_tuple.count('p'))  # prints 2\n",
    "print(my_tuple.index('l'))  # prints 3"
   ]
  },
  {
   "cell_type": "markdown",
   "id": "fdb6e8ce",
   "metadata": {},
   "source": [
    "## Iterating Through a Tuple\n",
    "\n",
    "Vous pouvez itérer à travers un tuple en utilisant une boucle `for`. Vous pouvez également utiliser la boucle `while` pour itérer à travers un tuple. Il est aussi intéressant de noter que l'on peut `unpack` un tuple."
   ]
  },
  {
   "cell_type": "code",
   "execution_count": 133,
   "id": "d367caf6",
   "metadata": {},
   "outputs": [
    {
     "name": "stdout",
     "output_type": "stream",
     "text": [
      "Python Swift C++ \n",
      "Python Swift C++ \n",
      "Python Swift C++\n"
     ]
    }
   ],
   "source": [
    "languages = ('Python', 'Swift', 'C++')\n",
    "\n",
    "# iterating through the tuple\n",
    "for language in languages:\n",
    "    print(language, end=\" \")\n",
    "\n",
    "print()\n",
    "i=0\n",
    "while i < len(languages):\n",
    "    print(languages[i], end=\" \")\n",
    "    i += 1\n",
    "\n",
    "print()\n",
    "# tuple unpacking is also possible\n",
    "languages = ('Python', 'Swift', 'C++')\n",
    "\n",
    "# unpacking tuple\n",
    "language1, language2, language3 = languages\n",
    "\n",
    "print(language1, language2, language3)"
   ]
  },
  {
   "cell_type": "markdown",
   "id": "983a30c6",
   "metadata": {},
   "source": [
    "## Vérifier si un élément est présent dans un tuple\n",
    "\n",
    "Pour vérifier si un élément est présent dans un tuple, vous pouvez utiliser l'opérateur `in` et `not in`."
   ]
  },
  {
   "cell_type": "code",
   "execution_count": null,
   "id": "5032fdcf",
   "metadata": {},
   "outputs": [],
   "source": [
    "languages = ('Python', 'Swift', 'C++')\n",
    "\n",
    "print('C' in languages)\n",
    "print('Python' in languages)\n",
    "print('C' not in languages)\n",
    "print('Python' not in languages)"
   ]
  },
  {
   "cell_type": "markdown",
   "id": "2ea9d0dd",
   "metadata": {},
   "source": [
    "## Avantages d'utiliser des tuples\n",
    "\n",
    "Comme les tuples sont similaires aux listes, les deux sont utilisés dans des situations. Cependant, il existe quelques avantages à utiliser des tuples au lieu de listes.\n",
    "\n",
    "- Souvent on utilise les `tuples` quand on veut stocker des données de type **hétérogènes**(differentes). Les listes sont utilisées pour stocker des données de type **homogènes**(même type).\n",
    "- Comme les tuples sont immuables, le traitement des tuples est plus rapide que celui des listes. \n",
    "- Comme les `tuples` sont immuables, il est possible de les utilisés comme clé dans un dictionnaire. Les listes ne peuvent pas être utilisées comme clé dans un dictionnaire car les listes peuvent être modifiées après leur création.\n",
    "- Si vous avez des donnnées qui ne doivent pas être changées, vous devez utiliser un tuple, car vos donnée seront protégées contre l'écriture `write protected`."
   ]
  },
  {
   "cell_type": "markdown",
   "id": "af74527c",
   "metadata": {},
   "source": [
    "# Python Strings\n",
    "\n",
    "En programmation un `string` est une séquence de caractères. par exemple, `\"hello\"` est un string de 5 caractères, contenant les caractères `h`, `e`, `l`, `l` et `o`. Pour créer un string en python, il suffit d'entourer les caractères avec des guillemets simples ou doubles. Les guillemets simples et doubles sont équivalents.\n",
    "\n",
    "```python\n",
    "# string avec des guillemets simples\n",
    "print('hello')\n",
    "\n",
    "# string avec des guillemets doubles\n",
    "print(\"hello\")\n",
    "```"
   ]
  },
  {
   "cell_type": "markdown",
   "id": "ffd213eb",
   "metadata": {},
   "source": [
    "## Acceder aux elements d'un string\n",
    "\n",
    "Les strings sont indexés et vous pouvez accéder aux caractères d'un string en utilisant des indices. l'index commence à 0. Les strings se comportent comme une liste de caractères, donc nous pouvons utiliser la notation de tranche `slicing` pour accéder à une partie d'un string. on peut aussi utiliser des indices négatifs."
   ]
  },
  {
   "cell_type": "code",
   "execution_count": null,
   "id": "d80c1454",
   "metadata": {},
   "outputs": [],
   "source": [
    "greet = 'hello'\n",
    "\n",
    "# access 1st index element\n",
    "print(greet[1]) # \"e\"\n",
    "\n",
    "# access 4th last element - negative indexing\n",
    "print(greet[-4]) # \"e\"\n",
    "\n",
    "# access character from 1st index to 3rd index\n",
    "print(greet[1:4])  # \"ell\""
   ]
  },
  {
   "cell_type": "markdown",
   "id": "e77947e9",
   "metadata": {},
   "source": [
    "> **Note**: si on utilise un index qui n'existe pas, une exception `IndexError` est levée. Si on utilise un index de type autre que `int`, une exception `TypeError` est levée."
   ]
  },
  {
   "cell_type": "markdown",
   "id": "dea27855",
   "metadata": {},
   "source": [
    "## Les strings sont immuables\n",
    "\n",
    "Les strings sont immuables, ce qui signifie que vous ne pouvez pas modifier ou mettre à jour les caractères d'un string. Cependant, vous pouvez créer un nouveau string en concaténant des caractères d'un string existant ou en utilisant la méthode `replace()`."
   ]
  },
  {
   "cell_type": "code",
   "execution_count": null,
   "id": "274963b1",
   "metadata": {},
   "outputs": [],
   "source": [
    "message = 'Hola Amigos'\n",
    "message[0] = 'H'\n",
    "print(message)"
   ]
  },
  {
   "cell_type": "code",
   "execution_count": 10,
   "id": "34918ac9",
   "metadata": {},
   "outputs": [
    {
     "name": "stdout",
     "output_type": "stream",
     "text": [
      "Hello Friends\n",
      "Hi Friends\n"
     ]
    }
   ],
   "source": [
    "message = 'Hola Amigos'\n",
    "\n",
    "# assign new string to message variable\n",
    "message = 'Hello Friends'\n",
    "\n",
    "print(message); # prints \"Hello Friends\"\n",
    "\n",
    "message = message.replace('Hello', 'Hi')\n",
    "print(message)"
   ]
  },
  {
   "cell_type": "markdown",
   "id": "2f7cbce4",
   "metadata": {},
   "source": [
    "## Python Multiline Strings\n",
    "\n",
    "En python, les strings multilignes sont des strings avec des sauts de ligne. Les strings multilignes peuvent être créés en utilisant trois guillemets simples ou doubles. Les guillemets simples et doubles sont équivalents."
   ]
  },
  {
   "cell_type": "code",
   "execution_count": 12,
   "id": "4e60e9ba",
   "metadata": {},
   "outputs": [
    {
     "name": "stdout",
     "output_type": "stream",
     "text": [
      "\n",
      "Never gonna give you up\n",
      "Never gonna let you down\n",
      "\n",
      "\n",
      "Never gonna give you up\n",
      "Never gonna let you down\n"
     ]
    }
   ],
   "source": [
    "# multiline string \n",
    "message = \"\"\"\n",
    "Never gonna give you up\n",
    "Never gonna let you down\n",
    "\"\"\"\n",
    "\n",
    "print(message)\n",
    "\n",
    "print('''\n",
    "Never gonna give you up\n",
    "Never gonna let you down''')"
   ]
  },
  {
   "cell_type": "markdown",
   "id": "22e53593",
   "metadata": {},
   "source": [
    "## Python String Operations\n",
    "\n",
    "| Operation | Description |\n",
    "|---|---|\n",
    "| `+` | Concaténation - Ajoute des valeurs de part et d'autre de l'opérateur |\n",
    "| `*` | Répétition - Crée de nouvelles chaînes, concaténant plusieurs copies de la même chaîne |\n",
    "| `[]` | Tranche - Donne la tranche de la chaîne |\n",
    "| `[:]` | Tranche de plage - Donne la tranche de la chaîne |\n",
    "| `in` | Membre - Renvoie `true` si un caractère existe dans la chaîne |\n",
    "| `not in` | Membre - Renvoie `true` si un caractère n'existe pas dans la chaîne |\n",
    "| `r/R` | Raw String - Supprime l'interprétation des caractères d'échappement |\n",
    "| `%` | Format - Effectue un formatage de chaîne |"
   ]
  },
  {
   "cell_type": "code",
   "execution_count": 17,
   "id": "1036a54b",
   "metadata": {},
   "outputs": [
    {
     "name": "stdout",
     "output_type": "stream",
     "text": [
      "hello world\n",
      "hello hello hello \n",
      "el\n",
      "True\n",
      "False\n",
      "hello\\nworld\n",
      "hello world 12\n"
     ]
    }
   ],
   "source": [
    "# concatenation\n",
    "print('hello ' + 'world')\n",
    "\n",
    "# repetition\n",
    "print('hello ' * 3)\n",
    "\n",
    "# slicing\n",
    "print('hello'[1:3])\n",
    "\n",
    "# in\n",
    "print('h' in 'hello')\n",
    "\n",
    "# not in\n",
    "print('h' not in 'hello')\n",
    "\n",
    "# raw string\n",
    "print(r'hello\\nworld')\n",
    "\n",
    "# format\n",
    "print('hello %s %d' % ('world', 12))"
   ]
  },
  {
   "cell_type": "markdown",
   "id": "84a1d2b6",
   "metadata": {},
   "source": [
    "## Comparing Strings\n",
    "\n",
    "Les strings peuvent être comparés en utilisant les opérateurs de comparaison `==`, `!=`, `>`, `<`, `>=` et `<=`. Les strings sont comparés en fonction de la valeur Unicode de chaque caractère dans la chaîne."
   ]
  },
  {
   "cell_type": "code",
   "execution_count": 21,
   "id": "7d5f91aa",
   "metadata": {},
   "outputs": [
    {
     "name": "stdout",
     "output_type": "stream",
     "text": [
      "False\n",
      "True\n",
      "False\n",
      "True\n",
      "False\n"
     ]
    }
   ],
   "source": [
    "print('a' > 'b') # False\n",
    "print('a' < 'b') # True\n",
    "print('a' == 'b') # False\n",
    "print('a' != 'b') # True\n",
    "\n",
    "print('antonio' < 'antonia') # True"
   ]
  },
  {
   "cell_type": "markdown",
   "id": "d3f47f5d",
   "metadata": {},
   "source": [
    "## Joining Strings\n",
    "\n",
    "Les strings peuvent être concaténés en utilisant l'opérateur `+` ou en utilisant la méthode `join()`. La méthode `join()` prend un iterable et renvoie la chaîne concaténée."
   ]
  },
  {
   "cell_type": "code",
   "execution_count": 24,
   "id": "1828131e",
   "metadata": {},
   "outputs": [
    {
     "name": "stdout",
     "output_type": "stream",
     "text": [
      "hello world\n",
      "hello world\n",
      "hello_world\n",
      "hello - world\n"
     ]
    }
   ],
   "source": [
    "# concatenation\n",
    "print('hello' + ' world')\n",
    "\n",
    "# join\n",
    "print(' '.join(['hello', 'world']))\n",
    "print('_'.join(['hello', 'world']))\n",
    "print(' - '.join(['hello', 'world']))"
   ]
  },
  {
   "cell_type": "markdown",
   "id": "e46616d7",
   "metadata": {},
   "source": [
    "## Iterating Through a String\n",
    "\n",
    "Vous pouvez itérer à travers un string en utilisant une boucle `for`. Vous pouvez également utiliser la boucle `while` pour itérer à travers un string."
   ]
  },
  {
   "cell_type": "code",
   "execution_count": 25,
   "id": "b5151a43",
   "metadata": {},
   "outputs": [
    {
     "name": "stdout",
     "output_type": "stream",
     "text": [
      "H\n",
      "e\n",
      "l\n",
      "l\n",
      "o\n"
     ]
    }
   ],
   "source": [
    "greet = 'Hello'\n",
    "\n",
    "# iterating through greet string\n",
    "for letter in greet:\n",
    "    print(letter)"
   ]
  },
  {
   "cell_type": "markdown",
   "id": "82426c78",
   "metadata": {},
   "source": [
    "## Python String Length\n",
    "\n",
    "La fonction `len()` renvoie la longueur d'une chaîne."
   ]
  },
  {
   "cell_type": "code",
   "execution_count": 26,
   "id": "8c961e96",
   "metadata": {},
   "outputs": [
    {
     "name": "stdout",
     "output_type": "stream",
     "text": [
      "5\n"
     ]
    }
   ],
   "source": [
    "greet = 'Hello'\n",
    "\n",
    "# count length of greet string\n",
    "print(len(greet))"
   ]
  },
  {
   "cell_type": "markdown",
   "id": "d6e8a9fc",
   "metadata": {},
   "source": [
    "## Python String Methods\n",
    "\n",
    "voici une liste de certaines méthodes de string couramment utilisées.\n",
    "\n",
    "| Method | Description |\n",
    "|---|---|\n",
    "| `capitalize()` | Convertit le premier caractère en majuscule |\n",
    "| `count()` | Renvoie le nombre de fois qu'un élément apparaît dans la chaîne |\n",
    "| `encode()` | Renvoie une version encodée de la chaîne |\n",
    "| `find()` | Recherche dans la chaîne une valeur spécifiée et renvoie la position de où elle a été trouvée |\n",
    "| `format()` | Formate les valeurs spécifiées dans une chaîne |\n",
    "| `index()` | Recherche dans la chaîne une valeur spécifiée et renvoie la position de où elle a été trouvée |\n",
    "| `isalnum()` | Renvoie `true` si tous les caractères de la chaîne sont alphanumériques |\n",
    "| `isalpha()` | Renvoie `true` si tous les caractères de la chaîne sont alphabétiques |\n",
    "| `isnumeric()` | Renvoie `true` si tous les caractères de la chaîne sont numériques |\n",
    "| `islower()` | Renvoie `true` si tous les caractères de la chaîne sont en minuscules |\n",
    "| `join()` | Joindre les éléments d'un itérable à la fin de la chaîne |\n",
    "| `lower()` | Convertit une chaîne en minuscules |\n",
    "| `upper()` | Convertit une chaîne en majuscules |\n",
    "| `replace()` | Renvoie une chaîne où une valeur spécifiée est remplacée par une valeur spécifiée |\n",
    "| `partition()` | Renvoie un tuple en trois parties |\n",
    "| `[r/l]strip()` | Retourne une chaîne sans espaces |\n",
    "| `split()` | Divise la chaîne à l'espace |"
   ]
  },
  {
   "cell_type": "code",
   "execution_count": 35,
   "id": "5eba3266",
   "metadata": {},
   "outputs": [
    {
     "name": "stdout",
     "output_type": "stream",
     "text": [
      "Hello\n",
      "2\n",
      "b'hello'\n",
      "2\n",
      "hello world\n",
      "2\n",
      "True\n",
      "True\n",
      "False\n",
      "True\n",
      "hello\n",
      "HELLO\n",
      "Hello\n",
      "('h', 'e', 'llo')\n",
      "hello\n",
      "['hello', 'world']\n"
     ]
    }
   ],
   "source": [
    "# capitalize()\n",
    "print('hello'.capitalize())\n",
    "\n",
    "# count()\n",
    "print('hello'.count('l'))\n",
    "\n",
    "# encode()\n",
    "print('hello'.encode())\n",
    "\n",
    "# find()\n",
    "print('hello'.find('l'))\n",
    "\n",
    "# format()\n",
    "print('hello {}'.format('world'))\n",
    "\n",
    "# index()\n",
    "print('hello'.index('l'))\n",
    "\n",
    "# isalnum()\n",
    "print('hello'.isalnum())\n",
    "\n",
    "# isalpha()\n",
    "print('hello'.isalpha())"
   ]
  },
  {
   "cell_type": "code",
   "execution_count": null,
   "id": "90edaaeb",
   "metadata": {},
   "outputs": [],
   "source": [
    "# isnumeric()\n",
    "print('hello'.isnumeric())\n",
    "\n",
    "# islower()\n",
    "print('hello'.islower())\n",
    "\n",
    "# lower()\n",
    "print('HELLO'.lower())\n",
    "\n",
    "# upper()\n",
    "print('hello'.upper())\n",
    "\n",
    "# replace()\n",
    "print('hello'.replace('h', 'H'))\n",
    "\n",
    "# partition()\n",
    "print('hello'.partition('e'))\n",
    "\n",
    "# rstrip()\n",
    "print('     hello    '.strip())\n",
    "\n",
    "# split()\n",
    "print('hello world'.split(' '))"
   ]
  },
  {
   "cell_type": "markdown",
   "id": "66b130b5",
   "metadata": {},
   "source": [
    "## Python String escape characters\n",
    "\n",
    "Les caractères d'échappement sont des caractères spéciaux qui sont utilisés pour représenter des caractères non imprimables tels que les nouvelles lignes, les tabulations et les caractères de retour arrière. Les caractères d'échappement sont représentés par un antislash suivi d'un caractère. Les caractères d'échappement couramment utilisés sont répertoriés ci-dessous.\n",
    "\n",
    "| Escape Character | Description |\n",
    "|---|---|\n",
    "| `\\newline` | Retour à la ligne |\n",
    "| `\\\\` | Antislash |\n",
    "| `\\'` | Guillemet simple |\n",
    "| `\\\"` | Guillemet double |\n",
    "| `\\a` | Son de la cloche |\n",
    "| `\\b` | Retour arrière |\n",
    "| `\\f` | Saut de page |\n",
    "| `\\n` | Nouvelle ligne |\n",
    "| `\\r` | Retour chariot |\n",
    "| `\\t` | Tabulation |\n",
    "| `\\v` | Tabulation verticale |\n",
    "| `\\ooo` | Valeur octale |\n",
    "| `\\xhh` | Valeur hexadécimale |"
   ]
  },
  {
   "cell_type": "code",
   "execution_count": 38,
   "id": "0c7f80d2",
   "metadata": {},
   "outputs": [
    {
     "name": "stdout",
     "output_type": "stream",
     "text": [
      "hello\n",
      "world\n",
      "hello\tworld\n",
      "world\n",
      "hello\u000bworld\n",
      "hello\fworld\n",
      "hellworld\n",
      "\u0007\n"
     ]
    }
   ],
   "source": [
    "\n",
    "print('hello\\nworld')\n",
    "print('hello\\tworld')\n",
    "print('hello\\rworld')\n",
    "print('hello\\vworld')\n",
    "print('hello\\fworld')\n",
    "print('hello\\bworld')"
   ]
  },
  {
   "cell_type": "markdown",
   "id": "e3e0748e",
   "metadata": {},
   "source": [
    "# Set en python\n",
    "\n",
    "Un set est une collection non ordonnée d'éléments **uniques**. Les sets sont utilisés pour stocker plusieurs éléments dans une seule variable."
   ]
  },
  {
   "cell_type": "markdown",
   "id": "7f0a053b",
   "metadata": {},
   "source": [
    "## Creation d'un Set\n",
    "\n",
    "Un set est créé en utilisant la fonction `set()` ou en utilisant des accolades `{}`. Cependant, pour créer un set vide, vous devez utiliser la fonction `set()`, car `{}` crée un dictionnaire vide. Les `Set` permentent d'avoir des éléments de type différents, mais il ne peut pas avoir des éléments mutables comme des listes, des dictionnaires ou des sets, comme éléments."
   ]
  },
  {
   "cell_type": "code",
   "execution_count": 41,
   "id": "f43f47d9",
   "metadata": {},
   "outputs": [
    {
     "name": "stdout",
     "output_type": "stream",
     "text": [
      "Data type of empty_set: <class 'set'>\n",
      "Data type of empty_dictionary <class 'dict'>\n",
      "Student ID: {112, 114, 115, 116, 118}\n",
      "Vowel Letters: {'u', 'a', 'e', 'i', 'o'}\n",
      "Set of mixed data types: {'Bye', 'Hello', 101, -2}\n"
     ]
    }
   ],
   "source": [
    "# create an empty set\n",
    "empty_set = set()\n",
    "\n",
    "# create an empty dictionary\n",
    "empty_dictionary = {}\n",
    "\n",
    "# check data type of empty_set\n",
    "print('Data type of empty_set:', type(empty_set))\n",
    "\n",
    "# check data type of dictionary_set\n",
    "print('Data type of empty_dictionary', type(empty_dictionary))\n",
    "\n",
    "# create a set of integer type\n",
    "student_id = {112, 114, 116, 118, 115}\n",
    "print('Student ID:', student_id)\n",
    "\n",
    "# create a set of string type\n",
    "vowel_letters = {'a', 'e', 'i', 'o', 'u'}\n",
    "print('Vowel Letters:', vowel_letters)\n",
    "\n",
    "# create a set of mixed data types\n",
    "mixed_set = {'Hello', 101, -2, 'Bye'}\n",
    "print('Set of mixed data types:', mixed_set)"
   ]
  },
  {
   "cell_type": "markdown",
   "id": "0d29db4f",
   "metadata": {},
   "source": [
    "> **Note**: L'ordre peut varier car les `Set` sont des collections non ordonnées, vous ne pouvez pas être sûr de l'ordre dans lequel les éléments seront imprimés."
   ]
  },
  {
   "cell_type": "markdown",
   "id": "85950574",
   "metadata": {},
   "source": [
    "## Duplicate Values in Set\n",
    "\n",
    "Les `Set` ne peuvent pas avoir d'éléments dupliqués. Si vous créez un set avec des éléments dupliqués, les doublons seront automatiquement supprimés."
   ]
  },
  {
   "cell_type": "code",
   "execution_count": 42,
   "id": "3db0cd08",
   "metadata": {},
   "outputs": [
    {
     "name": "stdout",
     "output_type": "stream",
     "text": [
      "{8, 2, 4, 6}\n"
     ]
    }
   ],
   "source": [
    "numbers = {2, 4, 6, 6, 2, 8}\n",
    "print(numbers)"
   ]
  },
  {
   "cell_type": "markdown",
   "id": "3a6eabc3",
   "metadata": {},
   "source": [
    "## add and update d'éléments dans un Set\n",
    "\n",
    "Les `Set` sont des collections non modifiables, ce qui signifie que vous ne pouvez pas modifier directement les éléments existants d'un set. Cependant, vous pouvez ajouter de nouveaux éléments à un set existant. Pour ajouter un seul élément à un set, utilisez la méthode `add()`. Pour ajouter plusieurs éléments à un set, utilisez la méthode `update()`."
   ]
  },
  {
   "cell_type": "code",
   "execution_count": 43,
   "id": "a36c8f86",
   "metadata": {},
   "outputs": [
    {
     "name": "stdout",
     "output_type": "stream",
     "text": [
      "Initial Set: {34, 12, 21, 54}\n",
      "Updated Set: {32, 34, 12, 21, 54}\n"
     ]
    }
   ],
   "source": [
    "numbers = {21, 34, 54, 12}\n",
    "\n",
    "print('Initial Set:',numbers)\n",
    "\n",
    "# using add() method\n",
    "numbers.add(32)\n",
    "\n",
    "print('Updated Set:', numbers) "
   ]
  },
  {
   "cell_type": "code",
   "execution_count": 44,
   "id": "8d5f6090",
   "metadata": {},
   "outputs": [
    {
     "name": "stdout",
     "output_type": "stream",
     "text": [
      "{'Ralph Lauren', 'apple', 'Lacoste', 'google'}\n"
     ]
    }
   ],
   "source": [
    "companies = {'Lacoste', 'Ralph Lauren'}\n",
    "tech_companies = ['apple', 'google', 'apple']\n",
    "\n",
    "companies.update(tech_companies)\n",
    "\n",
    "print(companies)"
   ]
  },
  {
   "cell_type": "markdown",
   "id": "f84a5cb2",
   "metadata": {},
   "source": [
    "## Suppression d'éléments d'un Set\n",
    "\n",
    "Vous pouvez supprimer des éléments d'un set existant en utilisant la méthode `remove()` ou la méthode `discard()`. La méthode `remove()` supprime l'élément spécifié d'un set. Si l'élément spécifié n'existe pas, une erreur `KeyError` est levée. La méthode `discard()` supprime l'élément spécifié d'un set. Si l'élément spécifié n'existe pas, aucune erreur n'est levée."
   ]
  },
  {
   "cell_type": "code",
   "execution_count": 67,
   "id": "16c9328f",
   "metadata": {},
   "outputs": [
    {
     "name": "stdout",
     "output_type": "stream",
     "text": [
      "Initial Set: {'Java', 'Python', 'Swift'}\n",
      "Set after disccard(): {'Python', 'Swift'}\n",
      "Set after pop(): {'Swift'} Random value Python\n",
      "Set after remove(): set()\n"
     ]
    },
    {
     "ename": "KeyError",
     "evalue": "'Java'",
     "output_type": "error",
     "traceback": [
      "\u001b[0;31m---------------------------------------------------------------------------\u001b[0m",
      "\u001b[0;31mKeyError\u001b[0m                                  Traceback (most recent call last)",
      "\u001b[0;32m/var/folders/g1/0pjc_q692vd7bj_68s3h608w0000gn/T/ipykernel_8276/2686972446.py\u001b[0m in \u001b[0;36m<module>\u001b[0;34m\u001b[0m\n\u001b[1;32m     13\u001b[0m \u001b[0mprint\u001b[0m\u001b[0;34m(\u001b[0m\u001b[0;34m'Set after remove():'\u001b[0m\u001b[0;34m,\u001b[0m \u001b[0mlanguages\u001b[0m\u001b[0;34m)\u001b[0m\u001b[0;34m\u001b[0m\u001b[0;34m\u001b[0m\u001b[0m\n\u001b[1;32m     14\u001b[0m \u001b[0;34m\u001b[0m\u001b[0m\n\u001b[0;32m---> 15\u001b[0;31m \u001b[0mlanguages\u001b[0m\u001b[0;34m.\u001b[0m\u001b[0mremove\u001b[0m\u001b[0;34m(\u001b[0m\u001b[0;34m'Java'\u001b[0m\u001b[0;34m)\u001b[0m \u001b[0;31m# KeyError: 'Java'\u001b[0m\u001b[0;34m\u001b[0m\u001b[0;34m\u001b[0m\u001b[0m\n\u001b[0m",
      "\u001b[0;31mKeyError\u001b[0m: 'Java'"
     ]
    }
   ],
   "source": [
    "languages = {'Swift', 'Java', 'Python'}\n",
    "\n",
    "print('Initial Set:',languages)\n",
    "\n",
    "# remove 'Java' from a set\n",
    "removedValue = languages.discard('Java')\n",
    "print('Set after disccard():', languages)\n",
    "\n",
    "random_value = languages.pop()\n",
    "print('Set after pop():', languages, \"Random value\", random_value)\n",
    "\n",
    "languages.remove('Swift')\n",
    "print('Set after remove():', languages)\n",
    "\n",
    "languages.remove('Java') # KeyError: 'Java'"
   ]
  },
  {
   "cell_type": "markdown",
   "id": "583b2f6c",
   "metadata": {},
   "source": [
    "## Python Set built-in methods\n",
    "\n",
    "voici une liste de certaines méthodes de set couramment utilisées.\n",
    "\n",
    "| Method | Description |\n",
    "|---|---|\n",
    "| `all()` | Renvoie `true` si tous les éléments d'un set sont vrais (ou si le set est vide) |\n",
    "| `any()` | Renvoie `true` si l'un des éléments d'un set est vrai. Si le set est vide, renvoie `false` |\n",
    "| `enumerate()` | Renvoie un objet énumérable. Il contient la valeur et l'index de tous les éléments du set sous forme de paires |\n",
    "| `len()` | Renvoie la longueur (le nombre d'éléments) d'un set |\n",
    "| `max()` | Renvoie l'élément de valeur maximale d'un set |\n",
    "| `min()` | Renvoie l'élément de valeur minimale d'un set |\n",
    "| `sorted()` | Renvoie une nouvelle list contenant tous les éléments du set triés |\n",
    "| `sum()` | Renvoie la somme de tous les éléments d'un set |"
   ]
  },
  {
   "cell_type": "code",
   "execution_count": 54,
   "id": "22c5dafc",
   "metadata": {},
   "outputs": [
    {
     "name": "stdout",
     "output_type": "stream",
     "text": [
      "True\n",
      "True\n",
      "3\n",
      "3\n",
      "1\n",
      "[1, 2, 3]\n",
      "6\n",
      "0 1\n",
      "1 2\n",
      "2 3\n"
     ]
    }
   ],
   "source": [
    "# Création d'un set\n",
    "my_set = {1, 2, 3}\n",
    "\n",
    "print(all(my_set))\n",
    "print(any(my_set))\n",
    "print(len(my_set))\n",
    "print(max(my_set))\n",
    "print(min(my_set))\n",
    "print(sorted(my_set))\n",
    "print(sum(my_set))"
   ]
  },
  {
   "cell_type": "markdown",
   "id": "de89b4c7",
   "metadata": {},
   "source": [
    "## Iterating Through a Set\n",
    "\n",
    "Vous pouvez itérer à travers un set en utilisant une boucle `for`."
   ]
  },
  {
   "cell_type": "code",
   "execution_count": 57,
   "id": "1e866a89",
   "metadata": {},
   "outputs": [
    {
     "name": "stdout",
     "output_type": "stream",
     "text": [
      "Apple\n",
      "Mango\n",
      "Peach\n",
      "0 Apple\n",
      "1 Mango\n",
      "2 Peach\n"
     ]
    }
   ],
   "source": [
    "fruits = {\"Apple\", \"Peach\", \"Mango\"}\n",
    "\n",
    "# for loop to access each fruits\n",
    "for fruit in fruits: \n",
    "    print(fruit)\n",
    "\n",
    "for i, v in enumerate(fruits):\n",
    "    print(i, v)"
   ]
  },
  {
   "cell_type": "markdown",
   "id": "e426fcb2",
   "metadata": {},
   "source": [
    "## Set operations\n",
    "\n",
    "Les `Set` premettent d'effectuer des opérations mathématiques comme l'`union`, l'`intersection`, la `différence` et la `différence symétrique`. Vous pouvez créer des ensembles en utilisant des accolades `{}` ou la fonction `set()`."
   ]
  },
  {
   "cell_type": "markdown",
   "id": "20a0c0cf",
   "metadata": {},
   "source": [
    "### Union de deux Sets\n",
    "\n",
    "L'union de deux sets renvoie un nouveau set contenant tous les éléments des deux sets. On utilise l'opérateur `|` ou la méthode `union()` pour effectuer l'union.\n",
    "\n",
    "![Union](./imgs/python-union.png)\n",
    "[Source](https://www.programiz.com/python-programming/set)"
   ]
  },
  {
   "cell_type": "code",
   "execution_count": 58,
   "id": "ca722d02",
   "metadata": {},
   "outputs": [
    {
     "name": "stdout",
     "output_type": "stream",
     "text": [
      "Union using |: {0, 1, 2, 3, 4, 5}\n",
      "Union using union(): {0, 1, 2, 3, 4, 5}\n"
     ]
    }
   ],
   "source": [
    "# first set\n",
    "A = {1, 3, 5}\n",
    "\n",
    "# second set\n",
    "B = {0, 2, 4}\n",
    "\n",
    "# perform union operation using |\n",
    "print('Union using |:', A | B)\n",
    "\n",
    "# perform union operation using union()\n",
    "print('Union using union():', A.union(B))"
   ]
  },
  {
   "cell_type": "markdown",
   "id": "ac7310ca",
   "metadata": {},
   "source": [
    ">**Note**: `A|B` et `union()` sont équivalent à `A ⋃ B` en mathématique."
   ]
  },
  {
   "cell_type": "markdown",
   "id": "c296eb40",
   "metadata": {},
   "source": [
    "### Set Intersection\n",
    "\n",
    "L'intersection de deux sets renvoie un nouveau set contenant uniquement les éléments communs aux deux sets. On utilise l'opérateur `&` ou la méthode `intersection()` pour effectuer l'intersection.\n",
    "\n",
    "![Intersection](./imgs/python-intersection.png)\n",
    "[Source](https://www.programiz.com/python-programming/set)"
   ]
  },
  {
   "cell_type": "code",
   "execution_count": 59,
   "id": "e98f8579",
   "metadata": {},
   "outputs": [
    {
     "name": "stdout",
     "output_type": "stream",
     "text": [
      "Intersection using &: {1, 3}\n",
      "Intersection using intersection(): {1, 3}\n"
     ]
    }
   ],
   "source": [
    "# first set\n",
    "A = {1, 3, 5}\n",
    "\n",
    "# second set\n",
    "B = {1, 2, 3}\n",
    "\n",
    "# perform intersection operation using &\n",
    "print('Intersection using &:', A & B)\n",
    "\n",
    "# perform intersection operation using intersection()\n",
    "print('Intersection using intersection():', A.intersection(B)) "
   ]
  },
  {
   "cell_type": "markdown",
   "id": "bb672138",
   "metadata": {},
   "source": [
    ">**Note**: `A&B` et `intersection()` sont équivalent à `A ⋂ B` en mathématique."
   ]
  },
  {
   "cell_type": "markdown",
   "id": "800e6f22",
   "metadata": {},
   "source": [
    "### Set Difference\n",
    "\n",
    "La différence de deux sets renvoie un nouveau set contenant les éléments uniquement présents dans le premier set et non dans le second. On utilise l'opérateur `-` ou la méthode `difference()` pour effectuer la différence.\n",
    "\n",
    "![Difference](./imgs/python-difference.png)\n",
    "[Source](https://www.programiz.com/python-programming/set)"
   ]
  },
  {
   "cell_type": "code",
   "execution_count": 60,
   "id": "8c034571",
   "metadata": {},
   "outputs": [
    {
     "name": "stdout",
     "output_type": "stream",
     "text": [
      "Difference using &: {3, 5}\n",
      "Difference using difference(): {3, 5}\n"
     ]
    }
   ],
   "source": [
    "# first set\n",
    "A = {2, 3, 5}\n",
    "\n",
    "# second set\n",
    "B = {1, 2, 6}\n",
    "\n",
    "# perform difference operation using &\n",
    "print('Difference using &:', A - B)\n",
    "\n",
    "# perform difference operation using difference()\n",
    "print('Difference using difference():', A.difference(B))"
   ]
  },
  {
   "cell_type": "markdown",
   "id": "2779d4c2",
   "metadata": {},
   "source": [
    ">**Note**: `A-B` et `A.difference(B)` sont équivalent à `A \\ B` en mathématique."
   ]
  },
  {
   "cell_type": "markdown",
   "id": "e9179557",
   "metadata": {},
   "source": [
    "### Set Symmetric Difference\n",
    "\n",
    "La différence symétrique de deux sets renvoie un nouveau set contenant tous les éléments des deux sets, à l'exception des éléments communs aux deux sets. On utilise l'opérateur `^` ou la méthode `symmetric_difference()` pour effectuer la différence symétrique.\n",
    "\n",
    "![Symmetric Difference](./imgs/python-symmetric-difference.png)\n",
    "[Source](https://www.programiz.com/python-programming/set)"
   ]
  },
  {
   "cell_type": "code",
   "execution_count": 61,
   "id": "72eaa5b6",
   "metadata": {},
   "outputs": [
    {
     "name": "stdout",
     "output_type": "stream",
     "text": [
      "using ^: {1, 3, 5, 6}\n",
      "using symmetric_difference(): {1, 3, 5, 6}\n"
     ]
    }
   ],
   "source": [
    "# first set\n",
    "A = {2, 3, 5}\n",
    "\n",
    "# second set\n",
    "B = {1, 2, 6}\n",
    "\n",
    "# perform difference operation using &\n",
    "print('using ^:', A ^ B)\n",
    "\n",
    "# using symmetric_difference()\n",
    "print('using symmetric_difference():', A.symmetric_difference(B)) "
   ]
  },
  {
   "cell_type": "markdown",
   "id": "47556b92",
   "metadata": {},
   "source": [
    "### Verifier si deux sets sont égaux\n",
    "\n",
    "Deux sets sont égaux si et seulement si tous les éléments d'un set sont présents dans l'autre set. On utilise l'opérateur `==` pour vérifier l'égalité."
   ]
  },
  {
   "cell_type": "code",
   "execution_count": 64,
   "id": "09ff0640",
   "metadata": {},
   "outputs": [
    {
     "name": "stdout",
     "output_type": "stream",
     "text": [
      "Set A and Set B are equal\n"
     ]
    }
   ],
   "source": [
    "# first set\n",
    "A = {1, 3, 5}\n",
    "\n",
    "# second set\n",
    "B = {3, 5, 1}\n",
    "\n",
    "# perform difference operation using &\n",
    "if A == B:\n",
    "    print('Set A and Set B are equal')\n",
    "else:\n",
    "    print('Set A and Set B are not equal')"
   ]
  },
  {
   "cell_type": "markdown",
   "id": "5f65dcc3",
   "metadata": {},
   "source": [
    "## Autres fonctions sur les sets\n",
    "\n",
    "| Fonction | Description |\n",
    "|---|---|\n",
    "| `add()` | Ajoute un élément à un set |\n",
    "| `clear()` | Supprime tous les éléments d'un set |\n",
    "| `copy()` | Renvoie une copie d'un set |\n",
    "| `difference()` | Renvoie la différence entre deux ou plusieurs sets |\n",
    "| `difference_update()` | Supprime tous les éléments d'un set qui sont présents dans d'autres sets spécifiés |\n",
    "| `discard()` | Supprime l'élément spécifié |\n",
    "| `intersection()` | Renvoie un set, qui est l'intersection de deux autres sets |\n",
    "| `intersection_update()` | Supprime les éléments d'un set qui ne sont pas présents dans d'autres sets spécifiés |\n",
    "| `isdisjoint()` | Renvoie `true` si deux sets n'ont pas d'éléments en commun |\n",
    "| `issubset()` | Renvoie `true` si tous les éléments d'un set sont présents dans un autre set (set contenant) |\n",
    "| `issuperset()` | Renvoie `true` si tous les éléments d'un set sont présents dans un autre set (set contenu) |\n",
    "| `pop()` | Supprime un élément d'un set |\n",
    "| `remove()` | Supprime l'élément spécifié |\n",
    "| `symmetric_difference()` | Renvoie un set contenant tous les éléments de deux sets, à l'exception des éléments communs aux deux sets |\n",
    "| `symmetric_difference_update()` | Insère les éléments de la différence symétrique entre deux sets dans le premier set |\n",
    "| `union()` | Renvoie un set contenant tous les éléments de deux ou plusieurs sets |\n",
    "| `update()` | Met à jour un set avec l'union de lui-même et d'autres |"
   ]
  },
  {
   "cell_type": "markdown",
   "id": "25dd971a",
   "metadata": {},
   "source": [
    "# Les dictionnaires en Python\n",
    "\n",
    "Les dictionnaires sont des structures de données utilisées pour stocker des données sous forme de paires clé-valeur. Les dictionnaires sont indexés par des clés. Les clés sont uniques dans un dictionnaire. Les dictionnaires sont construits avec des accolades `{}` et les paires clé-valeur sont séparées par des virgules."
   ]
  },
  {
   "cell_type": "markdown",
   "id": "9bb691c6",
   "metadata": {},
   "source": [
    "## Creation de dictionnaires\n",
    "\n",
    "Pour créer un dictionnaire, il suffit de mettre les paires clé-valeur entre les `{}` et de les séparer par des virgules. Il est également possible d'utiliser la fonction `dict()`. Les pairs clé-valeur sont séparées par des virgules et la clé et la valeur sont séparées par `:`."
   ]
  },
  {
   "cell_type": "code",
   "execution_count": null,
   "id": "34b7cccb",
   "metadata": {},
   "outputs": [],
   "source": [
    "# creating a dictionary\n",
    "country_capitals = {\n",
    "  \"United States\": \"Washington D.C.\", \n",
    "  \"Italy\": \"Rome\", \n",
    "  \"England\": \"London\"\n",
    "}\n",
    "\n",
    "# printing the dictionary\n",
    "print(country_capitals)"
   ]
  },
  {
   "cell_type": "markdown",
   "id": "cf4605b6",
   "metadata": {},
   "source": [
    "> **Note**: Les clés doivent être uniques dans un dictionnaire, c'est-à-dire qu'il ne peut y avoir qu'une seule occurrence d'une clé donnée dans un dictionnaire.\n",
    "> **Note**: Les clés doivent être de type immuable, c'est-à-dire qu'elles doivent être de type `string`, `number` ou `tuple`."
   ]
  },
  {
   "cell_type": "code",
   "execution_count": 136,
   "id": "678ee3a1",
   "metadata": {},
   "outputs": [
    {
     "name": "stdout",
     "output_type": "stream",
     "text": [
      "{1: 'Hello', (1, 2): 'Hello Hi', 3: [1, 2, 3]}\n"
     ]
    },
    {
     "ename": "TypeError",
     "evalue": "unhashable type: 'list'",
     "output_type": "error",
     "traceback": [
      "\u001b[0;31m---------------------------------------------------------------------------\u001b[0m",
      "\u001b[0;31mTypeError\u001b[0m                                 Traceback (most recent call last)",
      "\u001b[0;32m/var/folders/g1/0pjc_q692vd7bj_68s3h608w0000gn/T/ipykernel_13403/4161022413.py\u001b[0m in \u001b[0;36m<module>\u001b[0;34m\u001b[0m\n\u001b[1;32m     12\u001b[0m \u001b[0;31m# Error: using a list as a key is not allowed\u001b[0m\u001b[0;34m\u001b[0m\u001b[0;34m\u001b[0m\u001b[0m\n\u001b[1;32m     13\u001b[0m \u001b[0;34m\u001b[0m\u001b[0m\n\u001b[0;32m---> 14\u001b[0;31m my_dict = {\n\u001b[0m\u001b[1;32m     15\u001b[0m   \u001b[0;36m1\u001b[0m\u001b[0;34m:\u001b[0m \u001b[0;34m\"Hello\"\u001b[0m\u001b[0;34m,\u001b[0m\u001b[0;34m\u001b[0m\u001b[0;34m\u001b[0m\u001b[0m\n\u001b[1;32m     16\u001b[0m   \u001b[0;34m[\u001b[0m\u001b[0;36m1\u001b[0m\u001b[0;34m,\u001b[0m \u001b[0;36m2\u001b[0m\u001b[0;34m]\u001b[0m\u001b[0;34m:\u001b[0m \u001b[0;34m\"Hello Hi\"\u001b[0m\u001b[0;34m,\u001b[0m\u001b[0;34m\u001b[0m\u001b[0;34m\u001b[0m\u001b[0m\n",
      "\u001b[0;31mTypeError\u001b[0m: unhashable type: 'list'"
     ]
    }
   ],
   "source": [
    "# Valid dictionary\n",
    "\n",
    "my_dict = {\n",
    "  1: \"Hello\", \n",
    "  (1, 2): \"Hello Hi\", \n",
    "  3: [1, 2, 3]\n",
    "}\n",
    "\n",
    "print(my_dict)\n",
    "\n",
    "# Invalid dictionary\n",
    "# Error: using a list as a key is not allowed\n",
    "\n",
    "my_dict = {\n",
    "  1: \"Hello\", \n",
    "  [1, 2]: \"Hello Hi\", \n",
    "}\n",
    "\n",
    "print(my_dict)\n",
    "\n",
    "# creating an empty dictionary\n",
    "my_dict = {}\n",
    "my_dict = dict()"
   ]
  },
  {
   "cell_type": "code",
   "execution_count": 137,
   "id": "7304220b",
   "metadata": {},
   "outputs": [
    {
     "name": "stdout",
     "output_type": "stream",
     "text": [
      "0.28516941700036114\n",
      "0.5959128750000673\n"
     ]
    }
   ],
   "source": [
    "import timeit\n",
    "print(timeit.timeit('{}', number=10**7))\n",
    "print(timeit.timeit('dict()', number=10**7))"
   ]
  },
  {
   "cell_type": "markdown",
   "id": "c193cee4",
   "metadata": {},
   "source": [
    "## Longueur d'un dictionnaire\n",
    "\n",
    "Pour obtenir la longueur d'un dictionnaire, vous pouvez utiliser la fonction `len()`."
   ]
  },
  {
   "cell_type": "code",
   "execution_count": 138,
   "id": "98263865",
   "metadata": {},
   "outputs": [
    {
     "name": "stdout",
     "output_type": "stream",
     "text": [
      "3\n"
     ]
    }
   ],
   "source": [
    "country_capitals = {\n",
    "  \"United States\": \"Washington D.C.\", \n",
    "  \"Italy\": \"Rome\", \n",
    "  \"England\": \"London\"\n",
    "}\n",
    "\n",
    "# get dictionary's length\n",
    "print(len(country_capitals)) # 3"
   ]
  },
  {
   "cell_type": "markdown",
   "id": "1f4bdb43",
   "metadata": {},
   "source": [
    "## Acceder aux valeurs d'un dictionnaire\n",
    "\n",
    "Pour accéder à une valeur d'un dictionnaire, vous pouvez utiliser l'opérateur `[]` avec la clé correspondante. Si la clé n'existe pas, une exception `KeyError` est levée. Si on utilise une clé de type autre que `string`, `number` ou `tuple`, une exception `TypeError` est levée. On peut aussi utiliser la méthode `get()`."
   ]
  },
  {
   "cell_type": "code",
   "execution_count": 140,
   "id": "46991759",
   "metadata": {},
   "outputs": [
    {
     "name": "stdout",
     "output_type": "stream",
     "text": [
      "Washington D.C.\n",
      "London\n",
      "Rome\n",
      "None\n",
      "capitale non reconnue\n"
     ]
    }
   ],
   "source": [
    "country_capitals = {\n",
    "  \"United States\": \"Washington D.C.\", \n",
    "  \"Italy\": \"Rome\", \n",
    "  \"England\": \"London\"\n",
    "}\n",
    "\n",
    "print(country_capitals[\"United States\"])  # Washington D.C.\n",
    "print(country_capitals[\"England\"]) # London\n",
    "print(country_capitals[\"France\"]) # KeyError: 'France'\n",
    "\n",
    "\n",
    "print(country_capitals.get(\"Italy\")) # Rome\n",
    "print(country_capitals.get(\"France\")) # None\n",
    "print(country_capitals.get(\"France\", \"capitale non reconnue\")) # None\n"
   ]
  },
  {
   "cell_type": "markdown",
   "id": "f8871560",
   "metadata": {},
   "source": [
    "## Manipuler les dictionnaires\n",
    "### Modifier les valeurs d'un dictionnaire\n",
    "\n",
    "Les dictionnaires sont mutables, ce qui signifie que vous pouvez modifier les valeurs d'un dictionnaire après sa création.\n",
    "\n",
    "Pour changer la valeur d'un élément d'un dictionnaire, on utilise l'opérateur `[]` avec la clé correspondante. Si la clé n'existe pas, une nouvelle paire clé-valeur est ajoutée au dictionnaire. Si on utilise une clé de type autre que `string`, `number` ou `tuple`, une exception `TypeError` est levée."
   ]
  },
  {
   "cell_type": "code",
   "execution_count": null,
   "id": "b645292c",
   "metadata": {},
   "outputs": [],
   "source": [
    "country_capitals = {\n",
    "  \"United States\": \"New York\", \n",
    "  \"Italy\": \"Naples\",\n",
    "  \"England\": \"London\"\n",
    "}\n",
    "\n",
    "# change the value of \"Italy\" key to \"Rome\"\n",
    "country_capitals[\"Italy\"] = \"Rome\"\n",
    "\n",
    "print(country_capitals)"
   ]
  },
  {
   "cell_type": "markdown",
   "id": "c34d4969",
   "metadata": {},
   "source": [
    "### Ajouter des éléments à un dictionnaire\n",
    "\n",
    "Pour ajouter un nouvel élément à un dictionnaire, on utilise l'opérateur `[]` avec une nouvelle clé et on lui attribue une valeur. Si la clé existe déjà, la valeur existante est remplacée par la nouvelle valeur. Sinon la nouvelle paire clé-valeur est ajoutée au dictionnaire."
   ]
  },
  {
   "cell_type": "code",
   "execution_count": null,
   "id": "d31c8e8e",
   "metadata": {},
   "outputs": [],
   "source": [
    "country_capitals = {\n",
    "  \"United States\": \"New York\", \n",
    "  \"Italy\": \"Rome\" \n",
    "}\n",
    "\n",
    "# add an item with \"Germany\" as key and \"Berlin\" as its value\n",
    "country_capitals[\"Germany\"] = \"Berlin\"\n",
    "\n",
    "print(country_capitals)"
   ]
  },
  {
   "cell_type": "markdown",
   "id": "d7de7ef2",
   "metadata": {},
   "source": [
    "> **Note**: On peut aussi utiliser la méthode `update()` pour ajouter un nouvel élément à un dictionnaire."
   ]
  },
  {
   "cell_type": "code",
   "execution_count": 141,
   "id": "1e7bebec",
   "metadata": {},
   "outputs": [
    {
     "name": "stdout",
     "output_type": "stream",
     "text": [
      "{'United States': 'New York', 'Italy': 'Rome', 'France': 'Paris', 'Germany': 'Berlin'}\n"
     ]
    }
   ],
   "source": [
    "# update method on country_capitals dictionary\n",
    "country_capitals = {\n",
    "  \"United States\": \"New York\",\n",
    "  \"Italy\": \"Naple\"\n",
    "}\n",
    "\n",
    "# update the dictionary with key-value pairs\n",
    "country_capitals.update({\"France\": \"Paris\"})\n",
    "country_capitals.update({\"Germany\": \"Berlin\"})\n",
    "country_capitals.update({\"Italy\": \"Rome\"})\n",
    "\n",
    "print(country_capitals)"
   ]
  },
  {
   "cell_type": "markdown",
   "id": "785e398e",
   "metadata": {},
   "source": [
    "### Supression d'un élément\n",
    "\n",
    "Pour supprimer un élément d'un dictionnaire, on utilise l'instruction `del`. Si la clé n'existe pas, une exception `KeyError` est levée. On peut aussi utiliser la méthode `pop()`, `popitem()` et `clear()`."
   ]
  },
  {
   "cell_type": "code",
   "execution_count": 147,
   "id": "fab97fe8",
   "metadata": {},
   "outputs": [
    {
     "name": "stdout",
     "output_type": "stream",
     "text": [
      "{'United States': 'New York', 'Italy': 'Naples', 'England': 'London', 'France': 'Paris', 'Germany': 'Berlin'}\n",
      "{'Italy': 'Naples', 'England': 'London', 'France': 'Paris', 'Germany': 'Berlin'}\n",
      "('Germany', 'Berlin')\n",
      "{'Italy': 'Naples', 'England': 'London', 'France': 'Paris'}\n",
      "Naples\n",
      "{'England': 'London', 'France': 'Paris'}\n",
      "{}\n",
      "{'United States': 'Unknown', 'Italy': 'Unknown', 'France': 'Unknown', 'Germany': 'Unknown'}\n"
     ]
    }
   ],
   "source": [
    "country_capitals = {\n",
    "  \"United States\": \"New York\", \n",
    "  \"Italy\": \"Naples\",\n",
    "  \"England\": \"London\",\n",
    "  \"France\": \"Paris\",\n",
    "  \"Germany\": \"Berlin\"\n",
    "}\n",
    "print(country_capitals)\n",
    "\n",
    "# delete item having \"United States\" key\n",
    "del country_capitals[\"United States\"]\n",
    "\n",
    "print(country_capitals)\n",
    "\n",
    "print(country_capitals.popitem())\n",
    "print(country_capitals)\n",
    "\n",
    "print(country_capitals.pop(\"Italy\"))\n",
    "print(country_capitals)\n",
    "\n",
    "country_capitals.clear()\n",
    "print(country_capitals)\n",
    "\n",
    "country_capitals = {\n",
    "  \"United States\": \"New York\",\n",
    "  \"Italy\": \"Rome\",\n",
    "  \"France\": \"Paris\",\n",
    "  \"Germany\": \"Berlin\"\n",
    "}"
   ]
  },
  {
   "cell_type": "markdown",
   "id": "5b03ea74",
   "metadata": {},
   "source": [
    "## Dictionary Methods\n",
    "\n",
    "| Method | Description |\n",
    "|---|---|\n",
    "| `clear()` | Supprime tous les éléments d'un dictionnaire |\n",
    "| `copy()` | Retourne une copie d'un dictionnaire |\n",
    "| `get()` | Retourne la valeur de la clé spécifiée |\n",
    "| `items()` | Retourne une liste contenant une séquence de tuples, chacun représentant une paire clé-valeur |\n",
    "| `keys()` | Retourne une liste contenant les clés d'un dictionnaire |\n",
    "| `pop()` | Supprime l'élément avec la clé spécifiée |\n",
    "| `popitem()` | Supprime le dernier élément inséré |\n",
    "| `setdefault()` | Retourne la valeur de la clé spécifiée. Si la clé ne figure pas dans le dictionnaire, la clé est insérée avec la valeur spécifiée |\n",
    "| `update()` | Met à jour le dictionnaire avec les paires clé-valeur spécifiées |\n",
    "| `values()` | Retourne une liste de toutes les valeurs d'un dictionnaire |\n",
    "| `pop()` | Supprime l'élément avec la clé spécifiée |"
   ]
  },
  {
   "cell_type": "markdown",
   "id": "8a915e79",
   "metadata": {},
   "source": [
    "## Vérifier l'existence d'une clé\n",
    "\n",
    "Pour vérifier si une clé existe dans un dictionnaire, on utilise l'opérateur `in` et `not in`."
   ]
  },
  {
   "cell_type": "code",
   "execution_count": 148,
   "id": "47d821ae",
   "metadata": {},
   "outputs": [
    {
     "name": "stdout",
     "output_type": "stream",
     "text": [
      "True\n",
      "False\n",
      "False\n"
     ]
    }
   ],
   "source": [
    "my_list = {1: \"Hello\", \"Hi\": 25, \"Howdy\": 100}\n",
    "\n",
    "print(1 in my_list)\n",
    "\n",
    "# the not in operator checks whether key doesn't exist\n",
    "print(\"Howdy\" not in my_list)\n",
    "\n",
    "print(\"Hello\" in my_list)"
   ]
  },
  {
   "cell_type": "markdown",
   "id": "cb48abf3",
   "metadata": {},
   "source": [
    "> **Note**: les operateurs `in` et `not in` check uniquement les clés et non les valeurs."
   ]
  },
  {
   "cell_type": "markdown",
   "id": "159830de",
   "metadata": {},
   "source": [
    "## Iterating Through a Dictionary\n",
    "\n",
    "Depuis Python 3.7, les dictionnaires sont ordonnés. ce qui signifie que vous pouvez itérer à travers un dictionnaire en utilisant une boucle `for`."
   ]
  },
  {
   "cell_type": "code",
   "execution_count": 2,
   "id": "2762cccf",
   "metadata": {},
   "outputs": [
    {
     "name": "stdout",
     "output_type": "stream",
     "text": [
      "United States\n",
      "Italy\n",
      "----------\n",
      "New York\n",
      "Naples\n",
      "----------\n",
      "United States  -  New York\n",
      "Italy  -  Naples\n"
     ]
    }
   ],
   "source": [
    "country_capitals = {\n",
    "  \"United States\": \"New York\", \n",
    "  \"Italy\": \"Naples\" \n",
    "}\n",
    "\n",
    "# print dictionary keys one by one\n",
    "for country in country_capitals:\n",
    "    print(country)\n",
    "\n",
    "print(\"----------\")\n",
    "\n",
    "# print dictionary values one by one\n",
    "for country in country_capitals:\n",
    "    capital = country_capitals[country]\n",
    "    print(capital)\n",
    "\n",
    "print(\"----------\")\n",
    "\n",
    "# iterate over keys and values\n",
    "for country, capital in country_capitals.items():\n",
    "    print(country, \" - \", capital)\n"
   ]
  }
 ],
 "metadata": {
  "kernelspec": {
   "display_name": "Python 3",
   "language": "python",
   "name": "python3"
  },
  "language_info": {
   "codemirror_mode": {
    "name": "ipython",
    "version": 3
   },
   "file_extension": ".py",
   "mimetype": "text/x-python",
   "name": "python",
   "nbconvert_exporter": "python",
   "pygments_lexer": "ipython3",
   "version": "3.9.7"
  }
 },
 "nbformat": 4,
 "nbformat_minor": 5
}
