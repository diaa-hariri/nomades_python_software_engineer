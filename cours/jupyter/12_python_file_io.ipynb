{
 "cells": [
  {
   "cell_type": "markdown",
   "id": "d7f9a40d",
   "metadata": {},
   "source": [
    "# Python File I/O\n",
    "## Python file operation\n",
    "\n",
    "Un fichier est un conteneur pour stocker des données. Python a plusieurs fonctions pour créer, lire, mettre à jour et supprimer des fichiers.\n",
    "\n",
    "Pour manipuler un fichier, il faut d'abord l'ouvrir, le modifier (ecrire/lire) puis le fermer. Il est indispensable de fermer un fichier après l'avoir ouvert afin de libérer les ressources associées au fichier."
   ]
  },
  {
   "cell_type": "markdown",
   "id": "1718513a",
   "metadata": {},
   "source": [
    "## Ouvrir un fichier en python\n",
    "\n",
    "En python, on peut ouvrir un fichier en utilisant la fonction `open()`. La syntaxe de la fonction `open()` est la suivante:\n",
    "\n",
    "```python\n",
    "open(file, mode='r', buffering=-1, encoding=None, errors=None, newline=None, closefd=True, opener=None)\n",
    "```\n",
    "\n",
    "- `file`: le nom du fichier à ouvrir\n",
    "- `mode`: le mode d'ouverture du fichier.\n",
    "- `buffering`: le mode de buffering. Les modes de buffering sont:\n",
    "    - `0`: pas de buffering\n",
    "    - `1`: buffering ligne par ligne\n",
    "    - `>1`: buffering avec la taille spécifiée\n",
    "    - `-1`: buffering par défaut\n",
    "- `encoding`: le mode d'encodage du fichier\n",
    "- `errors`: le mode de gestion des erreurs\n",
    "- `newline`: le mode de gestion des sauts de ligne\n",
    "- `closefd`: le mode de fermeture du fichier\n",
    "- `opener`: le mode d'ouverture du fichier\n",
    "\n",
    "La fonction `open()` retourne un objet de type `file`. On peut utiliser cet objet pour lire, écrire et modifier le fichier.\n",
    "\n",
    "> **Note**: Nous allons utiliser le fichier stocké dans `./files/test.txt` dans ce `Jupyter Notebook`.\n"
   ]
  },
  {
   "cell_type": "code",
   "execution_count": 21,
   "id": "74dbde33",
   "metadata": {},
   "outputs": [],
   "source": [
    "TEST_FILE_PATH = \"./files/test.txt\""
   ]
  },
  {
   "cell_type": "code",
   "execution_count": 22,
   "id": "aba3985c",
   "metadata": {},
   "outputs": [],
   "source": [
    "# open file\n",
    "file1 = open(\"./files/test.txt\")\n",
    "\n",
    "# Explicit mode declaration\n",
    "file2 = open(TEST_FILE_PATH, \"r\")"
   ]
  },
  {
   "cell_type": "markdown",
   "id": "7acdfaec",
   "metadata": {},
   "source": [
    "Ici, nous avons crée un objet `file1` qui est associé au fichier `test.txt`. Par défaut s'il n'est pas spécifié, le mode d'ouverture est `r` (read). On peut spécifier le mode d'ouverture en utilisant le paramètre `mode` de la fonction `open()`."
   ]
  },
  {
   "cell_type": "markdown",
   "id": "c44c1373",
   "metadata": {},
   "source": [
    "### Différents modes d'ouverture\n",
    "\n",
    "| Mode | Description |\n",
    "| --- | --- |\n",
    "| `r` | Ouvre un fichier en lecture seule. C'est le mode par défaut. |\n",
    "| `w` | Ouvre un fichier en écriture seule. Ecrase le fichier s'il existe. Crée un nouveau fichier sinon. |\n",
    "| `a` | Ouvre un fichier en écriture seule. Ajoute le contenu à la fin du fichier s'il existe. Crée un nouveau fichier sinon. |\n",
    "| `x` | Ouvre un fichier en écriture seule. Crée un nouveau fichier. Retourne une erreur si le fichier existe déjà. |\n",
    "| `t` | Ouvre un fichier en mode texte. C'est le mode par défaut. |\n",
    "| `+` | Ouvre un fichier en lecture et écriture. |\n",
    "| `b` | Ouvre un fichier en mode binaire. |"
   ]
  },
  {
   "cell_type": "markdown",
   "id": "da87dd19",
   "metadata": {},
   "source": [
    "```python\n",
    "file1 = open(TEST_FILE_PATH)      # equivalent to 'r' or 'rt'\n",
    "file1 = open(TEST_FILE_PATH,'w')  # write in text mode\n",
    "file1 = open(TEST_FILE_PATH,'r+b') # read and write in binary mode\n",
    "```"
   ]
  },
  {
   "cell_type": "markdown",
   "id": "cf56e26c",
   "metadata": {},
   "source": [
    "## Read file\n",
    "\n",
    "Une fois le fichier ouvert, on peut lire son contenu en utilisant la méthode `read()` de l'objet `file`. La méthode `read()` retourne le contenu du fichier sous forme de chaîne de caractères. La syntaxe de la méthode `read()` est la suivante:\n",
    "\n",
    "```python\n",
    "file.read(size=-1)\n",
    "```\n",
    "\n",
    "La méthode `read()` prend un paramètre optionnel `size` qui indique le nombre maximum de caractères à lire. Si le paramètre `size` n'est pas spécifié, la méthode `read()` lit tout le contenu du fichier."
   ]
  },
  {
   "cell_type": "code",
   "execution_count": 23,
   "id": "5521440e",
   "metadata": {},
   "outputs": [
    {
     "name": "stdout",
     "output_type": "stream",
     "text": [
      "This is a test file.\n",
      "Hello from the test file.\n"
     ]
    }
   ],
   "source": [
    "# open a file\n",
    "file11 = open(TEST_FILE_PATH, \"r\")\n",
    "\n",
    "# read the file\n",
    "read_content = file11.read()\n",
    "print(read_content)"
   ]
  },
  {
   "cell_type": "markdown",
   "id": "2b0c988d",
   "metadata": {},
   "source": [
    "## Closing file\n",
    "\n",
    "Quand nous avons terminé de travailler avec un fichier, il est important de le fermer. La méthode `close()` de l'objet `file` permet de fermer un fichier et de libérer la resource. La syntaxe de la méthode `close()` est la suivante:\n",
    "\n",
    "```python\n",
    "file.close()\n",
    "```"
   ]
  },
  {
   "cell_type": "code",
   "execution_count": 25,
   "id": "479d76a8",
   "metadata": {},
   "outputs": [
    {
     "name": "stdout",
     "output_type": "stream",
     "text": [
      "This is a test file.\n",
      "Hello from the test file.\n"
     ]
    }
   ],
   "source": [
    "# open a file\n",
    "file1 = open(TEST_FILE_PATH, \"r\")\n",
    "\n",
    "# read the file\n",
    "read_content = file1.read()\n",
    "print(read_content)\n",
    "\n",
    "# close the file\n",
    "file1.close()"
   ]
  },
  {
   "cell_type": "markdown",
   "id": "320e96e8",
   "metadata": {},
   "source": [
    "> **Note**: Apres avoir utilisé le fichier, il est important de le fermer. C'est une bonne pratique en programmation."
   ]
  },
  {
   "cell_type": "markdown",
   "id": "c1500bd1",
   "metadata": {},
   "source": [
    "## with...open syntax\n",
    "\n",
    "La syntaxe `with...open` permet d'ouvrir un fichier et de le fermer automatiquement après avoir terminé de travailler avec. La syntaxe de la syntaxe `with...open` est la suivante:\n",
    "\n",
    "```python\n",
    "with open(file, mode='r', buffering=-1, encoding=None, errors=None, newline=None, closefd=True, opener=None) as file:\n",
    "    # do something with file\n",
    "```"
   ]
  },
  {
   "cell_type": "code",
   "execution_count": 27,
   "id": "84f10b0a",
   "metadata": {},
   "outputs": [
    {
     "name": "stdout",
     "output_type": "stream",
     "text": [
      "This is a test file.\n",
      "Hello from the test file.\n"
     ]
    }
   ],
   "source": [
    "with open(TEST_FILE_PATH, \"r\") as file1:\n",
    "    read_content = file1.read()\n",
    "    print(read_content)"
   ]
  },
  {
   "cell_type": "markdown",
   "id": "53a148af",
   "metadata": {},
   "source": [
    "> **Note**: La syntaxe `with...open` est recommandée pour ouvrir un fichier, car elle se charge de fermer le fichier automatiquement."
   ]
  },
  {
   "cell_type": "markdown",
   "id": "40437a3e",
   "metadata": {},
   "source": [
    "## Ecrire dans un fichier\n",
    "\n",
    "Pour écrire dans un fichier, on utilise la méthode `write()` de l'objet `file`. La syntaxe de la méthode `write()` est la suivante:\n",
    "\n",
    "```python\n",
    "file.write(str)\n",
    "```\n",
    "\n",
    "Il y deux choses a se souvenirs quand on écrit dans un fichier en mode `w`:\n",
    "\n",
    "- Si le fichier n'existe pas, il sera crée.\n",
    "- Si le fichier existe, son contenu sera écrasé."
   ]
  },
  {
   "cell_type": "code",
   "execution_count": 29,
   "id": "72f0cfad",
   "metadata": {},
   "outputs": [],
   "source": [
    "with open('./files/test2.txt', 'w') as file2:\n",
    "    # write contents to the test2.txt file\n",
    "    file2.write('Programming is Fun. \\n')\n",
    "    file2.write('Written from Python.')"
   ]
  },
  {
   "cell_type": "markdown",
   "id": "677dcfc8",
   "metadata": {},
   "source": [
    "## Python file methods\n",
    "\n",
    "| Method | Description |\n",
    "| --- | --- |\n",
    "| `close()` | Ferme le fichier. |\n",
    "| `detach()` | Sépare le fichier du buffer. |\n",
    "| `fileno()` | Retourne le numéro du fichier. |\n",
    "| `flush()` | Vide le buffer du fichier. |\n",
    "| `isatty()` | Retourne `True` si le fichier est un terminal. |\n",
    "| `read(n)` | Lit `n` octets du fichier. |\n",
    "| `readable()` | Retourne `True` si le fichier est lisible. |\n",
    "| `readline(n=-1)` | Lit une ligne du fichier. |\n",
    "| `readlines(n=-1)` | Lit `n` lignes du fichier. |\n",
    "| `seek(offset, from=SEEK_SET)` | Change la position du curseur. |\n",
    "| `seekable()` | Retourne `True` si le fichier supporte `seek()`. |\n",
    "| `tell()` | Retourne la position du curseur. |\n",
    "| `truncate(size=None)` | Tronque le fichier à `size` octets. |\n",
    "| `writable()` | Retourne `True` si le fichier est écrivable. |\n",
    "| `write(s)` | Ecrit la chaîne `s` dans le fichier. |\n",
    "| `writelines(lines)` | Ecrit une liste de lignes dans le fichier. |"
   ]
  }
 ],
 "metadata": {
  "kernelspec": {
   "display_name": "Python 3",
   "language": "python",
   "name": "python3"
  },
  "language_info": {
   "codemirror_mode": {
    "name": "ipython",
    "version": 3
   },
   "file_extension": ".py",
   "mimetype": "text/x-python",
   "name": "python",
   "nbconvert_exporter": "python",
   "pygments_lexer": "ipython3",
   "version": "3.9.17"
  }
 },
 "nbformat": 4,
 "nbformat_minor": 5
}
