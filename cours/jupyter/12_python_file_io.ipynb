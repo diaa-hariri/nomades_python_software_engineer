{
 "cells": [
  {
   "cell_type": "markdown",
   "id": "d7f9a40d",
   "metadata": {
    "slideshow": {
     "slide_type": "slide"
    }
   },
   "source": [
    "# Python File I/O\n",
    "## Python file operation\n",
    "\n",
    "Un fichier est un conteneur pour stocker des données. Python a plusieurs fonctions pour créer, lire, mettre à jour et supprimer des fichiers.\n",
    "\n",
    "Pour manipuler un fichier, il faut d'abord l'ouvrir, le modifier (ecrire/lire) puis le fermer. Il est indispensable de fermer un fichier après l'avoir ouvert afin de libérer les ressources associées au fichier."
   ]
  },
  {
   "cell_type": "markdown",
   "id": "1718513a",
   "metadata": {
    "slideshow": {
     "slide_type": "slide"
    }
   },
   "source": [
    "## Ouvrir un fichier en python\n",
    "\n",
    "En python, on peut ouvrir un fichier en utilisant la fonction `open()`. La syntaxe de la fonction `open()` est la suivante:\n",
    "\n",
    "```python\n",
    "open(file, mode='r', buffering=-1, encoding=None, errors=None, newline=None, closefd=True, opener=None)\n",
    "```"
   ]
  },
  {
   "cell_type": "markdown",
   "id": "5107dff7",
   "metadata": {
    "slideshow": {
     "slide_type": "slide"
    }
   },
   "source": [
    "- `file`: le nom du fichier à ouvrir\n",
    "- `mode`: le mode d'ouverture du fichier.\n",
    "- `buffering`: le mode de buffering. Les modes de buffering sont:\n",
    "    - `0`: pas de buffering\n",
    "    - `1`: buffering ligne par ligne\n",
    "    - `>1`: buffering avec la taille spécifiée\n",
    "    - `-1`: buffering par défaut\n",
    "- `encoding`: le mode d'encodage du fichier\n",
    "- `errors`: le mode de gestion des erreurs\n",
    "- `newline`: le mode de gestion des sauts de ligne\n",
    "- `closefd`: le mode de fermeture du fichier\n",
    "- `opener`: le mode d'ouverture du fichier\n",
    "\n",
    "La fonction `open()` retourne un objet de type `file`. On peut utiliser cet objet pour lire, écrire et modifier le fichier."
   ]
  },
  {
   "cell_type": "markdown",
   "id": "9b68f1f2",
   "metadata": {
    "slideshow": {
     "slide_type": "slide"
    }
   },
   "source": [
    "> **Note**: Nous allons utiliser le fichier stocké dans `./files/test.txt` dans ce `Jupyter Notebook`."
   ]
  },
  {
   "cell_type": "code",
   "execution_count": 1,
   "id": "74dbde33",
   "metadata": {
    "slideshow": {
     "slide_type": "-"
    }
   },
   "outputs": [],
   "source": [
    "TEST_FILE_PATH = \"./files/test.txt\""
   ]
  },
  {
   "cell_type": "code",
   "execution_count": 2,
   "id": "aba3985c",
   "metadata": {},
   "outputs": [],
   "source": [
    "# open file\n",
    "file1 = open(\"./files/test.txt\")\n",
    "\n",
    "# Explicit mode declaration\n",
    "file2 = open(TEST_FILE_PATH, \"r\")"
   ]
  },
  {
   "cell_type": "markdown",
   "id": "7acdfaec",
   "metadata": {},
   "source": [
    "Ici, nous avons crée un objet `file1` qui est associé au fichier `test.txt`. Par défaut s'il n'est pas spécifié, le mode d'ouverture est `r` (read). On peut spécifier le mode d'ouverture en utilisant le paramètre `mode` de la fonction `open()`."
   ]
  },
  {
   "cell_type": "markdown",
   "id": "c44c1373",
   "metadata": {
    "slideshow": {
     "slide_type": "slide"
    }
   },
   "source": [
    "### Différents modes d'ouverture\n",
    "\n",
    "| Mode | Description |\n",
    "| --- | --- |\n",
    "| `r` | Ouvre un fichier en lecture seule. C'est le mode par défaut. |\n",
    "| `w` | Ouvre un fichier en écriture seule. Ecrase le fichier s'il existe. Crée un nouveau fichier sinon. |\n",
    "| `a` | Ouvre un fichier en écriture seule. Ajoute le contenu à la fin du fichier s'il existe. Crée un nouveau fichier sinon. |\n",
    "| `x` | Ouvre un fichier en écriture seule. Crée un nouveau fichier. Retourne une erreur si le fichier existe déjà. |\n",
    "| `t` | Ouvre un fichier en mode texte. C'est le mode par défaut. |\n",
    "| `+` | Ouvre un fichier en lecture et écriture. |\n",
    "| `b` | Ouvre un fichier en mode binaire. |"
   ]
  },
  {
   "cell_type": "markdown",
   "id": "da87dd19",
   "metadata": {},
   "source": [
    "```python\n",
    "file1 = open(TEST_FILE_PATH)      # equivalent to 'r' or 'rt'\n",
    "file1 = open(TEST_FILE_PATH,'w')  # write in text mode\n",
    "file1 = open(TEST_FILE_PATH,'r+b') # read and write in binary mode\n",
    "```"
   ]
  },
  {
   "cell_type": "markdown",
   "id": "cf56e26c",
   "metadata": {
    "slideshow": {
     "slide_type": "slide"
    }
   },
   "source": [
    "## Read file\n",
    "\n",
    "Une fois le fichier ouvert, on peut lire son contenu en utilisant la méthode `read()` de l'objet `file`. La méthode `read()` retourne le contenu du fichier sous forme de chaîne de caractères. La syntaxe de la méthode `read()` est la suivante:\n",
    "\n",
    "```python\n",
    "file.read(size=-1)\n",
    "```\n",
    "\n",
    "La méthode `read()` prend un paramètre optionnel `size` qui indique le nombre maximum de caractères à lire. Si le paramètre `size` n'est pas spécifié, la méthode `read()` lit tout le contenu du fichier."
   ]
  },
  {
   "cell_type": "code",
   "execution_count": null,
   "id": "5521440e",
   "metadata": {},
   "outputs": [],
   "source": [
    "# open a file\n",
    "file11 = open(TEST_FILE_PATH, \"r\")\n",
    "\n",
    "# read the file\n",
    "read_content = file11.read()\n",
    "print(read_content)"
   ]
  },
  {
   "cell_type": "markdown",
   "id": "2b0c988d",
   "metadata": {
    "slideshow": {
     "slide_type": "slide"
    }
   },
   "source": [
    "## Closing file\n",
    "\n",
    "Quand nous avons terminé de travailler avec un fichier, il est important de le fermer. La méthode `close()` de l'objet `file` permet de fermer un fichier et de libérer la resource. La syntaxe de la méthode `close()`."
   ]
  },
  {
   "cell_type": "code",
   "execution_count": 3,
   "id": "479d76a8",
   "metadata": {},
   "outputs": [
    {
     "name": "stdout",
     "output_type": "stream",
     "text": [
      "This is a test file.\n",
      "Hello from the test file.\n"
     ]
    }
   ],
   "source": [
    "# open a file\n",
    "file1 = open(TEST_FILE_PATH, \"r\")\n",
    "\n",
    "# read the file\n",
    "read_content = file1.read()\n",
    "print(read_content)\n",
    "\n",
    "# close the file\n",
    "file1.close()"
   ]
  },
  {
   "cell_type": "markdown",
   "id": "320e96e8",
   "metadata": {},
   "source": [
    "> **Note**: Apres avoir utilisé le fichier, il est important de le fermer. C'est une bonne pratique en programmation."
   ]
  },
  {
   "cell_type": "markdown",
   "id": "c1500bd1",
   "metadata": {
    "slideshow": {
     "slide_type": "slide"
    }
   },
   "source": [
    "## with...open syntax\n",
    "\n",
    "La syntaxe `with...open` permet d'ouvrir un fichier et de le fermer automatiquement après avoir terminé de travailler avec. La syntaxe de la syntaxe `with...open` est la suivante:\n",
    "\n",
    "```python\n",
    "with open(file, mode='r', buffering=-1, encoding=None, errors=None, newline=None, closefd=True, opener=None) as file:\n",
    "    # do something with file\n",
    "```"
   ]
  },
  {
   "cell_type": "code",
   "execution_count": null,
   "id": "84f10b0a",
   "metadata": {},
   "outputs": [],
   "source": [
    "with open(TEST_FILE_PATH, \"r\") as file1:\n",
    "    read_content = file1.read()\n",
    "    print(read_content)"
   ]
  },
  {
   "cell_type": "markdown",
   "id": "53a148af",
   "metadata": {},
   "source": [
    "> **Note**: La syntaxe `with...open` est recommandée pour ouvrir un fichier, car elle se charge de fermer le fichier automatiquement."
   ]
  },
  {
   "cell_type": "markdown",
   "id": "40437a3e",
   "metadata": {
    "slideshow": {
     "slide_type": "slide"
    }
   },
   "source": [
    "## Ecrire dans un fichier\n",
    "\n",
    "Pour écrire dans un fichier, on utilise la méthode `write()` de l'objet `file`. La syntaxe de la méthode `write()` est la suivante:\n",
    "\n",
    "```python\n",
    "file.write(str)\n",
    "```\n",
    "\n",
    "Il y deux choses a se souvenirs quand on écrit dans un fichier en mode `w`:\n",
    "\n",
    "- Si le fichier n'existe pas, il sera crée.\n",
    "- Si le fichier existe, son contenu sera écrasé."
   ]
  },
  {
   "cell_type": "code",
   "execution_count": 4,
   "id": "72f0cfad",
   "metadata": {},
   "outputs": [],
   "source": [
    "with open('./files/test2.txt', 'w') as file2:\n",
    "    # write contents to the test2.txt file\n",
    "    file2.write('Programming is Fun. \\n')\n",
    "    file2.write('Written from Python.')"
   ]
  },
  {
   "cell_type": "markdown",
   "id": "677dcfc8",
   "metadata": {
    "slideshow": {
     "slide_type": "slide"
    }
   },
   "source": [
    "## Python file methods\n",
    "\n",
    "| Method | Description |\n",
    "| --- | --- |\n",
    "| `close()` | Ferme le fichier. |\n",
    "| `detach()` | Sépare le fichier du buffer. |\n",
    "| `fileno()` | Retourne le numéro du fichier. |\n",
    "| `flush()` | Vide le buffer du fichier. |\n",
    "| `isatty()` | Retourne `True` si le fichier est un terminal. |\n",
    "| `read(n)` | Lit `n` octets du fichier. |\n",
    "| `readable()` | Retourne `True` si le fichier est lisible. |\n",
    "| `readline(n=-1)` | Lit une ligne du fichier. |\n",
    "| `readlines(n=-1)` | Lit `n` lignes du fichier. |\n",
    "| `seek(offset, from=SEEK_SET)` | Change la position du curseur. |\n",
    "| `seekable()` | Retourne `True` si le fichier supporte `seek()`. |\n",
    "| `tell()` | Retourne la position du curseur. |\n",
    "| `truncate(size=None)` | Tronque le fichier à `size` octets. |\n",
    "| `writable()` | Retourne `True` si le fichier est écrivable. |\n",
    "| `write(s)` | Ecrit la chaîne `s` dans le fichier. |\n",
    "| `writelines(lines)` | Ecrit une liste de lignes dans le fichier. |"
   ]
  },
  {
   "cell_type": "markdown",
   "id": "5ca31cab",
   "metadata": {
    "slideshow": {
     "slide_type": "slide"
    }
   },
   "source": [
    "# CSV file\n",
    "\n",
    "Le type de fichier CSV (Comma Separated Values) est un format de fichier qui permet de stocker des données tabulaires (lignes / colonnes). Chaque ligne du fichier représente une ligne du tableau. Les valeurs de chaque ligne sont séparées par une virgule."
   ]
  },
  {
   "cell_type": "markdown",
   "id": "377110b4",
   "metadata": {
    "slideshow": {
     "slide_type": "slide"
    }
   },
   "source": [
    "## Exemple de fichier CSV\n",
    "\n",
    "| id | name | age | city | uid | pwd |\n",
    "| --- | --- | --- | --- | --- | --- |\n",
    "| 1 | John | 25 | New York | toto | 12345 |\n",
    "| 2 | Jack | 30 |  | titi | 12345 |"
   ]
  },
  {
   "cell_type": "markdown",
   "id": "9ab75611",
   "metadata": {},
   "source": [
    "```csv\n",
    "id,name,age,city,uid,pwd\n",
    "1,John,25,New York,toto,12345\n",
    "2,Jack,30,,titi,12345\n",
    "```\n",
    "\n",
    "Ici, on a un fichier CSV qui contient 4 colonnes: `id`, `name`, `age` et `city`. Chaque ligne du fichier représente une personne. La première ligne du fichier est appelée `header` et contient les noms des colonnes."
   ]
  },
  {
   "cell_type": "markdown",
   "id": "d9c07d81",
   "metadata": {
    "slideshow": {
     "slide_type": "slide"
    }
   },
   "source": [
    "## Le module CSV\n",
    "\n",
    "Python a un module CSV qui permet de lire et d'écrire des fichiers CSV. Le module CSV fournit des classes pour lire et écrire des données tabulaires au format CSV."
   ]
  },
  {
   "cell_type": "markdown",
   "id": "087d9c75",
   "metadata": {
    "slideshow": {
     "slide_type": "slide"
    }
   },
   "source": [
    "## Lire un fichier CSV\n",
    "\n",
    "Pour lire un fichier CSV, on utilise la classe `reader` du module CSV. La classe `reader` permet de lire les données d'un fichier CSV ligne par ligne. La syntaxe de la classe `reader` est la suivante:\n",
    "\n",
    "```python\n",
    "csv.reader(csvfile, dialect='excel', **fmtparams)\n",
    "```\n",
    "\n",
    "La classe `reader` prend un paramètre obligatoire `csvfile` qui est un objet `file` ou une chaîne de caractères qui représente le chemin du fichier CSV. La classe `reader` prend aussi un paramètre optionnel `dialect` qui permet de spécifier le dialecte du fichier CSV. Le paramètre `dialect` prend un objet `Dialect` ou une chaîne de caractères qui représente le nom du dialecte. Il est aussi possible de spécifier des paramètres optionnels en lien avec le dialecte en utilisant le paramètre `fmtparams`."
   ]
  },
  {
   "cell_type": "markdown",
   "id": "0feb00e3",
   "metadata": {
    "slideshow": {
     "slide_type": "subslide"
    }
   },
   "source": [
    "### l'objet Dialect\n",
    "\n",
    "L'objet `Dialect` permet de spécifier le dialecte du fichier CSV. L'objet `Dialect` a les attributs suivants:"
   ]
  },
  {
   "cell_type": "markdown",
   "id": "6e1bc162",
   "metadata": {
    "slideshow": {
     "slide_type": "subslide"
    }
   },
   "source": [
    "| Attribut | Description |\n",
    "| --- | --- |\n",
    "| `delimiter` | Le caractère qui sépare les champs. Par défaut `,`. |\n",
    "| `doublequote` | Si `True`, on utilise deux symboles de citation a la suite, sinon on utilise le caractère d'échapement |\n",
    "| `escapechar` | Le caractère qui échappe les caractères spéciaux. Par défaut `None`. Si `None` l'escaping est désactivé |\n",
    "| `lineterminator` | Le caractère qui termine une ligne. Par défaut `'\\r\\n'`. |\n",
    "| `quotechar` | Le caractère qui entoure les champs. Par défaut `'\"'`. |\n",
    "| `quoting` | Définis comment géré les caractères d'échapement. Les valeurs possibles sont: <ul><li>`csv.QUOTE_ALL`: tous les champs sont entourés de `quotechar`</li><li>`csv.QUOTE_MINIMAL`: seuls les champs qui contiennent des caractères spéciaux sont entourés de `quotechar`</li><li>`csv.QUOTE_NONNUMERIC`: seuls les champs qui ne sont pas des nombres sont entourés de `quotechar`</li><li>`csv.QUOTE_NONE`: aucun champ n'est entouré de `quotechar`</li>Par défaut `QUOTE_MINIMAL`.<ul> |\n",
    "| `skipinitialspace` | Si `True`, les espaces après le délimiteur sont ignorés. Par défaut `True`. |\n",
    "| `strict` | Si `True`, une exception `Error` est levée si le fichier est mal formé. Par défaut `False`. |"
   ]
  },
  {
   "cell_type": "markdown",
   "id": "f220a5a9",
   "metadata": {
    "slideshow": {
     "slide_type": "subslide"
    }
   },
   "source": [
    "### Les diferents Dialect par defaut\n",
    "\n",
    "| Parameter | default | excel | excel-tab | unix |\n",
    "| --- | --- | --- | --- | --- |\n",
    "| delimiter | ',' | ',' | '\\t' | ',' |\n",
    "| doublequote | True | True | True | False |\n",
    "| escapechar | None | None | None | None |\n",
    "| lineterminator | '\\r\\n' | '\\r\\n' | '\\r\\n' | '\\n' |\n",
    "| quotechar | '\"' | '\"' | '\"' | '\"' |\n",
    "| quoting | csv.QUOTE_MINIMAL | csv.QUOTE_MINIMAL | csv.QUOTE_MINIMAL | csv.QUOTE_ALL |\n",
    "| skipinitialspace | False | False | False | False |\n",
    "| strict | False | False | False | False |\n",
    "\n",
    "[Source](https://wellsr.com/python/introduction-to-csv-dialects-with-the-python-csv-module/)"
   ]
  },
  {
   "cell_type": "markdown",
   "id": "9318800d",
   "metadata": {
    "slideshow": {
     "slide_type": "subslide"
    }
   },
   "source": [
    "### Définir un dialecte\n",
    "\n",
    "On peut définir un dialecte en utilisant la fonction `register_dialect()` du module CSV. La syntaxe de la fonction `register_dialect()` est la suivante:\n",
    "\n",
    "```python\n",
    "csv.register_dialect(name, dialect=None, **fmtparams)\n",
    "```\n"
   ]
  },
  {
   "cell_type": "code",
   "execution_count": 8,
   "id": "1e64cf7c",
   "metadata": {
    "slideshow": {
     "slide_type": "slide"
    }
   },
   "outputs": [],
   "source": [
    "CSV_FILE = './files/users.csv'\n",
    "CSV_FILE_EU = './files/users_eu.csv'"
   ]
  },
  {
   "cell_type": "code",
   "execution_count": 9,
   "id": "2a0d6754",
   "metadata": {
    "slideshow": {
     "slide_type": "slide"
    }
   },
   "outputs": [
    {
     "name": "stdout",
     "output_type": "stream",
     "text": [
      "['id', 'name', 'age', 'city', 'uid', 'pwd']\n",
      "['1', 'John', '25', 'New York', 'toto', '12345']\n",
      "['2', 'Jack', '30', '', 'titi', '12345']\n"
     ]
    }
   ],
   "source": [
    "# read csv file using csv module\n",
    "import csv\n",
    "\n",
    "with open(CSV_FILE, 'r') as file:\n",
    "    reader = csv.reader(file)\n",
    "    for row in reader:\n",
    "        print(row)"
   ]
  },
  {
   "cell_type": "code",
   "execution_count": 10,
   "id": "3c690ae8",
   "metadata": {},
   "outputs": [
    {
     "name": "stdout",
     "output_type": "stream",
     "text": [
      "['1', 'John', '25', 'New York', 'toto', '12345']\n",
      "['2', 'Jack', '30', '', 'titi', '12345']\n"
     ]
    }
   ],
   "source": [
    "with open(CSV_FILE, 'r') as file:\n",
    "    reader = csv.reader(file)\n",
    "    next(reader) # skip the first row\n",
    "    for row in reader:\n",
    "        print(row)"
   ]
  },
  {
   "cell_type": "code",
   "execution_count": 11,
   "id": "6de7c293",
   "metadata": {},
   "outputs": [
    {
     "name": "stdout",
     "output_type": "stream",
     "text": [
      "[('id', 'name', 'age', 'city', 'uid', 'pwd'), ('1', 'John', '25', 'New York', 'toto', '12345'), ('2', 'Jack', '30', '', 'titi', '12345')]\n"
     ]
    }
   ],
   "source": [
    "with open(CSV_FILE, 'r') as file:\n",
    "    reader = csv.reader(file)\n",
    "    # use list comprehension to convert each item in the reader object to a tuple\n",
    "    users = [tuple(row) for row in reader]\n",
    "    print(users)"
   ]
  },
  {
   "cell_type": "markdown",
   "id": "bde92f9a",
   "metadata": {
    "slideshow": {
     "slide_type": "slide"
    }
   },
   "source": [
    "## Changer le delimiter\n",
    "\n",
    "On peut changer le délimiteur en utilisant le paramètre `delimiter` de la classe `reader`. Le paramètre `delimiter` prend un caractère qui représente le délimiteur.\n",
    "\n",
    "```python\n",
    "csv.reader(csvfile, delimiter=',')\n",
    "```"
   ]
  },
  {
   "cell_type": "code",
   "execution_count": null,
   "id": "7f256e66",
   "metadata": {},
   "outputs": [],
   "source": [
    "with open(CSV_FILE_EU, 'r') as file:\n",
    "    reader = csv.reader(file)\n",
    "    for row in reader:\n",
    "        print(row)\n",
    "\n",
    "with open(CSV_FILE_EU, 'r') as file:\n",
    "    reader = csv.reader(file, delimiter=';')\n",
    "    for row in reader:\n",
    "        print(row)"
   ]
  },
  {
   "cell_type": "markdown",
   "id": "9276346b",
   "metadata": {
    "slideshow": {
     "slide_type": "slide"
    }
   },
   "source": [
    "## Ecrire dans un fichier CSV\n",
    "\n",
    "Pour écrire dans un fichier CSV, on utilise la classe `writer` du module CSV. La classe `writer` permet d'écrire les données dans un fichier CSV ligne par ligne. La syntaxe de la classe `writer` est la suivante:\n",
    "\n",
    "```python\n",
    "csv.writer(csvfile, dialect='excel', **fmtparams)\n",
    "```\n",
    "\n",
    "La classe `writer` prend un paramètre obligatoire `csvfile` qui est un objet `file` ou une chaîne de caractères qui représente le chemin du fichier CSV. La classe `writer` prend aussi un paramètre optionnel `dialect` qui permet de spécifier le dialecte du fichier CSV. Le paramètre `dialect` prend un objet `Dialect` ou une chaîne de caractères qui représente le nom du dialecte. Il est aussi possible de spécifier des paramètres optionnels en lien avec le dialecte en utilisant le paramètre `fmtparams`."
   ]
  },
  {
   "cell_type": "markdown",
   "id": "05a6af0e",
   "metadata": {
    "slideshow": {
     "slide_type": "slide"
    }
   },
   "source": [
    "### La fonction writerow()\n",
    "\n",
    "La classe `writer` a une méthode `writerow()` qui permet d'écrire une ligne dans le fichier CSV. La syntaxe de la méthode `writerow()` est la suivante:\n",
    "\n",
    "```python\n",
    "csvwriter.writerow(row)\n",
    "```\n",
    "\n",
    "La méthode `writerow()` prend un paramètre `row` qui est un itérable (liste, tuple, dictionnaire, etc.) qui représente une ligne du fichier CSV."
   ]
  },
  {
   "cell_type": "code",
   "execution_count": null,
   "id": "fa374289",
   "metadata": {},
   "outputs": [],
   "source": [
    "# Wrtie to csv file using csv module\n",
    "\n",
    "with open(CSV_FILE, 'r') as file:\n",
    "    reader = csv.reader(file)\n",
    "    users = [tuple(row) for row in reader]\n",
    "\n",
    "    with open(\"./files/users_w.csv\", 'w', newline='') as file:\n",
    "        writer = csv.writer(file)\n",
    "        for user in users:\n",
    "            if user[0] == 'id':\n",
    "                writer.writerow((user[0], user[1], user[2], 'is_active'))\n",
    "            else:\n",
    "                writer.writerow((user[0], user[1], user[2], '1'))"
   ]
  }
 ],
 "metadata": {
  "celltoolbar": "Slideshow",
  "kernelspec": {
   "display_name": "Python 3",
   "language": "python",
   "name": "python3"
  },
  "language_info": {
   "codemirror_mode": {
    "name": "ipython",
    "version": 3
   },
   "file_extension": ".py",
   "mimetype": "text/x-python",
   "name": "python",
   "nbconvert_exporter": "python",
   "pygments_lexer": "ipython3",
   "version": "3.9.17"
  }
 },
 "nbformat": 4,
 "nbformat_minor": 5
}
