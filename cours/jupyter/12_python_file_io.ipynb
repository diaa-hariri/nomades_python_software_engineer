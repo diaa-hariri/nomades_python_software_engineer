{
 "cells": [
  {
   "cell_type": "markdown",
   "id": "d7f9a40d",
   "metadata": {
    "slideshow": {
     "slide_type": "slide"
    }
   },
   "source": [
    "# Python File I/O\n",
    "## Python file operation\n",
    "\n",
    "Un fichier est un conteneur pour stocker des données. Python a plusieurs fonctions pour créer, lire, mettre à jour et supprimer des fichiers.\n",
    "\n",
    "Pour manipuler un fichier, il faut d'abord l'ouvrir, le modifier (ecrire/lire) puis le fermer. Il est indispensable de fermer un fichier après l'avoir ouvert afin de libérer les ressources associées au fichier."
   ]
  },
  {
   "cell_type": "markdown",
   "id": "1718513a",
   "metadata": {
    "slideshow": {
     "slide_type": "slide"
    }
   },
   "source": [
    "## Ouvrir un fichier en python\n",
    "\n",
    "En python, on peut ouvrir un fichier en utilisant la fonction `open()`. La syntaxe de la fonction `open()` est la suivante:\n",
    "\n",
    "```python\n",
    "open(file, mode='r', buffering=-1, encoding=None, errors=None, newline=None, closefd=True, opener=None)\n",
    "```"
   ]
  },
  {
   "cell_type": "markdown",
   "id": "5107dff7",
   "metadata": {
    "slideshow": {
     "slide_type": "slide"
    }
   },
   "source": [
    "- `file`: le nom du fichier à ouvrir\n",
    "- `mode`: le mode d'ouverture du fichier.\n",
    "- `buffering`: le mode de buffering. Les modes de buffering sont:\n",
    "    - `0`: pas de buffering\n",
    "    - `1`: buffering ligne par ligne\n",
    "    - `>1`: buffering avec la taille spécifiée\n",
    "    - `-1`: buffering par défaut\n",
    "- `encoding`: le mode d'encodage du fichier\n",
    "- `errors`: le mode de gestion des erreurs\n",
    "- `newline`: le mode de gestion des sauts de ligne\n",
    "- `closefd`: le mode de fermeture du fichier\n",
    "- `opener`: le mode d'ouverture du fichier\n",
    "\n",
    "La fonction `open()` retourne un objet de type `file`. On peut utiliser cet objet pour lire, écrire et modifier le fichier."
   ]
  },
  {
   "cell_type": "markdown",
   "id": "9b68f1f2",
   "metadata": {
    "slideshow": {
     "slide_type": "slide"
    }
   },
   "source": [
    "> **Note**: Nous allons utiliser le fichier stocké dans `./files/test.txt` dans ce `Jupyter Notebook`."
   ]
  },
  {
   "cell_type": "code",
   "execution_count": null,
   "id": "74dbde33",
   "metadata": {
    "slideshow": {
     "slide_type": "-"
    }
   },
   "outputs": [],
   "source": [
    "TEST_FILE_PATH = \"./files/test.txt\""
   ]
  },
  {
   "cell_type": "code",
   "execution_count": null,
   "id": "aba3985c",
   "metadata": {},
   "outputs": [],
   "source": [
    "# open file\n",
    "file1 = open(\"./files/test.txt\")\n",
    "\n",
    "# Explicit mode declaration\n",
    "file2 = open(TEST_FILE_PATH, \"r\")"
   ]
  },
  {
   "cell_type": "markdown",
   "id": "7acdfaec",
   "metadata": {},
   "source": [
    "Ici, nous avons crée un objet `file1` qui est associé au fichier `test.txt`. Par défaut s'il n'est pas spécifié, le mode d'ouverture est `r` (read). On peut spécifier le mode d'ouverture en utilisant le paramètre `mode` de la fonction `open()`."
   ]
  },
  {
   "cell_type": "markdown",
   "id": "c44c1373",
   "metadata": {
    "slideshow": {
     "slide_type": "slide"
    }
   },
   "source": [
    "### Différents modes d'ouverture\n",
    "\n",
    "| Mode | Description |\n",
    "| --- | --- |\n",
    "| `r` | Ouvre un fichier en lecture seule. C'est le mode par défaut. |\n",
    "| `w` | Ouvre un fichier en écriture seule. Ecrase le fichier s'il existe. Crée un nouveau fichier sinon. |\n",
    "| `a` | Ouvre un fichier en écriture seule. Ajoute le contenu à la fin du fichier s'il existe. Crée un nouveau fichier sinon. |\n",
    "| `x` | Ouvre un fichier en écriture seule. Crée un nouveau fichier. Retourne une erreur si le fichier existe déjà. |\n",
    "| `t` | Ouvre un fichier en mode texte. C'est le mode par défaut. |\n",
    "| `+` | Ouvre un fichier en lecture et écriture. |\n",
    "| `b` | Ouvre un fichier en mode binaire. |"
   ]
  },
  {
   "cell_type": "markdown",
   "id": "da87dd19",
   "metadata": {},
   "source": [
    "```python\n",
    "file1 = open(TEST_FILE_PATH)      # equivalent to 'r' or 'rt'\n",
    "file1 = open(TEST_FILE_PATH,'w')  # write in text mode\n",
    "file1 = open(TEST_FILE_PATH,'r+b') # read and write in binary mode\n",
    "```"
   ]
  },
  {
   "cell_type": "markdown",
   "id": "cf56e26c",
   "metadata": {
    "slideshow": {
     "slide_type": "slide"
    }
   },
   "source": [
    "## Read file\n",
    "\n",
    "Une fois le fichier ouvert, on peut lire son contenu en utilisant la méthode `read()` de l'objet `file`. La méthode `read()` retourne le contenu du fichier sous forme de chaîne de caractères. La syntaxe de la méthode `read()` est la suivante:\n",
    "\n",
    "```python\n",
    "file.read(size=-1)\n",
    "```\n",
    "\n",
    "La méthode `read()` prend un paramètre optionnel `size` qui indique le nombre maximum de caractères à lire. Si le paramètre `size` n'est pas spécifié, la méthode `read()` lit tout le contenu du fichier."
   ]
  },
  {
   "cell_type": "code",
   "execution_count": null,
   "id": "5521440e",
   "metadata": {},
   "outputs": [],
   "source": [
    "# open a file\n",
    "file11 = open(TEST_FILE_PATH, \"r\")\n",
    "\n",
    "# read the file\n",
    "read_content = file11.read()\n",
    "print(read_content)"
   ]
  },
  {
   "cell_type": "markdown",
   "id": "2b0c988d",
   "metadata": {
    "slideshow": {
     "slide_type": "slide"
    }
   },
   "source": [
    "## Closing file\n",
    "\n",
    "Quand nous avons terminé de travailler avec un fichier, il est important de le fermer. La méthode `close()` de l'objet `file` permet de fermer un fichier et de libérer la resource. La syntaxe de la méthode `close()`."
   ]
  },
  {
   "cell_type": "code",
   "execution_count": null,
   "id": "479d76a8",
   "metadata": {},
   "outputs": [],
   "source": [
    "# open a file\n",
    "file1 = open(TEST_FILE_PATH, \"r\")\n",
    "\n",
    "# read the file\n",
    "read_content = file1.read()\n",
    "print(read_content)\n",
    "\n",
    "# close the file\n",
    "file1.close()"
   ]
  },
  {
   "cell_type": "markdown",
   "id": "320e96e8",
   "metadata": {},
   "source": [
    "> **Note**: Apres avoir utilisé le fichier, il est important de le fermer. C'est une bonne pratique en programmation."
   ]
  },
  {
   "cell_type": "markdown",
   "id": "c1500bd1",
   "metadata": {
    "slideshow": {
     "slide_type": "slide"
    }
   },
   "source": [
    "## with...open syntax\n",
    "\n",
    "La syntaxe `with...open` permet d'ouvrir un fichier et de le fermer automatiquement après avoir terminé de travailler avec. La syntaxe de la syntaxe `with...open` est la suivante:\n",
    "\n",
    "```python\n",
    "with open(file, mode='r', buffering=-1, encoding=None, errors=None, newline=None, closefd=True, opener=None) as file:\n",
    "    # do something with file\n",
    "```"
   ]
  },
  {
   "cell_type": "code",
   "execution_count": null,
   "id": "84f10b0a",
   "metadata": {},
   "outputs": [],
   "source": [
    "with open(TEST_FILE_PATH, \"r\") as file1:\n",
    "    read_content = file1.read()\n",
    "    print(read_content)"
   ]
  },
  {
   "cell_type": "markdown",
   "id": "53a148af",
   "metadata": {},
   "source": [
    "> **Note**: La syntaxe `with...open` est recommandée pour ouvrir un fichier, car elle se charge de fermer le fichier automatiquement."
   ]
  },
  {
   "cell_type": "markdown",
   "id": "40437a3e",
   "metadata": {
    "slideshow": {
     "slide_type": "slide"
    }
   },
   "source": [
    "## Ecrire dans un fichier\n",
    "\n",
    "Pour écrire dans un fichier, on utilise la méthode `write()` de l'objet `file`. La syntaxe de la méthode `write()` est la suivante:\n",
    "\n",
    "```python\n",
    "file.write(str)\n",
    "```\n",
    "\n",
    "Il y deux choses a se souvenirs quand on écrit dans un fichier en mode `w`:\n",
    "\n",
    "- Si le fichier n'existe pas, il sera crée.\n",
    "- Si le fichier existe, son contenu sera écrasé."
   ]
  },
  {
   "cell_type": "code",
   "execution_count": null,
   "id": "72f0cfad",
   "metadata": {},
   "outputs": [],
   "source": [
    "with open('./files/test2.txt', 'w') as file2:\n",
    "    # write contents to the test2.txt file\n",
    "    file2.write('Programming is Fun. \\n')\n",
    "    file2.write('Written from Python.')"
   ]
  },
  {
   "cell_type": "markdown",
   "id": "677dcfc8",
   "metadata": {
    "slideshow": {
     "slide_type": "slide"
    }
   },
   "source": [
    "## Python file methods\n",
    "\n",
    "| Method | Description |\n",
    "| --- | --- |\n",
    "| `close()` | Ferme le fichier. |\n",
    "| `detach()` | Sépare le fichier du buffer. |\n",
    "| `fileno()` | Retourne le numéro du fichier. |\n",
    "| `flush()` | Vide le buffer du fichier. |\n",
    "| `isatty()` | Retourne `True` si le fichier est un terminal. |\n",
    "| `read(n)` | Lit `n` octets du fichier. |\n",
    "| `readable()` | Retourne `True` si le fichier est lisible. |\n",
    "| `readline(n=-1)` | Lit une ligne du fichier. |\n",
    "| `readlines(n=-1)` | Lit `n` lignes du fichier. |\n",
    "| `seek(offset, from=SEEK_SET)` | Change la position du curseur. |\n",
    "| `seekable()` | Retourne `True` si le fichier supporte `seek()`. |\n",
    "| `tell()` | Retourne la position du curseur. |\n",
    "| `truncate(size=None)` | Tronque le fichier à `size` octets. |\n",
    "| `writable()` | Retourne `True` si le fichier est écrivable. |\n",
    "| `write(s)` | Ecrit la chaîne `s` dans le fichier. |\n",
    "| `writelines(lines)` | Ecrit une liste de lignes dans le fichier. |"
   ]
  },
  {
   "cell_type": "markdown",
   "id": "5ca31cab",
   "metadata": {
    "slideshow": {
     "slide_type": "slide"
    }
   },
   "source": [
    "# CSV file\n",
    "\n",
    "Le type de fichier CSV (Comma Separated Values) est un format de fichier qui permet de stocker des données tabulaires (lignes / colonnes). Chaque ligne du fichier représente une ligne du tableau. Les valeurs de chaque ligne sont séparées par une virgule."
   ]
  },
  {
   "cell_type": "markdown",
   "id": "377110b4",
   "metadata": {
    "slideshow": {
     "slide_type": "slide"
    }
   },
   "source": [
    "## Exemple de fichier CSV\n",
    "\n",
    "| id | name | age | city | uid | pwd |\n",
    "| --- | --- | --- | --- | --- | --- |\n",
    "| 1 | John | 25 | New York | toto | 12345 |\n",
    "| 2 | Jack | 30 |  | titi | 12345 |"
   ]
  },
  {
   "cell_type": "markdown",
   "id": "9ab75611",
   "metadata": {},
   "source": [
    "```csv\n",
    "id,name,age,city,uid,pwd\n",
    "1,John,25,New York,toto,12345\n",
    "2,Jack,30,,titi,12345\n",
    "```\n",
    "\n",
    "Ici, on a un fichier CSV qui contient 4 colonnes: `id`, `name`, `age` et `city`. Chaque ligne du fichier représente une personne. La première ligne du fichier est appelée `header` et contient les noms des colonnes."
   ]
  },
  {
   "cell_type": "markdown",
   "id": "d9c07d81",
   "metadata": {
    "slideshow": {
     "slide_type": "slide"
    }
   },
   "source": [
    "## Le module CSV\n",
    "\n",
    "Python a un module CSV qui permet de lire et d'écrire des fichiers CSV. Le module CSV fournit des classes pour lire et écrire des données tabulaires au format CSV."
   ]
  },
  {
   "cell_type": "markdown",
   "id": "087d9c75",
   "metadata": {
    "slideshow": {
     "slide_type": "slide"
    }
   },
   "source": [
    "## Lire un fichier CSV\n",
    "\n",
    "Pour lire un fichier CSV, on utilise la classe `reader` du module CSV. La classe `reader` permet de lire les données d'un fichier CSV ligne par ligne. La syntaxe de la classe `reader` est la suivante:\n",
    "\n",
    "```python\n",
    "csv.reader(csvfile, dialect='excel', **fmtparams)\n",
    "```\n",
    "\n",
    "La classe `reader` prend un paramètre obligatoire `csvfile` qui est un objet `file` ou une chaîne de caractères qui représente le chemin du fichier CSV. La classe `reader` prend aussi un paramètre optionnel `dialect` qui permet de spécifier le dialecte du fichier CSV. Le paramètre `dialect` prend un objet `Dialect` ou une chaîne de caractères qui représente le nom du dialecte. Il est aussi possible de spécifier des paramètres optionnels en lien avec le dialecte en utilisant le paramètre `fmtparams`."
   ]
  },
  {
   "cell_type": "markdown",
   "id": "0feb00e3",
   "metadata": {
    "slideshow": {
     "slide_type": "subslide"
    }
   },
   "source": [
    "### l'objet Dialect\n",
    "\n",
    "L'objet `Dialect` permet de spécifier le dialecte du fichier CSV. L'objet `Dialect` a les attributs suivants:"
   ]
  },
  {
   "cell_type": "markdown",
   "id": "6e1bc162",
   "metadata": {
    "slideshow": {
     "slide_type": "subslide"
    }
   },
   "source": [
    "| Attribut | Description |\n",
    "| --- | --- |\n",
    "| `delimiter` | Le caractère qui sépare les champs. Par défaut `,`. |\n",
    "| `doublequote` | Si `True`, on utilise deux symboles de citation a la suite, sinon on utilise le caractère d'échapement |\n",
    "| `escapechar` | Le caractère qui échappe les caractères spéciaux. Par défaut `None`. Si `None` l'escaping est désactivé |\n",
    "| `lineterminator` | Le caractère qui termine une ligne. Par défaut `'\\r\\n'`. |\n",
    "| `quotechar` | Le caractère qui entoure les champs. Par défaut `'\"'`. |\n",
    "| `quoting` | Définis comment géré les caractères d'échapement. Les valeurs possibles sont: <ul><li>`csv.QUOTE_ALL`: tous les champs sont entourés de `quotechar`</li><li>`csv.QUOTE_MINIMAL`: seuls les champs qui contiennent des caractères spéciaux sont entourés de `quotechar`</li><li>`csv.QUOTE_NONNUMERIC`: seuls les champs qui ne sont pas des nombres sont entourés de `quotechar`</li><li>`csv.QUOTE_NONE`: aucun champ n'est entouré de `quotechar`</li>Par défaut `QUOTE_MINIMAL`.<ul> |\n",
    "| `skipinitialspace` | Si `True`, les espaces après le délimiteur sont ignorés. Par défaut `True`. |\n",
    "| `strict` | Si `True`, une exception `Error` est levée si le fichier est mal formé. Par défaut `False`. |"
   ]
  },
  {
   "cell_type": "markdown",
   "id": "f220a5a9",
   "metadata": {
    "slideshow": {
     "slide_type": "subslide"
    }
   },
   "source": [
    "### Les diferents Dialect par defaut\n",
    "\n",
    "| Parameter | default | excel | excel-tab | unix |\n",
    "| --- | --- | --- | --- | --- |\n",
    "| delimiter | ',' | ',' | '\\t' | ',' |\n",
    "| doublequote | True | True | True | False |\n",
    "| escapechar | None | None | None | None |\n",
    "| lineterminator | '\\r\\n' | '\\r\\n' | '\\r\\n' | '\\n' |\n",
    "| quotechar | '\"' | '\"' | '\"' | '\"' |\n",
    "| quoting | csv.QUOTE_MINIMAL | csv.QUOTE_MINIMAL | csv.QUOTE_MINIMAL | csv.QUOTE_ALL |\n",
    "| skipinitialspace | False | False | False | False |\n",
    "| strict | False | False | False | False |\n",
    "\n",
    "[Source](https://wellsr.com/python/introduction-to-csv-dialects-with-the-python-csv-module/)"
   ]
  },
  {
   "cell_type": "markdown",
   "id": "9318800d",
   "metadata": {
    "slideshow": {
     "slide_type": "subslide"
    }
   },
   "source": [
    "### Définir un dialecte\n",
    "\n",
    "On peut définir un dialecte en utilisant la fonction `register_dialect()` du module CSV. La syntaxe de la fonction `register_dialect()` est la suivante:\n",
    "\n",
    "```python\n",
    "csv.register_dialect(name, dialect=None, **fmtparams)\n",
    "```\n"
   ]
  },
  {
   "cell_type": "code",
   "execution_count": null,
   "id": "1e64cf7c",
   "metadata": {
    "slideshow": {
     "slide_type": "slide"
    }
   },
   "outputs": [],
   "source": [
    "CSV_FILE = './files/users.csv'\n",
    "CSV_FILE_EU = './files/users_eu.csv'"
   ]
  },
  {
   "cell_type": "code",
   "execution_count": null,
   "id": "2a0d6754",
   "metadata": {
    "slideshow": {
     "slide_type": "slide"
    }
   },
   "outputs": [],
   "source": [
    "# read csv file using csv module\n",
    "import csv\n",
    "\n",
    "with open(CSV_FILE, 'r') as file:\n",
    "    reader = csv.reader(file)\n",
    "    for row in reader:\n",
    "        print(row)"
   ]
  },
  {
   "cell_type": "code",
   "execution_count": null,
   "id": "3c690ae8",
   "metadata": {},
   "outputs": [],
   "source": [
    "with open(CSV_FILE, 'r') as file:\n",
    "    reader = csv.reader(file)\n",
    "    next(reader) # skip the first row\n",
    "    for row in reader:\n",
    "        print(row)"
   ]
  },
  {
   "cell_type": "code",
   "execution_count": null,
   "id": "6de7c293",
   "metadata": {},
   "outputs": [],
   "source": [
    "with open(CSV_FILE, 'r') as file:\n",
    "    reader = csv.reader(file)\n",
    "    # use list comprehension to convert each item in the reader object to a tuple\n",
    "    users = [tuple(row) for row in reader]\n",
    "    print(users)"
   ]
  },
  {
   "cell_type": "markdown",
   "id": "bde92f9a",
   "metadata": {
    "slideshow": {
     "slide_type": "slide"
    }
   },
   "source": [
    "## Changer le delimiter\n",
    "\n",
    "On peut changer le délimiteur en utilisant le paramètre `delimiter` de la classe `reader`. Le paramètre `delimiter` prend un caractère qui représente le délimiteur.\n",
    "\n",
    "```python\n",
    "csv.reader(csvfile, delimiter=',')\n",
    "```"
   ]
  },
  {
   "cell_type": "code",
   "execution_count": null,
   "id": "7f256e66",
   "metadata": {},
   "outputs": [],
   "source": [
    "with open(CSV_FILE_EU, 'r') as file:\n",
    "    reader = csv.reader(file)\n",
    "    for row in reader:\n",
    "        print(row)\n",
    "\n",
    "with open(CSV_FILE_EU, 'r') as file:\n",
    "    reader = csv.reader(file, delimiter=';')\n",
    "    for row in reader:\n",
    "        print(row)"
   ]
  },
  {
   "cell_type": "markdown",
   "id": "9276346b",
   "metadata": {
    "slideshow": {
     "slide_type": "slide"
    }
   },
   "source": [
    "## Ecrire dans un fichier CSV\n",
    "\n",
    "Pour écrire dans un fichier CSV, on utilise la classe `writer` du module CSV. La classe `writer` permet d'écrire les données dans un fichier CSV ligne par ligne. La syntaxe de la classe `writer` est la suivante:\n",
    "\n",
    "```python\n",
    "csv.writer(csvfile, dialect='excel', **fmtparams)\n",
    "```\n",
    "\n",
    "La classe `writer` prend un paramètre obligatoire `csvfile` qui est un objet `file` ou une chaîne de caractères qui représente le chemin du fichier CSV. La classe `writer` prend aussi un paramètre optionnel `dialect` qui permet de spécifier le dialecte du fichier CSV. Le paramètre `dialect` prend un objet `Dialect` ou une chaîne de caractères qui représente le nom du dialecte. Il est aussi possible de spécifier des paramètres optionnels en lien avec le dialecte en utilisant le paramètre `fmtparams`."
   ]
  },
  {
   "cell_type": "markdown",
   "id": "05a6af0e",
   "metadata": {
    "slideshow": {
     "slide_type": "slide"
    }
   },
   "source": [
    "### La fonction writerow()\n",
    "\n",
    "La classe `writer` a une méthode `writerow()` qui permet d'écrire une ligne dans le fichier CSV. La syntaxe de la méthode `writerow()` est la suivante:\n",
    "\n",
    "```python\n",
    "csvwriter.writerow(row)\n",
    "```\n",
    "\n",
    "La méthode `writerow()` prend un paramètre `row` qui est un itérable (liste, tuple, dictionnaire, etc.) qui représente une ligne du fichier CSV."
   ]
  },
  {
   "cell_type": "code",
   "execution_count": null,
   "id": "fa374289",
   "metadata": {},
   "outputs": [],
   "source": [
    "# Wrtie to csv file using csv module\n",
    "\n",
    "with open(CSV_FILE, 'r') as file:\n",
    "    reader = csv.reader(file)\n",
    "    users = [tuple(row) for row in reader]\n",
    "\n",
    "    with open(\"./files/users_w.csv\", 'w', newline='') as file:\n",
    "        writer = csv.writer(file)\n",
    "        for user in users:\n",
    "            if user[0] == 'id':\n",
    "                writer.writerow((user[0], user[1], user[2], 'is_active'))\n",
    "            else:\n",
    "                writer.writerow((user[0], user[1], user[2], '1'))"
   ]
  },
  {
   "cell_type": "markdown",
   "id": "e61700df",
   "metadata": {
    "slideshow": {
     "slide_type": "slide"
    }
   },
   "source": [
    "# Matplotlib\n",
    "\n",
    "Matplotlib est une bibliothèque de visualisation de données en 2D et 3D. Elle permet de créer des graphiques, des histogrammes, des diagrammes de dispersion, etc. avec quelques lignes de code."
   ]
  },
  {
   "cell_type": "markdown",
   "id": "28e6316a",
   "metadata": {
    "slideshow": {
     "slide_type": "slide"
    }
   },
   "source": [
    "## Installation\n",
    "\n",
    "Pour installer Matplotlib, on utilise la commande suivante:\n",
    "\n",
    "```bash\n",
    "conda install matplotlib\n",
    "```"
   ]
  },
  {
   "cell_type": "markdown",
   "id": "9c5f71f6",
   "metadata": {
    "slideshow": {
     "slide_type": "slide"
    }
   },
   "source": [
    "## Importer Matplotlib\n",
    "\n",
    "Pour utiliser Matplotlib, on doit l'importer dans notre programme. On peut importer Matplotlib en utilisant la commande suivante:\n",
    "Par convention, on importe le module `pyplot` de `Matplotlib` en utilisant l'alias `plt`.\n",
    "\n",
    "```python\n",
    "import matplotlib.pyplot as plt\n",
    "```"
   ]
  },
  {
   "cell_type": "markdown",
   "id": "8698f945",
   "metadata": {
    "slideshow": {
     "slide_type": "slide"
    }
   },
   "source": [
    "## Les graphiques\n",
    "\n",
    "Matplotlib permet de créer différents types de graphiques. On peut créer des graphiques en utilisant la fonction `plot()` du module `pyplot`. La syntaxe de la fonction `plot()` est la suivante:\n",
    "\n",
    "```python\n",
    "plt.plot(x, y, format_string, **kwargs)\n",
    "```\n",
    "\n",
    "La fonction `plot()` prend 3 paramètres obligatoires:\n",
    "\n",
    "- `x`: les valeurs de l'axe des abscisses\n",
    "- `y`: les valeurs de l'axe des ordonnées\n",
    "- `format_string`: une chaîne de caractères qui spécifie le format du graphique\n",
    "\n",
    "La fonction `plot()` prend aussi des paramètres optionnels qui permettent de personnaliser le graphique."
   ]
  },
  {
   "cell_type": "code",
   "execution_count": null,
   "id": "d7f30e87",
   "metadata": {
    "slideshow": {
     "slide_type": "slide"
    }
   },
   "outputs": [],
   "source": [
    "import matplotlib.pyplot as plt\n",
    "\n",
    "x = [1, 2, 3, 4, 5]\n",
    "y = [10, 20, 30, 40, 50]\n",
    "\n",
    "plt.plot(x, y, 'ro')\n",
    "plt.show()"
   ]
  },
  {
   "cell_type": "markdown",
   "id": "fbcf04d3",
   "metadata": {
    "slideshow": {
     "slide_type": "fragment"
    }
   },
   "source": [
    "Ici, on a créé un graphique qui représente les valeurs de `x` en fonction des valeurs de `y`. Le paramètre `format_string` est `'ro'` qui spécifie que le graphique doit être de couleur rouge (`r`) et que les points doivent être représentés par des cercles (`o`)."
   ]
  },
  {
   "cell_type": "markdown",
   "id": "13425e92",
   "metadata": {
    "slideshow": {
     "slide_type": "slide"
    }
   },
   "source": [
    "## Les formats\n",
    "\n",
    "La fonction `plot()` prend un paramètre `format_string` qui permet de spécifier le format du graphique. Le paramètre `format_string` est une chaîne de caractères qui peut avoir jusqu'à 3 caractères. Le premier caractère spécifie la couleur du graphique, le deuxième caractère spécifie le type de ligne et le troisième caractère spécifie le type de marqueur."
   ]
  },
  {
   "cell_type": "markdown",
   "id": "a8d900ec",
   "metadata": {
    "slideshow": {
     "slide_type": "slide"
    }
   },
   "source": [
    "### Les couleurs\n",
    "\n",
    "| Caractère | Couleur |\n",
    "| --- | --- |\n",
    "| `b` | Bleu |\n",
    "| `g` | Vert |\n",
    "| `r` | Rouge |\n",
    "| `c` | Cyan |\n",
    "| `m` | Magenta |\n",
    "| `y` | Jaune |\n",
    "| `k` | Noir |\n",
    "| `w` | Blanc |"
   ]
  },
  {
   "cell_type": "markdown",
   "id": "c4687df6",
   "metadata": {
    "slideshow": {
     "slide_type": "slide"
    }
   },
   "source": [
    "### Les types de ligne\n",
    "\n",
    "| Caractère | Description |\n",
    "| --- | --- |\n",
    "| `-` | Ligne pleine |\n",
    "| `--` | Ligne en pointillés |\n",
    "| `-.` | Ligne en tirets |\n",
    "| `:` | Ligne en pointillés |\n",
    "| `o` | Cercle |\n",
    "| `v` | Triangle vers le bas |\n",
    "| `^` | Triangle vers le haut |\n",
    "| `s` | Carré |\n",
    "| `p` | Pentagone |\n",
    "| `*` | Etoile |\n",
    "| `+` | Plus |\n",
    "| `x` | Croix |\n",
    "| `D` | Diamant |"
   ]
  },
  {
   "cell_type": "code",
   "execution_count": null,
   "id": "89e01db3",
   "metadata": {
    "slideshow": {
     "slide_type": "slide"
    }
   },
   "outputs": [],
   "source": [
    "import matplotlib.pyplot as plt\n",
    "\n",
    "x = [1, 2, 3, 4, 5]\n",
    "y = [10, 20, 30, 40, 50]\n",
    "\n",
    "plt.plot(x, y, 'g--')\n",
    "plt.show()"
   ]
  },
  {
   "cell_type": "markdown",
   "id": "65fe0df7",
   "metadata": {},
   "source": [
    "Ici, on a créé un graphique qui représente les valeurs de `x` en fonction des valeurs de `y`. Le paramètre `format_string` est `'g--'` qui spécifie que le graphique doit être de couleur verte (`g`) et que les points doivent être représentés par des lignes en pointillés (`--`)."
   ]
  },
  {
   "cell_type": "markdown",
   "id": "e33c667b",
   "metadata": {
    "slideshow": {
     "slide_type": "slide"
    }
   },
   "source": [
    "## Les paramètres optionnels\n",
    "\n",
    "La fonction `plot()` prend des paramètres optionnels qui permettent de personnaliser le graphique. Voici les paramètres optionnels les plus utilisés:\n",
    "\n",
    "| Paramètre | Description |\n",
    "| --- | --- |\n",
    "| `alpha` | Définis la transparence du graphique. La valeur doit être entre `0` et `1`. |\n",
    "| `color` | Définis la couleur du graphique. |\n",
    "| `label` | Définis le label du graphique. |\n",
    "| `linewidth` | Définis l'épaisseur de la ligne du graphique. |\n",
    "| `marker` | Définis le type de marqueur du graphique. |\n",
    "| `markersize` | Définis la taille des marqueurs du graphique. |\n",
    "| `linestyle` | Définis le type de ligne du graphique. |\n",
    "| `markeredgecolor` | Définis la couleur des bords des marqueurs du graphique. |\n",
    "| `markeredgewidth` | Définis l'épaisseur des bords des marqueurs du graphique. |\n",
    "| `markerfacecolor` | Définis la couleur du centre des marqueurs du graphique. |\n",
    "| `markerfacecoloralt` | Définis la couleur du centre des marqueurs alternatifs du graphique. |\n",
    "| `markevery` | Définis la fréquence d'affichage des marqueurs du graphique. |\n",
    "| `zorder` | Définis l'ordre d'affichage du graphique. |"
   ]
  },
  {
   "cell_type": "code",
   "execution_count": null,
   "id": "5198a892",
   "metadata": {
    "slideshow": {
     "slide_type": "slide"
    }
   },
   "outputs": [],
   "source": [
    "import matplotlib.pyplot as plt\n",
    "\n",
    "x = [1, 2, 3, 4, 5]\n",
    "y = [10, 20, 30, 40, 50]\n",
    "\n",
    "plt.plot(x, y, color='green', linestyle='dashed', linewidth=2, marker='o', markerfacecolor='blue', markersize=12)\n",
    "\n",
    "plt.xlabel('x - axis')\n",
    "plt.ylabel('y - axis')\n",
    "\n",
    "plt.title('My first graph!')\n",
    "\n",
    "plt.show()"
   ]
  },
  {
   "cell_type": "markdown",
   "id": "fe76ac81",
   "metadata": {
    "slideshow": {
     "slide_type": "slide"
    }
   },
   "source": [
    "## Les labels\n",
    "\n",
    "On peut ajouter des labels sur les axes du graphique en utilisant les fonctions `xlabel()` et `ylabel()` du module `pyplot`. La fonction `xlabel()` permet d'ajouter un label sur l'axe des abscisses. La fonction `ylabel()` permet d'ajouter un label sur l'axe des ordonnées. La syntaxe de ces fonctions est la suivante:\n",
    "\n",
    "```python\n",
    "plt.xlabel(label, fontdict=None, labelpad=None, **kwargs) # xlabel\n",
    "plt.ylabel(label, fontdict=None, labelpad=None, **kwargs) # ylabel\n",
    "```\n",
    "\n",
    "Les fonctions `xlabel()` et `ylabel()` prennent un paramètre `label` qui est une chaîne de caractères qui représente le label. Les fonctions `xlabel()` et `ylabel()` prennent aussi des paramètres optionnels qui permettent de personnaliser le label."
   ]
  },
  {
   "cell_type": "markdown",
   "id": "e7c48b2d",
   "metadata": {
    "slideshow": {
     "slide_type": "slide"
    }
   },
   "source": [
    "## Le titre\n",
    "\n",
    "On peut ajouter un titre au graphique en utilisant la fonction `title()` du module `pyplot`. La fonction `title()` permet d'ajouter un titre au graphique. La syntaxe de la fonction `title()` est la suivante:\n",
    "\n",
    "```python\n",
    "plt.title(label, fontdict=None, loc=None, pad=None, **kwargs)\n",
    "```\n",
    "\n",
    "La fonction `title()` prend un paramètre `label` qui est une chaîne de caractères qui représente le titre. La fonction `title()` prend aussi des paramètres optionnels qui permettent de personnaliser le titre."
   ]
  },
  {
   "cell_type": "markdown",
   "id": "0858d5ac",
   "metadata": {
    "slideshow": {
     "slide_type": "slide"
    }
   },
   "source": [
    "## Afficher le graphique\n",
    "\n",
    "Pour afficher le graphique, on utilise la fonction `show()` du module `pyplot`. La fonction `show()` permet d'afficher le graphique. La syntaxe de la fonction `show()` est la suivante:\n",
    "\n",
    "```python\n",
    "plt.show(block=None)\n",
    "```\n",
    "\n",
    "La fonction `show()` prend un paramètre optionnel `block` qui permet de spécifier si le programme doit être bloqué pendant l'affichage du graphique. Si `block` est `True`, le programme est bloqué pendant l'affichage du graphique. La fonction `show()` affiche une nouvelle fenêtre qui contient le graphique."
   ]
  },
  {
   "cell_type": "markdown",
   "id": "b3611dbb",
   "metadata": {
    "slideshow": {
     "slide_type": "slide"
    }
   },
   "source": [
    "## Sauvegarder le graphique\n",
    "\n",
    "On peut sauvegarder le graphique dans un fichier en utilisant la fonction `savefig()` du module `pyplot`. La fonction `savefig()` permet de sauvegarder le graphique dans un fichier. La syntaxe de la fonction `savefig()` est la suivante:\n",
    "\n",
    "```python\n",
    "plt.savefig(fname, dpi=None, facecolor='w', edgecolor='w', orientation='portrait', papertype=None, format=None, transparent=False, bbox_inches=None, pad_inches=0.1, metadata=None)\n",
    "```\n",
    "\n",
    "La fonction `savefig()` prend un paramètre `fname` qui est une chaîne de caractères qui représente le chemin du fichier. La fonction `savefig()` prend aussi des paramètres optionnels qui permettent de personnaliser le fichier."
   ]
  },
  {
   "cell_type": "markdown",
   "id": "9a0655db",
   "metadata": {
    "slideshow": {
     "slide_type": "slide"
    }
   },
   "source": [
    "## Les histogrammes\n",
    "\n",
    "Un histogramme est un graphique qui permet de représenter la distribution des données. Un histogramme est composé de plusieurs rectangles qui représentent la distribution des données. La largeur de chaque rectangle est proportionnelle à l'intervalle de la valeur qu'il représente. La hauteur de chaque rectangle est proportionnelle au nombre de valeurs qu'il représente.\n",
    "On peut créer un histogramme en utilisant la fonction `hist()` du module `pyplot`. La syntaxe de la fonction `hist()` est la suivante:\n",
    "\n",
    "```python\n",
    "plt.hist(x, bins=None, range=None, density=None, weights=None, cumulative=False, bottom=None, histtype='bar', align='mid', orientation='vertical', rwidth=None, log=False, color=None, label=None, stacked=False, normed=None, *, data=None, **kwargs)\n",
    "```\n",
    "\n",
    "La fonction `hist()` prend un paramètre `x` qui est une liste de valeurs qui représente les données. La fonction `hist()` prend aussi des paramètres optionnels qui permettent de personnaliser l'histogramme."
   ]
  },
  {
   "cell_type": "code",
   "execution_count": 9,
   "id": "069c4af9",
   "metadata": {
    "slideshow": {
     "slide_type": "subslide"
    }
   },
   "outputs": [
    {
     "data": {
      "text/plain": [
       "(array([2.0000e+00, 2.6000e+01, 1.3900e+02, 4.6900e+02, 1.4830e+03,\n",
       "        3.8540e+03, 7.7000e+03, 1.2892e+04, 1.7262e+04, 1.8564e+04,\n",
       "        1.5834e+04, 1.1132e+04, 6.2840e+03, 2.8920e+03, 1.0600e+03,\n",
       "        3.2200e+02, 6.3000e+01, 1.5000e+01, 6.0000e+00, 1.0000e+00]),\n",
       " array([-4.38911458, -3.91929709, -3.4494796 , -2.97966211, -2.50984462,\n",
       "        -2.04002713, -1.57020964, -1.10039215, -0.63057466, -0.16075717,\n",
       "         0.30906032,  0.77887781,  1.24869531,  1.7185128 ,  2.18833029,\n",
       "         2.65814778,  3.12796527,  3.59778276,  4.06760025,  4.53741774,\n",
       "         5.00723523]),\n",
       " <BarContainer object of 20 artists>)"
      ]
     },
     "execution_count": 9,
     "metadata": {},
     "output_type": "execute_result"
    },
    {
     "data": {
      "image/png": "[encoded data removed]",
      "text/plain": [
       "<Figure size 432x288 with 1 Axes>"
      ]
     },
     "metadata": {
      "needs_background": "light"
     },
     "output_type": "display_data"
    }
   ],
   "source": [
    "import matplotlib.pyplot as plt\n",
    "import numpy as np\n",
    "\n",
    "rng = np.random.default_rng(seed=42)\n",
    "\n",
    "N_points = 100000\n",
    "n_bins = 20\n",
    "\n",
    "# Generate two normal distributions\n",
    "dist1 = rng.standard_normal(N_points)\n",
    "\n",
    "#fig, axs = plt.subplots(1, 2, sharey=True, tight_layout=True)\n",
    "\n",
    "# We can set the number of bins with the *bins* keyword argument.\n",
    "plt.hist(dist1, bins=n_bins)"
   ]
  },
  {
   "cell_type": "markdown",
   "id": "67eedd73",
   "metadata": {
    "slideshow": {
     "slide_type": "subslide"
    }
   },
   "source": [
    "## Les diagrammes de dispersion\n",
    "\n",
    "Un diagramme de dispersion est un graphique qui permet de représenter la relation entre deux variables. Un diagramme de dispersion est composé de points qui représentent les valeurs des deux variables. On peut créer un diagramme de dispersion en utilisant la fonction `scatter()` du module `pyplot`. La syntaxe de la fonction `scatter()` est la suivante:\n",
    "\n",
    "```python\n",
    "plt.scatter(x, y, s=None, c=None, marker=None, cmap=None, norm=None, vmin=None, vmax=None, alpha=None, linewidths=None, verts=None, edgecolors=None, *, plotnonfinite=False, data=None, **kwargs)\n",
    "```\n",
    "\n",
    "La fonction `scatter()` prend deux paramètres `x` et `y` qui sont des listes de valeurs qui représentent les données. La fonction `scatter()` prend aussi des paramètres optionnels qui permettent de personnaliser le diagramme de dispersion."
   ]
  },
  {
   "cell_type": "code",
   "execution_count": 7,
   "id": "c1819b51",
   "metadata": {
    "slideshow": {
     "slide_type": "subslide"
    }
   },
   "outputs": [
    {
     "data": {
      "text/plain": [
       "Text(0.5, 1.0, 'Switzerland density in 2000')"
      ]
     },
     "execution_count": 7,
     "metadata": {},
     "output_type": "execute_result"
    },
    {
     "data": {
      "image/png": "[encoded data removed]",
      "text/plain": [
       "<Figure size 432x288 with 1 Axes>"
      ]
     },
     "metadata": {
      "needs_background": "light"
     },
     "output_type": "display_data"
    }
   ],
   "source": [
    "import pandas as pd\n",
    "import matplotlib.pyplot as plt\n",
    "\n",
    "data = pd.read_csv(\"data/swiss_all.csv\")\n",
    "\n",
    "plt.scatter(data[data[\"year\"]==2000]['X'],data[data[\"year\"]==2000]['Y'],s=1,c=data[data[\"year\"]==2000]['Z'],vmax=1000)\n",
    "plt.xlabel('Latitude')\n",
    "plt.ylabel('Longitude')\n",
    "plt.title('Switzerland density in 2000')"
   ]
  },
  {
   "cell_type": "markdown",
   "id": "ec5307fc",
   "metadata": {
    "slideshow": {
     "slide_type": "subslide"
    }
   },
   "source": [
    "Ici, on a créé un diagramme de dispersion qui représente la densité de population en suisse"
   ]
  },
  {
   "cell_type": "markdown",
   "id": "b28dba21",
   "metadata": {
    "slideshow": {
     "slide_type": "subslide"
    }
   },
   "source": [
    "## Les barres\n",
    "\n",
    "Un graphique en barres est un graphique qui permet de représenter des données sous forme de barres. Un graphique en barres est composé de plusieurs barres qui représentent les données. La hauteur de chaque barre est proportionnelle à la valeur qu'elle représente. On peut créer un graphique en barres en utilisant la fonction `bar()` du module `pyplot`. La syntaxe de la fonction `bar()` est la suivante:\n",
    "\n",
    "```python\n",
    "plt.bar(x, height, width=0.8, bottom=None, *, align='center', data=None, **kwargs)\n",
    "```\n",
    "\n",
    "La fonction `bar()` prend deux paramètres `x` et `height` qui sont des listes de valeurs qui représentent les données. La fonction `bar()` prend aussi des paramètres optionnels qui permettent de personnaliser le graphique en barres."
   ]
  },
  {
   "cell_type": "code",
   "execution_count": 8,
   "id": "6326adb4",
   "metadata": {
    "slideshow": {
     "slide_type": "subslide"
    }
   },
   "outputs": [
    {
     "data": {
      "image/png": "[encoded data removed]",
      "text/plain": [
       "<Figure size 432x288 with 1 Axes>"
      ]
     },
     "metadata": {
      "needs_background": "light"
     },
     "output_type": "display_data"
    }
   ],
   "source": [
    "import matplotlib.pyplot as plt\n",
    "\n",
    "x = [1, 2, 3, 4, 5]\n",
    "y = [10, 20, 30, 40, 50]\n",
    "\n",
    "plt.bar(x, y, tick_label=['one', 'two', 'three', 'four', 'five'])\n",
    "\n",
    "plt.show()"
   ]
  },
  {
   "cell_type": "markdown",
   "id": "90ebd47e",
   "metadata": {
    "slideshow": {
     "slide_type": "subslide"
    }
   },
   "source": [
    "Ici, on a créé un graphique en barres qui représente les valeurs de `x` en fonction des valeurs de `y`."
   ]
  },
  {
   "cell_type": "markdown",
   "id": "0fbccb5f",
   "metadata": {
    "slideshow": {
     "slide_type": "subslide"
    }
   },
   "source": [
    "## Les diagrammes circulaires\n",
    "\n",
    "Un diagramme circulaire est un graphique qui permet de représenter des données sous forme de secteurs. Un diagramme circulaire est composé de plusieurs secteurs qui représentent les données. La taille de chaque secteur est proportionnelle à la valeur qu'il représente. On peut créer un diagramme circulaire en utilisant la fonction `pie()` du module `pyplot`. La syntaxe de la fonction `pie()` est la suivante:\n",
    "\n",
    "```python\n",
    "plt.pie(x, explode=None, labels=None, colors=None, autopct=None, pctdistance=0.6, shadow=False, labeldistance=1.1, startangle=None, radius=None, counterclock=True, wedgeprops=None, textprops=None, center=(0, 0), frame=False, rotatelabels=False, *, data=None)\n",
    "```\n",
    "\n",
    "La fonction `pie()` prend un paramètre `x` qui est une liste de valeurs qui représentent les données. La fonction `pie()` prend aussi des paramètres optionnels qui permettent de personnaliser le diagramme circulaire."
   ]
  },
  {
   "cell_type": "code",
   "execution_count": null,
   "id": "80d35c1f",
   "metadata": {
    "slideshow": {
     "slide_type": "subslide"
    }
   },
   "outputs": [],
   "source": [
    "import matplotlib.pyplot as plt\n",
    "\n",
    "x = [10, 20, 30, 40, 50]\n",
    "labels = ['A', 'B', 'C', 'D', 'E']\n",
    "\n",
    "plt.pie(x, labels=labels)\n",
    "plt.show()"
   ]
  },
  {
   "cell_type": "markdown",
   "id": "36be3699",
   "metadata": {
    "slideshow": {
     "slide_type": "subslide"
    }
   },
   "source": [
    "Ici, on a créé un diagramme circulaire qui représente les valeurs de `x`."
   ]
  },
  {
   "cell_type": "markdown",
   "id": "f418bd59",
   "metadata": {
    "slideshow": {
     "slide_type": "slide"
    }
   },
   "source": [
    "## Les sous-graphiques\n",
    "\n",
    "On peut créer plusieurs graphiques dans une même fenêtre en utilisant la fonction `subplot()` du module `pyplot`. La fonction `subplot()` permet de créer plusieurs graphiques dans une même fenêtre. La syntaxe de la fonction `subplot()` est la suivante:\n",
    "\n",
    "```python\n",
    "plt.subplot(nrows, ncols, index, **kwargs)\n",
    "```\n",
    "\n",
    "La fonction `subplot()` prend 3 paramètres obligatoires:\n",
    "\n",
    "- `nrows`: le nombre de lignes de la fenêtre\n",
    "- `ncols`: le nombre de colonnes de la fenêtre\n",
    "- `index`: l'index du graphique\n",
    "\n",
    "La fonction `subplot()` prend aussi des paramètres optionnels qui permettent de personnaliser le graphique."
   ]
  },
  {
   "cell_type": "code",
   "execution_count": 11,
   "id": "317b8ce5",
   "metadata": {
    "slideshow": {
     "slide_type": "slide"
    }
   },
   "outputs": [
    {
     "data": {
      "image/png": "[encoded data removed]",
      "text/plain": [
       "<Figure size 432x288 with 2 Axes>"
      ]
     },
     "metadata": {
      "needs_background": "light"
     },
     "output_type": "display_data"
    }
   ],
   "source": [
    "import matplotlib.pyplot as plt\n",
    "\n",
    "x = [1, 2, 3, 4, 5]\n",
    "y = [10, 20, 30, 40, 50]\n",
    "\n",
    "plt.subplot(1, 2, 1)\n",
    "plt.plot(x, y)\n",
    "\n",
    "plt.subplot(1, 2, 2)\n",
    "plt.bar(x, y)\n",
    "\n",
    "plt.show()"
   ]
  },
  {
   "cell_type": "markdown",
   "id": "517a07cb",
   "metadata": {
    "slideshow": {
     "slide_type": "fragment"
    }
   },
   "source": [
    "Ici, on a créé deux graphiques dans une même fenêtre. Le premier graphique représente les valeurs de `x` en fonction des valeurs de `y`. Le deuxième graphique représente les valeurs de `x` en fonction des valeurs de `y`."
   ]
  },
  {
   "cell_type": "markdown",
   "id": "b04b1147",
   "metadata": {
    "slideshow": {
     "slide_type": "slide"
    }
   },
   "source": [
    "## Les styles\n",
    "\n",
    "Matplotlib permet de personnaliser les graphiques en utilisant des styles. Un style est un ensemble de propriétés qui permet de personnaliser les graphiques. On peut utiliser un style en utilisant la fonction `style.use()` du module `pyplot`. La fonction `style.use()` permet d'utiliser un style. La syntaxe de la fonction `style.use()` est la suivante:\n",
    "\n",
    "```python\n",
    "plt.style.use(style)\n",
    "```\n",
    "\n",
    "La fonction `style.use()` prend un paramètre `style` qui est une chaîne de caractères qui représente le nom du style."
   ]
  },
  {
   "cell_type": "code",
   "execution_count": null,
   "id": "83645246",
   "metadata": {
    "slideshow": {
     "slide_type": "slide"
    }
   },
   "outputs": [],
   "source": [
    "import matplotlib.pyplot as plt\n",
    "\n",
    "plt.style.use('default')\n",
    "\n",
    "x = [1, 2, 3, 4, 5]\n",
    "y = [10, 20, 30, 40, 50]\n",
    "\n",
    "plt.plot(x, y)\n",
    "plt.show()"
   ]
  },
  {
   "cell_type": "markdown",
   "id": "253a358d",
   "metadata": {
    "slideshow": {
     "slide_type": "slide"
    }
   },
   "source": [
    "Ici, on a créé un graphique qui représente les valeurs de `x` en fonction des valeurs de `y`. Le style utilisé est `ggplot`."
   ]
  },
  {
   "cell_type": "markdown",
   "id": "f815777a",
   "metadata": {
    "slideshow": {
     "slide_type": "slide"
    }
   },
   "source": [
    "#### Differents styles\n",
    "\n",
    "- `default` : le style par défaut\n",
    "- `classic` : le style classique\n",
    "- `ggplot` : le style ggplot\n",
    "- `seaborn` : le style seaborn\n",
    "- `fivethirtyeight` : le style fivethirtyeight\n",
    "- `dark_background` : le style dark_background\n",
    "- `bmh` : le style bmh\n",
    "- `grayscale` : le style grayscale"
   ]
  },
  {
   "cell_type": "markdown",
   "id": "8858bf41",
   "metadata": {
    "slideshow": {
     "slide_type": "slide"
    }
   },
   "source": [
    "### Exemples\n",
    "\n",
    "vous trouverez plus d'exemples [ici](https://matplotlib.org/stable/gallery/index.html)"
   ]
  },
  {
   "cell_type": "markdown",
   "id": "493cc034",
   "metadata": {
    "slideshow": {
     "slide_type": "slide"
    }
   },
   "source": [
    "## Bonus - linear regression\n",
    "\n",
    "La régression linéaire est une technique qui permet de trouver la relation entre deux variables. La régression linéaire est utilisée pour prédire la valeur d'une variable en fonction de la valeur d'une autre variable. On peut créer une régression linéaire en utilisant la fonction `plot()` du module `pyplot`."
   ]
  },
  {
   "cell_type": "code",
   "execution_count": null,
   "id": "88fac846",
   "metadata": {
    "slideshow": {
     "slide_type": "slide"
    }
   },
   "outputs": [],
   "source": [
    "# Python example of a linear regression\n",
    "# Show the relationship between the number of hours studied and the percentage of the score\n",
    "# show the points and the linear regression line\n",
    "\n",
    "import matplotlib.pyplot as plt\n",
    "import numpy as np\n",
    "\n",
    "# hours of study\n",
    "x = np.array([1, 2, 3, 4, 5, 6, 7, 8, 9])\n",
    "\n",
    "# scores\n",
    "y = np.array([60, 50, 70, 80, 90, 100, 90, 95, 100])\n",
    "\n",
    "# linear regression\n",
    "m, b = np.polyfit(x, y, 1)\n",
    "\n",
    "# plot the points\n",
    "plt.scatter(x, y)\n",
    "\n",
    "# plot the linear regression line\n",
    "plt.plot(x, m*x + b)\n",
    "\n",
    "# show the plot\n",
    "plt.show()"
   ]
  },
  {
   "cell_type": "markdown",
   "id": "4e33dc01",
   "metadata": {
    "slideshow": {
     "slide_type": "slide"
    }
   },
   "source": [
    "# Matplotlib - 3D\n",
    "\n",
    "Matplotlib permet de créer des graphiques en 3D. \n",
    "\n",
    "[Exemples](https://matplotlib.org/stable/gallery/mplot3d/index.html)"
   ]
  },
  {
   "cell_type": "code",
   "execution_count": null,
   "id": "494c43da",
   "metadata": {
    "slideshow": {
     "slide_type": "slide"
    }
   },
   "outputs": [],
   "source": [
    "import numpy as np\n",
    "import matplotlib.pyplot as plt\n",
    "\n",
    "\n",
    "ax = plt.subplot(projection='3d')\n",
    "\n",
    "# Prepare arrays x, y, z\n",
    "theta = np.linspace(-4 * np.pi, 4 * np.pi, 100)\n",
    "z = np.linspace(-2, 2, 100)\n",
    "r = z**2 + 1\n",
    "x = r * np.sin(theta)\n",
    "y = r * np.cos(theta)\n",
    "\n",
    "ax.plot(x, y, z, label='parametric curve')\n",
    "ax.legend()\n",
    "\n",
    "plt.show()"
   ]
  },
  {
   "cell_type": "markdown",
   "id": "5247042c",
   "metadata": {
    "slideshow": {
     "slide_type": "slide"
    }
   },
   "source": [
    "Ici, on a créé un graphique en 3D qui représente les valeurs de `x` en fonction des valeurs de `y` et des valeurs de `z`. Le paramètre `format_string` est `'ro'` qui spécifie que le graphique doit être de couleur rouge (`r`) et que les points doivent être représentés par des cercles (`o`)."
   ]
  },
  {
   "cell_type": "markdown",
   "id": "72a31ad0",
   "metadata": {
    "slideshow": {
     "slide_type": "slide"
    }
   },
   "source": [
    "## Point cloud\n",
    "\n",
    "Un point cloud est un graphique en 3D qui permet de représenter des données sous forme de points. Un point cloud est composé de plusieurs points qui représentent les données. On peut créer un point cloud en utilisant la fonction `scatter()` du module `pyplot`. La syntaxe de la fonction `scatter()` est la suivante:\n",
    "\n",
    "```python\n",
    "plt.scatter(x, y, z, s=None, c=None, marker=None, cmap=None, norm=None, vmin=None, vmax=None, alpha=None, linewidths=None, verts=None, edgecolors=None, *, plotnonfinite=False, data=None, **kwargs)\n",
    "```\n",
    "\n",
    "La fonction `scatter()` prend 3 paramètres `x`, `y` et `z` qui sont des listes de valeurs qui représentent les données. La fonction `scatter()` prend aussi des paramètres optionnels qui permettent de personnaliser le point cloud."
   ]
  },
  {
   "cell_type": "code",
   "execution_count": null,
   "id": "67cb6729",
   "metadata": {
    "slideshow": {
     "slide_type": "slide"
    }
   },
   "outputs": [],
   "source": [
    "import matplotlib.pyplot as plt\n",
    "import numpy as np\n",
    "\n",
    "# Fixing random state for reproducibility\n",
    "np.random.seed(19680801)\n",
    "\n",
    "\n",
    "def randrange(n, vmin, vmax):\n",
    "    \"\"\"\n",
    "    Helper function to make an array of random numbers having shape (n, )\n",
    "    with each number distributed Uniform(vmin, vmax).\n",
    "    \"\"\"\n",
    "    return (vmax - vmin)*np.random.rand(n) + vmin\n",
    "\n",
    "fig = plt.figure()\n",
    "ax = fig.add_subplot(projection='3d')\n",
    "\n",
    "n = 100\n",
    "\n",
    "# For each set of style and range settings, plot n random points in the box\n",
    "# defined by x in [23, 32], y in [0, 100], z in [zlow, zhigh].\n",
    "for m, zlow, zhigh in [('o', -50, -25), ('^', -30, -5)]:\n",
    "    xs = randrange(n, 23, 32)\n",
    "    ys = randrange(n, 0, 100)\n",
    "    zs = randrange(n, zlow, zhigh)\n",
    "    ax.scatter(xs, ys, zs, marker=m)\n",
    "\n",
    "ax.set_xlabel('X Label')\n",
    "ax.set_ylabel('Y Label')\n",
    "ax.set_zlabel('Z Label')\n",
    "\n",
    "plt.show()"
   ]
  },
  {
   "cell_type": "markdown",
   "id": "d2bba7ce",
   "metadata": {
    "slideshow": {
     "slide_type": "slide"
    }
   },
   "source": [
    "Ici, on a créé un point cloud qui représente les valeurs de `x` en fonction des valeurs de `y` et des valeurs de `z`."
   ]
  },
  {
   "cell_type": "code",
   "execution_count": null,
   "id": "9e009e9d",
   "metadata": {
    "slideshow": {
     "slide_type": "slide"
    }
   },
   "outputs": [],
   "source": [
    "from mpl_toolkits.mplot3d import axes3d\n",
    "import matplotlib.pyplot as plt\n",
    "from matplotlib import cm\n",
    "\n",
    "ax = plt.figure().add_subplot(projection='3d')\n",
    "X, Y, Z = axes3d.get_test_data(0.05)\n",
    "ax.contourf(X, Y, Z, cmap=cm.coolwarm)\n",
    "\n",
    "plt.show()\n",
    "plt.show()"
   ]
  },
  {
   "cell_type": "code",
   "execution_count": null,
   "id": "e131708c",
   "metadata": {
    "slideshow": {
     "slide_type": "slide"
    }
   },
   "outputs": [],
   "source": [
    "import numpy as np\n",
    "import matplotlib.pyplot as plt\n",
    "from mpl_toolkits.mplot3d import Axes3D\n",
    "\n",
    "# Generate data\n",
    "x = np.linspace(-5, 5, 100)\n",
    "y = np.linspace(-5, 5, 100)\n",
    "X, Y = np.meshgrid(x, y)\n",
    "Z = np.sin(np.sqrt(X**2 + Y**2))\n",
    "\n",
    "# Create figure and axes\n",
    "fig = plt.figure()\n",
    "ax = fig.add_subplot(111, projection='3d')\n",
    "\n",
    "# Plot the surface\n",
    "ax.plot_surface(X, Y, Z, cmap='viridis')\n",
    "\n",
    "# Set labels and title\n",
    "ax.set_xlabel('X')\n",
    "ax.set_ylabel('Y')\n",
    "ax.set_zlabel('Z')\n",
    "ax.set_title('3D Plot')\n",
    "\n",
    "# Enable interactive navigation\n",
    "ax.mouse_init()\n",
    "\n",
    "# Show the plot\n",
    "plt.show()"
   ]
  }
 ],
 "metadata": {
  "celltoolbar": "Slideshow",
  "kernelspec": {
   "display_name": "Python 3",
   "language": "python",
   "name": "python3"
  },
  "language_info": {
   "codemirror_mode": {
    "name": "ipython",
    "version": 3
   },
   "file_extension": ".py",
   "mimetype": "text/x-python",
   "name": "python",
   "nbconvert_exporter": "python",
   "pygments_lexer": "ipython3",
   "version": "3.9.17"
  }
 },
 "nbformat": 4,
 "nbformat_minor": 5
}
