{
 "cells": [
  {
   "cell_type": "markdown",
   "id": "633e3762",
   "metadata": {},
   "source": [
    "# Python Exceptions\n",
    "\n",
    "Une exception est une erreur qui se produit lors de l'exécution d'un programme. Lorsqu'une exception se produit, le programme s'arrête et affiche un message d'erreur."
   ]
  },
  {
   "cell_type": "code",
   "execution_count": 1,
   "id": "831ec69c",
   "metadata": {},
   "outputs": [
    {
     "ename": "ZeroDivisionError",
     "evalue": "division by zero",
     "output_type": "error",
     "traceback": [
      "\u001b[0;31m---------------------------------------------------------------------------\u001b[0m",
      "\u001b[0;31mZeroDivisionError\u001b[0m                         Traceback (most recent call last)",
      "\u001b[0;32m/var/folders/g1/0pjc_q692vd7bj_68s3h608w0000gn/T/ipykernel_17203/2201279309.py\u001b[0m in \u001b[0;36m<module>\u001b[0;34m\u001b[0m\n\u001b[0;32m----> 1\u001b[0;31m \u001b[0;36m7\u001b[0m \u001b[0;34m/\u001b[0m \u001b[0;36m0\u001b[0m\u001b[0;34m\u001b[0m\u001b[0;34m\u001b[0m\u001b[0m\n\u001b[0m",
      "\u001b[0;31mZeroDivisionError\u001b[0m: division by zero"
     ]
    }
   ],
   "source": [
    "7 / 0"
   ]
  },
  {
   "cell_type": "markdown",
   "id": "0da3af79",
   "metadata": {},
   "source": [
    "Le code ci-dessus génère une erreur de type `ZeroDivisionError`, car il est impossible de diviser par zéro."
   ]
  },
  {
   "cell_type": "markdown",
   "id": "d179cfea",
   "metadata": {},
   "source": [
    "## Python Logical Errors (Exceptions)\n",
    "\n",
    "Les exceptions sont des erreurs qui surviennent au `runtime`(apres la compilation).\n",
    "\n",
    "Exemples d'exceptions courantes:\n",
    "\n",
    "- `FileNotFoundError`: fichier inexistant, quand on essaie d'ouvrir un fichier qui n'existe pas\n",
    "- `ImportError`: module inexistant, quand on essaie d'importer un module qui n'existe pas\n",
    "- `IndexError`: index inexistant, quand on essaie d'accéder à un élément d'une liste qui n'existe pas\n",
    "- `KeyError`: clé inexistante, quand on essaie d'accéder à une clé d'un dictionnaire qui n'existe pas\n",
    "- `NameError`: variable inexistante, quand on essaie d'accéder à une variable qui n'existe pas\n",
    "- `TypeError`: type inattendu, quand on essaie d'utiliser un type qui n'est pas attendu\n",
    "- `ValueError`: valeur inattendue, quand on essaie d'utiliser une valeur qui n'est pas attendue\n",
    "- `ZeroDivisionError`: division par zéro, quand on essaie de diviser par zéro"
   ]
  },
  {
   "cell_type": "markdown",
   "id": "20b25331",
   "metadata": {},
   "source": [
    "Lorsqu'une exception se produit, `Python`crée un `Objet` de type `Exception`. Si l'exception n'est pas gérée, le programme s'arrête et affiche un message d'erreur (`traceback`)."
   ]
  },
  {
   "cell_type": "markdown",
   "id": "ba25bb77",
   "metadata": {},
   "source": [
    "## Buikt-in Exceptions\n",
    "\n",
    "`Python` a un ensemble d'exceptions intégrées qui sont déclenchées lorsque des erreurs spécifiques se produisent. Par exemple:\n",
    "\n",
    "| Exception | Cause de l'erreur |\n",
    "| --- | --- |\n",
    "| `AssertionError` | Lorsqu'une instruction `assert` échoue. |\n",
    "| `AttributeError` | Lorsqu'un attribut d'un objet n'existe pas. |\n",
    "| `EOFError` | Lorsque la fonction `input()` atteint la fin du fichier. |\n",
    "| `FloatingPointError` | Lorsqu'une erreur de point flottant se produit. |\n",
    "| `GeneratorExit` | Lorsqu'une instruction `generator.close()` est utilisée. |\n",
    "| `ImportError` | Lorsqu'un module d'importation n'est pas trouvé. |\n",
    "| `IndexError` | Lorsqu'un index de séquence n'est pas valide. |\n",
    "| `KeyError` | Lorsqu'une clé de dictionnaire n'est pas trouvée. |\n",
    "| `KeyboardInterrupt` | Lorsqu'une instruction d'interruption est utilisée. |\n",
    "| `MemoryError` | Lorsqu'une opération manque de mémoire. |\n",
    "| `NameError` | Lorsqu'un nom ou une variable n'est pas trouvé dans l'espace de noms. |\n",
    "| `NotImplementedError` | Lorsqu'une fonctionnalité n'est pas implémentée (encore). |\n",
    "| `OSError` | Lorsqu'une fonctionnalité liée au système d'exploitation échoue. |\n",
    "| `OverflowError` | Lorsqu'un résultat numérique est trop grand. |\n",
    "| `ReferenceError` | Lorsqu'une référence de variable n'est pas trouvée. |\n",
    "| `RuntimeError` | Lorsqu'une erreur inattendue se produit. |\n",
    "| `StopIteration` | Lorsqu'une instruction `next()` d'un générateur ne renvoie pas de valeur. |\n",
    "| `SyntaxError` | Lorsqu'une instruction ne respecte pas la syntaxe. |\n",
    "| `IndentationError` | Lorsqu'une instruction n'est pas indentée correctement. |\n",
    "| `TabError` | Lorsqu'une instruction n'est pas indentée correctement. |\n",
    "| `SystemError` | Lorsqu'une erreur interne se produit. |\n",
    "| `SystemExit` | Lorsqu'une instruction `sys.exit()` est utilisée. |\n",
    "| `TypeError` | Lorsqu'une fonctionnalité ou une opération est appliquée à un type incorrect. |\n",
    "| `UnboundLocalError` | Lorsqu'une variable locale n'est pas trouvée. |\n",
    "| `UnicodeError` | Lorsqu'une erreur Unicode se produit. |\n",
    "| `UnicodeEncodeError` | Lorsqu'une erreur Unicode se produit lors du codage. |\n",
    "| `UnicodeDecodeError` | Lorsqu'une erreur Unicode se produit lors du décodage. |\n",
    "| `UnicodeTranslateError` | Lorsqu'une erreur Unicode se produit lors de la traduction. |\n",
    "| `ValueError` | Lorsqu'une fonctionnalité ou une opération reçoit un argument avec le bon type mais une valeur inappropriée. |\n",
    "| `ZeroDivisionError` | Lorsqu'une division ou un modulo par zéro est effectué pour tous les types numériques. |"
   ]
  },
  {
   "cell_type": "markdown",
   "id": "17d8d119",
   "metadata": {},
   "source": [
    "## Catching Exceptions\n",
    "\n",
    "Pour gérer les exceptions, on utilise l'instruction `try` et `except`.\n",
    "\n",
    "```python\n",
    "try:\n",
    "    # code susceptible de générer une exception\n",
    "except:\n",
    "    # code à exécuter si une exception se produit\n",
    "```\n",
    "\n",
    "L'instruction `try` permet de tester une instruction susceptible de générer une exception. Si aucune exception ne se produit, le bloc `except` est ignoré. Si une exception se produit, le bloc `except` est exécuté."
   ]
  },
  {
   "cell_type": "code",
   "execution_count": 2,
   "id": "5570e60d",
   "metadata": {},
   "outputs": [
    {
     "name": "stdout",
     "output_type": "stream",
     "text": [
      "Une erreur s'est produite\n"
     ]
    }
   ],
   "source": [
    "try:\n",
    "    x = 1 / 0\n",
    "except:\n",
    "    print(\"Une erreur s'est produite\")"
   ]
  },
  {
   "cell_type": "markdown",
   "id": "ca14a255",
   "metadata": {},
   "source": [
    "Ici, Nous essayon de faire une division par `0`. Comme on ne peut pas diviser par `0`, une exception de type `ZeroDivisionError` est générée. Mais cette fois ci, le programme ne s'arrête pas, car l'exception est gérée par l'instruction `try` et `except`. Le bloc `except` est exécuté et le message d'erreur est affiché. Le programme continue son exécution."
   ]
  },
  {
   "cell_type": "markdown",
   "id": "cfc3407e",
   "metadata": {},
   "source": [
    "## Gérer les exceptions spécifiques\n",
    "\n",
    "On peut gérer les exceptions spécifiques en utilisant l'instruction `except` avec le type d'exception.\n",
    "\n",
    "```python\n",
    "try:\n",
    "    # code susceptible de générer une exception\n",
    "except ZeroDivisionError:\n",
    "    # code à exécuter si une exception de type ZeroDivisionError se produit\n",
    "```\n",
    "\n",
    "Ici, on gère l'exception de type `ZeroDivisionError` en utilisant l'instruction `except` avec le type d'exception. Si une exception de type `ZeroDivisionError` se produit, le bloc `except` est exécuté, le programme suit son cours. Si une exception de type différent se produit, le bloc `except` n'est pas exécuté et l'exécution du programme s'arrête."
   ]
  },
  {
   "cell_type": "code",
   "execution_count": 5,
   "id": "d03b6fa0",
   "metadata": {},
   "outputs": [
    {
     "name": "stdout",
     "output_type": "stream",
     "text": [
      "list index out of range\n",
      "Index Out of Range\n",
      "Fin du programme\n"
     ]
    }
   ],
   "source": [
    "try:\n",
    "    x = [2, 4, 6, 8]\n",
    "    print(x[5])\n",
    "    x2 = 1 / 0\n",
    "except ZeroDivisionError:\n",
    "    print(\"Division par zéro\")\n",
    "except IndexError:\n",
    "    print(\"Index Out of Range\")\n",
    "\n",
    "print(\"Fin du programme\")"
   ]
  },
  {
   "cell_type": "markdown",
   "id": "903cb80c",
   "metadata": {},
   "source": [
    "## Python try with else clause\n",
    "\n",
    "On peut utiliser l'instruction `else` avec l'instruction `try` pour exécuter un code spécifique si aucune exception n'est générée.\n",
    "\n",
    "```python\n",
    "try:\n",
    "    # code susceptible de générer une exception\n",
    "except:\n",
    "    # code à exécuter si une exception se produit\n",
    "else:\n",
    "    # code à exécuter si aucune exception ne se produit\n",
    "```\n",
    "\n",
    "Ici, on utilise l'instruction `else` avec l'instruction `try`. Si aucune exception ne se produit, le bloc `else` est exécuté. Si une exception se produit, le bloc `else` n'est pas exécuté."
   ]
  },
  {
   "cell_type": "code",
   "execution_count": 6,
   "id": "9a5e45c0",
   "metadata": {},
   "outputs": [
    {
     "name": "stdout",
     "output_type": "stream",
     "text": [
      "0.08333333333333333\n"
     ]
    }
   ],
   "source": [
    "# program to print the reciprocal of even numbers\n",
    "\n",
    "try:\n",
    "    num = int(input(\"Enter a number: \"))\n",
    "    assert num % 2 == 0\n",
    "except:\n",
    "    print(\"Not an even number!\")\n",
    "else:\n",
    "    reciprocal = 1/num\n",
    "    print(reciprocal)"
   ]
  },
  {
   "cell_type": "markdown",
   "id": "61cb416a",
   "metadata": {},
   "source": [
    "> **Note**: Si une exception se produit, le bloc `else` n'est pas gérée par les instructions `except` précédentes."
   ]
  },
  {
   "cell_type": "markdown",
   "id": "cd16bce2",
   "metadata": {},
   "source": [
    "## Python try with finally clause\n",
    "\n",
    "On peut utiliser l'instruction `finally` avec l'instruction `try` pour exécuter un code spécifique, que l'exception soit générée ou non.\n",
    "\n",
    "```python\n",
    "try:\n",
    "    # code susceptible de générer une exception\n",
    "except:\n",
    "    # code à exécuter si une exception se produit\n",
    "else:\n",
    "    # code à exécuter si aucune exception ne se produit\n",
    "finally:\n",
    "    # code à exécuter dans tous les cas\n",
    "```\n",
    "\n",
    "Ici, on utilise l'instruction `finally` avec l'instruction `try`. Le bloc `finally` est toujours exécuté, que l'exception soit générée ou non. Si une exception se produit, le bloc `finally` est exécuté après le bloc `except`. Si aucune exception ne se produit, le bloc `finally` est exécuté après le bloc `else`."
   ]
  },
  {
   "cell_type": "code",
   "execution_count": 8,
   "id": "ecc1cc15",
   "metadata": {},
   "outputs": [
    {
     "name": "stdout",
     "output_type": "stream",
     "text": [
      "This is a test file.\n",
      "Hello from the test file.\n"
     ]
    }
   ],
   "source": [
    "try:\n",
    "    f = open(\"./files/test.txt\") \n",
    "except FileNotFoundError:\n",
    "    print(\"File not found\")\n",
    "else:\n",
    "    print(f.read())       \n",
    "finally:\n",
    "    f.close()"
   ]
  },
  {
   "cell_type": "markdown",
   "id": "b0781db1",
   "metadata": {},
   "source": [
    "## Python Exception with Arguments\n",
    "\n",
    "On peut passer des arguments à une exception pour définir des informations sur l'exception. Ceci peut être utile pour déterminer la cause de l'exception et la traiter en conséquence.\n",
    "\n",
    "```python\n",
    "try:\n",
    "    # code susceptible de générer une exception\n",
    "except ExceptionType as Argument:\n",
    "    # code à exécuter si une exception se produit\n",
    "```\n",
    "\n",
    "Ici, on utilise l'instruction `except` avec le type d'exception et l'argument. L'argument est lié à l'instance de l'exception et contient des informations sur l'exception."
   ]
  },
  {
   "cell_type": "code",
   "execution_count": 9,
   "id": "82c1a531",
   "metadata": {},
   "outputs": [
    {
     "name": "stdout",
     "output_type": "stream",
     "text": [
      "list index out of range\n"
     ]
    }
   ],
   "source": [
    "try:\n",
    "    l = [1, 2, 3]\n",
    "    print(l[4])\n",
    "except IndexError as e:\n",
    "    print(e)"
   ]
  },
  {
   "cell_type": "markdown",
   "id": "d221a342",
   "metadata": {},
   "source": [
    "## Python Custom Exceptions\n",
    "\n",
    "On peut définir des exceptions personnalisées en définissant une classe qui hérite de la classe `Exception`.\n",
    "\n",
    "Comme les exceptions sont des objets en python, il est possible de créer ses propres exceptions et de les lancer en utilisant l'instruction `raise`."
   ]
  },
  {
   "cell_type": "markdown",
   "id": "86923282",
   "metadata": {},
   "source": [
    "### Defining Custom Exceptions\n",
    "\n",
    "On peut définir des exceptions personnalisées en définissant une classe qui hérite de la classe `Exception`.\n",
    "\n",
    "```python\n",
    "class CustomError(Exception):\n",
    "    ...\n",
    "    pass\n",
    "\n",
    "try:\n",
    "   ...\n",
    "\n",
    "except CustomError:\n",
    "    ...\n",
    "```"
   ]
  },
  {
   "cell_type": "markdown",
   "id": "66874395",
   "metadata": {},
   "source": [
    "> **Note**: Les exceptions personnalisées doivent hériter de la classe `Exception` ou d'une classe dérivée de la classe `Exception`.\n",
    "\n",
    "> **Note**: Quand on dévelope une grande application en python, il est recommandé de définir ses propres exceptions pour gérer les erreurs spécifiques à l'application."
   ]
  },
  {
   "cell_type": "code",
   "execution_count": 15,
   "id": "a7518616",
   "metadata": {},
   "outputs": [
    {
     "name": "stdout",
     "output_type": "stream",
     "text": [
      "Exception occurred: Invalid Age\n"
     ]
    }
   ],
   "source": [
    "# define Python user-defined exceptions\n",
    "class InvalidAgeException(Exception):\n",
    "    \"\"\"Raised when the input age is below 18\"\"\"\n",
    "    pass\n",
    "\n",
    "# you need to guess this number\n",
    "number = 18\n",
    "\n",
    "try:\n",
    "    input_num = int(input(\"Enter a number: \"))\n",
    "    if input_num < number:\n",
    "        raise InvalidAgeException\n",
    "    else:\n",
    "        print(\"Eligible to Vote\")\n",
    "        \n",
    "except InvalidAgeException:\n",
    "    print(\"Exception occurred: Invalid Age\")"
   ]
  },
  {
   "cell_type": "markdown",
   "id": "1af04262",
   "metadata": {},
   "source": [
    "## Customizing Exception Classes\n",
    "\n",
    "On peut personnaliser les exceptions en définissant des attributs pour les classes d'exception.\n",
    "\n",
    "```python\n",
    "class CustomError(Exception):\n",
    "    def __init__(self, value):\n",
    "        self.value = value\n",
    "    def __str__(self):\n",
    "        return repr(self.value)\n",
    "\n",
    "try:\n",
    "  ...\n",
    "\n",
    "except CustomError as e:\n",
    "    print('My exception occurred, value:', e.value)\n",
    "```\n",
    "\n",
    "Ici, on définit l'attribut `value` pour la classe `CustomError`. Cette valeur est définie lors de la création de l'instance de l'exception. On définit également la méthode `__str__()` pour l'affichage de l'exception."
   ]
  },
  {
   "cell_type": "code",
   "execution_count": 20,
   "id": "5e27e41e",
   "metadata": {},
   "outputs": [
    {
     "ename": "SalaryNotInRangeError",
     "evalue": "12 is not in (5000, 15000) range",
     "output_type": "error",
     "traceback": [
      "\u001b[0;31m---------------------------------------------------------------------------\u001b[0m",
      "\u001b[0;31mSalaryNotInRangeError\u001b[0m                     Traceback (most recent call last)",
      "\u001b[0;32m/var/folders/g1/0pjc_q692vd7bj_68s3h608w0000gn/T/ipykernel_17203/3103201977.py\u001b[0m in \u001b[0;36m<module>\u001b[0;34m\u001b[0m\n\u001b[1;32m     15\u001b[0m \u001b[0msalary\u001b[0m \u001b[0;34m=\u001b[0m \u001b[0mint\u001b[0m\u001b[0;34m(\u001b[0m\u001b[0minput\u001b[0m\u001b[0;34m(\u001b[0m\u001b[0;34m\"Enter salary amount: \"\u001b[0m\u001b[0;34m)\u001b[0m\u001b[0;34m)\u001b[0m\u001b[0;34m\u001b[0m\u001b[0;34m\u001b[0m\u001b[0m\n\u001b[1;32m     16\u001b[0m \u001b[0;32mif\u001b[0m \u001b[0;32mnot\u001b[0m \u001b[0;36m5000\u001b[0m \u001b[0;34m<\u001b[0m \u001b[0msalary\u001b[0m \u001b[0;34m<\u001b[0m \u001b[0;36m15000\u001b[0m\u001b[0;34m:\u001b[0m\u001b[0;34m\u001b[0m\u001b[0;34m\u001b[0m\u001b[0m\n\u001b[0;32m---> 17\u001b[0;31m     \u001b[0;32mraise\u001b[0m \u001b[0mSalaryNotInRangeError\u001b[0m\u001b[0;34m(\u001b[0m\u001b[0msalary\u001b[0m\u001b[0;34m)\u001b[0m\u001b[0;34m\u001b[0m\u001b[0;34m\u001b[0m\u001b[0m\n\u001b[0m\u001b[1;32m     18\u001b[0m \u001b[0;34m\u001b[0m\u001b[0m\n\u001b[1;32m     19\u001b[0m \u001b[0;32mtry\u001b[0m\u001b[0;34m:\u001b[0m\u001b[0;34m\u001b[0m\u001b[0;34m\u001b[0m\u001b[0m\n",
      "\u001b[0;31mSalaryNotInRangeError\u001b[0m: 12 is not in (5000, 15000) range"
     ]
    }
   ],
   "source": [
    "class SalaryNotInRangeError(Exception):\n",
    "    \"\"\"Exception raised for errors in the input salary.\n",
    "\n",
    "    Attributes:\n",
    "        salary -- input salary which caused the error\n",
    "        message -- explanation of the error\n",
    "    \"\"\"\n",
    "\n",
    "    def __init__(self, salary, message=\"is not in (5000, 15000) range\"):\n",
    "        self.salary = salary\n",
    "        self.message = f\"{salary} {message}\"\n",
    "        super().__init__(self.message)\n",
    "\n",
    "\n",
    "salary = int(input(\"Enter salary amount: \"))\n",
    "if not 5000 < salary < 15000:\n",
    "    raise SalaryNotInRangeError(salary)\n",
    "\n",
    "try:\n",
    "    raise SalaryNotInRangeError(2000)\n",
    "except SalaryNotInRangeError as e:\n",
    "    print(\"Received error:\", e.message)"
   ]
  },
  {
   "cell_type": "code",
   "execution_count": null,
   "id": "1b2c9703",
   "metadata": {},
   "outputs": [],
   "source": []
  }
 ],
 "metadata": {
  "kernelspec": {
   "display_name": "Python 3",
   "language": "python",
   "name": "python3"
  },
  "language_info": {
   "codemirror_mode": {
    "name": "ipython",
    "version": 3
   },
   "file_extension": ".py",
   "mimetype": "text/x-python",
   "name": "python",
   "nbconvert_exporter": "python",
   "pygments_lexer": "ipython3",
   "version": "3.9.7"
  }
 },
 "nbformat": 4,
 "nbformat_minor": 5
}
