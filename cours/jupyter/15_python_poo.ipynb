{
 "cells": [
  {
   "cell_type": "markdown",
   "id": "c68bc7e5",
   "metadata": {},
   "source": [
    "# Python Programation Orientée Objet\n",
    "\n",
    "Python est un langage orienté objet. Cela signifie qu'il fournit tous les éléments classiques de la programmation orientée objet (POO) : les classes et les objets.\n",
    "\n",
    "La POO est un paradigme de programmation qui permet de structurer un programme en combinant des briques de base appelées objets. Il s'agit de rassembler en un tout cohérent des données et les traitements qui s'y appliquent. La POO est un niveau d'abstraction supplémentaire qui permet de mieux gérer la complexité des programmes, tout comme les fonctions le sont pour les instructions."
   ]
  },
  {
   "cell_type": "markdown",
   "id": "3bc8c115",
   "metadata": {},
   "source": [
    "## Objet\n",
    "\n",
    "Un objet est une entité qui regroupe des données et des traitements qui lui sont applicables. Un objet possède une identité, un état et un comportement.\n",
    "\n",
    "### Identité\n",
    "\n",
    "L'identité d'un objet est un identifiant unique qui le distingue des autres objets. En Python, l'identité d'un objet est accessible via la fonction id().\n",
    "\n",
    "### Etat\n",
    "\n",
    "L'état d'un objet est défini par ses données, appelées attributs. Les attributs d'un objet peuvent être de n'importe quel type Python : des types de base, des collections, des instances de classes, etc.\n",
    "\n",
    "### Comportement\n",
    "\n",
    "Le comportement d'un objet est défini par ses méthodes. Une méthode est une fonction qui s'applique à l'objet et qui peut utiliser ses attributs.\n",
    "\n",
    "### Conclusion\n",
    "\n",
    "Un objet est donc une structure de données qui regroupe des données et les traitements qui s'y appliquent. Les données sont représentées par les attributs et les traitements par les méthodes."
   ]
  },
  {
   "cell_type": "markdown",
   "id": "acd90070",
   "metadata": {},
   "source": [
    "## Classe\n",
    "\n",
    "Les classe sont les modèles des objets (blueprint). Une classe définit la structure et le comportement des objets qui en sont issus.\n",
    "\n",
    "### Définition\n",
    "\n",
    "Une classe est définie par le mot-clé class suivi du nom de la classe et de deux points. Le nom de la classe doit commencer par une majuscule.\n",
    "\n",
    "### Attributs\n",
    "\n",
    "Les attributs d'une classe sont définis dans une méthode spéciale appelée constructeur. Le constructeur est une méthode qui porte le nom __init__(). Cette méthode est appelée automatiquement lors de la création d'un objet.\n",
    "\n",
    "### Méthodes\n",
    "\n",
    "Les méthodes sont des fonctions qui s'appliquent aux objets. Elles sont définies dans la classe et prennent comme premier paramètre une référence à l'objet en cours de traitement. Par convention, ce paramètre s'appelle `self`."
   ]
  },
  {
   "cell_type": "markdown",
   "id": "fa5275be",
   "metadata": {},
   "source": [
    "## Définition d'une classe\n",
    "\n",
    "Une classe est définie par le mot-clé class suivi du nom de la classe et de deux points. Le nom de la classe doit commencer par une majuscule.\n",
    "\n",
    "```python\n",
    "class Point:\n",
    "    pass\n",
    "```\n",
    "\n",
    "## Attributs\n",
    "\n",
    "Les attributs d'une classe sont des variables propres a chaque objet. Il sont définis à l'intérieur de la classe. \n",
    "\n",
    "```python\n",
    "class Point:\n",
    "    x = 0\n",
    "    y = 0\n",
    "```\n",
    "\n",
    "> **Note**: Les attributs en Python sont publics. Il n'y a pas de notion de visibilité (private, protected, public) comme en Java ou en C++.\n",
    "> **Note**: Par convention, les attributs privés sont précédés d'un underscore."
   ]
  },
  {
   "cell_type": "code",
   "execution_count": 6,
   "id": "787a90ed",
   "metadata": {},
   "outputs": [],
   "source": [
    "class Point:\n",
    "    # private variable\n",
    "    _private = \"I'm private by convetion\"\n",
    "\n",
    "    # class attribute\n",
    "    x = 0\n",
    "    y = 0"
   ]
  },
  {
   "cell_type": "markdown",
   "id": "497ba503",
   "metadata": {},
   "source": [
    "## Les attributs/méthodes privées\n",
    "\n",
    "En python, comme il n'y pas de notion de visibilité, il n'y a pas de variables / méthodes privées. Cependant, par convention, les attributs / méthodes privés sont précédés d'un underscore. Ces variables ne sont pas sensée être utilisées en dehors de la classe.\n",
    "\n",
    "Parfois on peut voir des variables/methodes privée qui commencent avec deux underscores. Ces variables sont appelées \"mangled\". Elles sont utilisées pour éviter les conflits de noms lors de l'héritage."
   ]
  },
  {
   "cell_type": "markdown",
   "id": "89e1f082",
   "metadata": {},
   "source": [
    "## Creation d'un objet\n",
    "\n",
    "Pour créer un objet, on utilise le nom de la classe suivi de parenthèses. Cela appelle le `constructeur` de la classe qui crée l'objet."
   ]
  },
  {
   "cell_type": "code",
   "execution_count": 7,
   "id": "49c46fbe",
   "metadata": {},
   "outputs": [],
   "source": [
    "# Creation of two instances of the Point class\n",
    "p1 = Point()\n",
    "p2 = Point()"
   ]
  },
  {
   "cell_type": "markdown",
   "id": "f61ce9d1",
   "metadata": {},
   "source": [
    "## Acceder aux attributs d'un objet\n",
    "\n",
    "En python, pour accéder aux attributs d'un objet, on utilise le point `.`"
   ]
  },
  {
   "cell_type": "code",
   "execution_count": 8,
   "id": "2739b58a",
   "metadata": {},
   "outputs": [
    {
     "name": "stdout",
     "output_type": "stream",
     "text": [
      "P1 valeur en X=5; Y=4\n",
      "P1 valeur en X=3; Y=6\n",
      "I'm private by convetion\n"
     ]
    }
   ],
   "source": [
    "# Modification of attributes\n",
    "p1.x = 5\n",
    "p1.y = 4\n",
    "\n",
    "p2.x = 3\n",
    "p2.y = 6\n",
    "\n",
    "# access attributes\n",
    "print(f\"P1 valeur en X={p1.x}; Y={p1.y}\")\n",
    "print(f\"P1 valeur en X={p2.x}; Y={p2.y}\")\n",
    "\n",
    "# access private variable\n",
    "print(p1._private)"
   ]
  },
  {
   "cell_type": "markdown",
   "id": "48f955c6",
   "metadata": {},
   "source": [
    "## Methods\n",
    "\n",
    "Les méthodes sont des fonctions qui s'appliquent aux objets. Elles sont définies dans la classe et prennent comme premier paramètre une référence à l'objet en cours de traitement. Par convention, ce paramètre s'appelle `self`."
   ]
  },
  {
   "cell_type": "code",
   "execution_count": 9,
   "id": "88a116ee",
   "metadata": {},
   "outputs": [
    {
     "name": "stdout",
     "output_type": "stream",
     "text": [
      "Area: 1309.0\n"
     ]
    }
   ],
   "source": [
    "class Room:\n",
    "    length = 0.0\n",
    "    width = 0.0\n",
    "\n",
    "    def calculate_area(self):\n",
    "        return self.length * self.width\n",
    "    \n",
    "    def print_area(self):\n",
    "        print(\"Area:\", self.calculate_area())\n",
    "\n",
    "# Creation of an instance of the Room class\n",
    "nomades_main_room = Room()\n",
    "\n",
    "# Modification of attributes\n",
    "nomades_main_room.length = 42.5\n",
    "nomades_main_room.width = 30.8\n",
    "\n",
    "# call method\n",
    "nomades_main_room.print_area()"
   ]
  },
  {
   "cell_type": "markdown",
   "id": "a0761a1d",
   "metadata": {},
   "source": [
    "## Mot clé self\n",
    "\n",
    "Le mot clé self est une convention en python. Il est utilisé pour faire référence à l'objet en cours de traitement. Il est passé automatiquement en premier paramètre de chaque méthode. Il est possible de le renommer mais il est fortement déconseillé de le faire. Le premier paramètre d'une méthode est toujours une référence à l'objet en cours de traitement `self`."
   ]
  },
  {
   "cell_type": "markdown",
   "id": "88f25685",
   "metadata": {},
   "source": [
    "## Constructor\n",
    "Le constructeur est une méthode spéciale appelée `__init__()`. Cette méthode est appelée automatiquement lors de la création d'un objet. Elle permet d'initialiser les attributs de l'objet. Il est possible de donner des arguments au constructeur afin de pouvoir initialiser les attributs avec des valeurs différentes."
   ]
  },
  {
   "cell_type": "code",
   "execution_count": 11,
   "id": "0db621d6",
   "metadata": {},
   "outputs": [
    {
     "name": "stdout",
     "output_type": "stream",
     "text": [
      "Point: (0, 0)\n",
      "Point: (49.19103, 6.13562)\n"
     ]
    }
   ],
   "source": [
    "class GeoPoint:\n",
    "    def __init__(self, lat=0, lng=0):\n",
    "        self.lat = lat\n",
    "        self.lng = lng\n",
    "\n",
    "    def print_point(self):\n",
    "        print(f\"Point: ({self.lat}, {self.lng})\")\n",
    "\n",
    "# Creation of an instance of the GeoPoint class\n",
    "p1 = GeoPoint()\n",
    "p_nomades = GeoPoint(49.19103, 6.13562)\n",
    "\n",
    "p1.print_point()\n",
    "p_nomades.print_point()"
   ]
  },
  {
   "cell_type": "markdown",
   "id": "7bea4294",
   "metadata": {},
   "source": [
    "Ici, on définit un constructeur avec la fonction `__init__`. Le constructeur prend en arguments trois paramètres `self`, `lat`, `lng`, qui correspondent aux attributs de la classe. Le paramètre `self` est obligatoire et correspond à l'objet en cours de traitement. `self` est automatiquement passé lors de l'appel de la méthode et définis la classe actuelle. \n",
    "\n",
    "les paramètres `lat` et `lng` sont optionnels. Si on ne les fournit pas, ils prennent la valeur par défaut 0. le constructeur les assigne aux attributs `self.lat` et `self.lng`. Ici, on utilise le mot clé `self` pour assigner les attributs a l'objet actuel `p1` oou `p_nomades`.\n",
    "\n",
    "> **Note**: Les attributs `self.lat` et `self.lng` sont maintenant des attributs de la classe, même s'il ne sont pas définis dans la classe. Possibilité de les utilisé dans les autres fonction de classe (comme dans `print_point()`)."
   ]
  },
  {
   "cell_type": "code",
   "execution_count": 18,
   "id": "795aa253",
   "metadata": {},
   "outputs": [
    {
     "name": "stdout",
     "output_type": "stream",
     "text": [
      "<__main__.GeoPoint object at 0x7fb89b3e3ac0>\n",
      "Point: (0, 0)\n"
     ]
    }
   ],
   "source": [
    "class GeoPointStr:\n",
    "    def __init__(self, lat=0, lng=0):\n",
    "        self.lat = lat\n",
    "        self.lng = lng\n",
    "        \n",
    "    def __str__(self):\n",
    "        return f\"Point: ({self.lat}, {self.lng})\"\n",
    "\n",
    "ps1 = GeoPointStr()\n",
    "\n",
    "print(p1)\n",
    "print(ps1)"
   ]
  },
  {
   "cell_type": "markdown",
   "id": "c4e2323e",
   "metadata": {},
   "source": [
    "# Python POO - Héritage\n",
    "\n",
    "L'héritage est un mécanisme qui permet de créer une nouvelle classe à partir d'une classe existante. La nouvelle classe hérite des attributs et des méthodes de la classe existante. On appelle la classe existante la classe mère ou la super-classe et la nouvelle classe la classe enfant ou la sous-classe."
   ]
  },
  {
   "cell_type": "markdown",
   "id": "8fc7b1f1",
   "metadata": {},
   "source": [
    "## Définition\n",
    "\n",
    "Pour définir une classe enfant, on place le nom de la classe mère entre parenthèses après le nom de la classe enfant.\n",
    "\n",
    "```python\n",
    "# define a superclass\n",
    "class super_class:\n",
    "    # attributes and method definition\n",
    "\n",
    "# inheritance\n",
    "class sub_class(super_class):\n",
    "    # attributes and method of super_class\n",
    "    # attributes and method of sub_class\n",
    "```"
   ]
  },
  {
   "cell_type": "markdown",
   "id": "2e9bf4aa",
   "metadata": {},
   "source": [
    "### Exemple 1: Animal et chien"
   ]
  },
  {
   "cell_type": "code",
   "execution_count": 19,
   "id": "57303852",
   "metadata": {},
   "outputs": [
    {
     "name": "stdout",
     "output_type": "stream",
     "text": [
      "I can eat\n",
      "My name is  Rohu\n"
     ]
    }
   ],
   "source": [
    "class Animal:\n",
    "\n",
    "    # attribute and method of the parent class\n",
    "    name = \"\"\n",
    "    \n",
    "    def eat(self):\n",
    "        print(\"I can eat\")\n",
    "\n",
    "# inherit from Animal\n",
    "class Dog(Animal):\n",
    "\n",
    "    # new method in subclass\n",
    "    def display(self):\n",
    "        # access name attribute of superclass using self\n",
    "        print(\"My name is \", self.name)\n",
    "\n",
    "# create an object of the subclass\n",
    "labrador = Dog()\n",
    "\n",
    "# access superclass attribute and method \n",
    "labrador.name = \"Rohu\"\n",
    "labrador.eat()\n",
    "\n",
    "# call subclass method \n",
    "labrador.display()"
   ]
  },
  {
   "cell_type": "markdown",
   "id": "424bba27",
   "metadata": {},
   "source": [
    "## is-a (est-un) relationship\n",
    "\n",
    "L'héritage est utilisé pour modéliser une relation \"est-un\". De ce fait, on procède a un héritage seulement s'il y a une relation \"est-un\" entre la classe mère et la classe enfant.\n",
    "\n",
    "- Un chien est un animal\n",
    "- Une voiture est un véhicule\n",
    "- Un carré est un rectangle\n",
    "- Une pommme est un fruit\n",
    "\n",
    "## has-a (a-un) relationship\n",
    "\n",
    "L'héritage n'est pas utilisé pour modéliser une relation \"a-un\". la realtion \"a-un\" est modélisée par la composition. On parle de composition lorsqu'un objet contient un autre objet.\n",
    "\n",
    "- Un ordinateur a un processeur\n",
    "- Un ordinateur a un disque dur\n",
    "- Un ordinateur a une carte graphique\n",
    "\n",
    "Ici, le processeur est un objet qui est attribut de l'objet ordinateur. On parle de composition."
   ]
  },
  {
   "cell_type": "markdown",
   "id": "e39bc632",
   "metadata": {},
   "source": [
    "### Exemple 2: Polygone et triangle\n",
    "\n",
    "Un polygone est une figure géométrique fermée plane d'au moin 3 cotés. On peut donc définir la classe `Polygon`:"
   ]
  },
  {
   "cell_type": "code",
   "execution_count": 1,
   "id": "71484fd4",
   "metadata": {},
   "outputs": [],
   "source": [
    "class Polygon:\n",
    "    def __init__(self, nb_of_sides):\n",
    "        self.n = nb_of_sides\n",
    "        self.sides = [0 for i in range(nb_of_sides)]\n",
    "\n",
    "    def inputSides(self):\n",
    "        self.sides = [float(input(\"Enter side \"+str(i+1)+\" : \")) for i in range(self.n)]\n",
    "\n",
    "    def dispSides(self):\n",
    "        for i in range(self.n):\n",
    "            print(\"Side\",i+1,\"is\",self.sides[i])\n",
    "          \n",
    "    def info():\n",
    "        print(\"I'm a polygon\")"
   ]
  },
  {
   "cell_type": "markdown",
   "id": "e3cdf684",
   "metadata": {},
   "source": [
    "Cette classe, a un atribut de classe `n` qui represente le nombre de côtés du polygone, ainsi qu'un attribut d'instance `sides` qui est une liste des longueurs des côtés du polygone."
   ]
  },
  {
   "cell_type": "markdown",
   "id": "0047e26c",
   "metadata": {},
   "source": [
    "Un `Triangle` est un polygone de 3 côtés. On peut donc définir la classe `Triangle` qui hérite de la classe `Polygon`. Grâce à l'héritage, la classe `Triangle` hérite de l'attribut de classe `n` et de l'attribut d'instance `sides` de la classe `Polygon`. On a pas besoin de les redéfinir (**Code reusability**) dans la classe `Triangle`.\n",
    "\n",
    "La classe `Triangle` peut être définie comme suit :"
   ]
  },
  {
   "cell_type": "code",
   "execution_count": 4,
   "id": "23464196",
   "metadata": {},
   "outputs": [],
   "source": [
    "class Triangle(Polygon):\n",
    "    def __init__(self):\n",
    "        Polygon.__init__(self,3)\n",
    "\n",
    "    def findArea(self):\n",
    "        a, b, c = self.sides\n",
    "        # calculate the semi-perimeter\n",
    "        s = (a + b + c) / 2\n",
    "        area = (s*(s-a)*(s-b)*(s-c)) ** 0.5\n",
    "        print('The area of the triangle is %0.2f' %area)\n",
    "    \n",
    "    def is_rectangular(self):\n",
    "        s2 = self.sides.copy()\n",
    "        s2.sort()\n",
    "        return s2[0]**2 + s2[1]**2 == s2[2]**2"
   ]
  },
  {
   "cell_type": "markdown",
   "id": "12898f71",
   "metadata": {},
   "source": [
    "Nous avons définis la classe Triangle qui hérites de la classe Polygon. Le constructeur de la classe Triangle, appelle le constructeur de la classe Polygon pour initialiser les attributs de la classe Triangle. On peut accéder aux attributs/méthodes de la classe Polygon grâce au mot clé `super`. Il est nécéssaire ici d'appeler la classe parente, car on spécifie le nombre de coté du Triangle."
   ]
  },
  {
   "cell_type": "code",
   "execution_count": 6,
   "id": "a2ad3815",
   "metadata": {},
   "outputs": [
    {
     "name": "stdout",
     "output_type": "stream",
     "text": [
      "Side 1 is 4.0\n",
      "Side 2 is 3.0\n",
      "Side 3 is 5.0\n",
      "The area of the triangle is 6.00\n",
      "[4.0, 3.0, 5.0]\n",
      "[3.0, 4.0, 5.0]\n",
      "True\n"
     ]
    }
   ],
   "source": [
    "# Creating an instance of the Triangle class\n",
    "t = Triangle()\n",
    "\n",
    "# Prompting the user to enter the sides of the triangle\n",
    "t.inputSides()\n",
    "\n",
    "# Displaying the sides of the triangle\n",
    "t.dispSides()\n",
    "\n",
    "# Calculating and printing the area of the triangle\n",
    "t.findArea()\n",
    "\n",
    "print(t.is_rectangular())"
   ]
  },
  {
   "cell_type": "markdown",
   "id": "ce66e41c",
   "metadata": {},
   "source": [
    "## Method overriding\n",
    "\n",
    "Lors de l'héritage, il est possible de redéfinir les méthodes de la classe parente dans la classe enfant. On parle de `method overriding`. Cela permet de modifier le comportement d'une méthode héritée."
   ]
  },
  {
   "cell_type": "code",
   "execution_count": 9,
   "id": "dcd82aa9",
   "metadata": {},
   "outputs": [
    {
     "name": "stdout",
     "output_type": "stream",
     "text": [
      "I like to eat bones\n"
     ]
    }
   ],
   "source": [
    "class Animal:\n",
    "\n",
    "    # attributes and method of the parent class\n",
    "    name = \"\"\n",
    "    \n",
    "    def eat(self):\n",
    "        print(\"I can eat\")\n",
    "\n",
    "# inherit from Animal\n",
    "class Dog(Animal):\n",
    "\n",
    "    # override eat() method\n",
    "    def eat(self):\n",
    "        print(\"I like to eat bones\")\n",
    "\n",
    "# create an object of the subclass\n",
    "labrador = Dog()\n",
    "\n",
    "# call the eat() method on the labrador object\n",
    "labrador.eat()"
   ]
  },
  {
   "cell_type": "markdown",
   "id": "210ea778",
   "metadata": {},
   "source": [
    "## Le mot clé super\n",
    "\n",
    "Si on a besoin d'utiliser une méthode de la classe parente, on peut utiliser le mot clé `super`. Ce mot clé désigne la classe parente."
   ]
  },
  {
   "cell_type": "code",
   "execution_count": 10,
   "id": "7ce52bd3",
   "metadata": {},
   "outputs": [
    {
     "name": "stdout",
     "output_type": "stream",
     "text": [
      "I can eat\n",
      "I like to eat bones\n"
     ]
    }
   ],
   "source": [
    "class Animal:\n",
    "\n",
    "    name = \"\"\n",
    "    \n",
    "    def eat(self):\n",
    "        print(\"I can eat\")\n",
    "\n",
    "# inherit from Animal\n",
    "class Dog(Animal):\n",
    "    \n",
    "    # override eat() method\n",
    "    def eat(self):\n",
    "        \n",
    "        # call the eat() method of the superclass using super()\n",
    "        super().eat()\n",
    "        \n",
    "        print(\"I like to eat bones\")\n",
    "\n",
    "# create an object of the subclass\n",
    "labrador = Dog()\n",
    "\n",
    "labrador.eat()"
   ]
  },
  {
   "cell_type": "markdown",
   "id": "7f417dd4",
   "metadata": {},
   "source": [
    "## Conclusion Héritage\n",
    "\n",
    "L'héritage est un mécanisme qui permet de créer une nouvelle classe à partir d'une classe existante. La nouvelle classe hérite des attributs et des méthodes de la classe existante. On appelle la classe existante la classe mère ou la super-classe et la nouvelle classe la classe enfant ou la sous-classe.\n",
    "\n",
    "- L'héritage est utilisé pour modéliser une relation \"est-un\".\n",
    "- L'hériage permet de réutiliser le code existant (classe parente)."
   ]
  },
  {
   "cell_type": "markdown",
   "id": "7ceb599d",
   "metadata": {},
   "source": [
    "# Python POO - Héritage multiple\n",
    "\n",
    "En python, une classe peut hériter de plusieurs classes. On parle d'héritage multiple. Pour définir une classe qui hérite de plusieurs classes, on place les noms des classes mères entre parenthèses après le nom de la classe enfant.\n",
    "\n",
    "```python\n",
    "class sub_class(super_class1, super_class2, ...):\n",
    "    # attributes and method of super_class1\n",
    "    # attributes and method of super_class2\n",
    "    # attributes and method of sub_class\n",
    "```"
   ]
  },
  {
   "cell_type": "markdown",
   "id": "e6e7ad51",
   "metadata": {},
   "source": [
    "## Exemple 1: chien, animal et mammifère\n",
    "\n",
    "Une Chauve-souris est un animal à ailes et un mammifère. On peut donc définir les classes `WingedAnimal` et `Mammal` et la classe `Bat` qui hérite de ces deux classes."
   ]
  },
  {
   "cell_type": "code",
   "execution_count": 11,
   "id": "794ba5e6",
   "metadata": {},
   "outputs": [],
   "source": [
    "class WingedAnimal:\n",
    "    def __init__(self, species):\n",
    "        self.species = species\n",
    "\n",
    "    def fly(self):\n",
    "        print('{} flies'.format(self.species))\n",
    "\n",
    "class Mammal:\n",
    "    def __init__(self, species):\n",
    "        self.species = species\n",
    "\n",
    "    def feed_young_with_milk(self):\n",
    "        print('{} feeds young with milk'.format(self.species))\n",
    "\n",
    "class Bat(WingedAnimal, Mammal):\n",
    "    def __init__(self):\n",
    "        WingedAnimal.__init__(self, \"Bat\")\n",
    "        Mammal.__init__(self, \"Bat\")"
   ]
  },
  {
   "cell_type": "code",
   "execution_count": 13,
   "id": "6a5e4854",
   "metadata": {},
   "outputs": [
    {
     "name": "stdout",
     "output_type": "stream",
     "text": [
      "Bat flies\n",
      "Bat feeds young with milk\n"
     ]
    }
   ],
   "source": [
    "b1 = Bat()\n",
    "b1.fly()\n",
    "b1.feed_young_with_milk()\n"
   ]
  },
  {
   "cell_type": "markdown",
   "id": "b9352e58",
   "metadata": {},
   "source": [
    "# Python POO - Multi-level inheritance\n",
    "\n",
    "En python, une classe peut hériter d'une classe qui hérite elle-même d'une autre classe. On parle d'héritage multi-niveau.\n",
    "\n",
    "```python\n",
    "class SuperClass:\n",
    "    # Super class code here\n",
    "\n",
    "class DerivedClass1(SuperClass):\n",
    "    # Derived class 1 code here\n",
    "\n",
    "class DerivedClass2(DerivedClass1):\n",
    "    # Derived class 2 code here\n",
    "```"
   ]
  },
  {
   "cell_type": "markdown",
   "id": "2fa68036",
   "metadata": {},
   "source": [
    "![\"POO multi-level inheritance\"](./imgs/python-multilevel-inheritance.png)\n",
    "[Source](https://www.programiz.com/python-programming/multiple-inheritance)"
   ]
  },
  {
   "cell_type": "code",
   "execution_count": 19,
   "id": "1225ec8d",
   "metadata": {},
   "outputs": [
    {
     "name": "stdout",
     "output_type": "stream",
     "text": [
      "Side 1 is 2.0\n",
      "The area of the square is 4.00\n"
     ]
    }
   ],
   "source": [
    "class Rectangle(Polygon):\n",
    "    def __init__(self):\n",
    "        Polygon.__init__(self,2)\n",
    "        print(\"Rectangle created\")\n",
    "\n",
    "    def findArea(self):\n",
    "        a, b = self.sides\n",
    "        area = a * b\n",
    "        print('The area of the rectangle is %0.2f' %area)\n",
    "    \n",
    "    def info(self):\n",
    "        print(\"This is a rectangle\")\n",
    "\n",
    "class Square(Rectangle):\n",
    "    def __init__(self):\n",
    "        Polygon.__init__(self,1)\n",
    "\n",
    "    def findArea(self):\n",
    "        print('The area of the square is %0.2f' %(self.sides[0]**2))\n",
    "\n",
    "# Creating an instance of the Square class\n",
    "s = Square()\n",
    "\n",
    "# Prompting the user to enter the side of the square\n",
    "s.inputSides()\n",
    "\n",
    "# Displaying the sides of the square\n",
    "s.dispSides()\n",
    "\n",
    "# Calculating and printing the area of the square\n",
    "s.findArea()"
   ]
  },
  {
   "cell_type": "code",
   "execution_count": 27,
   "id": "b5abe427",
   "metadata": {},
   "outputs": [
    {
     "name": "stdout",
     "output_type": "stream",
     "text": [
      "This is a rectangle\n",
      "False\n",
      "(<class '__main__.Rectangle'>,)\n",
      "True\n",
      "(<class '__main__.Polygon'>,)\n"
     ]
    }
   ],
   "source": [
    "s.info()\n",
    "print(isinstance(s, Bat))\n",
    "print(s.__class__.__bases__)\n",
    "print(issubclass(Square, Polygon))\n",
    "print(s.__class__.__bases__[0].__bases__)"
   ]
  },
  {
   "cell_type": "markdown",
   "id": "fef58436",
   "metadata": {},
   "source": [
    "# Python POO - MRO (Method Resolution Order)\n",
    "\n",
    "Lorsqu'une classe hérite de plusieurs classes, il est possible que les classes mères héritent elles-mêmes d'autres classes. On parle d'héritage multiple. Dans ce cas, il faut définir l'ordre dans lequel les méthodes des classes mères sont appelées. Cet ordre est appelé l'ordre de résolution des méthodes (MRO).\n",
    "\n",
    "La règle est simple, la méthode appellée sera, la première méthode trouvée dans la liste des classes mères. Cette liste est définie par l'ordre dans lequel les classes mères sont passées lors de la définition de la classe enfant. Si deux classes mère sont au même niveau dans la hiérarchie, c'est la première qui est appelée (celle de gauche)."
   ]
  },
  {
   "cell_type": "markdown",
   "id": "477aadd4",
   "metadata": {},
   "source": [
    "## Heritage simple\n",
    "\n",
    "![\"MRO simple\"](./imgs/mro_ab.png)\n",
    "[Source](https://www.educative.io/answers/what-is-mro-in-python)"
   ]
  },
  {
   "cell_type": "code",
   "execution_count": 32,
   "id": "00245bc1",
   "metadata": {},
   "outputs": [
    {
     "name": "stdout",
     "output_type": "stream",
     "text": [
      "A.method() called\n"
     ]
    }
   ],
   "source": [
    "class A:\n",
    "  def method(self):\n",
    "    print(\"A.method() called\")\n",
    "\n",
    "class B(A):\n",
    "  def method(self):\n",
    "    print(\"B.method() called\")\n",
    "\n",
    "b = B()\n",
    "b.method()"
   ]
  },
  {
   "cell_type": "markdown",
   "id": "bc28e5a9",
   "metadata": {},
   "source": [
    "Ici, le cas est simple, car car `B` `override` la méthode `method` du coup il appel son instance de la methode `method`\n",
    "\n",
    "> **Note**: le MRO ici est : `B` -> `A` -> `object`"
   ]
  },
  {
   "cell_type": "markdown",
   "id": "dba2f430",
   "metadata": {},
   "source": [
    "## Heritage multiple\n",
    "\n",
    "![\"MRO multiple\"](./imgs/mro_abc.png)\n",
    "[Source](https://www.educative.io/answers/what-is-mro-in-python)"
   ]
  },
  {
   "cell_type": "code",
   "execution_count": 31,
   "id": "784dc4c2",
   "metadata": {},
   "outputs": [
    {
     "name": "stdout",
     "output_type": "stream",
     "text": [
      "A.method() called\n"
     ]
    }
   ],
   "source": [
    "class A:\n",
    "  def method(self):\n",
    "    print(\"A.method() called\")\n",
    "\n",
    "class B:\n",
    "  pass\n",
    "\n",
    "class C(A, B):\n",
    "  pass\n",
    "\n",
    "c = C()\n",
    "c.method()"
   ]
  },
  {
   "cell_type": "markdown",
   "id": "2fd87c42",
   "metadata": {},
   "source": [
    "Ici, la classe `C` hérite de la classe A et de la classe `B`. La fonction n'est pas définie dans `C` du coup elle va regarder dans `A` puis dans `B` et enfin dans `object`. Car `A` est définie avant `B` dans la classe `C`.\n",
    "\n",
    "> **Note**: le MRO ici est : `C` -> `A` -> `B` -> `object`"
   ]
  },
  {
   "cell_type": "markdown",
   "id": "5c78f0a6",
   "metadata": {},
   "source": [
    "## Heritage Tricky\n",
    "\n",
    "![\"MRO tricky\"](./imgs/mro_abcd.png)\n",
    "[Source](https://www.educative.io/answers/what-is-mro-in-python)"
   ]
  },
  {
   "cell_type": "code",
   "execution_count": 33,
   "id": "858114a5",
   "metadata": {},
   "outputs": [
    {
     "name": "stdout",
     "output_type": "stream",
     "text": [
      "A.method() called\n"
     ]
    }
   ],
   "source": [
    "class A:\n",
    "  def method(self):\n",
    "    print(\"A.method() called\")\n",
    "\n",
    "class B:\n",
    "  def method(self):\n",
    "    print(\"B.method() called\")\n",
    "\n",
    "class C(A, B):\n",
    "  pass\n",
    "\n",
    "class D(C, B):\n",
    "  pass\n",
    "\n",
    "d = D()\n",
    "d.method()"
   ]
  },
  {
   "cell_type": "markdown",
   "id": "fb7a4e5d",
   "metadata": {},
   "source": [
    "Malgré le fait qu'ici `D`est directement connecté avec `B`, `C`est d'abord définis dans `D` du coup il va chercher dans `C`. Comme `C`ne contient pas la méthode, on va regarder dans les parents de `C` on aura donc `A` qui lui contient la fonction.\n",
    "\n",
    "> **Note**: le MRO ici est : `D` -> `C` -> `A` -> `B` -> `object`"
   ]
  },
  {
   "cell_type": "markdown",
   "id": "ce9f190c",
   "metadata": {},
   "source": [
    "# Python POO - Polymorphisme\n",
    "\n",
    "Le polymorphisme est un mécanisme qui permet de traiter de la même façon des objets de types différents mais liés. Le polymorphisme est un des trois piliers de la programmation orientée objet avec l'encapsulation et l'héritage."
   ]
  },
  {
   "cell_type": "markdown",
   "id": "461f561a",
   "metadata": {},
   "source": [
    "## exemple 1: Forme\n",
    "\n",
    "On peut définir une classe `Shape` qui représente une forme géométrique. Cette classe contient une méthode `area()` qui calcule l'aire de la forme. On peut définir des classes `Rectangle` et `Circle` qui héritent de la classe `Shape`. Ces classes redéfinissent la méthode `area()` pour calculer l'aire du rectangle et du cercle."
   ]
  },
  {
   "cell_type": "code",
   "execution_count": null,
   "id": "08903279",
   "metadata": {},
   "outputs": [],
   "source": [
    "class PrivateVehicle:\n",
    "    def __init__(self, brand, model, color):\n",
    "        self.brand = brand\n",
    "        self.model = model\n",
    "        self.color = color\n",
    "\n",
    "    def display(self):\n",
    "        print(\"Brand:\", self.brand)\n",
    "        print(\"Model:\", self.model)\n",
    "        print(\"Color:\", self.color)\n",
    "\n",
    "class Car(PrivateVehicle):\n",
    "    def __init__(self, brand, model, color, doors):\n",
    "        PrivateVehicle.__init__(self, brand, model, color)\n",
    "        self.doors = doors\n",
    "\n",
    "    def display(self):\n",
    "        PrivateVehicle.display(self)\n",
    "        print(\"Year:\", self.year)\n",
    "\n",
    "class Motorcycle(PrivateVehicle):\n",
    "    def __init__(self, brand, model, color, seats):\n",
    "        PrivateVehicle.__init__(self, brand, model, color)\n",
    "        self.seats = seats\n",
    "\n",
    "    def display(self):\n",
    "        PrivateVehicle.display(self)\n",
    "        print(\"Seats:\", self.seats)\n",
    "\n"
   ]
  },
  {
   "cell_type": "code",
   "execution_count": null,
   "id": "816ea577",
   "metadata": {},
   "outputs": [],
   "source": [
    "class PublicVehicles:\n",
    "    def __init__(self, year, color):\n",
    "        self.year = year\n",
    "        self.color = color\n",
    "\n",
    "    def display(self):\n",
    "        print(\"Year:\", self.year)\n",
    "        print(\"Color:\", self.color)\n",
    "\n",
    "class Auttobus(PublicVehicles):\n",
    "    def __init__(self, year, color, seats):\n",
    "        PublicVehicles.__init__(self, year, color)\n",
    "        self.seats = seats\n",
    "\n",
    "    def display(self):\n",
    "        PublicVehicles.display(self)\n",
    "        print(\"Seats:\", self.seats)\n",
    "\n",
    "class Taxi(PublicVehicles):\n",
    "    def __init__(self, year, color, busy):\n",
    "        PublicVehicles.__init__(self, year, color)\n",
    "        self.busy = busy\n",
    "\n",
    "    def display(self):\n",
    "        PublicVehicles.display(self)\n",
    "        print(\"Doors:\", self.busy)"
   ]
  },
  {
   "cell_type": "code",
   "execution_count": null,
   "id": "e4f5a372",
   "metadata": {},
   "outputs": [],
   "source": [
    "class PrivateGarage:\n",
    "    def __init__(self):\n",
    "        self.vehicles = []\n",
    "\n",
    "    def add_vehicle(self, vehicle):\n",
    "        if isinstance(vehicle, PrivateVehicle):\n",
    "            self.vehicles.append(vehicle)\n",
    "\n",
    "    def display(self):\n",
    "        for vehicle in self.vehicles:\n",
    "            print(type(vehicle))\n",
    "            vehicle.display()"
   ]
  },
  {
   "cell_type": "markdown",
   "id": "6c41667a",
   "metadata": {},
   "source": [
    "# Python POO - Encapsulation\n",
    "\n",
    "L'encapsulation est un mécanisme qui permet de regrouper des données et les traitements qui s'y appliquent en une seule entité. Cette entité est appelée classe. L'encapsulation permet de cacher les données et de protéger l'intégrité des données en empêchant leur accès direct.\n",
    "\n",
    "# Python POO - Abstraction\n",
    "\n",
    "L'abstraction est un mécanisme qui permet de représenter un objet du monde réel sous la forme d'une classe. L'abstraction permet de modéliser les caractéristiques essentielles d'un objet tout en ignorant les détails secondaires."
   ]
  }
 ],
 "metadata": {
  "kernelspec": {
   "display_name": "Python 3",
   "language": "python",
   "name": "python3"
  },
  "language_info": {
   "codemirror_mode": {
    "name": "ipython",
    "version": 3
   },
   "file_extension": ".py",
   "mimetype": "text/x-python",
   "name": "python",
   "nbconvert_exporter": "python",
   "pygments_lexer": "ipython3",
   "version": "3.9.7"
  }
 },
 "nbformat": 4,
 "nbformat_minor": 5
}
