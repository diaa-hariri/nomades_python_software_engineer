{
 "cells": [
  {
   "cell_type": "markdown",
   "id": "9ad2cc81",
   "metadata": {},
   "source": [
    "# Python Iterators\n",
    "\n",
    "Les itérateurs sont des objets qui peuvent être parcourus un à la fois (comme les listes, tuples, range, etc.). C'est un conteneur qui peut être parcouru un élément à la fois, permettant de traiter un élément à la fois. Les itérateurs sont implémentés dans Python avec des méthodes spéciales `__iter__()` et `__next__()`."
   ]
  },
  {
   "cell_type": "markdown",
   "id": "acc8cd82",
   "metadata": {},
   "source": [
    "## Itinérer a travers un itérateur\n",
    "\n",
    "En python, on peut utiliser la fonction `next()` pour parcourir un itérateur. La fonction `next()` renvoie l'élément suivant de l'itérateur."
   ]
  },
  {
   "cell_type": "code",
   "execution_count": 1,
   "id": "52ca750d",
   "metadata": {},
   "outputs": [
    {
     "name": "stdout",
     "output_type": "stream",
     "text": [
      "4\n",
      "7\n",
      "0\n"
     ]
    }
   ],
   "source": [
    "# define a list\n",
    "my_list = [4, 7, 0]\n",
    "\n",
    "# create an iterator from the list\n",
    "iterator = iter(my_list)\n",
    "\n",
    "# get the first element of the iterator\n",
    "print(next(iterator))\n",
    "\n",
    "# get the second element of the iterator\n",
    "print(next(iterator))\n",
    "\n",
    "# get the third element of the iterator\n",
    "print(next(iterator))"
   ]
  },
  {
   "cell_type": "markdown",
   "id": "1171378b",
   "metadata": {},
   "source": [
    "> **Note**: Après avoir atteint la fin de l'itérateur, la fonction `next()` lève une exception `StopIteration`."
   ]
  },
  {
   "cell_type": "markdown",
   "id": "0cfe5e9d",
   "metadata": {},
   "source": [
    "## Boucle for\n",
    "\n",
    "On peut aussi utiliser une boucle `for` pour parcourir un itérateur. (ça on sait deja bien le faire maintenant :P). Cela revient au même que d'utiliser plusieurs fois la fonction `next()`."
   ]
  },
  {
   "cell_type": "code",
   "execution_count": null,
   "id": "73f8c433",
   "metadata": {},
   "outputs": [],
   "source": [
    "# define a list\n",
    "my_list = [4, 7, 0]\n",
    "\n",
    "for element in my_list:\n",
    "    print(element)"
   ]
  },
  {
   "cell_type": "markdown",
   "id": "bc9a8df5",
   "metadata": {},
   "source": [
    "## Créer un itérateur custom\n",
    "\n",
    "Pour créer un itérateur custom, on doit implémenter les méthodes `__iter__()` et `__next__()` dans notre classe. \n",
    "\n",
    "- La méthode `__iter__()` renvoie l'objet itérateur lui-même. Si besoin on peut initialiser des variables dans cette méthode.\n",
    "- La méthode `__next__()` renvoie l'élément suivant de l'itérateur. Si on atteint la fin de l'itérateur, on lève une exception `StopIteration`."
   ]
  },
  {
   "cell_type": "code",
   "execution_count": 3,
   "id": "b37575a1",
   "metadata": {},
   "outputs": [
    {
     "name": "stdout",
     "output_type": "stream",
     "text": [
      "1\n",
      "2\n",
      "4\n",
      "8\n"
     ]
    },
    {
     "ename": "StopIteration",
     "evalue": "",
     "output_type": "error",
     "traceback": [
      "\u001b[0;31m---------------------------------------------------------------------------\u001b[0m",
      "\u001b[0;31mStopIteration\u001b[0m                             Traceback (most recent call last)",
      "\u001b[0;32m/var/folders/g1/0pjc_q692vd7bj_68s3h608w0000gn/T/ipykernel_8952/507112913.py\u001b[0m in \u001b[0;36m<module>\u001b[0;34m\u001b[0m\n\u001b[1;32m     30\u001b[0m \u001b[0mprint\u001b[0m\u001b[0;34m(\u001b[0m\u001b[0mnext\u001b[0m\u001b[0;34m(\u001b[0m\u001b[0mi\u001b[0m\u001b[0;34m)\u001b[0m\u001b[0;34m)\u001b[0m \u001b[0;31m# prints 4\u001b[0m\u001b[0;34m\u001b[0m\u001b[0;34m\u001b[0m\u001b[0m\n\u001b[1;32m     31\u001b[0m \u001b[0mprint\u001b[0m\u001b[0;34m(\u001b[0m\u001b[0mnext\u001b[0m\u001b[0;34m(\u001b[0m\u001b[0mi\u001b[0m\u001b[0;34m)\u001b[0m\u001b[0;34m)\u001b[0m \u001b[0;31m# prints 8\u001b[0m\u001b[0;34m\u001b[0m\u001b[0;34m\u001b[0m\u001b[0m\n\u001b[0;32m---> 32\u001b[0;31m \u001b[0mprint\u001b[0m\u001b[0;34m(\u001b[0m\u001b[0mnext\u001b[0m\u001b[0;34m(\u001b[0m\u001b[0mi\u001b[0m\u001b[0;34m)\u001b[0m\u001b[0;34m)\u001b[0m \u001b[0;31m# raises StopIteration exception\u001b[0m\u001b[0;34m\u001b[0m\u001b[0;34m\u001b[0m\u001b[0m\n\u001b[0m",
      "\u001b[0;32m/var/folders/g1/0pjc_q692vd7bj_68s3h608w0000gn/T/ipykernel_8952/507112913.py\u001b[0m in \u001b[0;36m__next__\u001b[0;34m(self)\u001b[0m\n\u001b[1;32m     16\u001b[0m             \u001b[0;32mreturn\u001b[0m \u001b[0mresult\u001b[0m\u001b[0;34m\u001b[0m\u001b[0;34m\u001b[0m\u001b[0m\n\u001b[1;32m     17\u001b[0m         \u001b[0;32melse\u001b[0m\u001b[0;34m:\u001b[0m\u001b[0;34m\u001b[0m\u001b[0;34m\u001b[0m\u001b[0m\n\u001b[0;32m---> 18\u001b[0;31m             \u001b[0;32mraise\u001b[0m \u001b[0mStopIteration\u001b[0m\u001b[0;34m\u001b[0m\u001b[0;34m\u001b[0m\u001b[0m\n\u001b[0m\u001b[1;32m     19\u001b[0m \u001b[0;34m\u001b[0m\u001b[0m\n\u001b[1;32m     20\u001b[0m \u001b[0;34m\u001b[0m\u001b[0m\n",
      "\u001b[0;31mStopIteration\u001b[0m: "
     ]
    }
   ],
   "source": [
    "class PowTwo:\n",
    "    \"\"\"Class to implement an iterator\n",
    "    of powers of two\"\"\"\n",
    "\n",
    "    def __init__(self, max=0):\n",
    "        self.max = max\n",
    "\n",
    "    def __iter__(self):\n",
    "        self.n = 0\n",
    "        return self\n",
    "\n",
    "    def __next__(self):\n",
    "        if self.n <= self.max:\n",
    "            result = 2 ** self.n\n",
    "            self.n += 1\n",
    "            return result\n",
    "        else:\n",
    "            raise StopIteration\n",
    "\n",
    "\n",
    "# create an object\n",
    "numbers = PowTwo(3)\n",
    "\n",
    "# create an iterable from the object\n",
    "i = iter(numbers)\n",
    "\n",
    "# Using next to get to the next iterator element\n",
    "print(next(i)) # prints 1\n",
    "print(next(i)) # prints 2\n",
    "print(next(i)) # prints 4\n",
    "print(next(i)) # prints 8\n",
    "print(next(i)) # raises StopIteration exception"
   ]
  },
  {
   "cell_type": "code",
   "execution_count": 5,
   "id": "26df3df3",
   "metadata": {},
   "outputs": [
    {
     "name": "stdout",
     "output_type": "stream",
     "text": [
      "1\n",
      "2\n",
      "4\n",
      "8\n"
     ]
    }
   ],
   "source": [
    "for i in PowTwo(3):\n",
    "    print(i)"
   ]
  },
  {
   "cell_type": "markdown",
   "id": "6b8d09d3",
   "metadata": {},
   "source": [
    "## Iterateurs infinis\n",
    "\n",
    "Il est possible de créer des itérateurs infinis qui produiront des valeurs pour toujours."
   ]
  },
  {
   "cell_type": "markdown",
   "id": "5c2e00f6",
   "metadata": {},
   "source": [
    "### Exemple 1: Itérateur infini"
   ]
  },
  {
   "cell_type": "code",
   "execution_count": 9,
   "id": "7d463d13",
   "metadata": {},
   "outputs": [
    {
     "name": "stdout",
     "output_type": "stream",
     "text": [
      "0\n",
      "1\n",
      "2\n",
      "3\n",
      "4\n"
     ]
    }
   ],
   "source": [
    "# Créer un itérateur infini\n",
    "class InfiniteIterator:\n",
    "    def __init__(self):\n",
    "        self.num = 0\n",
    "\n",
    "    def __iter__(self):\n",
    "        self.num = 0\n",
    "        return self\n",
    "\n",
    "    def __next__(self):\n",
    "        num = self.num\n",
    "        self.num += 1\n",
    "        return num\n",
    "\n",
    "# Créer un objet itérateur\n",
    "infinite_iterator = InfiniteIterator()\n",
    "\n",
    "# Parcourir l'itérateur\n",
    "for i in range(5):\n",
    "    print(next(infinite_iterator))"
   ]
  },
  {
   "cell_type": "markdown",
   "id": "79a70a3d",
   "metadata": {},
   "source": [
    "> **Note**: Ici, nous avons crée un itérateur qui n'appelle jaamis l'excpetion `StopIteration` -> il est infini."
   ]
  }
 ],
 "metadata": {
  "kernelspec": {
   "display_name": "Python 3",
   "language": "python",
   "name": "python3"
  },
  "language_info": {
   "codemirror_mode": {
    "name": "ipython",
    "version": 3
   },
   "file_extension": ".py",
   "mimetype": "text/x-python",
   "name": "python",
   "nbconvert_exporter": "python",
   "pygments_lexer": "ipython3",
   "version": "3.9.7"
  }
 },
 "nbformat": 4,
 "nbformat_minor": 5
}
