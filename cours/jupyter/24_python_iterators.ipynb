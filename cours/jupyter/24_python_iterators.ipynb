{
 "cells": [
  {
   "cell_type": "markdown",
   "id": "9ad2cc81",
   "metadata": {
    "slideshow": {
     "slide_type": "slide"
    }
   },
   "source": [
    "# Python Iterators\n",
    "\n",
    "Les itérateurs sont des objets qui peuvent être parcourus un à la fois (comme les listes, tuples, range, etc.). C'est un conteneur qui peut être parcouru un élément à la fois, permettant de traiter un élément à la fois. Les itérateurs sont implémentés dans Python avec des méthodes spéciales `__iter__()` et `__next__()`."
   ]
  },
  {
   "cell_type": "markdown",
   "id": "acc8cd82",
   "metadata": {
    "slideshow": {
     "slide_type": "slide"
    }
   },
   "source": [
    "## Itinérer a travers un itérateur\n",
    "\n",
    "En python, on peut utiliser la fonction `next()` pour parcourir un itérateur. La fonction `next()` renvoie l'élément suivant de l'itérateur."
   ]
  },
  {
   "cell_type": "code",
   "execution_count": 20,
   "id": "52ca750d",
   "metadata": {
    "slideshow": {
     "slide_type": "slide"
    }
   },
   "outputs": [
    {
     "name": "stdout",
     "output_type": "stream",
     "text": [
      "4\n",
      "7\n",
      "0\n"
     ]
    },
    {
     "ename": "StopIteration",
     "evalue": "",
     "output_type": "error",
     "traceback": [
      "\u001b[0;31m---------------------------------------------------------------------------\u001b[0m",
      "\u001b[0;31mStopIteration\u001b[0m                             Traceback (most recent call last)",
      "Cell \u001b[0;32mIn[20], line 16\u001b[0m\n\u001b[1;32m     13\u001b[0m \u001b[38;5;66;03m# get the third element of the iterator\u001b[39;00m\n\u001b[1;32m     14\u001b[0m \u001b[38;5;28mprint\u001b[39m(\u001b[38;5;28mnext\u001b[39m(iterator))\n\u001b[0;32m---> 16\u001b[0m \u001b[38;5;28mprint\u001b[39m(\u001b[38;5;28;43mnext\u001b[39;49m\u001b[43m(\u001b[49m\u001b[43miterator\u001b[49m\u001b[43m)\u001b[49m)\n",
      "\u001b[0;31mStopIteration\u001b[0m: "
     ]
    }
   ],
   "source": [
    "# define a list\n",
    "my_list = [4, 7, 0]\n",
    "\n",
    "# create an iterator from the list\n",
    "iterator = iter(my_list)\n",
    "\n",
    "# get the first element of the iterator\n",
    "print(next(iterator))\n",
    "\n",
    "# get the second element of the iterator\n",
    "print(next(iterator))\n",
    "\n",
    "# get the third element of the iterator\n",
    "print(next(iterator))\n",
    "\n",
    "print(next(iterator))"
   ]
  },
  {
   "cell_type": "markdown",
   "id": "1171378b",
   "metadata": {
    "slideshow": {
     "slide_type": "slide"
    }
   },
   "source": [
    "> **Note**: Après avoir atteint la fin de l'itérateur, la fonction `next()` lève une exception `StopIteration`."
   ]
  },
  {
   "cell_type": "markdown",
   "id": "0cfe5e9d",
   "metadata": {
    "slideshow": {
     "slide_type": "slide"
    }
   },
   "source": [
    "## Boucle for\n",
    "\n",
    "On peut aussi utiliser une boucle `for` pour parcourir un itérateur. (ça on sait deja bien le faire maintenant :P). Cela revient au même que d'utiliser plusieurs fois la fonction `next()`."
   ]
  },
  {
   "cell_type": "code",
   "execution_count": 23,
   "id": "73f8c433",
   "metadata": {
    "slideshow": {
     "slide_type": "slide"
    }
   },
   "outputs": [
    {
     "name": "stdout",
     "output_type": "stream",
     "text": [
      "4\n",
      "7\n",
      "0\n"
     ]
    }
   ],
   "source": [
    "# define a list\n",
    "my_list = ([4, 7, 0])\n",
    "\n",
    "for element in my_list:\n",
    "    print(element)"
   ]
  },
  {
   "cell_type": "markdown",
   "id": "bc9a8df5",
   "metadata": {
    "slideshow": {
     "slide_type": "slide"
    }
   },
   "source": [
    "## Créer un itérateur custom\n",
    "\n",
    "Pour créer un itérateur custom, on doit implémenter les méthodes `__iter__()` et `__next__()` dans notre classe. \n",
    "\n",
    "- La méthode `__iter__()` renvoie l'objet itérateur lui-même. Si besoin on peut initialiser des variables dans cette méthode.\n",
    "- La méthode `__next__()` renvoie l'élément suivant de l'itérateur. Si on atteint la fin de l'itérateur, on lève une exception `StopIteration`."
   ]
  },
  {
   "cell_type": "code",
   "execution_count": 24,
   "id": "b37575a1",
   "metadata": {
    "slideshow": {
     "slide_type": "slide"
    }
   },
   "outputs": [],
   "source": [
    "import math\n",
    "class PowTwo:\n",
    "    \"\"\"\n",
    "    Class to implement an iterator\n",
    "    of powers of two\n",
    "    \"\"\"\n",
    "    def __init__(self, max=math.inf):\n",
    "        self.max = max\n",
    "\n",
    "    def __iter__(self):\n",
    "        self.n = 0\n",
    "        return self\n",
    "\n",
    "    def __next__(self):\n",
    "        if self.n <= self.max:\n",
    "            result = 2 ** self.n\n",
    "            self.n += 1\n",
    "            return result\n",
    "        raise StopIteration"
   ]
  },
  {
   "cell_type": "code",
   "execution_count": 29,
   "id": "61c8c6ab",
   "metadata": {
    "slideshow": {
     "slide_type": "slide"
    }
   },
   "outputs": [
    {
     "name": "stdout",
     "output_type": "stream",
     "text": [
      "<class '__main__.PowTwo'>\n",
      "1\n",
      "2\n",
      "4\n",
      "8\n",
      "16\n"
     ]
    }
   ],
   "source": [
    "# create an object\n",
    "numbers = PowTwo()\n",
    "print(type(numbers))\n",
    "\n",
    "# create an iterable from the object\n",
    "i = iter(numbers)\n",
    "\n",
    "# Using next to get to the next iterator element\n",
    "print(next(i))\n",
    "print(next(i)) \n",
    "print(next(i)) \n",
    "print(next(i))\n",
    "print(next(i)) "
   ]
  },
  {
   "cell_type": "code",
   "execution_count": 30,
   "id": "26df3df3",
   "metadata": {
    "slideshow": {
     "slide_type": "slide"
    }
   },
   "outputs": [
    {
     "name": "stdout",
     "output_type": "stream",
     "text": [
      "1\n",
      "2\n",
      "4\n",
      "8\n"
     ]
    }
   ],
   "source": [
    "for i in PowTwo(3):\n",
    "    print(i)"
   ]
  },
  {
   "cell_type": "markdown",
   "id": "6b8d09d3",
   "metadata": {
    "slideshow": {
     "slide_type": "slide"
    }
   },
   "source": [
    "## Iterateurs infinis\n",
    "\n",
    "Il est possible de créer des itérateurs infinis qui produiront des valeurs pour toujours."
   ]
  },
  {
   "cell_type": "markdown",
   "id": "5c2e00f6",
   "metadata": {
    "slideshow": {
     "slide_type": "slide"
    }
   },
   "source": [
    "### Exemple 1: Itérateur infini"
   ]
  },
  {
   "cell_type": "code",
   "execution_count": 33,
   "id": "7d463d13",
   "metadata": {
    "slideshow": {
     "slide_type": "slide"
    }
   },
   "outputs": [
    {
     "name": "stdout",
     "output_type": "stream",
     "text": [
      "0\n",
      "1\n",
      "2\n",
      "3\n",
      "4\n"
     ]
    }
   ],
   "source": [
    "# Créer un itérateur infini\n",
    "class InfiniteIterator:\n",
    "    def __init__(self):\n",
    "        self.num = 0\n",
    "\n",
    "    def __iter__(self):\n",
    "        self.num = 0\n",
    "        return self\n",
    "\n",
    "    def __next__(self):\n",
    "        num = self.num\n",
    "        self.num += 1\n",
    "        return num\n",
    "\n",
    "# Créer un objet itérateur\n",
    "infinite_iterator = InfiniteIterator()\n",
    "\n",
    "# Parcourir l'itérateur\n",
    "for i in range(5):\n",
    "    print(next(infinite_iterator))"
   ]
  },
  {
   "cell_type": "code",
   "execution_count": 46,
   "id": "08006c5d",
   "metadata": {
    "slideshow": {
     "slide_type": "slide"
    }
   },
   "outputs": [
    {
     "name": "stdout",
     "output_type": "stream",
     "text": [
      "9\n",
      "4\n",
      "4\n",
      "8\n",
      "6\n"
     ]
    }
   ],
   "source": [
    "from random import randint\n",
    "from math import inf\n",
    "# Créer un itérateur infini\n",
    "class InfiniteRandomStream:\n",
    "    def __init__(self, min_range=0, max_range=10):\n",
    "        self.min_range = min_range\n",
    "        self.max_range = max_range\n",
    "        self.num = randint(self.min_range, self.max_range)\n",
    "\n",
    "    def __iter__(self):\n",
    "        self.num = randint(self.min_range, self.max_range)\n",
    "        return self\n",
    "\n",
    "    def __next__(self):\n",
    "        num = self.num\n",
    "        self.num = randint(self.min_range, self.max_range)\n",
    "        return num\n",
    "\n",
    "# Créer un objet itérateur\n",
    "infinite_iterator = InfiniteRandomStream()\n",
    "\n",
    "# Parcourir l'itérateur\n",
    "for i in range(5):\n",
    "    print(next(infinite_iterator))"
   ]
  },
  {
   "cell_type": "markdown",
   "id": "79a70a3d",
   "metadata": {
    "slideshow": {
     "slide_type": "-"
    }
   },
   "source": [
    "> **Note**: Ici, nous avons crée un itérateur qui n'appelle jaamis l'excpetion `StopIteration` -> il est infini."
   ]
  },
  {
   "cell_type": "markdown",
   "id": "d8b313e5",
   "metadata": {
    "slideshow": {
     "slide_type": "slide"
    }
   },
   "source": [
    "# Generateurs\n",
    "\n"
   ]
  },
  {
   "cell_type": "markdown",
   "id": "c27ed4ce",
   "metadata": {
    "slideshow": {
     "slide_type": "slide"
    }
   },
   "source": [
    "# Generateurs\n",
    "\n",
    "Les générateurs sont des fonctions qui renvoient un itérateur. Ils sont écrits comme des fonctions normales, mais utilisent le mot-clé `yield` lorsqu'ils veulent renvoyer des données. Chaque fois que la fonction `next()` est appelée sur un générateur, le code de la fonction est exécuté jusqu'à ce qu'il atteigne un mot-clé `yield`. La valeur renvoyée par le générateur est la valeur renvoyée par le mot-clé `yield`."
   ]
  },
  {
   "cell_type": "markdown",
   "id": "553214ac",
   "metadata": {
    "slideshow": {
     "slide_type": "slide"
    }
   },
   "source": [
    "## Exemple 1: Générateur simple\n",
    "\n",
    "```python\n",
    "def my_generator(arg):\n",
    "    for i in range(arg):\n",
    "        yield i\n",
    "```"
   ]
  },
  {
   "cell_type": "markdown",
   "id": "40089d19",
   "metadata": {
    "slideshow": {
     "slide_type": "slide"
    }
   },
   "source": [
    "## Exemple 2: Générateur infini\n",
    "\n",
    "```python\n",
    "def my_generator():\n",
    "    i = 0\n",
    "    while True:\n",
    "        yield i\n",
    "        i += 1\n",
    "```"
   ]
  },
  {
   "cell_type": "code",
   "execution_count": 1,
   "id": "38496b25",
   "metadata": {
    "slideshow": {
     "slide_type": "slide"
    }
   },
   "outputs": [],
   "source": [
    "def my_generator():\n",
    "\n",
    "    # initialize counter\n",
    "    i = 0\n",
    "\n",
    "    # loop until counter is less than n\n",
    "    while True:\n",
    "\n",
    "        # produce the current value of the counter\n",
    "        yield i\n",
    "\n",
    "        # increment the counter\n",
    "        i += 1"
   ]
  },
  {
   "cell_type": "code",
   "execution_count": null,
   "id": "a3d1a0c9",
   "metadata": {},
   "outputs": [],
   "source": [
    "# iterate over the generator object produced by my_generator\n",
    "for value in my_generator():\n",
    "\n",
    "    # print each value produced by generator\n",
    "    print(value)"
   ]
  },
  {
   "cell_type": "markdown",
   "id": "b68ac9b9",
   "metadata": {
    "slideshow": {
     "slide_type": "slide"
    }
   },
   "source": [
    "## generateurs - fonction `next`\n",
    "\n",
    "On peut utiliser la fonction `next()` pour parcourir un générateur. La fonction `next()` renvoie l'élément suivant du générateur.\n",
    "\n",
    "> **Note**: Après avoir atteint la fin du générateur, la fonction `next()` lève une exception `StopIteration`."
   ]
  },
  {
   "cell_type": "code",
   "execution_count": 3,
   "id": "f03a2816",
   "metadata": {},
   "outputs": [
    {
     "data": {
      "text/plain": [
       "3"
      ]
     },
     "execution_count": 3,
     "metadata": {},
     "output_type": "execute_result"
    }
   ],
   "source": [
    "\n",
    "g = my_generator()\n",
    "next(g)\n",
    "next(g)\n",
    "next(g)\n",
    "next(g)"
   ]
  },
  {
   "cell_type": "code",
   "execution_count": 5,
   "id": "f1ffe30c",
   "metadata": {
    "slideshow": {
     "slide_type": "slide"
    }
   },
   "outputs": [],
   "source": [
    "# Que fait ce generateur  ?\n",
    "def f():\n",
    "    a, b = 0, 1\n",
    "    while True:\n",
    "        yield a\n",
    "        a, b = b, a + b"
   ]
  },
  {
   "cell_type": "code",
   "execution_count": 6,
   "id": "3ef1c79e",
   "metadata": {},
   "outputs": [
    {
     "name": "stdout",
     "output_type": "stream",
     "text": [
      "0\n",
      "1\n",
      "1\n",
      "2\n",
      "3\n",
      "5\n",
      "8\n",
      "13\n"
     ]
    }
   ],
   "source": [
    "fb = f()\n",
    "print(next(fb))\n",
    "print(next(fb))\n",
    "print(next(fb))\n",
    "print(next(fb))\n",
    "print(next(fb))\n",
    "print(next(fb))\n",
    "print(next(fb))\n",
    "print(next(fb))"
   ]
  },
  {
   "cell_type": "markdown",
   "id": "c7885bc8",
   "metadata": {
    "slideshow": {
     "slide_type": "slide"
    }
   },
   "source": [
    "## Python generator expression\n",
    "\n",
    "Les expressions de générateur sont une autre façon de créer des générateurs. Les expressions de générateur sont assez similaires aux expressions de liste. Mais les expressions de générateur n'enregistrent pas les valeurs dans la mémoire. Ils génèrent les valeurs à la volée."
   ]
  },
  {
   "cell_type": "markdown",
   "id": "7a8e08cc",
   "metadata": {},
   "source": [
    "voici la syntaxe:\n",
    "\n",
    "```python\n",
    "generator = (expression for i in iterable)\n",
    "```"
   ]
  },
  {
   "cell_type": "markdown",
   "id": "2fe2ea63",
   "metadata": {
    "slideshow": {
     "slide_type": "slide"
    }
   },
   "source": [
    "# Pourquoi utiliser des generateurs ?\n",
    "\n",
    "Les générateurs sont utilisés pour créer des itérateurs, mais avec un coût faible en termes de mémoire. Les générateurs sont également connus sous le nom de fonctions paresseuses car ils retardent l'exécution du code jusqu'à ce que cela soit nécessaire."
   ]
  },
  {
   "cell_type": "markdown",
   "id": "b00832b9",
   "metadata": {},
   "source": [
    "![linkedin generators](https://media.licdn.com/dms/image/D4D12AQGHHIfFZwVnCg/article-inline_image-shrink_1500_2232/0/1682146276305?e=1695254400&v=beta&t=JuPnWWo-9RlyHx-vKVe8Lc4bZRzoRlyV29FV2lFah_Q)\n",
    "\n",
    "[Source](https://www.linkedin.com/pulse/python-generators-understanding-power-different-use-cases-singh/)"
   ]
  },
  {
   "cell_type": "markdown",
   "id": "ea65f641",
   "metadata": {
    "slideshow": {
     "slide_type": "slide"
    }
   },
   "source": [
    "## Facile à implémenter\n"
   ]
  },
  {
   "cell_type": "code",
   "execution_count": 8,
   "id": "7186f2ce",
   "metadata": {},
   "outputs": [],
   "source": [
    "class PowTwo:\n",
    "    def __init__(self, max=0):\n",
    "        self.n = 0\n",
    "        self.max = max\n",
    "\n",
    "    def __iter__(self):\n",
    "        return self\n",
    "\n",
    "    def __next__(self):\n",
    "        if self.n > self.max:\n",
    "            raise StopIteration\n",
    "\n",
    "        result = 2 ** self.n\n",
    "        self.n += 1\n",
    "        return result"
   ]
  },
  {
   "cell_type": "code",
   "execution_count": null,
   "id": "6c35f4fb",
   "metadata": {
    "slideshow": {
     "slide_type": "-"
    }
   },
   "outputs": [],
   "source": [
    "def PowTwoGen(max=0):\n",
    "    n = 0\n",
    "    while n < max:\n",
    "        yield 2 ** n\n",
    "        n += 1"
   ]
  },
  {
   "cell_type": "markdown",
   "id": "aafb5d38",
   "metadata": {
    "slideshow": {
     "slide_type": "slide"
    }
   },
   "source": [
    "## Memory efficient\n",
    "\n",
    "Les générateurs ne chargent pas toutes les valeurs dans la mémoire. Ils génèrent les valeurs à la volée. Donc, ils sont plus efficaces en termes de mémoire pour les grands ensembles de données.\n",
    "\n",
    "Cependant, les générateurs ne peuvent pas être réinitialisés. Si nous voulons réutiliser les valeurs, nous devons recréer le générateur à chaque fois."
   ]
  },
  {
   "cell_type": "markdown",
   "id": "22a35d22",
   "metadata": {
    "slideshow": {
     "slide_type": "slide"
    }
   },
   "source": [
    "## represent infinite stream\n",
    "\n",
    "Les generateurs sont un excellent moyen de générer un flux infini de données. Un flux infini de donnée est difficile a stocker en mémoire, mais avec un generateur, on peut le faire facilement."
   ]
  },
  {
   "cell_type": "markdown",
   "id": "7010231c",
   "metadata": {
    "slideshow": {
     "slide_type": "slide"
    }
   },
   "source": [
    "## Enchainer les generateurs (pipeline)\n",
    "\n",
    "On peut enchainer les generateurs pour créer des pipelines de traitement de données. Cela permet de séparer les étapes de traitement de données en plusieurs fonctions. Cela rend le code plus lisible et plus facile à maintenir.\n",
    "\n",
    "voici un exemple:"
   ]
  },
  {
   "cell_type": "code",
   "execution_count": 9,
   "id": "586b4b55",
   "metadata": {},
   "outputs": [
    {
     "name": "stdout",
     "output_type": "stream",
     "text": [
      "4895\n"
     ]
    }
   ],
   "source": [
    "# genrators pipelines\n",
    "\n",
    "def fibonacci_numbers(nums):\n",
    "    x, y = 0, 1\n",
    "    for _ in range(nums):\n",
    "        x, y = y, x+y\n",
    "        yield x\n",
    "\n",
    "def square(nums):\n",
    "    for num in nums:\n",
    "        yield num**2\n",
    "\n",
    "print(sum(square(fibonacci_numbers(10))))"
   ]
  }
 ],
 "metadata": {
  "celltoolbar": "Diaporama",
  "kernelspec": {
   "display_name": "Python 3 (ipykernel)",
   "language": "python",
   "name": "python3"
  },
  "language_info": {
   "codemirror_mode": {
    "name": "ipython",
    "version": 3
   },
   "file_extension": ".py",
   "mimetype": "text/x-python",
   "name": "python",
   "nbconvert_exporter": "python",
   "pygments_lexer": "ipython3",
   "version": "3.10.13"
  }
 },
 "nbformat": 4,
 "nbformat_minor": 5
}
