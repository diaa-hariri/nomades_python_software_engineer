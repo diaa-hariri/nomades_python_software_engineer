{
 "cells": [
  {
   "cell_type": "markdown",
   "id": "f7368d70",
   "metadata": {
    "slideshow": {
     "slide_type": "slide"
    }
   },
   "source": [
    "# Python Closures"
   ]
  },
  {
   "cell_type": "markdown",
   "id": "7a7637da",
   "metadata": {
    "slideshow": {
     "slide_type": "slide"
    }
   },
   "source": [
    "# Python Closures\n",
    "\n",
    "Les closures sont des fonctions qui sont définies dans d'autrees focntions (fonctions-imbriquées). \n",
    "\n",
    "Le closures permettent de definir des fonctions avec un environement (variables)"
   ]
  },
  {
   "cell_type": "markdown",
   "id": "68c652db",
   "metadata": {
    "slideshow": {
     "slide_type": "slide"
    }
   },
   "source": [
    "## Fonctions imbriquées\n",
    "\n",
    "Avant tout nous allons revoir ce qu'est une fonction imbriquée et ses implications.\n",
    "\n",
    "En python, nous pouvons definir une fonction à l'intériueur d'une autre fonction, on appelle ce procesus des fonctions imbriquées (nested functions)."
   ]
  },
  {
   "cell_type": "code",
   "execution_count": 1,
   "id": "6a61366b",
   "metadata": {
    "slideshow": {
     "slide_type": "slide"
    }
   },
   "outputs": [
    {
     "name": "stdout",
     "output_type": "stream",
     "text": [
      "Hi John\n"
     ]
    }
   ],
   "source": [
    "def greet(name):\n",
    "    def display_name():\n",
    "        print(\"Hi\", name)\n",
    "    \n",
    "    display_name()\n",
    "\n",
    "greet(\"John\")"
   ]
  },
  {
   "cell_type": "markdown",
   "id": "c53fdd24",
   "metadata": {
    "slideshow": {
     "slide_type": "slide"
    }
   },
   "source": [
    "Dans l'example ci-dessus, la fonction `display_name()` est définie dans la fonction `greet()`.\n",
    "\n",
    "`display_name()` est une fonction imbriquée. Une fonction imbriquée se comporte comme une fonction normale, on peut voir que l'appel de `display_name()` est défini dans la fonction `greet()`.\n",
    "\n",
    "La fonction `display_name()` utilise la variable `name` définie dans la fonction `greet()`"
   ]
  },
  {
   "cell_type": "markdown",
   "id": "45b828f8",
   "metadata": {
    "slideshow": {
     "slide_type": "slide"
    }
   },
   "source": [
    "## Python closures\n",
    "\n",
    "Les closures sont des fonctions imbriquées qui ont accès au variables de leur parent même apres que celle ci soit fermée (close)."
   ]
  },
  {
   "cell_type": "code",
   "execution_count": 8,
   "id": "e9c67fe0",
   "metadata": {
    "slideshow": {
     "slide_type": "slide"
    }
   },
   "outputs": [
    {
     "name": "stdout",
     "output_type": "stream",
     "text": [
      "Hi Antonio_innner\n",
      "Hi Pierre_innner\n",
      "9\n"
     ]
    }
   ],
   "source": [
    "def greet(name):\n",
    "    def display_name() -> str:\n",
    "        return f\"Hi {name}\"\n",
    "    \n",
    "    return display_name\n",
    "\n",
    "#message = greet()\n",
    "#print(type(message))\n",
    "#print(message())\n",
    "\n",
    "antonio = greet(\"Antonio\")\n",
    "pierre = greet(\"Pierre\")\n",
    "\n",
    "print(antonio())\n",
    "print(pierre())\n",
    "\n",
    "def square(n):\n",
    "    return n**2\n",
    "\n",
    "a = square\n",
    "print(a(3))"
   ]
  },
  {
   "cell_type": "markdown",
   "id": "f0180e20",
   "metadata": {
    "slideshow": {
     "slide_type": "slide"
    }
   },
   "source": [
    "### Example: Print Odd Numbers using Python Closure"
   ]
  },
  {
   "cell_type": "code",
   "execution_count": 13,
   "id": "d0eae4f4",
   "metadata": {
    "slideshow": {
     "slide_type": "slide"
    }
   },
   "outputs": [
    {
     "name": "stdout",
     "output_type": "stream",
     "text": [
      "3\n",
      "5\n",
      "3\n",
      "5\n",
      "7\n",
      "9\n",
      "7\n"
     ]
    }
   ],
   "source": [
    "def count():\n",
    "    num = 1\n",
    "    def inner_func():\n",
    "        nonlocal num\n",
    "        num += 2\n",
    "        return num\n",
    "    return inner_func\n",
    "\n",
    "# call the outer function\n",
    "odd = count()\n",
    "print(odd())\n",
    "print(odd())\n",
    "\n",
    "odd2 = count()\n",
    "print(odd2())\n",
    "print(odd2())\n",
    "print(odd2())\n",
    "print(odd2())\n",
    "\n",
    "print(odd())"
   ]
  },
  {
   "cell_type": "markdown",
   "id": "a00b90ce",
   "metadata": {
    "slideshow": {
     "slide_type": "slide"
    }
   },
   "source": [
    "## Quand utiliser les closures\n",
    "\n",
    "Les closures sont intérressante quand on veut éviter d'utiliser des **variables globales** tout en gardant un environnement (scope) local à la fonction.\n",
    "\n",
    "C'est un façon élégante de gérer les environements\n",
    "\n",
    "> **Note: Dans certains cas il préférrable de créer une classe que d'utiliser beaucoup de closures**"
   ]
  },
  {
   "cell_type": "code",
   "execution_count": 16,
   "id": "5dfd8000",
   "metadata": {
    "slideshow": {
     "slide_type": "slide"
    }
   },
   "outputs": [
    {
     "name": "stdout",
     "output_type": "stream",
     "text": [
      "27\n",
      "15\n",
      "30\n",
      "50\n",
      "5\n",
      "10\n",
      "15\n",
      "20\n"
     ]
    }
   ],
   "source": [
    "def make_multiplier_of(n):\n",
    "    def multiplier(x):\n",
    "        return x * n\n",
    "    return multiplier\n",
    "\n",
    "times3 = make_multiplier_of(3)\n",
    "times5 = make_multiplier_of(5)\n",
    "\n",
    "print(times3(9))\n",
    "print(times5(3))\n",
    "print(times5(times3(2)))\n",
    "\n",
    "print(times5(times5(2)))\n",
    "print(times5(1))\n",
    "print(times5(2))\n",
    "print(times5(3))\n",
    "print(times5(4))"
   ]
  }
 ],
 "metadata": {
  "celltoolbar": "Slideshow",
  "kernelspec": {
   "display_name": "Python 3 (ipykernel)",
   "language": "python",
   "name": "python3"
  },
  "language_info": {
   "codemirror_mode": {
    "name": "ipython",
    "version": 3
   },
   "file_extension": ".py",
   "mimetype": "text/x-python",
   "name": "python",
   "nbconvert_exporter": "python",
   "pygments_lexer": "ipython3",
   "version": "3.10.14"
  }
 },
 "nbformat": 4,
 "nbformat_minor": 5
}
