{
 "cells": [
  {
   "cell_type": "markdown",
   "id": "f7368d70",
   "metadata": {
    "slideshow": {
     "slide_type": "slide"
    }
   },
   "source": [
    "# Firebase: Firestore"
   ]
  },
  {
   "cell_type": "markdown",
   "id": "5d4283f3",
   "metadata": {
    "slideshow": {
     "slide_type": "slide"
    }
   },
   "source": [
    "## Firebase\n",
    "\n",
    "Firebase est un `backend` complet créer par `Google`. Il propose plusieurs services pour faciliter le développement d'applications mobiles et web. Parmi ces services, on trouve `Firebase Firestore` qui est une `base de données` `NoSQL` en temps réel."
   ]
  },
  {
   "cell_type": "markdown",
   "id": "99cc9ad9",
   "metadata": {
    "slideshow": {
     "slide_type": "slide"
    }
   },
   "source": [
    "## Base de donnée\n",
    "\n",
    "Une base de donnée est une entitée qui permet de stocker des données. Il existe plusieurs types de base de données, parmi lesquels on trouve les bases de données `NoSQL` et les bases de données `SQL`.\n",
    "\n",
    "Une base de données permet aussi de `query` des données et de les manipuler. La base de donnée ordonne les données afin que les calcus et les `queries` se fassent rapidement."
   ]
  },
  {
   "cell_type": "markdown",
   "id": "2a9612c1",
   "metadata": {
    "slideshow": {
     "slide_type": "slide"
    }
   },
   "source": [
    "## SQL vs NoSQL"
   ]
  },
  {
   "cell_type": "markdown",
   "id": "9e0f4dca",
   "metadata": {
    "slideshow": {
     "slide_type": "fragment"
    }
   },
   "source": [
    "NoSQL != No SQL"
   ]
  },
  {
   "cell_type": "markdown",
   "id": "11ad46f1",
   "metadata": {
    "slideshow": {
     "slide_type": "fragment"
    }
   },
   "source": [
    "NoSQL = Not only SQL"
   ]
  },
  {
   "cell_type": "markdown",
   "id": "0f64a3ce",
   "metadata": {
    "slideshow": {
     "slide_type": "slide"
    }
   },
   "source": [
    "## Les base de données SQL\n",
    "\n",
    "Les bases de données `SQL` sont des bases de données relationnelles.\n",
    "- Stockage structuré avec des tables (lignes et colonnes)\n",
    "- Utilisation d'un language de requête structuré (`SQL`) pour effectuer des `queries` (gérer les données)\n",
    "- Assure l'intégrité des données en utilisant des contraintes telles que les clés étrangères, les clés primaires, les contraintes d'unicité, etc.\n",
    "- Adapter aux application avec des schémas fixes et des transactions complexes"
   ]
  },
  {
   "cell_type": "markdown",
   "id": "ca91f2a0",
   "metadata": {
    "slideshow": {
     "slide_type": "slide"
    }
   },
   "source": [
    "## Les base de données NoSQL\n",
    "\n",
    "Les bases de données `NoSQL` sont des bases de données non relationnelles.\n",
    "- Stockage non structuré avec des documents, des colonnes, des paires clé-valeur ou des graphes\n",
    "- Pas de language de requête standardisé, mais souvent un moyen de requête spécifique au model de donnée utilisé\n",
    "- Évite les contrainte rigides pour permettre une évolution horizontale (ajout de serveurs) et une flexibilité des données\n",
    "- Adapté aux applications nécessitant une grande évolutivité, une flexibilité de schéma et une vitesse de lecture/écriture élevée"
   ]
  },
  {
   "cell_type": "markdown",
   "id": "40c5e791",
   "metadata": {
    "slideshow": {
     "slide_type": "slide"
    }
   },
   "source": [
    "### Example SQL\n",
    "\n",
    "![sql_example](./imgs/model_sql.png)"
   ]
  },
  {
   "cell_type": "markdown",
   "id": "aeffc5c3",
   "metadata": {
    "slideshow": {
     "slide_type": "slide"
    }
   },
   "source": [
    "### Example NoSQL\n",
    "\n",
    "![nosql_example](./imgs/model_nosql.png)"
   ]
  },
  {
   "cell_type": "markdown",
   "id": "273de3ff",
   "metadata": {
    "slideshow": {
     "slide_type": "slide"
    }
   },
   "source": [
    "## Conclusion\n",
    "\n",
    "- En résumé, les base de données `SQL` et `NoSQL` diffèrent dans leur approche de stockage et de gestion de données\n",
    "- Les bases de données `SQL` sont structurées, utilisent le language `SQL` garantissent l'intégrité des données et sont adaptées aux applications avec des schémas fixes et des transactions complexes\n",
    "- D'un autre côté, les bases de données NoSQL oﬀrent une plus grande ﬂexibilité de schéma, une évolutivité horizontale et des modèles de données spéciﬁques. Elles sont adaptées aux applications nécessitant une grande évolutivité, une ﬂexibilité de schéma et une vitesse de lecture/écriture élevée. \n",
    "- Il est important de choisir le type de base de données qui correspond le mieux aux besoins spéciﬁques de votre application, en tenant compte des exigences en termes de structure des données, de performances, d'évolutivité et de ﬂexibilité."
   ]
  },
  {
   "cell_type": "markdown",
   "id": "68c652db",
   "metadata": {
    "slideshow": {
     "slide_type": "slide"
    }
   },
   "source": [
    "## Pre-requis pour utiliser Firebase 1/2\n",
    "\n",
    "1. Avoir un compte `Google`\n",
    "2. [Créer un nouveau projet](https://console.firebase.google.com/)\n",
    "3. Mettre un nom à votre projet\n",
    "4. Désactiver `Google Analytics` si vous ne souhaitez pas l'utiliser\n",
    "5. Cliquer sur `Créer un projet`"
   ]
  },
  {
   "cell_type": "markdown",
   "id": "3ec7ff61",
   "metadata": {
    "slideshow": {
     "slide_type": "slide"
    }
   },
   "source": [
    "## Pre-requis pour utiliser Firebase 2/2\n",
    "\n",
    "1. Cliquer sur `Créer une application` (web)\n",
    "2. Choissisez un nom pour votre application\n",
    "3. Désactivez `Firebase Hosting` si vous ne souhaitez pas l'utiliser\n",
    "4. Cliquer sur `Enregistrer`"
   ]
  },
  {
   "cell_type": "markdown",
   "id": "98714c54",
   "metadata": {
    "slideshow": {
     "slide_type": "slide"
    }
   },
   "source": [
    "## Pré-requis pour utiliser Firebase Firestore\n",
    "\n",
    "1. Ouvrez l'accordéon `Développer` dans le menu de gauche\n",
    "2. Cliquer sur `Firestore Database`\n",
    "3. Cliquer sur `Créer une base de données`\n",
    "   1. Séléctionnez une région (europe-west6 (Zurich))\n",
    "   2. Séléctionnez le mode `Test`\n",
    "   \n",
    "Doc de référence: [Firebase](https://firebase.google.com/docs/firestore/quickstart?authuser=0)"
   ]
  },
  {
   "cell_type": "markdown",
   "id": "673f74da",
   "metadata": {
    "slideshow": {
     "slide_type": "slide"
    }
   },
   "source": [
    "![firestore_Screen](./imgs/firestore_screen0.png)"
   ]
  },
  {
   "cell_type": "markdown",
   "id": "f9f811ab",
   "metadata": {
    "slideshow": {
     "slide_type": "slide"
    }
   },
   "source": [
    "## Connecter Firebase et Python\n",
    "\n",
    "1. En etant dans le bon environement `conda`\n",
    "2. Installer le package `firebase-admin` en utilisant `pip`\n",
    "   ```bash\n",
    "   pip install firebase-admin\n",
    "    ```"
   ]
  },
  {
   "cell_type": "markdown",
   "id": "109a99ce",
   "metadata": {
    "slideshow": {
     "slide_type": "slide"
    }
   },
   "source": [
    "## Connecter Firebase et Python\n",
    "\n",
    "1. Télécharger les `credentials` de votre projet `Firebase`\n",
    "   1. Cliquer sur `Paramètres du projet`\n",
    "   2. Cliquer sur `Comptes de service`\n",
    "   3. Cliquer sur `Générer une nouvelle clé privée`\n",
    "   4. Enregistrer le fichier `json` dans un endroit sûr"
   ]
  },
  {
   "cell_type": "markdown",
   "id": "9f732abc",
   "metadata": {
    "slideshow": {
     "slide_type": "slide"
    }
   },
   "source": [
    "![firestore_Screen](./imgs/firestore_integration.png)"
   ]
  },
  {
   "cell_type": "code",
   "execution_count": 1,
   "id": "918dcc5c",
   "metadata": {
    "slideshow": {
     "slide_type": "slide"
    }
   },
   "outputs": [
    {
     "data": {
      "text/plain": [
       "<firebase_admin.App at 0x104493fa0>"
      ]
     },
     "execution_count": 1,
     "metadata": {},
     "output_type": "execute_result"
    }
   ],
   "source": [
    "# Connection a firebase\n",
    "import firebase_admin\n",
    "from firebase_admin import credentials\n",
    "\n",
    "cred = credentials.Certificate(\"./asdf_cred.json\")\n",
    "firebase_admin.initialize_app(cred)"
   ]
  },
  {
   "cell_type": "code",
   "execution_count": 2,
   "id": "5cab1367",
   "metadata": {
    "slideshow": {
     "slide_type": "slide"
    }
   },
   "outputs": [
    {
     "data": {
      "text/plain": [
       "<google.cloud.firestore_v1.client.Client at 0x108b558d0>"
      ]
     },
     "execution_count": 2,
     "metadata": {},
     "output_type": "execute_result"
    }
   ],
   "source": [
    "# Connection a firestore\n",
    "from firebase_admin import firestore\n",
    "db = firestore.client()\n",
    "db"
   ]
  },
  {
   "cell_type": "markdown",
   "id": "8d57223e",
   "metadata": {
    "slideshow": {
     "slide_type": "slide"
    }
   },
   "source": [
    "## CRUD | Create, Read, Update, Delete\n",
    "\n",
    "Le `CRUD` est un acronyme pour `Create`, `Read`, `Update` et `Delete`. Il est utilisé pour décrire les fonctions de base d'un système de base de données."
   ]
  },
  {
   "cell_type": "markdown",
   "id": "6e6c71b0",
   "metadata": {
    "slideshow": {
     "slide_type": "slide"
    }
   },
   "source": [
    "## CRUD | Create, Read, Update, Delete\n",
    "\n",
    "Voici les fonctions `Firestore` associées à chaque opération `CRUD`:\n",
    "- `C`: add(); set()\n",
    "- `R`: get(); stream()\n",
    "- `U`: update(); set()\n",
    "- `D`: delete()\n",
    "\n",
    "> **/!\\ Note: La focntion `set()` se retrouve à la fois dans `create` et dans `update`**"
   ]
  },
  {
   "cell_type": "markdown",
   "id": "5e09b322",
   "metadata": {
    "slideshow": {
     "slide_type": "slide"
    }
   },
   "source": [
    "### Collections et Documents\n",
    "\n",
    "- `Collection`: Un groupe de documents\n",
    "- `Document`: Un ensemble de champs clé-valeur (comme des dictionnaires python)"
   ]
  },
  {
   "cell_type": "markdown",
   "id": "01d4e726",
   "metadata": {
    "slideshow": {
     "slide_type": "slide"
    }
   },
   "source": [
    "### Collections reference\n",
    "\n",
    "Quand on veut travailler avec une collection, on utilise une `collection reference`. C'est un objet qui permet de faire des opérations sur une collection.\n",
    "\n",
    "```python\n",
    "from firebase_admin import firestore\n",
    "\n",
    "db = firestore.client()\n",
    "collection_ref = db.collection('users')\n",
    "```\n",
    "\n",
    "Where `users` est le nom de la collection."
   ]
  },
  {
   "cell_type": "markdown",
   "id": "7c1aabe7",
   "metadata": {
    "slideshow": {
     "slide_type": "slide"
    }
   },
   "source": [
    "### Documents reference\n",
    "\n",
    "Quand on veut travailler avec un document, on utilise une `document reference`. C'est un objet qui permet de faire des opérations sur un document.\n",
    "\n",
    "```python\n",
    "from firebase_admin import firestore\n",
    "\n",
    "db = firestore.client()\n",
    "doc_ref = db.collection('users').document('user1')\n",
    "```\n",
    "\n",
    "Where `users` est le nom de la collection et `user1` est le nom (id) du document."
   ]
  },
  {
   "cell_type": "markdown",
   "id": "04607223",
   "metadata": {
    "slideshow": {
     "slide_type": "slide"
    }
   },
   "source": [
    "## Create a document\n",
    "### `add()`\n",
    "\n",
    "La méthode add permet d'ajouter un document à une collection. **Elle `génère` un identifiant unique pour le document.**\n",
    "\n",
    "La methode `add()` prend en paramètre un dictionnaire qui représente le document à ajouter. et retourne une `reference` et la `date` de création du document."
   ]
  },
  {
   "cell_type": "code",
   "execution_count": 7,
   "id": "2f4c14d2",
   "metadata": {
    "slideshow": {
     "slide_type": "slide"
    }
   },
   "outputs": [
    {
     "name": "stdout",
     "output_type": "stream",
     "text": [
      "<class 'google.cloud.firestore_v1.document.DocumentReference'> <google.cloud.firestore_v1.document.DocumentReference object at 0x108b55b70>\n",
      "Yyj0hifCctFJxtuUsNRZ\n",
      "2024-03-07 16:18:14.363626+00:00\n"
     ]
    }
   ],
   "source": [
    "user1 = {\n",
    "    u'firstname': u'Alan',\n",
    "    u'lastname': u'Turing',\n",
    "    u'born': 1912,\n",
    "    u'died': 1954,\n",
    "    u'papers': [u'On Computable Numbers', u'Computing Machinery and Intelligence'],\n",
    "}\n",
    "col_ref = db.collection(u'users')\n",
    "createdAt, doc = col_ref.add(user1)\n",
    "print(type(doc), doc)\n",
    "print(doc.id)\n",
    "print(createdAt)"
   ]
  },
  {
   "cell_type": "markdown",
   "id": "48297f1d",
   "metadata": {
    "slideshow": {
     "slide_type": "slide"
    }
   },
   "source": [
    "## Create a document\n",
    "### `set()`\n",
    "\n",
    "La méthode set permet d'ajouter un document à une collection. **Elle `utilise` un identifiant unique pour le document.**\n",
    "\n",
    "La methode `set()` prend en paramètre un dictionnaire qui représente le document à ajouter et l'id du document. et retourne une `reference` et la `date` de création du document.\n",
    "\n",
    "La methode `set()` utilise un `document reference` pour ajouter un document."
   ]
  },
  {
   "cell_type": "code",
   "execution_count": 9,
   "id": "a3af4014",
   "metadata": {
    "slideshow": {
     "slide_type": "slide"
    }
   },
   "outputs": [
    {
     "name": "stdout",
     "output_type": "stream",
     "text": [
      "<class 'google.cloud.firestore_v1.types.write.WriteResult'> update_time {\n",
      "  seconds: 1709828524\n",
      "  nanos: 690836000\n",
      "}\n",
      "\n"
     ]
    }
   ],
   "source": [
    "user2 = {\n",
    "    u'firstname': u'Grace',\n",
    "    u'lastname': u'Hopper',\n",
    "    u'born': 1906,\n",
    "    u'died': 1992,\n",
    "    u'papers': [u'Compiler', u'FLOW-MATIC'],\n",
    "}\n",
    "\n",
    "createdAt = db.document(u'users/ghopper').set(user2)\n",
    "createdAt = db.document(u'users', u'ghopper2').set(user2)\n",
    "print(type(createdAt), createdAt)"
   ]
  },
  {
   "cell_type": "markdown",
   "id": "8f74665f",
   "metadata": {
    "slideshow": {
     "slide_type": "slide"
    }
   },
   "source": [
    "## Read a document\n",
    "### `get()`\n",
    "\n",
    "La méthode get permet de lire un document dans une collection. **Elle retourne un objet `snapshot` qui contient les données du document.**\n",
    "\n",
    "La methode `get()` utilise un `document reference` pour lire un document."
   ]
  },
  {
   "cell_type": "code",
   "execution_count": 15,
   "id": "3db98e3d",
   "metadata": {
    "slideshow": {
     "slide_type": "slide"
    }
   },
   "outputs": [
    {
     "name": "stdout",
     "output_type": "stream",
     "text": [
      "<class 'google.cloud.firestore_v1.base_document.DocumentSnapshot'> <google.cloud.firestore_v1.base_document.DocumentSnapshot object at 0x10937bb20>\n",
      "ghopper\n",
      "{'firstname': 'Grace', 'papers': ['Compiler', 'FLOW-MATIC', 'Theory of language'], 'died': 1992, 'born': 1906, 'lastname': 'Hopper'}\n",
      "['Compiler', 'FLOW-MATIC', 'Theory of language']\n",
      "True\n"
     ]
    }
   ],
   "source": [
    "doc = db.collection(u'users').document(u'ghopper').get()\n",
    "#doc2 = db.document(u'users/ghopper').get()\n",
    "print(type(doc), doc)\n",
    "print(doc.id)\n",
    "print(doc.to_dict())\n",
    "print(doc.to_dict()['papers'])\n",
    "print(doc.exists)"
   ]
  },
  {
   "cell_type": "code",
   "execution_count": 14,
   "id": "e4f16190",
   "metadata": {
    "slideshow": {
     "slide_type": "slide"
    }
   },
   "outputs": [
    {
     "name": "stdout",
     "output_type": "stream",
     "text": [
      "<class 'google.cloud.firestore_v1.base_document.DocumentSnapshot'> <google.cloud.firestore_v1.base_document.DocumentSnapshot object at 0x10937abc0>\n",
      "False\n"
     ]
    }
   ],
   "source": [
    "doc = db.collection(u'users').document(u'lovelace').get()\n",
    "print(type(doc), doc)\n",
    "print(doc.exists)"
   ]
  },
  {
   "cell_type": "markdown",
   "id": "a261a478",
   "metadata": {
    "slideshow": {
     "slide_type": "slide"
    }
   },
   "source": [
    "## Read many documents\n",
    "### `stream()`\n",
    "\n",
    "La méthode stream permet de lire plusieurs documents dans une collection. **Elle retourne un generateur d'objet `snapshot` qui contient les données des documents.**\n",
    "\n",
    "La methode `stream()` utilise un `collection reference` pour lire plusieurs documents."
   ]
  },
  {
   "cell_type": "code",
   "execution_count": 18,
   "id": "e2c4600e",
   "metadata": {
    "slideshow": {
     "slide_type": "slide"
    }
   },
   "outputs": [
    {
     "name": "stdout",
     "output_type": "stream",
     "text": [
      "<class 'generator'> <generator object Query.stream at 0x109da6c70>\n",
      "Yyj0hifCctFJxtuUsNRZ => {'firstname': 'Alan', 'papers': ['On Computable Numbers', 'Computing Machinery and Intelligence'], 'died': 1954, 'born': 1912, 'lastname': 'Turing'}\n",
      "ghopper => {'firstname': 'Grace', 'papers': ['Compiler', 'FLOW-MATIC', 'Theory of language'], 'died': 1992, 'born': 1906, 'lastname': 'Hopper'}\n",
      "ghopper2 => {'firstname': 'Grace', 'papers': ['Compiler', 'FLOW-MATIC'], 'died': 1992, 'born': 1906, 'lastname': 'Hopper'}\n"
     ]
    }
   ],
   "source": [
    "docs = db.collection(u'users').stream()\n",
    "print(type(docs), docs)\n",
    "#print(len(docs))\n",
    "for doc in docs:\n",
    "    print(f'{doc.id} => {doc.to_dict()}')"
   ]
  },
  {
   "cell_type": "markdown",
   "id": "5ed11cc9",
   "metadata": {
    "slideshow": {
     "slide_type": "fragment"
    }
   },
   "source": [
    "ici nous utilisons `stream()` (generateur) pour lire tous les documents de la collection. A chaques fois que la boucle for accède a un document elle appelle le document -> pas de possibilité de savoir la taille de la collection."
   ]
  },
  {
   "cell_type": "code",
   "execution_count": 20,
   "id": "cc33607f",
   "metadata": {
    "slideshow": {
     "slide_type": "slide"
    }
   },
   "outputs": [
    {
     "name": "stdout",
     "output_type": "stream",
     "text": [
      "<class 'list'> [<google.cloud.firestore_v1.base_document.DocumentSnapshot object at 0x109378940>, <google.cloud.firestore_v1.base_document.DocumentSnapshot object at 0x109719780>, <google.cloud.firestore_v1.base_document.DocumentSnapshot object at 0x10978fc70>]\n",
      "3\n"
     ]
    }
   ],
   "source": [
    "docs_with_len2 = db.collection(u'users').get()\n",
    "print(type(docs_with_len2), docs_with_len2)\n",
    "print(len(docs_with_len2))"
   ]
  },
  {
   "cell_type": "markdown",
   "id": "c53fdd24",
   "metadata": {
    "slideshow": {
     "slide_type": "slide"
    }
   },
   "source": [
    "## Update a document\n",
    "### `update()`\n",
    "\n",
    "La méthode update permet de mettre à jour un document dans une collection. **Elle prend en paramètre un dictionnaire qui représente les champs à mettre à jour.**\n",
    "\n",
    "La methode `update()` met a jour uniquement les clés renseinées dans le dictionnaire.\n",
    "  - Si la clé exiiste déja dans le document, elle est mise à jour\n",
    "  - Si la clé n'existe pas dans le document, elle est ajoutée\n",
    "\n",
    "La methode `update()` utilise un `document reference` pour mettre à jour un document."
   ]
  },
  {
   "cell_type": "code",
   "execution_count": null,
   "id": "1c23d42b",
   "metadata": {
    "slideshow": {
     "slide_type": "slide"
    }
   },
   "outputs": [],
   "source": [
    "update_data = {u'born': 2005}\n",
    "ghopper_before = db.collection(u'users').document(u'ghopper').get().to_dict()\n",
    "print(ghopper_before)\n",
    "updatedAt = db.collection(u'users').document(u'ghopper').update(update_data)\n",
    "ghopper_after = db.collection(u'users').document(u'ghopper').get().to_dict()\n",
    "print(ghopper_after)"
   ]
  },
  {
   "cell_type": "code",
   "execution_count": null,
   "id": "e0ffe595",
   "metadata": {
    "slideshow": {
     "slide_type": "slide"
    }
   },
   "outputs": [],
   "source": [
    "update_data = {u'hobbies': ['computers', 'music', 'sports']}\n",
    "ghopper_before = db.collection(u'users').document(u'ghopper').get().to_dict()\n",
    "print(ghopper_before)\n",
    "updatedAt = db.collection(u'users').document(u'ghopper').update(update_data)\n",
    "ghopper_after = db.collection(u'users').document(u'ghopper').get().to_dict()\n",
    "print(ghopper_after)"
   ]
  },
  {
   "cell_type": "markdown",
   "id": "7f6efe3f",
   "metadata": {
    "slideshow": {
     "slide_type": "slide"
    }
   },
   "source": [
    "## Update a document\n",
    "### `set()`\n",
    "\n",
    "La méthode set permet de mettre à jour un document dans une collection. **Elle prend en paramètre un dictionnaire qui représente les champs à mettre à jour.**\n",
    "\n",
    "La methode `set()` (comme son nom l'indique) prend le dictionnaire en paramètre et le remplace set ce dictionsnaire comme étant le nouveau document.\n",
    "  - Si le document existe déja, il est remplacé (on dit que le nouveau dictionnaire overrite l'ancien)\n",
    "  - Si le document n'existe pas, il est créé (Cas déjà vu dans le `create`)\n",
    "\n",
    "La methode `set()` utilise un `document reference` pour mettre à jour un document."
   ]
  },
  {
   "cell_type": "code",
   "execution_count": null,
   "id": "7ee189c4",
   "metadata": {
    "slideshow": {
     "slide_type": "slide"
    }
   },
   "outputs": [],
   "source": [
    "update_data = {u'born': 1906}\n",
    "ada_data = {u'firstname': u'Ada', u'lastname': u'Lovelace', u'born': 1815, u'died': 1852, u'papers': [u'Analytical Engine']}\n",
    "doc_ref = db.collection(u'users').document(u'ghopper2')\n",
    "ghopper_before = doc_ref.get().to_dict()\n",
    "print(ghopper_before)\n",
    "doc = doc_ref.set(ada_data)\n",
    "ghopper_after = doc_ref.get().to_dict()\n",
    "print(ghopper_after)"
   ]
  },
  {
   "cell_type": "markdown",
   "id": "45b828f8",
   "metadata": {
    "slideshow": {
     "slide_type": "slide"
    }
   },
   "source": [
    "## Delete a document\n",
    "### `delete()`\n",
    "\n",
    "La méthode delete permet de supprimer un document dans une collection.\n",
    "\n",
    "La methode `delete()` utilise un `document reference` pour supprimer un document."
   ]
  },
  {
   "cell_type": "code",
   "execution_count": null,
   "id": "e9c67fe0",
   "metadata": {
    "slideshow": {
     "slide_type": "slide"
    }
   },
   "outputs": [],
   "source": [
    "doc_ref = db.collection(u'users').document(u'ghopper2')\n",
    "ghopper_before = doc_ref.get().to_dict()\n",
    "print(ghopper_before)\n",
    "doc = doc_ref.delete()\n",
    "ghopper_after = doc_ref.get().to_dict()\n",
    "print(ghopper_after)"
   ]
  },
  {
   "cell_type": "markdown",
   "id": "f0180e20",
   "metadata": {
    "slideshow": {
     "slide_type": "slide"
    }
   },
   "source": [
    "## Good Practices\n",
    "\n",
    "Maintenant que l'on a vu le `CRUD` avec `Firestore`, voici une bonne pratique."
   ]
  },
  {
   "cell_type": "code",
   "execution_count": null,
   "id": "d0eae4f4",
   "metadata": {
    "slideshow": {
     "slide_type": "slide"
    }
   },
   "outputs": [],
   "source": [
    "class City:\n",
    "    def __init__(self, name, state, country, capital=False, population=0, regions=[]):\n",
    "        self.name = name\n",
    "        self.state = state\n",
    "        self.country = country\n",
    "        self.capital = capital\n",
    "        self.population = population\n",
    "        self.regions = regions\n",
    "\n",
    "    @staticmethod\n",
    "    def from_dict(source: dict):\n",
    "        pass\n",
    "\n",
    "    def to_dict(self) -> dict:\n",
    "        return {\n",
    "            u'name': self.name,\n",
    "            u'state': self.state,\n",
    "            u'country': self.country,\n",
    "            u'capital': self.capital,\n",
    "            u'population': self.population,\n",
    "            u'regions': self.regions,\n",
    "        }\n",
    "\n",
    "    def __repr__(self):\n",
    "      return f\"\"\"City(\\\n",
    "              name={self.name},\n",
    "              country={self.country},\n",
    "              population={self.population},\n",
    "              capital={self.capital},\n",
    "              regions={self.regions}\n",
    "          )\"\"\"\n"
   ]
  },
  {
   "cell_type": "markdown",
   "id": "a00b90ce",
   "metadata": {
    "slideshow": {
     "slide_type": "slide"
    }
   },
   "source": [
    "Ici on a une classe qui permet de gerer les documents d'une collection. La collection ici semble être `cities`. La classe implement deux fonctions:\n",
    "  - `from_dict`: qui prend un dict en paramètre et retourne une instance de la classe `City`\n",
    "  - `to_dict`: qui retourne un dict qui représente l'instance de la classe `City`\n",
    "\n",
    "Cette approche permet de mieux structurer le code et de mieux gérer les données. Les données a ajouter seront toujours des instances de la classe `City` et utiliseront toujours la même methode pour generer les dictionnaies.\n"
   ]
  },
  {
   "cell_type": "markdown",
   "id": "30a6c737",
   "metadata": {
    "slideshow": {
     "slide_type": "slide"
    }
   },
   "source": [
    "### Ajout de données"
   ]
  },
  {
   "cell_type": "code",
   "execution_count": null,
   "id": "5dfd8000",
   "metadata": {
    "slideshow": {
     "slide_type": "slide"
    }
   },
   "outputs": [],
   "source": [
    "cities_ref = db.collection(\"cities\")\n",
    "cities_ref.document(\"BJ\").set(\n",
    "    City(\"Beijing\", None, \"China\", True, 21500000, [\"hebei\"]).to_dict()\n",
    ")\n",
    "cities_ref.document(\"SF\").set(\n",
    "    City(\n",
    "        \"San Francisco\", \"CA\", \"USA\", False, 860000, [\"west_coast\", \"norcal\"]\n",
    "    ).to_dict()\n",
    ")\n",
    "cities_ref.document(\"LA\").set(\n",
    "    City(\n",
    "        \"Los Angeles\", \"CA\", \"USA\", False, 3900000, [\"west_coast\", \"socal\"]\n",
    "    ).to_dict()\n",
    ")\n",
    "cities_ref.document(\"DC\").set(\n",
    "    City(\"Washington D.C.\", None, \"USA\", True, 680000, [\"east_coast\"]).to_dict()\n",
    ")\n",
    "cities_ref.document(\"TOK\").set(\n",
    "    City(\"Tokyo\", None, \"Japan\", True, 9000000, [\"kanto\", \"honshu\"]).to_dict()\n",
    ")\n",
    "\n",
    "print(\"Cities Inserted\")"
   ]
  },
  {
   "cell_type": "markdown",
   "id": "e5cd4eea",
   "metadata": {
    "slideshow": {
     "slide_type": "slide"
    }
   },
   "source": [
    "## Queries\n",
    "\n",
    "Les `queries` permettent de filtrer les données d'une collection. Elles permettent de récupérer des documents qui respectent certaines conditions.\n",
    "\n",
    "Pour creer une query, on utilise la methode `where` de la `collection reference`. Cette methode prend 3 paramètres:\n",
    "  - Le nom du champ sur lequel on veut faire la condition (clé du dictionnaire)\n",
    "  - L'opérateur de comparaison au format `string`\n",
    "  - La valeur de comparaison (valeur du dictionnaire)"
   ]
  },
  {
   "cell_type": "markdown",
   "id": "08575ef0",
   "metadata": {
    "slideshow": {
     "slide_type": "slide"
    }
   },
   "source": [
    "### Queries operators\n",
    "\n",
    "Voici les opérateurs de comparaison disponibles:\n",
    "  - `<`: inférieur\n",
    "  - `<=`: inférieur ou égal\n",
    "  - `==`: égal\n",
    "  - `>`: supérieur\n",
    "  - `>=`: supérieur ou égal\n",
    "  - `!=`: différent\n",
    "  - `array_contains`: Si le champ est un tableau, permet de vérifier si la valeur est dans le tableau\n",
    "  - `array_contains_any`: Si le champ est un tableau, permet de vérifier si la valeur est dans une liste de valeurs\n",
    "  - `in`: Si la valeur est dans une liste de valeurs\n",
    "  - `not_in`: Si la valeur n'est pas dans une liste de valeurs"
   ]
  },
  {
   "cell_type": "markdown",
   "id": "2f86e419",
   "metadata": {
    "slideshow": {
     "slide_type": "slide"
    }
   },
   "source": [
    "### Simple queries\n",
    "\n",
    "Les `simple queries` permettent de récupérer des documents qui respectent une seule condition.\n",
    "\n",
    "La query suivant retourne toutes les villes dans l'etat de Californie (CA)"
   ]
  },
  {
   "cell_type": "code",
   "execution_count": null,
   "id": "babf84c5",
   "metadata": {
    "slideshow": {
     "slide_type": "slide"
    }
   },
   "outputs": [],
   "source": [
    "# Create a reference to the cities collection\n",
    "cities_ref = db.collection(\"cities\")\n",
    "\n",
    "# Create a query against the collection\n",
    "query_ca = cities_ref.where(\"state\", \"==\", \"CA\")"
   ]
  },
  {
   "cell_type": "markdown",
   "id": "31561cdc",
   "metadata": {
    "slideshow": {
     "slide_type": "slide"
    }
   },
   "source": [
    "Ici nous avons un objet de type `Query`"
   ]
  },
  {
   "cell_type": "markdown",
   "id": "4c9af24b",
   "metadata": {
    "slideshow": {
     "slide_type": "slide"
    }
   },
   "source": [
    "### Simple queries 2\n",
    "\n",
    "La query suivante retourne toute les villes qui sont une capitale"
   ]
  },
  {
   "cell_type": "code",
   "execution_count": null,
   "id": "8602b689",
   "metadata": {},
   "outputs": [],
   "source": [
    "cities_ref = db.collection(\"cities\")\n",
    "\n",
    "query_capital = cities_ref.where(\"capital\", \"==\", True)"
   ]
  },
  {
   "cell_type": "markdown",
   "id": "189c1064",
   "metadata": {
    "slideshow": {
     "slide_type": "slide"
    }
   },
   "source": [
    "### Execute a query\n",
    "\n",
    "Pour executer une query, on utilise la methode `stream()` de l'objet `Query`. Cette methode retourne un generateur d'objet `snapshot` qui contient les données des documents."
   ]
  },
  {
   "cell_type": "code",
   "execution_count": null,
   "id": "7ebd880a",
   "metadata": {},
   "outputs": [],
   "source": [
    "docs_ca = query_ca.stream()\n",
    "\n",
    "print(\"Cities in California:\")\n",
    "for doc in docs_ca:\n",
    "    print(f\"{doc.id} => {doc.to_dict()}\")"
   ]
  },
  {
   "cell_type": "code",
   "execution_count": null,
   "id": "eca9162b",
   "metadata": {},
   "outputs": [],
   "source": [
    "docs = query_capital.stream()\n",
    "print(type(docs), docs)\n",
    "for doc in docs:\n",
    "    print(f'{doc.id} => {doc.to_dict()}')"
   ]
  },
  {
   "cell_type": "markdown",
   "id": "38e66c7b",
   "metadata": {
    "slideshow": {
     "slide_type": "slide"
    }
   },
   "source": [
    "## Multiple queries\n",
    "\n",
    "Les `multiple queries` permettent de récupérer des documents qui respectent plusieurs conditions. Pour se faire il faut utiliser la methode `where` plusieurs fois. On peut voir ca comme des `AND` entre les conditions.\n",
    "\n",
    "**Limitation de Firebase:** Firebase ne permet pas de faire des `multiple queries` sur des champs différents. C'est à dire que l'on ne peut pas faire une query qui retourne les villes qui sont capitales et qui sont dans l'etat de Californie."
   ]
  },
  {
   "cell_type": "code",
   "execution_count": null,
   "id": "6b3ddb69",
   "metadata": {
    "slideshow": {
     "slide_type": "slide"
    }
   },
   "outputs": [],
   "source": [
    "multiple_queries_fail = cities_ref.where(\"state\", \"==\", \"CA\").where(\"population\", \"<\", 1000000).stream()\n",
    "print(type(multiple_queries), multiple_queries)\n",
    "for doc in multiple_queries:\n",
    "    print(f'{doc.id} => {doc.to_dict()}')"
   ]
  },
  {
   "cell_type": "code",
   "execution_count": null,
   "id": "1beeab42",
   "metadata": {
    "slideshow": {
     "slide_type": "slide"
    }
   },
   "outputs": [],
   "source": [
    "multiple_queries_works = cities_ref.where(\"state\", \"==\", \"CA\").where(\"name\", \"==\", \"San Francisco\").stream()\n",
    "print(type(multiple_queries_works), multiple_queries_works)\n",
    "for doc in multiple_queries_works:\n",
    "    print(f'{doc.id} => {doc.to_dict()}')"
   ]
  },
  {
   "cell_type": "markdown",
   "id": "cdb1c109",
   "metadata": {
    "slideshow": {
     "slide_type": "slide"
    }
   },
   "source": [
    "#### Operators example"
   ]
  },
  {
   "cell_type": "code",
   "execution_count": null,
   "id": "70d9af6d",
   "metadata": {},
   "outputs": [],
   "source": [
    "lt = cities_ref.where('population', '<', 100000)\n",
    "lte = cities_ref.where('population', '<=', 100000)\n",
    "eq = cities_ref.where('name', '==', 'San Francisco')\n",
    "gt = cities_ref.where('population', '>', 100000)\n",
    "gte = cities_ref.where('population', '>=', 100000)\n",
    "ne = cities_ref.where('name', '!=', 'San Francisco')\n",
    "array_contains = cities_ref.where('regions', 'array_contains', 'west_coast')\n",
    "array_contains_any = cities_ref.where('regions', 'array_contains_any', ['west_coast', 'east_coast'])\n",
    "in_ = cities_ref.where('name', 'in', ['San Francisco', 'Los Angeles'])\n",
    "not_in = cities_ref.where('name', 'not-in', ['San Francisco', 'Los Angeles'])"
   ]
  },
  {
   "cell_type": "markdown",
   "id": "70b7bb7a",
   "metadata": {
    "slideshow": {
     "slide_type": "slide"
    }
   },
   "source": [
    "## Ordering and Pagination\n",
    "### Ordering\n",
    "\n",
    "Il est possible de trier les résultats d'une query en utilisant la methode `order_by` de l'objet `Query`. Cette methode prend en paramètre le nom du champ sur lequel on veut trier les résultats."
   ]
  },
  {
   "cell_type": "code",
   "execution_count": null,
   "id": "f3c678b9",
   "metadata": {
    "slideshow": {
     "slide_type": "slide"
    }
   },
   "outputs": [],
   "source": [
    "ordered_docs = cities_ref.order_by('population').stream()\n",
    "print(\"Ordered by population ASC:\")\n",
    "for doc in ordered_docs:\n",
    "    print(f\"{doc.id} => {doc.to_dict()}\")"
   ]
  },
  {
   "cell_type": "code",
   "execution_count": null,
   "id": "38489229",
   "metadata": {
    "slideshow": {
     "slide_type": "slide"
    }
   },
   "outputs": [],
   "source": [
    "ordered_docs_desc = cities_ref.order_by('population', direction=firestore.Query.DESCENDING).stream()\n",
    "print(\"Ordered by population DESC:\")\n",
    "for doc in ordered_docs_desc:\n",
    "    print(f\"{doc.id} => {doc.to_dict()}\")"
   ]
  },
  {
   "cell_type": "markdown",
   "id": "8173721f",
   "metadata": {
    "slideshow": {
     "slide_type": "slide"
    }
   },
   "source": [
    "### Pagination\n",
    "\n",
    "Il est possible de paginer les résultats d'une query en utilisant les methodes `limit` et `start_at` et `end_at` de l'objet `Query`."
   ]
  },
  {
   "cell_type": "code",
   "execution_count": null,
   "id": "2126b6b2",
   "metadata": {
    "slideshow": {
     "slide_type": "slide"
    }
   },
   "outputs": [],
   "source": [
    "cities_ref = db.collection(\"cities\")\n",
    "query_start_at = cities_ref.order_by(\"population\").start_at({\"population\": 1000000}).stream()\n",
    "\n",
    "print(\"Start at 1,000,000:\")\n",
    "for doc in query_start_at:\n",
    "    print(f\"{doc.id} => {doc.to_dict()}\")"
   ]
  },
  {
   "cell_type": "code",
   "execution_count": null,
   "id": "18d1e9ba",
   "metadata": {
    "slideshow": {
     "slide_type": "slide"
    }
   },
   "outputs": [],
   "source": [
    "cities_ref = db.collection(\"cities\")\n",
    "query_end_at = cities_ref.order_by(\"population\").end_at({\"population\": 1000000})\n",
    "\n",
    "print(\"End at 1,000,000:\")\n",
    "for doc in query_end_at.stream():\n",
    "    print(f\"{doc.id} => {doc.to_dict()}\")"
   ]
  },
  {
   "cell_type": "markdown",
   "id": "b2c6d42b",
   "metadata": {
    "slideshow": {
     "slide_type": "slide"
    }
   },
   "source": [
    "### limit\n",
    "\n",
    "La methode `limit` permet de limiter le nombre de résultats retournés par la query."
   ]
  },
  {
   "cell_type": "code",
   "execution_count": null,
   "id": "fc78d4c2",
   "metadata": {},
   "outputs": [],
   "source": [
    "docs_limit = cities_ref.limit(2).stream()\n",
    "\n",
    "print(\"Limited to 2:\")\n",
    "for doc in docs_limit:\n",
    "    print(f\"{doc.id} => {doc.to_dict()}\")"
   ]
  }
 ],
 "metadata": {
  "celltoolbar": "Slideshow",
  "kernelspec": {
   "display_name": "Python 3 (ipykernel)",
   "language": "python",
   "name": "python3"
  },
  "language_info": {
   "codemirror_mode": {
    "name": "ipython",
    "version": 3
   },
   "file_extension": ".py",
   "mimetype": "text/x-python",
   "name": "python",
   "nbconvert_exporter": "python",
   "pygments_lexer": "ipython3",
   "version": "3.10.13"
  }
 },
 "nbformat": 4,
 "nbformat_minor": 5
}
