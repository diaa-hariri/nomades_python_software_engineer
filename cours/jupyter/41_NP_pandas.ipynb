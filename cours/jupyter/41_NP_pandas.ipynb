{
 "cells": [
  {
   "cell_type": "markdown",
   "id": "83e01e82",
   "metadata": {
    "slideshow": {
     "slide_type": "slide"
    }
   },
   "source": [
    "# Pandas"
   ]
  },
  {
   "cell_type": "markdown",
   "id": "9d99275e",
   "metadata": {
    "slideshow": {
     "slide_type": "slide"
    }
   },
   "source": [
    "## What is panadas\n",
    "\n",
    "- Pandas is a Python library for data analysis and manipulation.\n",
    "- It is built on top of the NumPy library.\n",
    "- It offers data structures and operations for manipulating numerical tables and time series.\n",
    "- It provides data analysis tools for exploratory data analysis, data cleaning, and data transformation.\n",
    "- It also provides data visualization features.\n",
    "- It's free to use and open source."
   ]
  },
  {
   "cell_type": "markdown",
   "id": "786e4eee",
   "metadata": {
    "slideshow": {
     "slide_type": "slide"
    }
   },
   "source": [
    "## Installation\n",
    "\n",
    "To install pandas, you can use the following command:\n",
    "\n",
    "```bash\n",
    "conda install -c conda-forge pandas\n",
    "```"
   ]
  },
  {
   "cell_type": "markdown",
   "id": "b6241835",
   "metadata": {
    "slideshow": {
     "slide_type": "slide"
    }
   },
   "source": [
    "## Import pandas\n",
    "\n",
    "To import pandas, you can use the following command:"
   ]
  },
  {
   "cell_type": "code",
   "execution_count": null,
   "id": "65c240e1",
   "metadata": {},
   "outputs": [],
   "source": [
    "import pandas as pd"
   ]
  },
  {
   "cell_type": "markdown",
   "id": "b6f69c84",
   "metadata": {},
   "source": [
    "**Note :** When importing pandas, it's by convention to use the alias `pd`."
   ]
  },
  {
   "cell_type": "markdown",
   "id": "7bea0b00",
   "metadata": {
    "slideshow": {
     "slide_type": "slide"
    }
   },
   "source": [
    "## Pandas - Data Structures\n",
    "\n",
    "Pandas has two main data structures: `Series` and `DataFrames`.\n",
    "\n",
    "- A DataFrame is a two-dimensional labeled data structure with columns of potentially different types.\n",
    "- A Series is a one-dimensional labeled array."
   ]
  },
  {
   "cell_type": "markdown",
   "id": "d5e398a3",
   "metadata": {
    "slideshow": {
     "slide_type": "slide"
    }
   },
   "source": [
    "## Pandas - Data Structures\n",
    "### DataFrames\n",
    "\n",
    "A DataFrame is a table. It contains an array of individual entries, each of which has a certain value. Each entry corresponds to a row (or record) and a column"
   ]
  },
  {
   "cell_type": "code",
   "execution_count": null,
   "id": "e6642800",
   "metadata": {},
   "outputs": [],
   "source": [
    "pd.DataFrame({'Yes': [50, 21], 'No': [131, 2]})"
   ]
  },
  {
   "cell_type": "markdown",
   "id": "77cfdccf",
   "metadata": {
    "slideshow": {
     "slide_type": "slide"
    }
   },
   "source": [
    "In the previous example:\n",
    "  - `Yes` and `No` are the column names\n",
    "  - `50` and `21` are the values in the `Yes` column\n",
    "  - `131` and `2` are the values in the `No` column\n",
    "  - yes/0 is 50; yes/1 is 21; no/0 is 131; no/1 is 2"
   ]
  },
  {
   "cell_type": "markdown",
   "id": "b5e0a39a",
   "metadata": {
    "slideshow": {
     "slide_type": "slide"
    }
   },
   "source": [
    "### DataFrames\n",
    "\n",
    "The `Dataframes` object is not limited to numbers values. It can contain any data type."
   ]
  },
  {
   "cell_type": "code",
   "execution_count": null,
   "id": "6053f7ba",
   "metadata": {},
   "outputs": [],
   "source": [
    "df = pd.DataFrame({'Bob': ['I liked it.', 'It was awful.'], 'Sue': ['Pretty good.', 'Bland.']})\n",
    "print(df)\n",
    "df[\"Bob\"][0]"
   ]
  },
  {
   "cell_type": "markdown",
   "id": "3f8495f2",
   "metadata": {},
   "source": [
    "We are using the `pd.DataFrame()` constructor to instaciate these DataFrame objects. \n",
    "\n",
    "The syntax for declaring a new one is a dictionary whose keys are the column names (`Bob` and `Sue` in this example), and whose values are a list of entries. This is the standard way of constructing a new DataFrame, and the one you are most likely to encounter."
   ]
  },
  {
   "cell_type": "markdown",
   "id": "d4c0fca5",
   "metadata": {
    "slideshow": {
     "slide_type": "slide"
    }
   },
   "source": [
    "The dictionary-list constructor assigns values to the column labels, but just uses an *ascending count* from 0 (0, 1, 2, 3, ...) for the row labels. Sometimes this is OK, but oftentimes we will want to assign these labels ourselves.\n",
    "\n",
    "The list of row labels used in a DataFrame is known as an `Index`. We can assign values to it by using an index parameter in our constructor:"
   ]
  },
  {
   "cell_type": "code",
   "execution_count": null,
   "id": "192a0583",
   "metadata": {},
   "outputs": [],
   "source": [
    "df = pd.DataFrame({\n",
    "    'Bob': ['I liked it.', 'It was awful.'], \n",
    "    'Sue': ['Pretty good.', 'Bland.']\n",
    "}, index=['Product A', 'Product B'])\n",
    "df[\"Bob\"]['Product A']"
   ]
  },
  {
   "cell_type": "code",
   "execution_count": null,
   "id": "35ee4c5b",
   "metadata": {},
   "outputs": [],
   "source": [
    "pd.DataFrame({'Bob': ['I liked it.', 'It was awful.', 2], \n",
    "              'Sue': ['', 'Bland.', 1]},\n",
    "             index=['Product A', 'Product B', \"Product_count\"])"
   ]
  },
  {
   "cell_type": "markdown",
   "id": "b0dc01c1",
   "metadata": {
    "slideshow": {
     "slide_type": "slide"
    }
   },
   "source": [
    "## Pandas - Data Structures\n",
    "### Series\n",
    "\n",
    "A Series, by contrast, is a sequence of data values. If a DataFrame is a table, a Series is a list :"
   ]
  },
  {
   "cell_type": "code",
   "execution_count": null,
   "id": "aa8d7ba4",
   "metadata": {},
   "outputs": [],
   "source": [
    "s = pd.Series([1, 2, 3, 4, 5])\n",
    "s"
   ]
  },
  {
   "cell_type": "markdown",
   "id": "08be5ddf",
   "metadata": {},
   "source": [
    "**Note :** In fact you can create one with nothing more than a python list"
   ]
  },
  {
   "cell_type": "markdown",
   "id": "5bcb55c5",
   "metadata": {
    "slideshow": {
     "slide_type": "slide"
    }
   },
   "source": [
    "### Series\n",
    "\n",
    "You can visualize a Series as a single column of a DataFrame. So you can assign row labels to the Series the same way as before, using an `index` parameter. However, a Series does not have a column name, it only has one overall name:"
   ]
  },
  {
   "cell_type": "code",
   "execution_count": null,
   "id": "760f2438",
   "metadata": {},
   "outputs": [],
   "source": [
    "serie_label = pd.Series([30, 35, 40], index=['2015 Sales', '2016 Sales', '2017 Sales'], name='Product A')\n",
    "print(\"serie_label\", serie_label, sep=\"\\n\")"
   ]
  },
  {
   "cell_type": "markdown",
   "id": "5813d75c",
   "metadata": {
    "slideshow": {
     "slide_type": "slide"
    }
   },
   "source": [
    "## Pandas - Data Structures\n",
    "### Conclusion\n",
    "\n",
    "The Series and the DataFrame are intimately related. It's helpful to think of a `DataFrame` as actually being just a bunch of Series \"glued together\"."
   ]
  },
  {
   "cell_type": "markdown",
   "id": "21659a05",
   "metadata": {
    "slideshow": {
     "slide_type": "slide"
    }
   },
   "source": [
    "## Pandas - Reading Data Files\n",
    "\n",
    "Being able to create a DataFrame or Series by hand is handy. But, most of the time, we won't actually be creating our own data by hand. Instead, we'll be working with data that already exists.\n",
    "\n",
    "Pandas has built-in methods for reading data from various file formats including CSV, Excel, JSON, and SQL."
   ]
  },
  {
   "cell_type": "markdown",
   "id": "7a8d9ce7",
   "metadata": {
    "slideshow": {
     "slide_type": "slide"
    }
   },
   "source": [
    "## Pandas - Reading Data Files\n",
    "\n",
    "Here is a table of the different types of files that pandas can read:\n",
    "\n",
    "| Data Format | Read | Write |\n",
    "|------------|------|-------|\n",
    "| CSV | pd.read_csv | pd.to_csv |\n",
    "| Excel | pd.read_excel | pd.to_excel |\n",
    "| JSON | pd.read_json | pd.to_json |\n",
    "| SQL | pd.read_sql | pd.to_sql |\n",
    "| HTML | pd.read_html | pd.to_html |\n"
   ]
  },
  {
   "cell_type": "markdown",
   "id": "1478e806",
   "metadata": {},
   "source": [
    "**Note :** in this notebook we'll use the CSV file format"
   ]
  },
  {
   "cell_type": "code",
   "execution_count": null,
   "id": "57b93f90",
   "metadata": {
    "slideshow": {
     "slide_type": "slide"
    }
   },
   "outputs": [],
   "source": [
    "wine_reviews = pd.read_csv(\"./data/numpy_pandas/dataset/wine-reviews/winemag-data-130k-v2.csv\")\n",
    "wine_reviews.shape"
   ]
  },
  {
   "cell_type": "markdown",
   "id": "98344241",
   "metadata": {},
   "source": [
    "**Note :** We can see that this dataset has 129971 rows and 14 columns. This is like 1.8 Millions of entries."
   ]
  },
  {
   "cell_type": "markdown",
   "id": "3e8ad6da",
   "metadata": {
    "slideshow": {
     "slide_type": "slide"
    }
   },
   "source": [
    "## Pandas - Reading Data Files\n",
    "### pd.read_csv()\n",
    "\n",
    "The `pd.read_csv()` method contains many parameters :\n",
    "\n",
    "| Parameter | Description |\n",
    "|-----------|-------------|\n",
    "| filepath_or_buffer | The path to the file to read. Can be a URL. |\n",
    "| sep | The separator for the columns. By default, it is a comma. |\n",
    "| delimiter | The separator for the columns. By default, it is a comma. |\n",
    "| header | The row to use as the column names. By default, it is the first row. |\n",
    "| names | The column names. By default, it is None. |\n",
    "| index_col | The column to use as the index. By default, it is None. |\n",
    "| usecols | The columns to use. By default, it is None. |\n",
    "| encoding | The encoding to use. By default, it is None. |\n",
    "| engine | The engine to use. By default, it is None. |\n",
    "| squeeze | If the data is only one column, return a Series. By default, it is False. |\n",
    "| skiprows | The rows to skip. By default, it is None. |\n",
    "| nrows | The number of rows to read. By default, it is None. |\n",
    "| na_values | The values to use for missing values. By default, it is None. |\n",
    "| parse_dates | If True, parse the dates. By default, it is False. |\n",
    "| infer_datetime_format | If True, infer the datetime format. By default, it is False. |"
   ]
  },
  {
   "cell_type": "markdown",
   "id": "588732ce",
   "metadata": {
    "slideshow": {
     "slide_type": "slide"
    }
   },
   "source": [
    "## Pandas - Reading Data Files\n",
    "### Head and Tail\n",
    "\n",
    "We can visulize the first and last rows of a DataFrame:\n",
    "  - If I call directly the `DataFrame` object, I'll see the first 5 rows and the last 5 rows\n",
    "  - If I call the `head()` method, I'll see the first 5 rows\n",
    "  - If I call the `tail()` method, I'll see the last 5 rows"
   ]
  },
  {
   "cell_type": "code",
   "execution_count": null,
   "id": "01d212f1",
   "metadata": {
    "slideshow": {
     "slide_type": "slide"
    }
   },
   "outputs": [],
   "source": [
    "(wine_reviews)"
   ]
  },
  {
   "cell_type": "code",
   "execution_count": null,
   "id": "627dcacd",
   "metadata": {
    "slideshow": {
     "slide_type": "slide"
    }
   },
   "outputs": [],
   "source": [
    "(wine_reviews.head())"
   ]
  },
  {
   "cell_type": "code",
   "execution_count": null,
   "id": "fa6025e3",
   "metadata": {
    "slideshow": {
     "slide_type": "slide"
    }
   },
   "outputs": [],
   "source": [
    "print(wine_reviews.tail(1))"
   ]
  },
  {
   "cell_type": "markdown",
   "id": "b20d9b8c",
   "metadata": {
    "slideshow": {
     "slide_type": "slide"
    }
   },
   "source": [
    "If we look at the data more precisely, we can see that the dataset has a built-in index. If we want to use this column as index for the data we need to specify the `index_col` parameter.\n"
   ]
  },
  {
   "cell_type": "code",
   "execution_count": null,
   "id": "4b2def51",
   "metadata": {
    "scrolled": true,
    "slideshow": {
     "slide_type": "slide"
    }
   },
   "outputs": [],
   "source": [
    "wine_reviews = pd.read_csv(\"./data/numpy_pandas/dataset/wine-reviews/winemag-data-130k-v2.csv\", index_col=0)\n",
    "wine_reviews.head()"
   ]
  },
  {
   "cell_type": "markdown",
   "id": "5d916036",
   "metadata": {
    "slideshow": {
     "slide_type": "slide"
    }
   },
   "source": [
    "## Pandas - Indexing, Selecting, Assigning\n",
    "### Introduction\n",
    "\n",
    "Selecting specific values of a pandas DataFrame or Series to work on is an implicit step in almost any data operation you'll run, so one of the first things you need to learn in working with data in Python is how to go about selecting the data points relevant to you quickly and effectively."
   ]
  },
  {
   "cell_type": "code",
   "execution_count": null,
   "id": "dc6a3d3c",
   "metadata": {},
   "outputs": [],
   "source": [
    "pd.set_option('display.max_rows', 10)\n",
    "reviews = pd.read_csv(\"./data/numpy_pandas/dataset/wine-reviews/winemag-data-130k-v2.csv\", index_col=0)"
   ]
  },
  {
   "cell_type": "markdown",
   "id": "8c3aca87",
   "metadata": {
    "slideshow": {
     "slide_type": "slide"
    }
   },
   "source": [
    "## Pandas - Indexing, Selecting, Assigning\n",
    "### Native accessors\n",
    "\n",
    "Native Python objects provide good ways of indexing data. Pandas carries all of these over, which helps make it easy to start with.\n",
    "\n",
    "Consider this DataFrame:"
   ]
  },
  {
   "cell_type": "code",
   "execution_count": null,
   "id": "f6935ba8",
   "metadata": {
    "slideshow": {
     "slide_type": "slide"
    }
   },
   "outputs": [],
   "source": [
    "reviews"
   ]
  },
  {
   "cell_type": "markdown",
   "id": "7ac2e8b7",
   "metadata": {
    "slideshow": {
     "slide_type": "slide"
    }
   },
   "source": [
    "In Python, we can access the property of an object by accessing it as an attribute. A `book` object, for example, might have a `title` property, which we can access by calling `book.title`. Columns in a pandas DataFrame work in much the same way.\n",
    "\n",
    "Hence to access the country property of reviews we can use:"
   ]
  },
  {
   "cell_type": "code",
   "execution_count": null,
   "id": "bf58bd06",
   "metadata": {},
   "outputs": [],
   "source": [
    "reviews.country"
   ]
  },
  {
   "cell_type": "markdown",
   "id": "0f8a585f",
   "metadata": {
    "slideshow": {
     "slide_type": "slide"
    }
   },
   "source": [
    "If we have a Python dictionary, we can access its values using the indexing ([]) operator. We can do the same with columns in a DataFrame:"
   ]
  },
  {
   "cell_type": "code",
   "execution_count": null,
   "id": "64294130",
   "metadata": {},
   "outputs": [],
   "source": [
    "reviews['country']"
   ]
  },
  {
   "cell_type": "markdown",
   "id": "e97513de",
   "metadata": {},
   "source": [
    "**Note :** These are the two ways of selecting a specific Series out of a DataFrame. Neither of them is more or less syntactically valid than the other, but the indexing operator [] does have the advantage that it can handle column names with reserved characters in them (e.g. if we had a country providence column, reviews.country providence wouldn't work)."
   ]
  },
  {
   "cell_type": "code",
   "execution_count": null,
   "id": "f50629eb",
   "metadata": {},
   "outputs": [],
   "source": [
    "reviews.country[0]"
   ]
  },
  {
   "cell_type": "markdown",
   "id": "b1ba769d",
   "metadata": {
    "slideshow": {
     "slide_type": "slide"
    }
   },
   "source": [
    "## Pandas - Indexing, Selecting, Assigning\n",
    "### Indexing in Pandas\n",
    "\n",
    "The indexing operator and attribute selection are nice because they work just like they do in the rest of the Python ecosystem. \n",
    "\n",
    "However, pandas has its own accessor operators, `loc` and `iloc`. For more advanced operations, these are the ones you're supposed to be using\n",
    "\n",
    "- `loc` for label-based indexing\n",
    "- `iloc` for Index-based indexing"
   ]
  },
  {
   "cell_type": "markdown",
   "id": "2cbd1c92",
   "metadata": {
    "slideshow": {
     "slide_type": "slide"
    }
   },
   "source": [
    "#### Index-based selection\n",
    "\n",
    "`iloc` selects data based on its numerical position in the data. iloc follows this paradigm.\n",
    "\n",
    "To select the first row of data in a DataFrame, we may use the following:"
   ]
  },
  {
   "cell_type": "code",
   "execution_count": null,
   "id": "1ea8a04e",
   "metadata": {},
   "outputs": [],
   "source": [
    "reviews.iloc[0]"
   ]
  },
  {
   "cell_type": "markdown",
   "id": "1e4c3571",
   "metadata": {
    "slideshow": {
     "slide_type": "slide"
    }
   },
   "source": [
    "**Note :** Both `loc` and `iloc` are row-first, column-second. This is the opposite of what we do in native Python, which is column-first, row-second."
   ]
  },
  {
   "cell_type": "markdown",
   "id": "8b9c2af9",
   "metadata": {
    "slideshow": {
     "slide_type": "slide"
    }
   },
   "source": [
    "This means that it's marginally easier to retrieve rows, and marginally harder to get retrieve columns. \n",
    "\n",
    "To get a column with iloc, we can do the following:"
   ]
  },
  {
   "cell_type": "code",
   "execution_count": null,
   "id": "7fca57c2",
   "metadata": {},
   "outputs": [],
   "source": [
    "reviews.iloc[:, 0]"
   ]
  },
  {
   "cell_type": "markdown",
   "id": "a3189ea2",
   "metadata": {
    "slideshow": {
     "slide_type": "slide"
    }
   },
   "source": [
    "On its own, the : operator, which also comes from native Python, means \"everything\". When combined with other selectors, however, it can be used to indicate a range of values. For example, to select the country column from just the first, second, and third row, we would do:"
   ]
  },
  {
   "cell_type": "markdown",
   "id": "7fefc80e",
   "metadata": {
    "slideshow": {
     "slide_type": "slide"
    }
   },
   "source": [
    "Or, to select just the second and third entries, we would do:"
   ]
  },
  {
   "cell_type": "code",
   "execution_count": null,
   "id": "ddd150b4",
   "metadata": {},
   "outputs": [],
   "source": [
    "reviews.iloc[:3, 0]"
   ]
  },
  {
   "cell_type": "markdown",
   "id": "cb4e7feb",
   "metadata": {
    "slideshow": {
     "slide_type": "slide"
    }
   },
   "source": [
    "It's also possible to pass a list:"
   ]
  },
  {
   "cell_type": "code",
   "execution_count": null,
   "id": "c01ac3af",
   "metadata": {},
   "outputs": [],
   "source": [
    "reviews.iloc[[0, 10, 20], 0]"
   ]
  },
  {
   "cell_type": "markdown",
   "id": "2a4ba407",
   "metadata": {
    "slideshow": {
     "slide_type": "slide"
    }
   },
   "source": [
    "Finally, it's worth knowing that negative numbers can be used in selection."
   ]
  },
  {
   "cell_type": "code",
   "execution_count": null,
   "id": "67a1ca27",
   "metadata": {},
   "outputs": [],
   "source": [
    "reviews.iloc[-5:, 0]"
   ]
  },
  {
   "cell_type": "markdown",
   "id": "d20a5e86",
   "metadata": {
    "slideshow": {
     "slide_type": "slide"
    }
   },
   "source": [
    "#### Index-based selection\n",
    "\n",
    "The second paradigm for attribute selection is the one followed by the `loc` operator: **label-based selection**. In this paradigm, it's the data index value, not its position, which matters.\n",
    "\n",
    "For example, to get the first entry in `reviews`, we would now do the following:"
   ]
  },
  {
   "cell_type": "code",
   "execution_count": null,
   "id": "9a3640a8",
   "metadata": {},
   "outputs": [],
   "source": [
    "reviews.loc[0, 'country']"
   ]
  },
  {
   "cell_type": "markdown",
   "id": "61ba4bb2",
   "metadata": {},
   "source": [
    "**Note :** iloc is conceptually simpler than loc because it ignores the dataset's indices. When we use iloc we treat the dataset like a big matrix (a list of lists), one that we have to index into by position. loc, by contrast, uses the information in the indices to do its work"
   ]
  },
  {
   "cell_type": "markdown",
   "id": "1c305720",
   "metadata": {
    "slideshow": {
     "slide_type": "slide"
    }
   },
   "source": [
    "Since your dataset usually has meaningful indices, it's usually easier to do things using loc instead. For example, here's one operation that's much easier using loc:"
   ]
  },
  {
   "cell_type": "code",
   "execution_count": null,
   "id": "b8096f4d",
   "metadata": {},
   "outputs": [],
   "source": [
    "reviews.loc[:, ['taster_name', 'taster_twitter_handle', 'points']]\n",
    "reviews.iloc[:, [8, 9, 3]]"
   ]
  },
  {
   "cell_type": "markdown",
   "id": "72905112",
   "metadata": {
    "slideshow": {
     "slide_type": "slide"
    }
   },
   "source": [
    "#### Choosing between `loc` and `iloc`\n",
    "\n",
    "When choosing or transitioning between `loc` and `iloc`, there is one \"gotcha\" worth keeping in mind, which is that the two methods use slightly different indexing schemes.\n",
    "\n",
    "`iloc` uses the Python stdlib indexing scheme, where the first element of the range is included and the last one excluded. So 0:10 will select entries 0,...,9. `loc`, meanwhile, indexes inclusively. So 0:10 will select entries 0,...,10.\n",
    "\n",
    "Why the change? Remember that `loc` can index any stdlib type: strings, for example. If we have a DataFrame with index values Apples, ..., Potatoes, ..., and we want to select \"all the alphabetical fruit choices between Apples and Potatoes\", then it's a heck of a lot more convenient to index `df.loc['Apples':'Potatoes']` than it is to index something like `df.loc['Apples', 'Potatoed']` (`t` coming after `s` in the alphabet).\n",
    "\n",
    "This is particularly confusing when the DataFrame index is a simple numerical list, e.g. 0,...,1000. In this case df.iloc[0:1000] will return 1000 entries, while df.loc[0:1000] return 1001 of them! To get 1000 elements using loc, you will need to go one lower and ask for df.loc[0:999].\n",
    "\n",
    "Otherwise, the semantics of using loc are the same as those for iloc."
   ]
  },
  {
   "cell_type": "markdown",
   "id": "8665bfdc",
   "metadata": {
    "slideshow": {
     "slide_type": "slide"
    }
   },
   "source": [
    "#### Manipulating the index\n",
    "\n",
    "Label-based selection derives its power from the labels in the index. Critically, the index we use is not immutable. We can manipulate the index in any way we see fit.\n",
    "\n",
    "The `set_index()` method can be used to do the job. Here is what happens when we `set_index` to the `title` field:"
   ]
  },
  {
   "cell_type": "code",
   "execution_count": null,
   "id": "c5687286",
   "metadata": {
    "slideshow": {
     "slide_type": "-"
    }
   },
   "outputs": [],
   "source": [
    "reviews.set_index(\"title\")"
   ]
  },
  {
   "cell_type": "markdown",
   "id": "55b7c972",
   "metadata": {
    "slideshow": {
     "slide_type": "slide"
    }
   },
   "source": [
    "#### Conditional selection\n",
    "\n",
    "So far we've been indexing various strides of data, using structural properties of the DataFrame itself. To do *interesting* things with the data, however, we often need to ask questions based on conditions.\n",
    "\n",
    "For example, suppose that we're interested specifically in better-than-average wines produced in Italy.\n",
    "\n",
    "We can start by checking if each wine is Italian or not:"
   ]
  },
  {
   "cell_type": "code",
   "execution_count": null,
   "id": "a827a73a",
   "metadata": {},
   "outputs": [],
   "source": [
    "reviews.country == 'Italy'"
   ]
  },
  {
   "cell_type": "markdown",
   "id": "89fbaf63",
   "metadata": {
    "slideshow": {
     "slide_type": "slide"
    }
   },
   "source": [
    "This operation produced a Series of True/False booleans based on the country of each record. This result can then be used inside of loc to select the relevant data:"
   ]
  },
  {
   "cell_type": "code",
   "execution_count": null,
   "id": "5170059f",
   "metadata": {
    "scrolled": true
   },
   "outputs": [],
   "source": [
    "italian_wines = reviews.loc[reviews.country == 'Italy']\n",
    "italian_wines"
   ]
  },
  {
   "cell_type": "markdown",
   "id": "840237b2",
   "metadata": {},
   "source": [
    "**Note :** This DataFrame has ~20,000 rows. The original had ~130,000. That means that around 15% of wines originate from Italy."
   ]
  },
  {
   "cell_type": "markdown",
   "id": "a1d055d0",
   "metadata": {
    "slideshow": {
     "slide_type": "slide"
    }
   },
   "source": [
    "We also wanted to know which ones are better than average. Wines are reviewed on a 80-to-100 point scale, so this could mean wines that accrued at least 90 points.\n",
    "\n",
    "We can use the ampersand (`&`) to bring the two questions together:"
   ]
  },
  {
   "cell_type": "code",
   "execution_count": null,
   "id": "43d33a01",
   "metadata": {},
   "outputs": [],
   "source": [
    "reviews.loc[(reviews.country == 'Italy') & (reviews.points >= 90)]"
   ]
  },
  {
   "cell_type": "markdown",
   "id": "fbed40f1",
   "metadata": {},
   "source": [
    "Suppose we'll buy any wine that's made in Italy or which is rated above average. For this we use a pipe (|):"
   ]
  },
  {
   "cell_type": "code",
   "execution_count": null,
   "id": "9b61b753",
   "metadata": {
    "slideshow": {
     "slide_type": "slide"
    }
   },
   "outputs": [],
   "source": [
    "reviews.loc[(reviews.country == 'Italy') | (reviews.points >= 90)]"
   ]
  },
  {
   "cell_type": "markdown",
   "id": "31b6d0f7",
   "metadata": {
    "slideshow": {
     "slide_type": "slide"
    }
   },
   "source": [
    "## Pandas Built-in conditinal selectors\n",
    "\n",
    "| Selector | Description |\n",
    "|----------|-------------|\n",
    "| `isin()` | Selects rows where the column contains one or more values |\n",
    "| `isnull()` | Selects rows where the column is null |\n",
    "| `notnull()` | Selects rows where the column is not null |\n",
    "| `between()` | Selects rows where the column is between two values |\n",
    "| `any()` | Selects rows where the column contains at least one non-null value |\n",
    "| `all()` | Selects rows where the column contains all non-null values |"
   ]
  },
  {
   "cell_type": "code",
   "execution_count": null,
   "id": "a7d5a9dd",
   "metadata": {},
   "outputs": [],
   "source": [
    "reviews.loc[reviews.country.isin(['Italy', 'France'])]"
   ]
  },
  {
   "cell_type": "markdown",
   "id": "8e6e9b3b",
   "metadata": {},
   "source": [
    "**Note :** The second is isnull (and its companion notnull). These methods let you highlight values which are (or are not) empty (NaN). For example, to filter out wines lacking a price tag in the dataset, here's what we would do:"
   ]
  },
  {
   "cell_type": "code",
   "execution_count": null,
   "id": "fa194480",
   "metadata": {
    "slideshow": {
     "slide_type": "slide"
    }
   },
   "outputs": [],
   "source": [
    "reviews.loc[reviews.designation.notnull()]"
   ]
  },
  {
   "cell_type": "markdown",
   "id": "bd0c25af",
   "metadata": {
    "slideshow": {
     "slide_type": "slide"
    }
   },
   "source": [
    "#### Assagning data\n",
    "\n",
    "Going the other way, assigning data to a DataFrame is easy. You can assign either a constant value:"
   ]
  },
  {
   "cell_type": "code",
   "execution_count": null,
   "id": "e5b67bf9",
   "metadata": {
    "slideshow": {
     "slide_type": "slide"
    }
   },
   "outputs": [],
   "source": [
    "reviews['critic'] = 'everyone'\n",
    "reviews"
   ]
  },
  {
   "cell_type": "code",
   "execution_count": null,
   "id": "4d4c1b7e",
   "metadata": {
    "slideshow": {
     "slide_type": "slide"
    }
   },
   "outputs": [],
   "source": [
    "# Or with iterable values\n",
    "reviews['index_backwards'] = range(len(reviews)-1, -1, -1)\n",
    "reviews['index_backwards']"
   ]
  },
  {
   "cell_type": "markdown",
   "id": "4b37927d",
   "metadata": {
    "slideshow": {
     "slide_type": "slide"
    }
   },
   "source": [
    "## Summary functions and Maps\n",
    "### Introduction\n",
    "\n",
    "In the last tutorial, we learned how to select relevant data out of a DataFrame or Series. Plucking the right data out of our data representation is critical to getting work done, as we demonstrated in the exercises.\n",
    "\n",
    "However, the data does not always come out of memory in the format we want it in right out of the bat. Sometimes we have to do some more work ourselves to reformat it for the task at hand. This tutorial will cover different operations we can apply to our data to get the input \"just right\"."
   ]
  },
  {
   "cell_type": "code",
   "execution_count": null,
   "id": "ebfb3099",
   "metadata": {},
   "outputs": [],
   "source": [
    "import numpy as np"
   ]
  },
  {
   "cell_type": "markdown",
   "id": "2797318d",
   "metadata": {
    "slideshow": {
     "slide_type": "slide"
    }
   },
   "source": [
    "### Summary functions\n",
    "\n",
    "Pandas provides many simple \"summary functions\" (not an official name) which restructure the data in some useful way. \n",
    "\n",
    "For example, consider the `describe()` method:"
   ]
  },
  {
   "cell_type": "code",
   "execution_count": 158,
   "id": "149c27ce",
   "metadata": {},
   "outputs": [
    {
     "data": {
      "text/plain": [
       "count    129971.000000\n",
       "mean         88.446930\n",
       "std           3.040752\n",
       "min          60.000000\n",
       "25%          86.000000\n",
       "50%          88.000000\n",
       "75%          91.000000\n",
       "max         100.000000\n",
       "Name: points, dtype: float64"
      ]
     },
     "execution_count": 158,
     "metadata": {},
     "output_type": "execute_result"
    }
   ],
   "source": [
    "pd.set_option('display.max_rows', 10)\n",
    "reviews = pd.read_csv(\"./data/numpy_pandas/dataset/wine-reviews/winemag-data-130k-v2.csv\", index_col=0)\n",
    "reviews.points.describe()"
   ]
  },
  {
   "cell_type": "markdown",
   "id": "d1e4ceb7",
   "metadata": {
    "slideshow": {
     "slide_type": "slide"
    }
   },
   "source": [
    "This method generates a high-level summary of the attributes of the given column. It is type-aware, meaning that its output changes based on the data type of the input. The output above only makes sense for numerical data; for string data here's what we get:"
   ]
  },
  {
   "cell_type": "code",
   "execution_count": null,
   "id": "a9229f90",
   "metadata": {},
   "outputs": [],
   "source": [
    "reviews.taster_name.describe()"
   ]
  },
  {
   "cell_type": "markdown",
   "id": "159639a1",
   "metadata": {
    "slideshow": {
     "slide_type": "slide"
    }
   },
   "source": [
    "If you want to get some particular simple summary statistic about a column in a DataFrame or a Series, there is usually a helpful pandas function that makes it happen.\n",
    "\n",
    "For example, to see the mean of the points allotted (e.g. how well an averagely rated wine does), we can use the mean() function:"
   ]
  },
  {
   "cell_type": "code",
   "execution_count": null,
   "id": "6f0f7cc1",
   "metadata": {},
   "outputs": [],
   "source": [
    "reviews.points.mean()"
   ]
  },
  {
   "cell_type": "markdown",
   "id": "6d63fb77",
   "metadata": {
    "slideshow": {
     "slide_type": "slide"
    }
   },
   "source": [
    "To see a list of unique values we can use the unique() function:"
   ]
  },
  {
   "cell_type": "code",
   "execution_count": null,
   "id": "8f27f58f",
   "metadata": {},
   "outputs": [],
   "source": [
    "reviews.taster_name.unique()"
   ]
  },
  {
   "cell_type": "markdown",
   "id": "9d8651f0",
   "metadata": {
    "slideshow": {
     "slide_type": "slide"
    }
   },
   "source": [
    "To see a list of unique values and how often they occur in the dataset, we can use the value_counts() method:"
   ]
  },
  {
   "cell_type": "code",
   "execution_count": null,
   "id": "b59a83f3",
   "metadata": {},
   "outputs": [],
   "source": [
    "reviews.taster_name.value_counts()"
   ]
  },
  {
   "cell_type": "markdown",
   "id": "fee238aa",
   "metadata": {
    "slideshow": {
     "slide_type": "slide"
    }
   },
   "source": [
    "### Maps\n",
    "\n",
    "A map is a term, borrowed from mathematics, for a function that takes one set of values and \"maps\" them to another set of values. In data science we often have a need for creating new representations from existing data, or for transforming data from the format it is in now to the format that we want it to be in later. Maps are what handle this work, making them extremely important for getting your work done!\n",
    "\n",
    "There are two mapping methods that you will use often.\n",
    "  - `map()`\n",
    "  - `apply()`"
   ]
  },
  {
   "cell_type": "markdown",
   "id": "095189a3",
   "metadata": {
    "slideshow": {
     "slide_type": "slide"
    }
   },
   "source": [
    "`map()`  is the first, and slightly simpler one. For example, suppose that we wanted to remean the scores the wines received to 0. We can do this as follows:"
   ]
  },
  {
   "cell_type": "code",
   "execution_count": null,
   "id": "23905a9d",
   "metadata": {},
   "outputs": [],
   "source": [
    "review_points_mean = reviews.points.mean()\n",
    "reviews.points.map(lambda p: p - review_points_mean)"
   ]
  },
  {
   "cell_type": "markdown",
   "id": "cd0c5751",
   "metadata": {},
   "source": [
    "**Note :** The function you pass to map() should expect a single value from the Series (a point value, in the above example), and return a transformed version of that value. \n",
    "\n",
    "map() returns a new Series where all the values have been transformed by your function"
   ]
  },
  {
   "cell_type": "markdown",
   "id": "9c33a83b",
   "metadata": {
    "slideshow": {
     "slide_type": "slide"
    }
   },
   "source": [
    "apply() is the equivalent method if we want to transform a whole DataFrame by calling a custom method on each row."
   ]
  },
  {
   "cell_type": "code",
   "execution_count": null,
   "id": "0bae0292",
   "metadata": {},
   "outputs": [],
   "source": [
    "def remean_points(row):\n",
    "    row.points = row.points - review_points_mean\n",
    "    return row\n",
    "\n",
    "reviews.apply(remean_points, axis='columns')"
   ]
  },
  {
   "cell_type": "markdown",
   "id": "633cbe9d",
   "metadata": {
    "slideshow": {
     "slide_type": "slide"
    }
   },
   "source": [
    "If we had called reviews.apply() with axis='index', then instead of passing a function to transform each row, we would need to give a function to transform each column.\n",
    "\n",
    "**Note :** that map() and apply() return new, transformed Series and DataFrames, respectively. They don't modify the original data they're called on. If we look at the first row of reviews, we can see that it still has its original points value."
   ]
  },
  {
   "cell_type": "code",
   "execution_count": null,
   "id": "121dd87a",
   "metadata": {},
   "outputs": [],
   "source": [
    "reviews.head(1)"
   ]
  },
  {
   "cell_type": "markdown",
   "id": "59752e82",
   "metadata": {
    "slideshow": {
     "slide_type": "slide"
    }
   },
   "source": [
    "Pandas provides many common mapping operations as built-ins. For example, here's a faster way of remeaning our points column:"
   ]
  },
  {
   "cell_type": "code",
   "execution_count": null,
   "id": "a6bc322c",
   "metadata": {},
   "outputs": [],
   "source": [
    "review_points_mean = reviews.points.mean()\n",
    "reviews.points - review_points_mean"
   ]
  },
  {
   "cell_type": "markdown",
   "id": "91e11602",
   "metadata": {
    "slideshow": {
     "slide_type": "slide"
    }
   },
   "source": [
    "In this code we are performing an operation between a lot of values on the left-hand side (everything in the Series) and a single value on the right-hand side (the mean value). Pandas looks at this expression and figures out that we must mean to subtract that mean value from every value in the dataset.\n",
    "\n",
    "Pandas will also understand what to do if we perform these operations between Series of equal length. For example, an easy way of combining country and region information in the dataset would be to do the following:"
   ]
  },
  {
   "cell_type": "code",
   "execution_count": null,
   "id": "ac09d664",
   "metadata": {},
   "outputs": [],
   "source": [
    "reviews.country + \" - \" + reviews.region_1"
   ]
  },
  {
   "cell_type": "markdown",
   "id": "dcb9d9fc",
   "metadata": {
    "slideshow": {
     "slide_type": "slide"
    }
   },
   "source": [
    "These operators are faster than map() or apply() because they use speed ups built into pandas. All of the standard Python operators (>, <, ==, and so on) work in this manner.\n",
    "\n",
    "However, they are not as flexible as map() or apply(), which can do more advanced things, like applying conditional logic, which cannot be done with addition and subtraction alone."
   ]
  },
  {
   "cell_type": "markdown",
   "id": "56e8b7b1",
   "metadata": {
    "slideshow": {
     "slide_type": "slide"
    }
   },
   "source": [
    "## Pandas - Grouping and sorting\n",
    "### Introduction\n",
    "\n",
    "Maps allow us to transform data in a DataFrame or Series one value at a time for an entire column. However, often we want to group our data, and then do something specific to the group the data is in.\n",
    "\n",
    "As you'll learn, we do this with the groupby() operation. We'll also cover some additional topics, such as more complex ways to index your DataFrames, along with how to sort your data."
   ]
  },
  {
   "cell_type": "markdown",
   "id": "421c464a",
   "metadata": {
    "slideshow": {
     "slide_type": "slide"
    }
   },
   "source": [
    "### Groupwise analysis\n",
    "\n",
    "One function we've been using heavily thus far is the value_counts() function. We can replicate what value_counts() does by doing the following:"
   ]
  },
  {
   "cell_type": "code",
   "execution_count": 159,
   "id": "a2e12230",
   "metadata": {},
   "outputs": [
    {
     "data": {
      "text/plain": [
       "points\n",
       "60        1\n",
       "80      397\n",
       "81      692\n",
       "82     1836\n",
       "83     3025\n",
       "       ... \n",
       "96      523\n",
       "97      229\n",
       "98       77\n",
       "99       33\n",
       "100      19\n",
       "Name: points, Length: 22, dtype: int64"
      ]
     },
     "execution_count": 159,
     "metadata": {},
     "output_type": "execute_result"
    }
   ],
   "source": [
    "reviews.groupby('points').points.count()"
   ]
  },
  {
   "cell_type": "markdown",
   "id": "c1f66e84",
   "metadata": {
    "slideshow": {
     "slide_type": "slide"
    }
   },
   "source": [
    "groupby() created a group of reviews which allotted the same point values to the given wines. Then, for each of these groups, we grabbed the points() column and counted how many times it appeared.  value_counts() is just a shortcut to this groupby() operation.\n",
    "  \n",
    "We can use any of the summary functions we've used before with this data. For example, to get the cheapest wine in each point value category, we can do the following:"
   ]
  },
  {
   "cell_type": "code",
   "execution_count": 165,
   "id": "1d090c15",
   "metadata": {
    "scrolled": true
   },
   "outputs": [
    {
     "data": {
      "text/plain": [
       "points\n",
       "60      15.000000\n",
       "80      16.372152\n",
       "81      17.182353\n",
       "82      18.870767\n",
       "83      18.237353\n",
       "          ...    \n",
       "96     159.292531\n",
       "97     207.173913\n",
       "98     245.492754\n",
       "99     284.214286\n",
       "100    485.947368\n",
       "Name: price, Length: 22, dtype: float64"
      ]
     },
     "execution_count": 165,
     "metadata": {},
     "output_type": "execute_result"
    }
   ],
   "source": [
    "reviews.groupby('points').price.mean()"
   ]
  },
  {
   "cell_type": "markdown",
   "id": "c6738ea0",
   "metadata": {
    "slideshow": {
     "slide_type": "slide"
    }
   },
   "source": [
    "You can think of each group we generate as being a slice of our DataFrame containing only data with values that match. This DataFrame is accessible to us directly using the apply() method, and we can then manipulate the data in any way we see fit. \n",
    "\n",
    "For example, here's one way of selecting the name of the first wine reviewed from each winery in the dataset:"
   ]
  },
  {
   "cell_type": "code",
   "execution_count": 166,
   "id": "66b0bc5e",
   "metadata": {},
   "outputs": [
    {
     "data": {
      "text/plain": [
       "winery\n",
       "1+1=3                                     1+1=3 NV Rosé Sparkling (Cava)\n",
       "10 Knots                            10 Knots 2010 Viognier (Paso Robles)\n",
       "100 Percent Wine              100 Percent Wine 2015 Moscato (California)\n",
       "1000 Stories           1000 Stories 2013 Bourbon Barrel Aged Zinfande...\n",
       "1070 Green                  1070 Green 2011 Sauvignon Blanc (Rutherford)\n",
       "                                             ...                        \n",
       "Órale                       Órale 2011 Cabronita Red (Santa Ynez Valley)\n",
       "Öko                    Öko 2013 Made With Organically Grown Grapes Ma...\n",
       "Ökonomierat Rebholz    Ökonomierat Rebholz 2007 Von Rotliegenden Spät...\n",
       "àMaurice               àMaurice 2013 Fred Estate Syrah (Walla Walla V...\n",
       "Štoka                                    Štoka 2009 Izbrani Teran (Kras)\n",
       "Length: 16757, dtype: object"
      ]
     },
     "execution_count": 166,
     "metadata": {},
     "output_type": "execute_result"
    }
   ],
   "source": [
    "reviews.groupby('winery').apply(lambda df: df.title.iloc[0])"
   ]
  },
  {
   "cell_type": "markdown",
   "id": "f90f617a",
   "metadata": {
    "slideshow": {
     "slide_type": "slide"
    }
   },
   "source": [
    "For even more fine-grained control, you can also group by more than one column.\n",
    "\n",
    "For an example, here's how we would pick out the best wine by country and province:"
   ]
  },
  {
   "cell_type": "code",
   "execution_count": 167,
   "id": "fdae65a0",
   "metadata": {},
   "outputs": [
    {
     "data": {
      "text/html": [
       "<div>\n",
       "<style scoped>\n",
       "    .dataframe tbody tr th:only-of-type {\n",
       "        vertical-align: middle;\n",
       "    }\n",
       "\n",
       "    .dataframe tbody tr th {\n",
       "        vertical-align: top;\n",
       "    }\n",
       "\n",
       "    .dataframe thead th {\n",
       "        text-align: right;\n",
       "    }\n",
       "</style>\n",
       "<table border=\"1\" class=\"dataframe\">\n",
       "  <thead>\n",
       "    <tr style=\"text-align: right;\">\n",
       "      <th></th>\n",
       "      <th></th>\n",
       "      <th>country</th>\n",
       "      <th>description</th>\n",
       "      <th>designation</th>\n",
       "      <th>points</th>\n",
       "      <th>price</th>\n",
       "      <th>province</th>\n",
       "      <th>region_1</th>\n",
       "      <th>region_2</th>\n",
       "      <th>taster_name</th>\n",
       "      <th>taster_twitter_handle</th>\n",
       "      <th>title</th>\n",
       "      <th>variety</th>\n",
       "      <th>winery</th>\n",
       "    </tr>\n",
       "    <tr>\n",
       "      <th>country</th>\n",
       "      <th>province</th>\n",
       "      <th></th>\n",
       "      <th></th>\n",
       "      <th></th>\n",
       "      <th></th>\n",
       "      <th></th>\n",
       "      <th></th>\n",
       "      <th></th>\n",
       "      <th></th>\n",
       "      <th></th>\n",
       "      <th></th>\n",
       "      <th></th>\n",
       "      <th></th>\n",
       "      <th></th>\n",
       "    </tr>\n",
       "  </thead>\n",
       "  <tbody>\n",
       "    <tr>\n",
       "      <th rowspan=\"2\" valign=\"top\">Argentina</th>\n",
       "      <th>Mendoza Province</th>\n",
       "      <td>Argentina</td>\n",
       "      <td>If the color doesn't tell the full story, the ...</td>\n",
       "      <td>Nicasia Vineyard</td>\n",
       "      <td>97</td>\n",
       "      <td>120.0</td>\n",
       "      <td>Mendoza Province</td>\n",
       "      <td>Mendoza</td>\n",
       "      <td>NaN</td>\n",
       "      <td>Michael Schachner</td>\n",
       "      <td>@wineschach</td>\n",
       "      <td>Bodega Catena Zapata 2006 Nicasia Vineyard Mal...</td>\n",
       "      <td>Malbec</td>\n",
       "      <td>Bodega Catena Zapata</td>\n",
       "    </tr>\n",
       "    <tr>\n",
       "      <th>Other</th>\n",
       "      <td>Argentina</td>\n",
       "      <td>Take note, this could be the best wine Colomé ...</td>\n",
       "      <td>Reserva</td>\n",
       "      <td>95</td>\n",
       "      <td>90.0</td>\n",
       "      <td>Other</td>\n",
       "      <td>Salta</td>\n",
       "      <td>NaN</td>\n",
       "      <td>Michael Schachner</td>\n",
       "      <td>@wineschach</td>\n",
       "      <td>Colomé 2010 Reserva Malbec (Salta)</td>\n",
       "      <td>Malbec</td>\n",
       "      <td>Colomé</td>\n",
       "    </tr>\n",
       "    <tr>\n",
       "      <th>Armenia</th>\n",
       "      <th>Armenia</th>\n",
       "      <td>Armenia</td>\n",
       "      <td>Deep salmon in color, this wine offers a bouqu...</td>\n",
       "      <td>Estate Bottled</td>\n",
       "      <td>88</td>\n",
       "      <td>15.0</td>\n",
       "      <td>Armenia</td>\n",
       "      <td>NaN</td>\n",
       "      <td>NaN</td>\n",
       "      <td>Mike DeSimone</td>\n",
       "      <td>@worldwineguys</td>\n",
       "      <td>Van Ardi 2015 Estate Bottled Rosé (Armenia)</td>\n",
       "      <td>Rosé</td>\n",
       "      <td>Van Ardi</td>\n",
       "    </tr>\n",
       "    <tr>\n",
       "      <th rowspan=\"2\" valign=\"top\">Australia</th>\n",
       "      <th>Australia Other</th>\n",
       "      <td>Australia</td>\n",
       "      <td>Writes the book on how to make a wine filled w...</td>\n",
       "      <td>Sarah's Blend</td>\n",
       "      <td>93</td>\n",
       "      <td>15.0</td>\n",
       "      <td>Australia Other</td>\n",
       "      <td>South Eastern Australia</td>\n",
       "      <td>NaN</td>\n",
       "      <td>NaN</td>\n",
       "      <td>NaN</td>\n",
       "      <td>Marquis Philips 2000 Sarah's Blend Red (South ...</td>\n",
       "      <td>Red Blend</td>\n",
       "      <td>Marquis Philips</td>\n",
       "    </tr>\n",
       "    <tr>\n",
       "      <th>New South Wales</th>\n",
       "      <td>Australia</td>\n",
       "      <td>De Bortoli's Noble One is as good as ever in 2...</td>\n",
       "      <td>Noble One Bortytis</td>\n",
       "      <td>94</td>\n",
       "      <td>32.0</td>\n",
       "      <td>New South Wales</td>\n",
       "      <td>New South Wales</td>\n",
       "      <td>NaN</td>\n",
       "      <td>Joe Czerwinski</td>\n",
       "      <td>@JoeCz</td>\n",
       "      <td>De Bortoli 2007 Noble One Bortytis Semillon (N...</td>\n",
       "      <td>Sémillon</td>\n",
       "      <td>De Bortoli</td>\n",
       "    </tr>\n",
       "    <tr>\n",
       "      <th>...</th>\n",
       "      <th>...</th>\n",
       "      <td>...</td>\n",
       "      <td>...</td>\n",
       "      <td>...</td>\n",
       "      <td>...</td>\n",
       "      <td>...</td>\n",
       "      <td>...</td>\n",
       "      <td>...</td>\n",
       "      <td>...</td>\n",
       "      <td>...</td>\n",
       "      <td>...</td>\n",
       "      <td>...</td>\n",
       "      <td>...</td>\n",
       "      <td>...</td>\n",
       "    </tr>\n",
       "    <tr>\n",
       "      <th rowspan=\"5\" valign=\"top\">Uruguay</th>\n",
       "      <th>Juanico</th>\n",
       "      <td>Uruguay</td>\n",
       "      <td>This mature Bordeaux-style blend is earthy on ...</td>\n",
       "      <td>Preludio Barrel Select Lote N 77</td>\n",
       "      <td>90</td>\n",
       "      <td>45.0</td>\n",
       "      <td>Juanico</td>\n",
       "      <td>NaN</td>\n",
       "      <td>NaN</td>\n",
       "      <td>Michael Schachner</td>\n",
       "      <td>@wineschach</td>\n",
       "      <td>Familia Deicas 2004 Preludio Barrel Select Lot...</td>\n",
       "      <td>Red Blend</td>\n",
       "      <td>Familia Deicas</td>\n",
       "    </tr>\n",
       "    <tr>\n",
       "      <th>Montevideo</th>\n",
       "      <td>Uruguay</td>\n",
       "      <td>A rich, heady bouquet offers aromas of blackbe...</td>\n",
       "      <td>Monte Vide Eu Tannat-Merlot-Tempranillo</td>\n",
       "      <td>91</td>\n",
       "      <td>60.0</td>\n",
       "      <td>Montevideo</td>\n",
       "      <td>NaN</td>\n",
       "      <td>NaN</td>\n",
       "      <td>Michael Schachner</td>\n",
       "      <td>@wineschach</td>\n",
       "      <td>Bouza 2015 Monte Vide Eu Tannat-Merlot-Tempran...</td>\n",
       "      <td>Red Blend</td>\n",
       "      <td>Bouza</td>\n",
       "    </tr>\n",
       "    <tr>\n",
       "      <th>Progreso</th>\n",
       "      <td>Uruguay</td>\n",
       "      <td>Rusty in color but deep and complex in nature,...</td>\n",
       "      <td>Etxe Oneko Fortified Sweet Red</td>\n",
       "      <td>90</td>\n",
       "      <td>46.0</td>\n",
       "      <td>Progreso</td>\n",
       "      <td>NaN</td>\n",
       "      <td>NaN</td>\n",
       "      <td>Michael Schachner</td>\n",
       "      <td>@wineschach</td>\n",
       "      <td>Pisano 2007 Etxe Oneko Fortified Sweet Red Tan...</td>\n",
       "      <td>Tannat</td>\n",
       "      <td>Pisano</td>\n",
       "    </tr>\n",
       "    <tr>\n",
       "      <th>San Jose</th>\n",
       "      <td>Uruguay</td>\n",
       "      <td>Baked, sweet, heavy aromas turn earthy with ti...</td>\n",
       "      <td>El Preciado Gran Reserva</td>\n",
       "      <td>87</td>\n",
       "      <td>50.0</td>\n",
       "      <td>San Jose</td>\n",
       "      <td>NaN</td>\n",
       "      <td>NaN</td>\n",
       "      <td>Michael Schachner</td>\n",
       "      <td>@wineschach</td>\n",
       "      <td>Castillo Viejo 2005 El Preciado Gran Reserva R...</td>\n",
       "      <td>Red Blend</td>\n",
       "      <td>Castillo Viejo</td>\n",
       "    </tr>\n",
       "    <tr>\n",
       "      <th>Uruguay</th>\n",
       "      <td>Uruguay</td>\n",
       "      <td>Cherry and berry aromas are ripe, healthy and ...</td>\n",
       "      <td>Blend 002 Limited Edition</td>\n",
       "      <td>91</td>\n",
       "      <td>22.0</td>\n",
       "      <td>Uruguay</td>\n",
       "      <td>NaN</td>\n",
       "      <td>NaN</td>\n",
       "      <td>Michael Schachner</td>\n",
       "      <td>@wineschach</td>\n",
       "      <td>Narbona NV Blend 002 Limited Edition Tannat-Ca...</td>\n",
       "      <td>Tannat-Cabernet Franc</td>\n",
       "      <td>Narbona</td>\n",
       "    </tr>\n",
       "  </tbody>\n",
       "</table>\n",
       "<p>425 rows × 13 columns</p>\n",
       "</div>"
      ],
      "text/plain": [
       "                              country   \n",
       "country   province                      \n",
       "Argentina Mendoza Province  Argentina  \\\n",
       "          Other             Argentina   \n",
       "Armenia   Armenia             Armenia   \n",
       "Australia Australia Other   Australia   \n",
       "          New South Wales   Australia   \n",
       "...                               ...   \n",
       "Uruguay   Juanico             Uruguay   \n",
       "          Montevideo          Uruguay   \n",
       "          Progreso            Uruguay   \n",
       "          San Jose            Uruguay   \n",
       "          Uruguay             Uruguay   \n",
       "\n",
       "                                                                  description   \n",
       "country   province                                                              \n",
       "Argentina Mendoza Province  If the color doesn't tell the full story, the ...  \\\n",
       "          Other             Take note, this could be the best wine Colomé ...   \n",
       "Armenia   Armenia           Deep salmon in color, this wine offers a bouqu...   \n",
       "Australia Australia Other   Writes the book on how to make a wine filled w...   \n",
       "          New South Wales   De Bortoli's Noble One is as good as ever in 2...   \n",
       "...                                                                       ...   \n",
       "Uruguay   Juanico           This mature Bordeaux-style blend is earthy on ...   \n",
       "          Montevideo        A rich, heady bouquet offers aromas of blackbe...   \n",
       "          Progreso          Rusty in color but deep and complex in nature,...   \n",
       "          San Jose          Baked, sweet, heavy aromas turn earthy with ti...   \n",
       "          Uruguay           Cherry and berry aromas are ripe, healthy and ...   \n",
       "\n",
       "                                                        designation  points   \n",
       "country   province                                                            \n",
       "Argentina Mendoza Province                         Nicasia Vineyard      97  \\\n",
       "          Other                                             Reserva      95   \n",
       "Armenia   Armenia                                    Estate Bottled      88   \n",
       "Australia Australia Other                             Sarah's Blend      93   \n",
       "          New South Wales                        Noble One Bortytis      94   \n",
       "...                                                             ...     ...   \n",
       "Uruguay   Juanico                  Preludio Barrel Select Lote N 77      90   \n",
       "          Montevideo        Monte Vide Eu Tannat-Merlot-Tempranillo      91   \n",
       "          Progreso                   Etxe Oneko Fortified Sweet Red      90   \n",
       "          San Jose                         El Preciado Gran Reserva      87   \n",
       "          Uruguay                         Blend 002 Limited Edition      91   \n",
       "\n",
       "                            price          province                 region_1   \n",
       "country   province                                                             \n",
       "Argentina Mendoza Province  120.0  Mendoza Province                  Mendoza  \\\n",
       "          Other              90.0             Other                    Salta   \n",
       "Armenia   Armenia            15.0           Armenia                      NaN   \n",
       "Australia Australia Other    15.0   Australia Other  South Eastern Australia   \n",
       "          New South Wales    32.0   New South Wales          New South Wales   \n",
       "...                           ...               ...                      ...   \n",
       "Uruguay   Juanico            45.0           Juanico                      NaN   \n",
       "          Montevideo         60.0        Montevideo                      NaN   \n",
       "          Progreso           46.0          Progreso                      NaN   \n",
       "          San Jose           50.0          San Jose                      NaN   \n",
       "          Uruguay            22.0           Uruguay                      NaN   \n",
       "\n",
       "                           region_2        taster_name taster_twitter_handle   \n",
       "country   province                                                             \n",
       "Argentina Mendoza Province      NaN  Michael Schachner           @wineschach  \\\n",
       "          Other                 NaN  Michael Schachner           @wineschach   \n",
       "Armenia   Armenia               NaN      Mike DeSimone        @worldwineguys   \n",
       "Australia Australia Other       NaN                NaN                   NaN   \n",
       "          New South Wales       NaN     Joe Czerwinski                @JoeCz   \n",
       "...                             ...                ...                   ...   \n",
       "Uruguay   Juanico               NaN  Michael Schachner           @wineschach   \n",
       "          Montevideo            NaN  Michael Schachner           @wineschach   \n",
       "          Progreso              NaN  Michael Schachner           @wineschach   \n",
       "          San Jose              NaN  Michael Schachner           @wineschach   \n",
       "          Uruguay               NaN  Michael Schachner           @wineschach   \n",
       "\n",
       "                                                                        title   \n",
       "country   province                                                              \n",
       "Argentina Mendoza Province  Bodega Catena Zapata 2006 Nicasia Vineyard Mal...  \\\n",
       "          Other                            Colomé 2010 Reserva Malbec (Salta)   \n",
       "Armenia   Armenia                 Van Ardi 2015 Estate Bottled Rosé (Armenia)   \n",
       "Australia Australia Other   Marquis Philips 2000 Sarah's Blend Red (South ...   \n",
       "          New South Wales   De Bortoli 2007 Noble One Bortytis Semillon (N...   \n",
       "...                                                                       ...   \n",
       "Uruguay   Juanico           Familia Deicas 2004 Preludio Barrel Select Lot...   \n",
       "          Montevideo        Bouza 2015 Monte Vide Eu Tannat-Merlot-Tempran...   \n",
       "          Progreso          Pisano 2007 Etxe Oneko Fortified Sweet Red Tan...   \n",
       "          San Jose          Castillo Viejo 2005 El Preciado Gran Reserva R...   \n",
       "          Uruguay           Narbona NV Blend 002 Limited Edition Tannat-Ca...   \n",
       "\n",
       "                                          variety                winery  \n",
       "country   province                                                       \n",
       "Argentina Mendoza Province                 Malbec  Bodega Catena Zapata  \n",
       "          Other                            Malbec                Colomé  \n",
       "Armenia   Armenia                            Rosé              Van Ardi  \n",
       "Australia Australia Other               Red Blend       Marquis Philips  \n",
       "          New South Wales                Sémillon            De Bortoli  \n",
       "...                                           ...                   ...  \n",
       "Uruguay   Juanico                       Red Blend        Familia Deicas  \n",
       "          Montevideo                    Red Blend                 Bouza  \n",
       "          Progreso                         Tannat                Pisano  \n",
       "          San Jose                      Red Blend        Castillo Viejo  \n",
       "          Uruguay           Tannat-Cabernet Franc               Narbona  \n",
       "\n",
       "[425 rows x 13 columns]"
      ]
     },
     "execution_count": 167,
     "metadata": {},
     "output_type": "execute_result"
    }
   ],
   "source": [
    "reviews.groupby(['country', 'province']).apply(lambda df: df.loc[df.points.idxmax()])"
   ]
  },
  {
   "cell_type": "markdown",
   "id": "261ee718",
   "metadata": {
    "slideshow": {
     "slide_type": "slide"
    }
   },
   "source": [
    "Another groupby() method worth mentioning is agg(), which lets you run a bunch of different functions on your DataFrame simultaneously. \n",
    "\n",
    "For example, we can generate a simple statistical summary of the dataset as follows:"
   ]
  },
  {
   "cell_type": "code",
   "execution_count": 168,
   "id": "b4bc146e",
   "metadata": {},
   "outputs": [
    {
     "data": {
      "text/html": [
       "<div>\n",
       "<style scoped>\n",
       "    .dataframe tbody tr th:only-of-type {\n",
       "        vertical-align: middle;\n",
       "    }\n",
       "\n",
       "    .dataframe tbody tr th {\n",
       "        vertical-align: top;\n",
       "    }\n",
       "\n",
       "    .dataframe thead th {\n",
       "        text-align: right;\n",
       "    }\n",
       "</style>\n",
       "<table border=\"1\" class=\"dataframe\">\n",
       "  <thead>\n",
       "    <tr style=\"text-align: right;\">\n",
       "      <th></th>\n",
       "      <th>len</th>\n",
       "      <th>min</th>\n",
       "      <th>max</th>\n",
       "    </tr>\n",
       "    <tr>\n",
       "      <th>country</th>\n",
       "      <th></th>\n",
       "      <th></th>\n",
       "      <th></th>\n",
       "    </tr>\n",
       "  </thead>\n",
       "  <tbody>\n",
       "    <tr>\n",
       "      <th>Argentina</th>\n",
       "      <td>3800</td>\n",
       "      <td>4.0</td>\n",
       "      <td>230.0</td>\n",
       "    </tr>\n",
       "    <tr>\n",
       "      <th>Armenia</th>\n",
       "      <td>2</td>\n",
       "      <td>14.0</td>\n",
       "      <td>15.0</td>\n",
       "    </tr>\n",
       "    <tr>\n",
       "      <th>Australia</th>\n",
       "      <td>2329</td>\n",
       "      <td>5.0</td>\n",
       "      <td>850.0</td>\n",
       "    </tr>\n",
       "    <tr>\n",
       "      <th>Austria</th>\n",
       "      <td>3345</td>\n",
       "      <td>7.0</td>\n",
       "      <td>1100.0</td>\n",
       "    </tr>\n",
       "    <tr>\n",
       "      <th>Bosnia and Herzegovina</th>\n",
       "      <td>2</td>\n",
       "      <td>12.0</td>\n",
       "      <td>13.0</td>\n",
       "    </tr>\n",
       "    <tr>\n",
       "      <th>...</th>\n",
       "      <td>...</td>\n",
       "      <td>...</td>\n",
       "      <td>...</td>\n",
       "    </tr>\n",
       "    <tr>\n",
       "      <th>Switzerland</th>\n",
       "      <td>7</td>\n",
       "      <td>21.0</td>\n",
       "      <td>160.0</td>\n",
       "    </tr>\n",
       "    <tr>\n",
       "      <th>Turkey</th>\n",
       "      <td>90</td>\n",
       "      <td>14.0</td>\n",
       "      <td>120.0</td>\n",
       "    </tr>\n",
       "    <tr>\n",
       "      <th>US</th>\n",
       "      <td>54504</td>\n",
       "      <td>4.0</td>\n",
       "      <td>2013.0</td>\n",
       "    </tr>\n",
       "    <tr>\n",
       "      <th>Ukraine</th>\n",
       "      <td>14</td>\n",
       "      <td>6.0</td>\n",
       "      <td>13.0</td>\n",
       "    </tr>\n",
       "    <tr>\n",
       "      <th>Uruguay</th>\n",
       "      <td>109</td>\n",
       "      <td>10.0</td>\n",
       "      <td>130.0</td>\n",
       "    </tr>\n",
       "  </tbody>\n",
       "</table>\n",
       "<p>43 rows × 3 columns</p>\n",
       "</div>"
      ],
      "text/plain": [
       "                          len   min     max\n",
       "country                                    \n",
       "Argentina                3800   4.0   230.0\n",
       "Armenia                     2  14.0    15.0\n",
       "Australia                2329   5.0   850.0\n",
       "Austria                  3345   7.0  1100.0\n",
       "Bosnia and Herzegovina      2  12.0    13.0\n",
       "...                       ...   ...     ...\n",
       "Switzerland                 7  21.0   160.0\n",
       "Turkey                     90  14.0   120.0\n",
       "US                      54504   4.0  2013.0\n",
       "Ukraine                    14   6.0    13.0\n",
       "Uruguay                   109  10.0   130.0\n",
       "\n",
       "[43 rows x 3 columns]"
      ]
     },
     "execution_count": 168,
     "metadata": {},
     "output_type": "execute_result"
    }
   ],
   "source": [
    "reviews.groupby(['country']).price.agg([len, min, max])"
   ]
  },
  {
   "cell_type": "markdown",
   "id": "c5889898",
   "metadata": {},
   "source": [
    "**Note :** Effective use of groupby() will allow you to do lots of really powerful things with your dataset"
   ]
  },
  {
   "cell_type": "markdown",
   "id": "a23ff484",
   "metadata": {
    "slideshow": {
     "slide_type": "slide"
    }
   },
   "source": [
    "### Multi-indexes\n",
    "\n",
    "In all of the examples we've seen thus far we've been working with DataFrame or Series objects with a single-label index. groupby() is slightly different in the fact that, depending on the operation we run, it will sometimes result in what is called a multi-index."
   ]
  },
  {
   "cell_type": "markdown",
   "id": "7248f85b",
   "metadata": {
    "slideshow": {
     "slide_type": "slide"
    }
   },
   "source": [
    "A multi-index differs from a regular index in that it has multiple levels. \n",
    "\n",
    "For example:"
   ]
  },
  {
   "cell_type": "code",
   "execution_count": 169,
   "id": "9a324e04",
   "metadata": {},
   "outputs": [
    {
     "data": {
      "text/html": [
       "<div>\n",
       "<style scoped>\n",
       "    .dataframe tbody tr th:only-of-type {\n",
       "        vertical-align: middle;\n",
       "    }\n",
       "\n",
       "    .dataframe tbody tr th {\n",
       "        vertical-align: top;\n",
       "    }\n",
       "\n",
       "    .dataframe thead th {\n",
       "        text-align: right;\n",
       "    }\n",
       "</style>\n",
       "<table border=\"1\" class=\"dataframe\">\n",
       "  <thead>\n",
       "    <tr style=\"text-align: right;\">\n",
       "      <th></th>\n",
       "      <th></th>\n",
       "      <th>len</th>\n",
       "    </tr>\n",
       "    <tr>\n",
       "      <th>country</th>\n",
       "      <th>province</th>\n",
       "      <th></th>\n",
       "    </tr>\n",
       "  </thead>\n",
       "  <tbody>\n",
       "    <tr>\n",
       "      <th rowspan=\"2\" valign=\"top\">Argentina</th>\n",
       "      <th>Mendoza Province</th>\n",
       "      <td>3264</td>\n",
       "    </tr>\n",
       "    <tr>\n",
       "      <th>Other</th>\n",
       "      <td>536</td>\n",
       "    </tr>\n",
       "    <tr>\n",
       "      <th>Armenia</th>\n",
       "      <th>Armenia</th>\n",
       "      <td>2</td>\n",
       "    </tr>\n",
       "    <tr>\n",
       "      <th rowspan=\"2\" valign=\"top\">Australia</th>\n",
       "      <th>Australia Other</th>\n",
       "      <td>245</td>\n",
       "    </tr>\n",
       "    <tr>\n",
       "      <th>New South Wales</th>\n",
       "      <td>85</td>\n",
       "    </tr>\n",
       "    <tr>\n",
       "      <th>...</th>\n",
       "      <th>...</th>\n",
       "      <td>...</td>\n",
       "    </tr>\n",
       "    <tr>\n",
       "      <th rowspan=\"5\" valign=\"top\">Uruguay</th>\n",
       "      <th>Juanico</th>\n",
       "      <td>12</td>\n",
       "    </tr>\n",
       "    <tr>\n",
       "      <th>Montevideo</th>\n",
       "      <td>11</td>\n",
       "    </tr>\n",
       "    <tr>\n",
       "      <th>Progreso</th>\n",
       "      <td>11</td>\n",
       "    </tr>\n",
       "    <tr>\n",
       "      <th>San Jose</th>\n",
       "      <td>3</td>\n",
       "    </tr>\n",
       "    <tr>\n",
       "      <th>Uruguay</th>\n",
       "      <td>24</td>\n",
       "    </tr>\n",
       "  </tbody>\n",
       "</table>\n",
       "<p>425 rows × 1 columns</p>\n",
       "</div>"
      ],
      "text/plain": [
       "                             len\n",
       "country   province              \n",
       "Argentina Mendoza Province  3264\n",
       "          Other              536\n",
       "Armenia   Armenia              2\n",
       "Australia Australia Other    245\n",
       "          New South Wales     85\n",
       "...                          ...\n",
       "Uruguay   Juanico             12\n",
       "          Montevideo          11\n",
       "          Progreso            11\n",
       "          San Jose             3\n",
       "          Uruguay             24\n",
       "\n",
       "[425 rows x 1 columns]"
      ]
     },
     "execution_count": 169,
     "metadata": {},
     "output_type": "execute_result"
    }
   ],
   "source": [
    "countries_reviewed = reviews.groupby(['country', 'province']).description.agg([len])\n",
    "countries_reviewed"
   ]
  },
  {
   "cell_type": "code",
   "execution_count": 171,
   "id": "1987d674",
   "metadata": {},
   "outputs": [
    {
     "data": {
      "text/plain": [
       "MultiIndex([('Argentina',  'Mendoza Province'),\n",
       "            ('Argentina',             'Other'),\n",
       "            (  'Armenia',           'Armenia'),\n",
       "            ('Australia',   'Australia Other'),\n",
       "            ('Australia',   'New South Wales'),\n",
       "            ('Australia',   'South Australia'),\n",
       "            ('Australia',          'Tasmania'),\n",
       "            ('Australia',          'Victoria'),\n",
       "            ('Australia', 'Western Australia'),\n",
       "            (  'Austria',           'Austria'),\n",
       "            ...\n",
       "            (       'US',        'Washington'),\n",
       "            (       'US', 'Washington-Oregon'),\n",
       "            (  'Ukraine',           'Ukraine'),\n",
       "            (  'Uruguay',         'Atlantida'),\n",
       "            (  'Uruguay',         'Canelones'),\n",
       "            (  'Uruguay',           'Juanico'),\n",
       "            (  'Uruguay',        'Montevideo'),\n",
       "            (  'Uruguay',          'Progreso'),\n",
       "            (  'Uruguay',          'San Jose'),\n",
       "            (  'Uruguay',           'Uruguay')],\n",
       "           names=['country', 'province'], length=425)"
      ]
     },
     "execution_count": 171,
     "metadata": {},
     "output_type": "execute_result"
    }
   ],
   "source": [
    "mi = countries_reviewed.index\n",
    "type(mi)\n",
    "mi"
   ]
  },
  {
   "cell_type": "markdown",
   "id": "6521f1c4",
   "metadata": {
    "slideshow": {
     "slide_type": "slide"
    }
   },
   "source": [
    "Multi-indices have several methods for dealing with their tiered structure which are absent for single-level indices. They also require two levels of labels to retrieve a value. Dealing with multi-index output is a common \"gotcha\" for users new to pandas.\n",
    "\n",
    "The use cases for a multi-index are detailed alongside instructions on using them in the MultiIndex / Advanced Selection section of the pandas documentation.\n",
    "\n",
    "However, in general the multi-index method you will use most often is the one for converting back to a regular index, the reset_index() method:"
   ]
  },
  {
   "cell_type": "code",
   "execution_count": null,
   "id": "1d1f3e07",
   "metadata": {},
   "outputs": [],
   "source": [
    "countries_reviewed.reset_index()"
   ]
  },
  {
   "cell_type": "markdown",
   "id": "b8c80680",
   "metadata": {
    "slideshow": {
     "slide_type": "slide"
    }
   },
   "source": [
    "### Sorting\n",
    "\n",
    "Looking again at countries_reviewed we can see that grouping returns data in index order, not in value order. That is to say, when outputting the result of a groupby, the order of the rows is dependent on the values in the index, not in the data.\n",
    "\n",
    "To get data in the order want it in we can sort it ourselves. The sort_values() method is handy for this."
   ]
  },
  {
   "cell_type": "code",
   "execution_count": 172,
   "id": "3c44e01f",
   "metadata": {},
   "outputs": [
    {
     "data": {
      "text/html": [
       "<div>\n",
       "<style scoped>\n",
       "    .dataframe tbody tr th:only-of-type {\n",
       "        vertical-align: middle;\n",
       "    }\n",
       "\n",
       "    .dataframe tbody tr th {\n",
       "        vertical-align: top;\n",
       "    }\n",
       "\n",
       "    .dataframe thead th {\n",
       "        text-align: right;\n",
       "    }\n",
       "</style>\n",
       "<table border=\"1\" class=\"dataframe\">\n",
       "  <thead>\n",
       "    <tr style=\"text-align: right;\">\n",
       "      <th></th>\n",
       "      <th>country</th>\n",
       "      <th>province</th>\n",
       "      <th>len</th>\n",
       "    </tr>\n",
       "  </thead>\n",
       "  <tbody>\n",
       "    <tr>\n",
       "      <th>179</th>\n",
       "      <td>Greece</td>\n",
       "      <td>Muscat of Kefallonian</td>\n",
       "      <td>1</td>\n",
       "    </tr>\n",
       "    <tr>\n",
       "      <th>192</th>\n",
       "      <td>Greece</td>\n",
       "      <td>Sterea Ellada</td>\n",
       "      <td>1</td>\n",
       "    </tr>\n",
       "    <tr>\n",
       "      <th>194</th>\n",
       "      <td>Greece</td>\n",
       "      <td>Thraki</td>\n",
       "      <td>1</td>\n",
       "    </tr>\n",
       "    <tr>\n",
       "      <th>354</th>\n",
       "      <td>South Africa</td>\n",
       "      <td>Paardeberg</td>\n",
       "      <td>1</td>\n",
       "    </tr>\n",
       "    <tr>\n",
       "      <th>40</th>\n",
       "      <td>Brazil</td>\n",
       "      <td>Serra do Sudeste</td>\n",
       "      <td>1</td>\n",
       "    </tr>\n",
       "    <tr>\n",
       "      <th>...</th>\n",
       "      <td>...</td>\n",
       "      <td>...</td>\n",
       "      <td>...</td>\n",
       "    </tr>\n",
       "    <tr>\n",
       "      <th>409</th>\n",
       "      <td>US</td>\n",
       "      <td>Oregon</td>\n",
       "      <td>5373</td>\n",
       "    </tr>\n",
       "    <tr>\n",
       "      <th>227</th>\n",
       "      <td>Italy</td>\n",
       "      <td>Tuscany</td>\n",
       "      <td>5897</td>\n",
       "    </tr>\n",
       "    <tr>\n",
       "      <th>118</th>\n",
       "      <td>France</td>\n",
       "      <td>Bordeaux</td>\n",
       "      <td>5941</td>\n",
       "    </tr>\n",
       "    <tr>\n",
       "      <th>415</th>\n",
       "      <td>US</td>\n",
       "      <td>Washington</td>\n",
       "      <td>8639</td>\n",
       "    </tr>\n",
       "    <tr>\n",
       "      <th>392</th>\n",
       "      <td>US</td>\n",
       "      <td>California</td>\n",
       "      <td>36247</td>\n",
       "    </tr>\n",
       "  </tbody>\n",
       "</table>\n",
       "<p>425 rows × 3 columns</p>\n",
       "</div>"
      ],
      "text/plain": [
       "          country               province    len\n",
       "179        Greece  Muscat of Kefallonian      1\n",
       "192        Greece          Sterea Ellada      1\n",
       "194        Greece                 Thraki      1\n",
       "354  South Africa             Paardeberg      1\n",
       "40         Brazil       Serra do Sudeste      1\n",
       "..            ...                    ...    ...\n",
       "409            US                 Oregon   5373\n",
       "227         Italy                Tuscany   5897\n",
       "118        France               Bordeaux   5941\n",
       "415            US             Washington   8639\n",
       "392            US             California  36247\n",
       "\n",
       "[425 rows x 3 columns]"
      ]
     },
     "execution_count": 172,
     "metadata": {},
     "output_type": "execute_result"
    }
   ],
   "source": [
    "countries_reviewed = countries_reviewed.reset_index()\n",
    "countries_reviewed.sort_values(by='len')"
   ]
  },
  {
   "cell_type": "markdown",
   "id": "bcbd8802",
   "metadata": {
    "slideshow": {
     "slide_type": "slide"
    }
   },
   "source": [
    "sort_values() defaults to an ascending sort, where the lowest values go first. However, most of the time we want a descending sort, where the higher numbers go first. That goes thusly:"
   ]
  },
  {
   "cell_type": "code",
   "execution_count": 173,
   "id": "c8a42764",
   "metadata": {},
   "outputs": [
    {
     "data": {
      "text/html": [
       "<div>\n",
       "<style scoped>\n",
       "    .dataframe tbody tr th:only-of-type {\n",
       "        vertical-align: middle;\n",
       "    }\n",
       "\n",
       "    .dataframe tbody tr th {\n",
       "        vertical-align: top;\n",
       "    }\n",
       "\n",
       "    .dataframe thead th {\n",
       "        text-align: right;\n",
       "    }\n",
       "</style>\n",
       "<table border=\"1\" class=\"dataframe\">\n",
       "  <thead>\n",
       "    <tr style=\"text-align: right;\">\n",
       "      <th></th>\n",
       "      <th>country</th>\n",
       "      <th>province</th>\n",
       "      <th>len</th>\n",
       "    </tr>\n",
       "  </thead>\n",
       "  <tbody>\n",
       "    <tr>\n",
       "      <th>392</th>\n",
       "      <td>US</td>\n",
       "      <td>California</td>\n",
       "      <td>36247</td>\n",
       "    </tr>\n",
       "    <tr>\n",
       "      <th>415</th>\n",
       "      <td>US</td>\n",
       "      <td>Washington</td>\n",
       "      <td>8639</td>\n",
       "    </tr>\n",
       "    <tr>\n",
       "      <th>118</th>\n",
       "      <td>France</td>\n",
       "      <td>Bordeaux</td>\n",
       "      <td>5941</td>\n",
       "    </tr>\n",
       "    <tr>\n",
       "      <th>227</th>\n",
       "      <td>Italy</td>\n",
       "      <td>Tuscany</td>\n",
       "      <td>5897</td>\n",
       "    </tr>\n",
       "    <tr>\n",
       "      <th>409</th>\n",
       "      <td>US</td>\n",
       "      <td>Oregon</td>\n",
       "      <td>5373</td>\n",
       "    </tr>\n",
       "    <tr>\n",
       "      <th>...</th>\n",
       "      <td>...</td>\n",
       "      <td>...</td>\n",
       "      <td>...</td>\n",
       "    </tr>\n",
       "    <tr>\n",
       "      <th>101</th>\n",
       "      <td>Croatia</td>\n",
       "      <td>Krk</td>\n",
       "      <td>1</td>\n",
       "    </tr>\n",
       "    <tr>\n",
       "      <th>247</th>\n",
       "      <td>New Zealand</td>\n",
       "      <td>Gladstone</td>\n",
       "      <td>1</td>\n",
       "    </tr>\n",
       "    <tr>\n",
       "      <th>357</th>\n",
       "      <td>South Africa</td>\n",
       "      <td>Piekenierskloof</td>\n",
       "      <td>1</td>\n",
       "    </tr>\n",
       "    <tr>\n",
       "      <th>63</th>\n",
       "      <td>Chile</td>\n",
       "      <td>Coelemu</td>\n",
       "      <td>1</td>\n",
       "    </tr>\n",
       "    <tr>\n",
       "      <th>149</th>\n",
       "      <td>Greece</td>\n",
       "      <td>Beotia</td>\n",
       "      <td>1</td>\n",
       "    </tr>\n",
       "  </tbody>\n",
       "</table>\n",
       "<p>425 rows × 3 columns</p>\n",
       "</div>"
      ],
      "text/plain": [
       "          country         province    len\n",
       "392            US       California  36247\n",
       "415            US       Washington   8639\n",
       "118        France         Bordeaux   5941\n",
       "227         Italy          Tuscany   5897\n",
       "409            US           Oregon   5373\n",
       "..            ...              ...    ...\n",
       "101       Croatia              Krk      1\n",
       "247   New Zealand        Gladstone      1\n",
       "357  South Africa  Piekenierskloof      1\n",
       "63          Chile          Coelemu      1\n",
       "149        Greece           Beotia      1\n",
       "\n",
       "[425 rows x 3 columns]"
      ]
     },
     "execution_count": 173,
     "metadata": {},
     "output_type": "execute_result"
    }
   ],
   "source": [
    "countries_reviewed.sort_values(by='len', ascending=False)"
   ]
  },
  {
   "cell_type": "markdown",
   "id": "8d1d2e71",
   "metadata": {
    "slideshow": {
     "slide_type": "slide"
    }
   },
   "source": [
    "To sort by index values, use the companion method sort_index(). This method has the same arguments and default order:"
   ]
  },
  {
   "cell_type": "code",
   "execution_count": 174,
   "id": "26a20aab",
   "metadata": {},
   "outputs": [
    {
     "data": {
      "text/html": [
       "<div>\n",
       "<style scoped>\n",
       "    .dataframe tbody tr th:only-of-type {\n",
       "        vertical-align: middle;\n",
       "    }\n",
       "\n",
       "    .dataframe tbody tr th {\n",
       "        vertical-align: top;\n",
       "    }\n",
       "\n",
       "    .dataframe thead th {\n",
       "        text-align: right;\n",
       "    }\n",
       "</style>\n",
       "<table border=\"1\" class=\"dataframe\">\n",
       "  <thead>\n",
       "    <tr style=\"text-align: right;\">\n",
       "      <th></th>\n",
       "      <th>country</th>\n",
       "      <th>province</th>\n",
       "      <th>len</th>\n",
       "    </tr>\n",
       "  </thead>\n",
       "  <tbody>\n",
       "    <tr>\n",
       "      <th>0</th>\n",
       "      <td>Argentina</td>\n",
       "      <td>Mendoza Province</td>\n",
       "      <td>3264</td>\n",
       "    </tr>\n",
       "    <tr>\n",
       "      <th>1</th>\n",
       "      <td>Argentina</td>\n",
       "      <td>Other</td>\n",
       "      <td>536</td>\n",
       "    </tr>\n",
       "    <tr>\n",
       "      <th>2</th>\n",
       "      <td>Armenia</td>\n",
       "      <td>Armenia</td>\n",
       "      <td>2</td>\n",
       "    </tr>\n",
       "    <tr>\n",
       "      <th>3</th>\n",
       "      <td>Australia</td>\n",
       "      <td>Australia Other</td>\n",
       "      <td>245</td>\n",
       "    </tr>\n",
       "    <tr>\n",
       "      <th>4</th>\n",
       "      <td>Australia</td>\n",
       "      <td>New South Wales</td>\n",
       "      <td>85</td>\n",
       "    </tr>\n",
       "    <tr>\n",
       "      <th>...</th>\n",
       "      <td>...</td>\n",
       "      <td>...</td>\n",
       "      <td>...</td>\n",
       "    </tr>\n",
       "    <tr>\n",
       "      <th>420</th>\n",
       "      <td>Uruguay</td>\n",
       "      <td>Juanico</td>\n",
       "      <td>12</td>\n",
       "    </tr>\n",
       "    <tr>\n",
       "      <th>421</th>\n",
       "      <td>Uruguay</td>\n",
       "      <td>Montevideo</td>\n",
       "      <td>11</td>\n",
       "    </tr>\n",
       "    <tr>\n",
       "      <th>422</th>\n",
       "      <td>Uruguay</td>\n",
       "      <td>Progreso</td>\n",
       "      <td>11</td>\n",
       "    </tr>\n",
       "    <tr>\n",
       "      <th>423</th>\n",
       "      <td>Uruguay</td>\n",
       "      <td>San Jose</td>\n",
       "      <td>3</td>\n",
       "    </tr>\n",
       "    <tr>\n",
       "      <th>424</th>\n",
       "      <td>Uruguay</td>\n",
       "      <td>Uruguay</td>\n",
       "      <td>24</td>\n",
       "    </tr>\n",
       "  </tbody>\n",
       "</table>\n",
       "<p>425 rows × 3 columns</p>\n",
       "</div>"
      ],
      "text/plain": [
       "       country          province   len\n",
       "0    Argentina  Mendoza Province  3264\n",
       "1    Argentina             Other   536\n",
       "2      Armenia           Armenia     2\n",
       "3    Australia   Australia Other   245\n",
       "4    Australia   New South Wales    85\n",
       "..         ...               ...   ...\n",
       "420    Uruguay           Juanico    12\n",
       "421    Uruguay        Montevideo    11\n",
       "422    Uruguay          Progreso    11\n",
       "423    Uruguay          San Jose     3\n",
       "424    Uruguay           Uruguay    24\n",
       "\n",
       "[425 rows x 3 columns]"
      ]
     },
     "execution_count": 174,
     "metadata": {},
     "output_type": "execute_result"
    }
   ],
   "source": [
    "countries_reviewed.sort_index()"
   ]
  },
  {
   "cell_type": "markdown",
   "id": "272d9536",
   "metadata": {
    "slideshow": {
     "slide_type": "slide"
    }
   },
   "source": [
    "Finally, know that you can sort by more than one column at a time:"
   ]
  },
  {
   "cell_type": "code",
   "execution_count": 178,
   "id": "8deebfe5",
   "metadata": {
    "scrolled": true
   },
   "outputs": [
    {
     "data": {
      "text/html": [
       "<div>\n",
       "<style scoped>\n",
       "    .dataframe tbody tr th:only-of-type {\n",
       "        vertical-align: middle;\n",
       "    }\n",
       "\n",
       "    .dataframe tbody tr th {\n",
       "        vertical-align: top;\n",
       "    }\n",
       "\n",
       "    .dataframe thead th {\n",
       "        text-align: right;\n",
       "    }\n",
       "</style>\n",
       "<table border=\"1\" class=\"dataframe\">\n",
       "  <thead>\n",
       "    <tr style=\"text-align: right;\">\n",
       "      <th></th>\n",
       "      <th>country</th>\n",
       "      <th>province</th>\n",
       "      <th>len</th>\n",
       "    </tr>\n",
       "  </thead>\n",
       "  <tbody>\n",
       "    <tr>\n",
       "      <th>1</th>\n",
       "      <td>Argentina</td>\n",
       "      <td>Other</td>\n",
       "      <td>536</td>\n",
       "    </tr>\n",
       "    <tr>\n",
       "      <th>0</th>\n",
       "      <td>Argentina</td>\n",
       "      <td>Mendoza Province</td>\n",
       "      <td>3264</td>\n",
       "    </tr>\n",
       "    <tr>\n",
       "      <th>2</th>\n",
       "      <td>Armenia</td>\n",
       "      <td>Armenia</td>\n",
       "      <td>2</td>\n",
       "    </tr>\n",
       "    <tr>\n",
       "      <th>6</th>\n",
       "      <td>Australia</td>\n",
       "      <td>Tasmania</td>\n",
       "      <td>42</td>\n",
       "    </tr>\n",
       "    <tr>\n",
       "      <th>4</th>\n",
       "      <td>Australia</td>\n",
       "      <td>New South Wales</td>\n",
       "      <td>85</td>\n",
       "    </tr>\n",
       "    <tr>\n",
       "      <th>...</th>\n",
       "      <td>...</td>\n",
       "      <td>...</td>\n",
       "      <td>...</td>\n",
       "    </tr>\n",
       "    <tr>\n",
       "      <th>421</th>\n",
       "      <td>Uruguay</td>\n",
       "      <td>Montevideo</td>\n",
       "      <td>11</td>\n",
       "    </tr>\n",
       "    <tr>\n",
       "      <th>422</th>\n",
       "      <td>Uruguay</td>\n",
       "      <td>Progreso</td>\n",
       "      <td>11</td>\n",
       "    </tr>\n",
       "    <tr>\n",
       "      <th>420</th>\n",
       "      <td>Uruguay</td>\n",
       "      <td>Juanico</td>\n",
       "      <td>12</td>\n",
       "    </tr>\n",
       "    <tr>\n",
       "      <th>424</th>\n",
       "      <td>Uruguay</td>\n",
       "      <td>Uruguay</td>\n",
       "      <td>24</td>\n",
       "    </tr>\n",
       "    <tr>\n",
       "      <th>419</th>\n",
       "      <td>Uruguay</td>\n",
       "      <td>Canelones</td>\n",
       "      <td>43</td>\n",
       "    </tr>\n",
       "  </tbody>\n",
       "</table>\n",
       "<p>425 rows × 3 columns</p>\n",
       "</div>"
      ],
      "text/plain": [
       "       country          province   len\n",
       "1    Argentina             Other   536\n",
       "0    Argentina  Mendoza Province  3264\n",
       "2      Armenia           Armenia     2\n",
       "6    Australia          Tasmania    42\n",
       "4    Australia   New South Wales    85\n",
       "..         ...               ...   ...\n",
       "421    Uruguay        Montevideo    11\n",
       "422    Uruguay          Progreso    11\n",
       "420    Uruguay           Juanico    12\n",
       "424    Uruguay           Uruguay    24\n",
       "419    Uruguay         Canelones    43\n",
       "\n",
       "[425 rows x 3 columns]"
      ]
     },
     "execution_count": 178,
     "metadata": {},
     "output_type": "execute_result"
    }
   ],
   "source": [
    "countries_reviewed.sort_values(by=['country', 'len'])"
   ]
  },
  {
   "cell_type": "code",
   "execution_count": 189,
   "id": "2f103180",
   "metadata": {
    "slideshow": {
     "slide_type": "slide"
    }
   },
   "outputs": [
    {
     "data": {
      "text/html": [
       "<div>\n",
       "<style scoped>\n",
       "    .dataframe tbody tr th:only-of-type {\n",
       "        vertical-align: middle;\n",
       "    }\n",
       "\n",
       "    .dataframe tbody tr th {\n",
       "        vertical-align: top;\n",
       "    }\n",
       "\n",
       "    .dataframe thead th {\n",
       "        text-align: right;\n",
       "    }\n",
       "</style>\n",
       "<table border=\"1\" class=\"dataframe\">\n",
       "  <thead>\n",
       "    <tr style=\"text-align: right;\">\n",
       "      <th></th>\n",
       "      <th>country</th>\n",
       "      <th>province</th>\n",
       "      <th>len</th>\n",
       "    </tr>\n",
       "  </thead>\n",
       "  <tbody>\n",
       "    <tr>\n",
       "      <th>423</th>\n",
       "      <td>Uruguay</td>\n",
       "      <td>San Jose</td>\n",
       "      <td>3</td>\n",
       "    </tr>\n",
       "    <tr>\n",
       "      <th>418</th>\n",
       "      <td>Uruguay</td>\n",
       "      <td>Atlantida</td>\n",
       "      <td>5</td>\n",
       "    </tr>\n",
       "    <tr>\n",
       "      <th>421</th>\n",
       "      <td>Uruguay</td>\n",
       "      <td>Montevideo</td>\n",
       "      <td>11</td>\n",
       "    </tr>\n",
       "    <tr>\n",
       "      <th>422</th>\n",
       "      <td>Uruguay</td>\n",
       "      <td>Progreso</td>\n",
       "      <td>11</td>\n",
       "    </tr>\n",
       "    <tr>\n",
       "      <th>420</th>\n",
       "      <td>Uruguay</td>\n",
       "      <td>Juanico</td>\n",
       "      <td>12</td>\n",
       "    </tr>\n",
       "    <tr>\n",
       "      <th>...</th>\n",
       "      <td>...</td>\n",
       "      <td>...</td>\n",
       "      <td>...</td>\n",
       "    </tr>\n",
       "    <tr>\n",
       "      <th>7</th>\n",
       "      <td>Australia</td>\n",
       "      <td>Victoria</td>\n",
       "      <td>322</td>\n",
       "    </tr>\n",
       "    <tr>\n",
       "      <th>5</th>\n",
       "      <td>Australia</td>\n",
       "      <td>South Australia</td>\n",
       "      <td>1349</td>\n",
       "    </tr>\n",
       "    <tr>\n",
       "      <th>2</th>\n",
       "      <td>Armenia</td>\n",
       "      <td>Armenia</td>\n",
       "      <td>2</td>\n",
       "    </tr>\n",
       "    <tr>\n",
       "      <th>1</th>\n",
       "      <td>Argentina</td>\n",
       "      <td>Other</td>\n",
       "      <td>536</td>\n",
       "    </tr>\n",
       "    <tr>\n",
       "      <th>0</th>\n",
       "      <td>Argentina</td>\n",
       "      <td>Mendoza Province</td>\n",
       "      <td>3264</td>\n",
       "    </tr>\n",
       "  </tbody>\n",
       "</table>\n",
       "<p>425 rows × 3 columns</p>\n",
       "</div>"
      ],
      "text/plain": [
       "       country          province   len\n",
       "423    Uruguay          San Jose     3\n",
       "418    Uruguay         Atlantida     5\n",
       "421    Uruguay        Montevideo    11\n",
       "422    Uruguay          Progreso    11\n",
       "420    Uruguay           Juanico    12\n",
       "..         ...               ...   ...\n",
       "7    Australia          Victoria   322\n",
       "5    Australia   South Australia  1349\n",
       "2      Armenia           Armenia     2\n",
       "1    Argentina             Other   536\n",
       "0    Argentina  Mendoza Province  3264\n",
       "\n",
       "[425 rows x 3 columns]"
      ]
     },
     "execution_count": 189,
     "metadata": {},
     "output_type": "execute_result"
    }
   ],
   "source": [
    "countries_reviewed.sort_values(by=['country', 'len'], ascending=[False, True])"
   ]
  },
  {
   "cell_type": "code",
   "execution_count": 187,
   "id": "a5f46070",
   "metadata": {},
   "outputs": [
    {
     "data": {
      "text/plain": [
       "80290"
      ]
     },
     "execution_count": 187,
     "metadata": {},
     "output_type": "execute_result"
    }
   ],
   "source": [
    "reviews.sort_values(by=[\"price\"], ascending=False).iloc[0,:].name"
   ]
  },
  {
   "cell_type": "markdown",
   "id": "23cceac8",
   "metadata": {
    "slideshow": {
     "slide_type": "slide"
    }
   },
   "source": [
    "## Pandas - Data types and missing values\n",
    "### Introduction\n",
    "\n",
    "Pandas can works with differents data types and it will create new data types. We'll also see how we can replace and deal with missing values."
   ]
  },
  {
   "cell_type": "markdown",
   "id": "ba02f3f7",
   "metadata": {
    "slideshow": {
     "slide_type": "slide"
    }
   },
   "source": [
    "### Dtypes\n",
    "\n",
    "The data type for a column in a DataFrame or a Series is known as the dtype.\n",
    "\n",
    "You can use the dtype property to grab the type of a specific column. For instance, we can get the dtype of the price column in the reviews DataFrame:"
   ]
  },
  {
   "cell_type": "code",
   "execution_count": 190,
   "id": "05c47323",
   "metadata": {},
   "outputs": [
    {
     "data": {
      "text/plain": [
       "dtype('float64')"
      ]
     },
     "execution_count": 190,
     "metadata": {},
     "output_type": "execute_result"
    }
   ],
   "source": [
    "reviews.price.dtype"
   ]
  },
  {
   "cell_type": "markdown",
   "id": "d5790ac9",
   "metadata": {
    "slideshow": {
     "slide_type": "slide"
    }
   },
   "source": [
    "Alternatively, the dtypes property returns the dtype of every column in the DataFrame:"
   ]
  },
  {
   "cell_type": "code",
   "execution_count": 191,
   "id": "e451dcef",
   "metadata": {},
   "outputs": [
    {
     "data": {
      "text/plain": [
       "country                   object\n",
       "description               object\n",
       "designation               object\n",
       "points                     int64\n",
       "price                    float64\n",
       "                          ...   \n",
       "taster_name               object\n",
       "taster_twitter_handle     object\n",
       "title                     object\n",
       "variety                   object\n",
       "winery                    object\n",
       "Length: 13, dtype: object"
      ]
     },
     "execution_count": 191,
     "metadata": {},
     "output_type": "execute_result"
    }
   ],
   "source": [
    "reviews.dtypes"
   ]
  },
  {
   "cell_type": "markdown",
   "id": "05ddb3d8",
   "metadata": {
    "slideshow": {
     "slide_type": "slide"
    }
   },
   "source": [
    "Data types tell us something about how pandas is storing the data internally. float64 means that it's using a 64-bit floating point number; int64 means a similarly sized integer instead, and so on.\n",
    "\n",
    "One peculiarity to keep in mind (and on display very clearly here) is that columns consisting entirely of strings do not get their own type; they are instead given the object type.\n",
    "\n",
    "It's possible to convert a column of one type into another wherever such a conversion makes sense by using the astype() function. \n",
    "\n",
    "For example, we may transform the points column from its existing int64 data type into a float64 data type:"
   ]
  },
  {
   "cell_type": "code",
   "execution_count": 193,
   "id": "3de87848",
   "metadata": {},
   "outputs": [
    {
     "name": "stdout",
     "output_type": "stream",
     "text": [
      "int64\n"
     ]
    },
    {
     "data": {
      "text/plain": [
       "0         87\n",
       "1         60\n",
       "2         87\n",
       "3         87\n",
       "4         87\n",
       "          ..\n",
       "129966    90\n",
       "129967    90\n",
       "129968    90\n",
       "129969    90\n",
       "129970    90\n",
       "Name: points, Length: 129971, dtype: int64"
      ]
     },
     "execution_count": 193,
     "metadata": {},
     "output_type": "execute_result"
    }
   ],
   "source": [
    "print(reviews.points.dtypes)\n",
    "reviews.points.astype('float64').astype('int64')"
   ]
  },
  {
   "cell_type": "markdown",
   "id": "48cb7879",
   "metadata": {
    "slideshow": {
     "slide_type": "slide"
    }
   },
   "source": [
    "A DataFrame or Series index has its own dtype, too:"
   ]
  },
  {
   "cell_type": "code",
   "execution_count": 194,
   "id": "80f29b6e",
   "metadata": {},
   "outputs": [
    {
     "data": {
      "text/plain": [
       "dtype('int64')"
      ]
     },
     "execution_count": 194,
     "metadata": {},
     "output_type": "execute_result"
    }
   ],
   "source": [
    "reviews.index.dtype"
   ]
  },
  {
   "cell_type": "markdown",
   "id": "a40accbd",
   "metadata": {
    "slideshow": {
     "slide_type": "slide"
    }
   },
   "source": [
    "### Missing data\n",
    "\n",
    "Entries missing values are given the value NaN, short for \"Not a Number\". For technical reasons these NaN values are always of the float64 dtype.\n",
    "\n",
    "Pandas provides some methods specific to missing data. To select NaN entries you can use pd.isnull() (or its companion pd.notnull()). This is meant to be used thusly:"
   ]
  },
  {
   "cell_type": "code",
   "execution_count": 195,
   "id": "f2704b55",
   "metadata": {},
   "outputs": [
    {
     "data": {
      "text/html": [
       "<div>\n",
       "<style scoped>\n",
       "    .dataframe tbody tr th:only-of-type {\n",
       "        vertical-align: middle;\n",
       "    }\n",
       "\n",
       "    .dataframe tbody tr th {\n",
       "        vertical-align: top;\n",
       "    }\n",
       "\n",
       "    .dataframe thead th {\n",
       "        text-align: right;\n",
       "    }\n",
       "</style>\n",
       "<table border=\"1\" class=\"dataframe\">\n",
       "  <thead>\n",
       "    <tr style=\"text-align: right;\">\n",
       "      <th></th>\n",
       "      <th>country</th>\n",
       "      <th>description</th>\n",
       "      <th>designation</th>\n",
       "      <th>points</th>\n",
       "      <th>price</th>\n",
       "      <th>province</th>\n",
       "      <th>region_1</th>\n",
       "      <th>region_2</th>\n",
       "      <th>taster_name</th>\n",
       "      <th>taster_twitter_handle</th>\n",
       "      <th>title</th>\n",
       "      <th>variety</th>\n",
       "      <th>winery</th>\n",
       "    </tr>\n",
       "  </thead>\n",
       "  <tbody>\n",
       "    <tr>\n",
       "      <th>913</th>\n",
       "      <td>NaN</td>\n",
       "      <td>Amber in color, this wine has aromas of peach ...</td>\n",
       "      <td>Asureti Valley</td>\n",
       "      <td>87</td>\n",
       "      <td>30.0</td>\n",
       "      <td>NaN</td>\n",
       "      <td>NaN</td>\n",
       "      <td>NaN</td>\n",
       "      <td>Mike DeSimone</td>\n",
       "      <td>@worldwineguys</td>\n",
       "      <td>Gotsa Family Wines 2014 Asureti Valley Chinuri</td>\n",
       "      <td>Chinuri</td>\n",
       "      <td>Gotsa Family Wines</td>\n",
       "    </tr>\n",
       "    <tr>\n",
       "      <th>3131</th>\n",
       "      <td>NaN</td>\n",
       "      <td>Soft, fruity and juicy, this is a pleasant, si...</td>\n",
       "      <td>Partager</td>\n",
       "      <td>83</td>\n",
       "      <td>NaN</td>\n",
       "      <td>NaN</td>\n",
       "      <td>NaN</td>\n",
       "      <td>NaN</td>\n",
       "      <td>Roger Voss</td>\n",
       "      <td>@vossroger</td>\n",
       "      <td>Barton &amp; Guestier NV Partager Red</td>\n",
       "      <td>Red Blend</td>\n",
       "      <td>Barton &amp; Guestier</td>\n",
       "    </tr>\n",
       "    <tr>\n",
       "      <th>4243</th>\n",
       "      <td>NaN</td>\n",
       "      <td>Violet-red in color, this semisweet wine has a...</td>\n",
       "      <td>Red Naturally Semi-Sweet</td>\n",
       "      <td>88</td>\n",
       "      <td>18.0</td>\n",
       "      <td>NaN</td>\n",
       "      <td>NaN</td>\n",
       "      <td>NaN</td>\n",
       "      <td>Mike DeSimone</td>\n",
       "      <td>@worldwineguys</td>\n",
       "      <td>Kakhetia Traditional Winemaking 2012 Red Natur...</td>\n",
       "      <td>Ojaleshi</td>\n",
       "      <td>Kakhetia Traditional Winemaking</td>\n",
       "    </tr>\n",
       "    <tr>\n",
       "      <th>9509</th>\n",
       "      <td>NaN</td>\n",
       "      <td>This mouthwatering blend starts with a nose of...</td>\n",
       "      <td>Theopetra Malagouzia-Assyrtiko</td>\n",
       "      <td>92</td>\n",
       "      <td>28.0</td>\n",
       "      <td>NaN</td>\n",
       "      <td>NaN</td>\n",
       "      <td>NaN</td>\n",
       "      <td>Susan Kostrzewa</td>\n",
       "      <td>@suskostrzewa</td>\n",
       "      <td>Tsililis 2015 Theopetra Malagouzia-Assyrtiko W...</td>\n",
       "      <td>White Blend</td>\n",
       "      <td>Tsililis</td>\n",
       "    </tr>\n",
       "    <tr>\n",
       "      <th>9750</th>\n",
       "      <td>NaN</td>\n",
       "      <td>This orange-style wine has a cloudy yellow-gol...</td>\n",
       "      <td>Orange Nikolaevo Vineyard</td>\n",
       "      <td>89</td>\n",
       "      <td>28.0</td>\n",
       "      <td>NaN</td>\n",
       "      <td>NaN</td>\n",
       "      <td>NaN</td>\n",
       "      <td>Jeff Jenssen</td>\n",
       "      <td>@worldwineguys</td>\n",
       "      <td>Ross-idi 2015 Orange Nikolaevo Vineyard Chardo...</td>\n",
       "      <td>Chardonnay</td>\n",
       "      <td>Ross-idi</td>\n",
       "    </tr>\n",
       "    <tr>\n",
       "      <th>...</th>\n",
       "      <td>...</td>\n",
       "      <td>...</td>\n",
       "      <td>...</td>\n",
       "      <td>...</td>\n",
       "      <td>...</td>\n",
       "      <td>...</td>\n",
       "      <td>...</td>\n",
       "      <td>...</td>\n",
       "      <td>...</td>\n",
       "      <td>...</td>\n",
       "      <td>...</td>\n",
       "      <td>...</td>\n",
       "      <td>...</td>\n",
       "    </tr>\n",
       "    <tr>\n",
       "      <th>124176</th>\n",
       "      <td>NaN</td>\n",
       "      <td>This Swiss red blend is composed of four varie...</td>\n",
       "      <td>Les Romaines</td>\n",
       "      <td>90</td>\n",
       "      <td>30.0</td>\n",
       "      <td>NaN</td>\n",
       "      <td>NaN</td>\n",
       "      <td>NaN</td>\n",
       "      <td>Jeff Jenssen</td>\n",
       "      <td>@worldwineguys</td>\n",
       "      <td>Les Frères Dutruy 2014 Les Romaines Red</td>\n",
       "      <td>Red Blend</td>\n",
       "      <td>Les Frères Dutruy</td>\n",
       "    </tr>\n",
       "    <tr>\n",
       "      <th>129407</th>\n",
       "      <td>NaN</td>\n",
       "      <td>Dry spicy aromas of dusty plum and tomato add ...</td>\n",
       "      <td>Reserve</td>\n",
       "      <td>89</td>\n",
       "      <td>22.0</td>\n",
       "      <td>NaN</td>\n",
       "      <td>NaN</td>\n",
       "      <td>NaN</td>\n",
       "      <td>Michael Schachner</td>\n",
       "      <td>@wineschach</td>\n",
       "      <td>El Capricho 2015 Reserve Cabernet Sauvignon</td>\n",
       "      <td>Cabernet Sauvignon</td>\n",
       "      <td>El Capricho</td>\n",
       "    </tr>\n",
       "    <tr>\n",
       "      <th>129408</th>\n",
       "      <td>NaN</td>\n",
       "      <td>El Capricho is one of Uruguay's more consisten...</td>\n",
       "      <td>Reserve</td>\n",
       "      <td>89</td>\n",
       "      <td>22.0</td>\n",
       "      <td>NaN</td>\n",
       "      <td>NaN</td>\n",
       "      <td>NaN</td>\n",
       "      <td>Michael Schachner</td>\n",
       "      <td>@wineschach</td>\n",
       "      <td>El Capricho 2015 Reserve Tempranillo</td>\n",
       "      <td>Tempranillo</td>\n",
       "      <td>El Capricho</td>\n",
       "    </tr>\n",
       "    <tr>\n",
       "      <th>129590</th>\n",
       "      <td>NaN</td>\n",
       "      <td>A blend of 60% Syrah, 30% Cabernet Sauvignon a...</td>\n",
       "      <td>Shah</td>\n",
       "      <td>90</td>\n",
       "      <td>30.0</td>\n",
       "      <td>NaN</td>\n",
       "      <td>NaN</td>\n",
       "      <td>NaN</td>\n",
       "      <td>Mike DeSimone</td>\n",
       "      <td>@worldwineguys</td>\n",
       "      <td>Büyülübağ 2012 Shah Red</td>\n",
       "      <td>Red Blend</td>\n",
       "      <td>Büyülübağ</td>\n",
       "    </tr>\n",
       "    <tr>\n",
       "      <th>129900</th>\n",
       "      <td>NaN</td>\n",
       "      <td>This wine offers a delightful bouquet of black...</td>\n",
       "      <td>NaN</td>\n",
       "      <td>91</td>\n",
       "      <td>32.0</td>\n",
       "      <td>NaN</td>\n",
       "      <td>NaN</td>\n",
       "      <td>NaN</td>\n",
       "      <td>Mike DeSimone</td>\n",
       "      <td>@worldwineguys</td>\n",
       "      <td>Psagot 2014 Merlot</td>\n",
       "      <td>Merlot</td>\n",
       "      <td>Psagot</td>\n",
       "    </tr>\n",
       "  </tbody>\n",
       "</table>\n",
       "<p>63 rows × 13 columns</p>\n",
       "</div>"
      ],
      "text/plain": [
       "       country                                        description   \n",
       "913        NaN  Amber in color, this wine has aromas of peach ...  \\\n",
       "3131       NaN  Soft, fruity and juicy, this is a pleasant, si...   \n",
       "4243       NaN  Violet-red in color, this semisweet wine has a...   \n",
       "9509       NaN  This mouthwatering blend starts with a nose of...   \n",
       "9750       NaN  This orange-style wine has a cloudy yellow-gol...   \n",
       "...        ...                                                ...   \n",
       "124176     NaN  This Swiss red blend is composed of four varie...   \n",
       "129407     NaN  Dry spicy aromas of dusty plum and tomato add ...   \n",
       "129408     NaN  El Capricho is one of Uruguay's more consisten...   \n",
       "129590     NaN  A blend of 60% Syrah, 30% Cabernet Sauvignon a...   \n",
       "129900     NaN  This wine offers a delightful bouquet of black...   \n",
       "\n",
       "                           designation  points  price province region_1   \n",
       "913                     Asureti Valley      87   30.0      NaN      NaN  \\\n",
       "3131                          Partager      83    NaN      NaN      NaN   \n",
       "4243          Red Naturally Semi-Sweet      88   18.0      NaN      NaN   \n",
       "9509    Theopetra Malagouzia-Assyrtiko      92   28.0      NaN      NaN   \n",
       "9750         Orange Nikolaevo Vineyard      89   28.0      NaN      NaN   \n",
       "...                                ...     ...    ...      ...      ...   \n",
       "124176                    Les Romaines      90   30.0      NaN      NaN   \n",
       "129407                         Reserve      89   22.0      NaN      NaN   \n",
       "129408                         Reserve      89   22.0      NaN      NaN   \n",
       "129590                            Shah      90   30.0      NaN      NaN   \n",
       "129900                             NaN      91   32.0      NaN      NaN   \n",
       "\n",
       "       region_2        taster_name taster_twitter_handle   \n",
       "913         NaN      Mike DeSimone        @worldwineguys  \\\n",
       "3131        NaN         Roger Voss            @vossroger   \n",
       "4243        NaN      Mike DeSimone        @worldwineguys   \n",
       "9509        NaN    Susan Kostrzewa         @suskostrzewa   \n",
       "9750        NaN       Jeff Jenssen        @worldwineguys   \n",
       "...         ...                ...                   ...   \n",
       "124176      NaN       Jeff Jenssen        @worldwineguys   \n",
       "129407      NaN  Michael Schachner           @wineschach   \n",
       "129408      NaN  Michael Schachner           @wineschach   \n",
       "129590      NaN      Mike DeSimone        @worldwineguys   \n",
       "129900      NaN      Mike DeSimone        @worldwineguys   \n",
       "\n",
       "                                                    title             variety   \n",
       "913        Gotsa Family Wines 2014 Asureti Valley Chinuri             Chinuri  \\\n",
       "3131                    Barton & Guestier NV Partager Red           Red Blend   \n",
       "4243    Kakhetia Traditional Winemaking 2012 Red Natur...            Ojaleshi   \n",
       "9509    Tsililis 2015 Theopetra Malagouzia-Assyrtiko W...         White Blend   \n",
       "9750    Ross-idi 2015 Orange Nikolaevo Vineyard Chardo...          Chardonnay   \n",
       "...                                                   ...                 ...   \n",
       "124176            Les Frères Dutruy 2014 Les Romaines Red           Red Blend   \n",
       "129407        El Capricho 2015 Reserve Cabernet Sauvignon  Cabernet Sauvignon   \n",
       "129408               El Capricho 2015 Reserve Tempranillo         Tempranillo   \n",
       "129590                            Büyülübağ 2012 Shah Red           Red Blend   \n",
       "129900                                 Psagot 2014 Merlot              Merlot   \n",
       "\n",
       "                                 winery  \n",
       "913                  Gotsa Family Wines  \n",
       "3131                  Barton & Guestier  \n",
       "4243    Kakhetia Traditional Winemaking  \n",
       "9509                           Tsililis  \n",
       "9750                           Ross-idi  \n",
       "...                                 ...  \n",
       "124176                Les Frères Dutruy  \n",
       "129407                      El Capricho  \n",
       "129408                      El Capricho  \n",
       "129590                        Büyülübağ  \n",
       "129900                           Psagot  \n",
       "\n",
       "[63 rows x 13 columns]"
      ]
     },
     "execution_count": 195,
     "metadata": {},
     "output_type": "execute_result"
    }
   ],
   "source": [
    "reviews[pd.isnull(reviews.country)]"
   ]
  },
  {
   "cell_type": "markdown",
   "id": "30fa610f",
   "metadata": {
    "slideshow": {
     "slide_type": "slide"
    }
   },
   "source": [
    "Replacing missing values is a common operation. Pandas provides a really handy method for this problem: fillna(). fillna() provides a few different strategies for mitigating such data. For example, we can simply replace each NaN with an \"Unknown\":"
   ]
  },
  {
   "cell_type": "code",
   "execution_count": 200,
   "id": "eafa125c",
   "metadata": {},
   "outputs": [
    {
     "data": {
      "text/plain": [
       "0                   Unknown\n",
       "1                   Unknown\n",
       "2         Willamette Valley\n",
       "3                   Unknown\n",
       "4         Willamette Valley\n",
       "                ...        \n",
       "129966              Unknown\n",
       "129967         Oregon Other\n",
       "129968              Unknown\n",
       "129969              Unknown\n",
       "129970              Unknown\n",
       "Name: region_2, Length: 129971, dtype: object"
      ]
     },
     "execution_count": 200,
     "metadata": {},
     "output_type": "execute_result"
    }
   ],
   "source": [
    "reviews.region_2.fillna(\"Unknown\")"
   ]
  },
  {
   "cell_type": "markdown",
   "id": "7b0d0961",
   "metadata": {
    "slideshow": {
     "slide_type": "slide"
    }
   },
   "source": [
    "Or we could fill each missing value with the first non-null value that appears sometime after the given record in the database. This is known as the backfill strategy."
   ]
  },
  {
   "cell_type": "markdown",
   "id": "1e20e9d5",
   "metadata": {
    "slideshow": {
     "slide_type": "slide"
    }
   },
   "source": [
    "Alternatively, we may have a non-null value that we would like to replace. For example, suppose that since this dataset was published, reviewer Kerin O'Keefe has changed her Twitter handle from @kerinokeefe to @kerino. One way to reflect this in the dataset is using the replace() method:"
   ]
  },
  {
   "cell_type": "code",
   "execution_count": null,
   "id": "12ca3b51",
   "metadata": {},
   "outputs": [],
   "source": [
    "reviews.taster_twitter_handle.replace(\"@kerinokeefe\", \"@kerino\")"
   ]
  },
  {
   "cell_type": "markdown",
   "id": "0131ab59",
   "metadata": {
    "slideshow": {
     "slide_type": "-"
    }
   },
   "source": [
    "The replace() method is worth mentioning here because it's handy for replacing missing data which is given some kind of sentinel value in the dataset: things like \"Unknown\", \"Undisclosed\", \"Invalid\", and so on."
   ]
  },
  {
   "cell_type": "markdown",
   "id": "4b6b8e0c",
   "metadata": {
    "slideshow": {
     "slide_type": "slide"
    }
   },
   "source": [
    "We can also choose to not use a row that has missing data by using the dropna() method:"
   ]
  },
  {
   "cell_type": "code",
   "execution_count": 206,
   "id": "cf2c63cd",
   "metadata": {},
   "outputs": [
    {
     "data": {
      "text/html": [
       "<div>\n",
       "<style scoped>\n",
       "    .dataframe tbody tr th:only-of-type {\n",
       "        vertical-align: middle;\n",
       "    }\n",
       "\n",
       "    .dataframe tbody tr th {\n",
       "        vertical-align: top;\n",
       "    }\n",
       "\n",
       "    .dataframe thead th {\n",
       "        text-align: right;\n",
       "    }\n",
       "</style>\n",
       "<table border=\"1\" class=\"dataframe\">\n",
       "  <thead>\n",
       "    <tr style=\"text-align: right;\">\n",
       "      <th></th>\n",
       "      <th>country</th>\n",
       "      <th>description</th>\n",
       "      <th>designation</th>\n",
       "      <th>points</th>\n",
       "      <th>price</th>\n",
       "      <th>province</th>\n",
       "      <th>region_1</th>\n",
       "      <th>region_2</th>\n",
       "      <th>taster_name</th>\n",
       "      <th>taster_twitter_handle</th>\n",
       "      <th>title</th>\n",
       "      <th>variety</th>\n",
       "      <th>winery</th>\n",
       "    </tr>\n",
       "  </thead>\n",
       "  <tbody>\n",
       "    <tr>\n",
       "      <th>4</th>\n",
       "      <td>US</td>\n",
       "      <td>Much like the regular bottling from 2012, this...</td>\n",
       "      <td>Vintner's Reserve Wild Child Block</td>\n",
       "      <td>87</td>\n",
       "      <td>65.0</td>\n",
       "      <td>Oregon</td>\n",
       "      <td>Willamette Valley</td>\n",
       "      <td>Willamette Valley</td>\n",
       "      <td>Paul Gregutt</td>\n",
       "      <td>@paulgwine</td>\n",
       "      <td>Sweet Cheeks 2012 Vintner's Reserve Wild Child...</td>\n",
       "      <td>Pinot Noir</td>\n",
       "      <td>Sweet Cheeks</td>\n",
       "    </tr>\n",
       "    <tr>\n",
       "      <th>10</th>\n",
       "      <td>US</td>\n",
       "      <td>Soft, supple plum envelopes an oaky structure ...</td>\n",
       "      <td>Mountain Cuvée</td>\n",
       "      <td>87</td>\n",
       "      <td>19.0</td>\n",
       "      <td>California</td>\n",
       "      <td>Napa Valley</td>\n",
       "      <td>Napa</td>\n",
       "      <td>Virginie Boone</td>\n",
       "      <td>@vboone</td>\n",
       "      <td>Kirkland Signature 2011 Mountain Cuvée Caberne...</td>\n",
       "      <td>Cabernet Sauvignon</td>\n",
       "      <td>Kirkland Signature</td>\n",
       "    </tr>\n",
       "    <tr>\n",
       "      <th>23</th>\n",
       "      <td>US</td>\n",
       "      <td>This wine from the Geneseo district offers aro...</td>\n",
       "      <td>Signature Selection</td>\n",
       "      <td>87</td>\n",
       "      <td>22.0</td>\n",
       "      <td>California</td>\n",
       "      <td>Paso Robles</td>\n",
       "      <td>Central Coast</td>\n",
       "      <td>Matt Kettmann</td>\n",
       "      <td>@mattkettmann</td>\n",
       "      <td>Bianchi 2011 Signature Selection Merlot (Paso ...</td>\n",
       "      <td>Merlot</td>\n",
       "      <td>Bianchi</td>\n",
       "    </tr>\n",
       "    <tr>\n",
       "      <th>25</th>\n",
       "      <td>US</td>\n",
       "      <td>Oak and earth intermingle around robust aromas...</td>\n",
       "      <td>King Ridge Vineyard</td>\n",
       "      <td>87</td>\n",
       "      <td>69.0</td>\n",
       "      <td>California</td>\n",
       "      <td>Sonoma Coast</td>\n",
       "      <td>Sonoma</td>\n",
       "      <td>Virginie Boone</td>\n",
       "      <td>@vboone</td>\n",
       "      <td>Castello di Amorosa 2011 King Ridge Vineyard P...</td>\n",
       "      <td>Pinot Noir</td>\n",
       "      <td>Castello di Amorosa</td>\n",
       "    </tr>\n",
       "    <tr>\n",
       "      <th>35</th>\n",
       "      <td>US</td>\n",
       "      <td>As with many of the Erath 2010 vineyard design...</td>\n",
       "      <td>Hyland</td>\n",
       "      <td>86</td>\n",
       "      <td>50.0</td>\n",
       "      <td>Oregon</td>\n",
       "      <td>McMinnville</td>\n",
       "      <td>Willamette Valley</td>\n",
       "      <td>Paul Gregutt</td>\n",
       "      <td>@paulgwine</td>\n",
       "      <td>Erath 2010 Hyland Pinot Noir (McMinnville)</td>\n",
       "      <td>Pinot Noir</td>\n",
       "      <td>Erath</td>\n",
       "    </tr>\n",
       "    <tr>\n",
       "      <th>...</th>\n",
       "      <td>...</td>\n",
       "      <td>...</td>\n",
       "      <td>...</td>\n",
       "      <td>...</td>\n",
       "      <td>...</td>\n",
       "      <td>...</td>\n",
       "      <td>...</td>\n",
       "      <td>...</td>\n",
       "      <td>...</td>\n",
       "      <td>...</td>\n",
       "      <td>...</td>\n",
       "      <td>...</td>\n",
       "      <td>...</td>\n",
       "    </tr>\n",
       "    <tr>\n",
       "      <th>129919</th>\n",
       "      <td>US</td>\n",
       "      <td>This ripe, rich, almost decadently thick wine ...</td>\n",
       "      <td>Reserve</td>\n",
       "      <td>91</td>\n",
       "      <td>105.0</td>\n",
       "      <td>Washington</td>\n",
       "      <td>Walla Walla Valley (WA)</td>\n",
       "      <td>Columbia Valley</td>\n",
       "      <td>Paul Gregutt</td>\n",
       "      <td>@paulgwine</td>\n",
       "      <td>Nicholas Cole Cellars 2004 Reserve Red (Walla ...</td>\n",
       "      <td>Red Blend</td>\n",
       "      <td>Nicholas Cole Cellars</td>\n",
       "    </tr>\n",
       "    <tr>\n",
       "      <th>129926</th>\n",
       "      <td>US</td>\n",
       "      <td>This pure Syrah from Reininger's estate vineya...</td>\n",
       "      <td>Ash Hollow Vineyard</td>\n",
       "      <td>91</td>\n",
       "      <td>41.0</td>\n",
       "      <td>Washington</td>\n",
       "      <td>Walla Walla Valley (WA)</td>\n",
       "      <td>Columbia Valley</td>\n",
       "      <td>Paul Gregutt</td>\n",
       "      <td>@paulgwine</td>\n",
       "      <td>Reininger 2005 Ash Hollow Vineyard Syrah (Wall...</td>\n",
       "      <td>Syrah</td>\n",
       "      <td>Reininger</td>\n",
       "    </tr>\n",
       "    <tr>\n",
       "      <th>129945</th>\n",
       "      <td>US</td>\n",
       "      <td>Hailing from one of the more popular vineyards...</td>\n",
       "      <td>Jurassic Park Vineyard Old Vines</td>\n",
       "      <td>90</td>\n",
       "      <td>20.0</td>\n",
       "      <td>California</td>\n",
       "      <td>Santa Ynez Valley</td>\n",
       "      <td>Central Coast</td>\n",
       "      <td>Matt Kettmann</td>\n",
       "      <td>@mattkettmann</td>\n",
       "      <td>Birichino 2013 Jurassic Park Vineyard Old Vine...</td>\n",
       "      <td>Chenin Blanc</td>\n",
       "      <td>Birichino</td>\n",
       "    </tr>\n",
       "    <tr>\n",
       "      <th>129949</th>\n",
       "      <td>US</td>\n",
       "      <td>There's no bones about the use of oak in this ...</td>\n",
       "      <td>Barrel Fermented</td>\n",
       "      <td>90</td>\n",
       "      <td>35.0</td>\n",
       "      <td>California</td>\n",
       "      <td>Napa Valley</td>\n",
       "      <td>Napa</td>\n",
       "      <td>Virginie Boone</td>\n",
       "      <td>@vboone</td>\n",
       "      <td>Flora Springs 2013 Barrel Fermented Chardonnay...</td>\n",
       "      <td>Chardonnay</td>\n",
       "      <td>Flora Springs</td>\n",
       "    </tr>\n",
       "    <tr>\n",
       "      <th>129950</th>\n",
       "      <td>US</td>\n",
       "      <td>This opens with herbaceous dollops of thyme an...</td>\n",
       "      <td>Blocks 7 &amp; 22</td>\n",
       "      <td>90</td>\n",
       "      <td>35.0</td>\n",
       "      <td>California</td>\n",
       "      <td>Napa Valley</td>\n",
       "      <td>Napa</td>\n",
       "      <td>Virginie Boone</td>\n",
       "      <td>@vboone</td>\n",
       "      <td>Hendry 2012 Blocks 7 &amp; 22 Zinfandel (Napa Valley)</td>\n",
       "      <td>Zinfandel</td>\n",
       "      <td>Hendry</td>\n",
       "    </tr>\n",
       "  </tbody>\n",
       "</table>\n",
       "<p>22387 rows × 13 columns</p>\n",
       "</div>"
      ],
      "text/plain": [
       "       country                                        description   \n",
       "4           US  Much like the regular bottling from 2012, this...  \\\n",
       "10          US  Soft, supple plum envelopes an oaky structure ...   \n",
       "23          US  This wine from the Geneseo district offers aro...   \n",
       "25          US  Oak and earth intermingle around robust aromas...   \n",
       "35          US  As with many of the Erath 2010 vineyard design...   \n",
       "...        ...                                                ...   \n",
       "129919      US  This ripe, rich, almost decadently thick wine ...   \n",
       "129926      US  This pure Syrah from Reininger's estate vineya...   \n",
       "129945      US  Hailing from one of the more popular vineyards...   \n",
       "129949      US  There's no bones about the use of oak in this ...   \n",
       "129950      US  This opens with herbaceous dollops of thyme an...   \n",
       "\n",
       "                               designation  points  price    province   \n",
       "4       Vintner's Reserve Wild Child Block      87   65.0      Oregon  \\\n",
       "10                          Mountain Cuvée      87   19.0  California   \n",
       "23                     Signature Selection      87   22.0  California   \n",
       "25                     King Ridge Vineyard      87   69.0  California   \n",
       "35                                  Hyland      86   50.0      Oregon   \n",
       "...                                    ...     ...    ...         ...   \n",
       "129919                             Reserve      91  105.0  Washington   \n",
       "129926                 Ash Hollow Vineyard      91   41.0  Washington   \n",
       "129945    Jurassic Park Vineyard Old Vines      90   20.0  California   \n",
       "129949                    Barrel Fermented      90   35.0  California   \n",
       "129950                       Blocks 7 & 22      90   35.0  California   \n",
       "\n",
       "                       region_1           region_2     taster_name   \n",
       "4             Willamette Valley  Willamette Valley    Paul Gregutt  \\\n",
       "10                  Napa Valley               Napa  Virginie Boone   \n",
       "23                  Paso Robles      Central Coast   Matt Kettmann   \n",
       "25                 Sonoma Coast             Sonoma  Virginie Boone   \n",
       "35                  McMinnville  Willamette Valley    Paul Gregutt   \n",
       "...                         ...                ...             ...   \n",
       "129919  Walla Walla Valley (WA)    Columbia Valley    Paul Gregutt   \n",
       "129926  Walla Walla Valley (WA)    Columbia Valley    Paul Gregutt   \n",
       "129945        Santa Ynez Valley      Central Coast   Matt Kettmann   \n",
       "129949              Napa Valley               Napa  Virginie Boone   \n",
       "129950              Napa Valley               Napa  Virginie Boone   \n",
       "\n",
       "       taster_twitter_handle   \n",
       "4                @paulgwine   \\\n",
       "10                   @vboone   \n",
       "23             @mattkettmann   \n",
       "25                   @vboone   \n",
       "35               @paulgwine    \n",
       "...                      ...   \n",
       "129919           @paulgwine    \n",
       "129926           @paulgwine    \n",
       "129945         @mattkettmann   \n",
       "129949               @vboone   \n",
       "129950               @vboone   \n",
       "\n",
       "                                                    title             variety   \n",
       "4       Sweet Cheeks 2012 Vintner's Reserve Wild Child...          Pinot Noir  \\\n",
       "10      Kirkland Signature 2011 Mountain Cuvée Caberne...  Cabernet Sauvignon   \n",
       "23      Bianchi 2011 Signature Selection Merlot (Paso ...              Merlot   \n",
       "25      Castello di Amorosa 2011 King Ridge Vineyard P...          Pinot Noir   \n",
       "35             Erath 2010 Hyland Pinot Noir (McMinnville)          Pinot Noir   \n",
       "...                                                   ...                 ...   \n",
       "129919  Nicholas Cole Cellars 2004 Reserve Red (Walla ...           Red Blend   \n",
       "129926  Reininger 2005 Ash Hollow Vineyard Syrah (Wall...               Syrah   \n",
       "129945  Birichino 2013 Jurassic Park Vineyard Old Vine...        Chenin Blanc   \n",
       "129949  Flora Springs 2013 Barrel Fermented Chardonnay...          Chardonnay   \n",
       "129950  Hendry 2012 Blocks 7 & 22 Zinfandel (Napa Valley)           Zinfandel   \n",
       "\n",
       "                       winery  \n",
       "4                Sweet Cheeks  \n",
       "10         Kirkland Signature  \n",
       "23                    Bianchi  \n",
       "25        Castello di Amorosa  \n",
       "35                      Erath  \n",
       "...                       ...  \n",
       "129919  Nicholas Cole Cellars  \n",
       "129926              Reininger  \n",
       "129945              Birichino  \n",
       "129949          Flora Springs  \n",
       "129950                 Hendry  \n",
       "\n",
       "[22387 rows x 13 columns]"
      ]
     },
     "execution_count": 206,
     "metadata": {},
     "output_type": "execute_result"
    }
   ],
   "source": [
    "reviews.dropna(inplace=True)"
   ]
  },
  {
   "cell_type": "markdown",
   "id": "169852c2",
   "metadata": {},
   "source": [
    "the dropna() method will remove any row that has missing data.\n",
    "the inplace parameter will modify the original DataFrame rather than returning a new one."
   ]
  },
  {
   "cell_type": "markdown",
   "id": "47b675be",
   "metadata": {
    "slideshow": {
     "slide_type": "slide"
    }
   },
   "source": [
    "## Pandas - renamming and combining\n",
    "### Introduction\n",
    "\n",
    "Oftentimes data will come to us with column names, index names, or other naming conventions that we are not satisfied with. In that case, you'll learn how to use pandas functions to change the names of the offending entries to something better.\n",
    "\n",
    "You'll also explore how to combine data from multiple DataFrames and/or Series."
   ]
  },
  {
   "cell_type": "markdown",
   "id": "af560a10",
   "metadata": {
    "slideshow": {
     "slide_type": "slide"
    }
   },
   "source": [
    "### Renaming\n",
    "\n",
    "The first function we'll introduce here is rename(), which lets you change index names and/or column names. \n",
    "\n",
    "For example, to change the points column in our dataset to score, we would do:"
   ]
  },
  {
   "cell_type": "code",
   "execution_count": 215,
   "id": "5d9bf14f",
   "metadata": {},
   "outputs": [],
   "source": [
    "reviews.rename(columns={'points': 'score'}, inplace=True)"
   ]
  },
  {
   "cell_type": "markdown",
   "id": "e4c52427",
   "metadata": {
    "slideshow": {
     "slide_type": "slide"
    }
   },
   "source": [
    "rename() lets you rename index or column values by specifying a index or column keyword parameter, respectively. It supports a variety of input formats, but usually a Python dictionary is the most convenient. Here is an example using it to rename some elements of the index."
   ]
  },
  {
   "cell_type": "code",
   "execution_count": 216,
   "id": "7be87ff2",
   "metadata": {},
   "outputs": [
    {
     "data": {
      "text/html": [
       "<div>\n",
       "<style scoped>\n",
       "    .dataframe tbody tr th:only-of-type {\n",
       "        vertical-align: middle;\n",
       "    }\n",
       "\n",
       "    .dataframe tbody tr th {\n",
       "        vertical-align: top;\n",
       "    }\n",
       "\n",
       "    .dataframe thead th {\n",
       "        text-align: right;\n",
       "    }\n",
       "</style>\n",
       "<table border=\"1\" class=\"dataframe\">\n",
       "  <thead>\n",
       "    <tr style=\"text-align: right;\">\n",
       "      <th></th>\n",
       "      <th>country</th>\n",
       "      <th>description</th>\n",
       "      <th>designation</th>\n",
       "      <th>score</th>\n",
       "      <th>price</th>\n",
       "      <th>province</th>\n",
       "      <th>region_1</th>\n",
       "      <th>region_2</th>\n",
       "      <th>taster_name</th>\n",
       "      <th>taster_twitter_handle</th>\n",
       "      <th>title</th>\n",
       "      <th>variety</th>\n",
       "      <th>winery</th>\n",
       "    </tr>\n",
       "  </thead>\n",
       "  <tbody>\n",
       "    <tr>\n",
       "      <th>firstEntry</th>\n",
       "      <td>US</td>\n",
       "      <td>Much like the regular bottling from 2012, this...</td>\n",
       "      <td>Vintner's Reserve Wild Child Block</td>\n",
       "      <td>87</td>\n",
       "      <td>65.0</td>\n",
       "      <td>Oregon</td>\n",
       "      <td>Willamette Valley</td>\n",
       "      <td>Willamette Valley</td>\n",
       "      <td>Paul Gregutt</td>\n",
       "      <td>@paulgwine</td>\n",
       "      <td>Sweet Cheeks 2012 Vintner's Reserve Wild Child...</td>\n",
       "      <td>Pinot Noir</td>\n",
       "      <td>Sweet Cheeks</td>\n",
       "    </tr>\n",
       "    <tr>\n",
       "      <th>secondEntry</th>\n",
       "      <td>US</td>\n",
       "      <td>Soft, supple plum envelopes an oaky structure ...</td>\n",
       "      <td>Mountain Cuvée</td>\n",
       "      <td>87</td>\n",
       "      <td>19.0</td>\n",
       "      <td>California</td>\n",
       "      <td>Napa Valley</td>\n",
       "      <td>Napa</td>\n",
       "      <td>Virginie Boone</td>\n",
       "      <td>@vboone</td>\n",
       "      <td>Kirkland Signature 2011 Mountain Cuvée Caberne...</td>\n",
       "      <td>Cabernet Sauvignon</td>\n",
       "      <td>Kirkland Signature</td>\n",
       "    </tr>\n",
       "    <tr>\n",
       "      <th>23</th>\n",
       "      <td>US</td>\n",
       "      <td>This wine from the Geneseo district offers aro...</td>\n",
       "      <td>Signature Selection</td>\n",
       "      <td>87</td>\n",
       "      <td>22.0</td>\n",
       "      <td>California</td>\n",
       "      <td>Paso Robles</td>\n",
       "      <td>Central Coast</td>\n",
       "      <td>Matt Kettmann</td>\n",
       "      <td>@mattkettmann</td>\n",
       "      <td>Bianchi 2011 Signature Selection Merlot (Paso ...</td>\n",
       "      <td>Merlot</td>\n",
       "      <td>Bianchi</td>\n",
       "    </tr>\n",
       "    <tr>\n",
       "      <th>25</th>\n",
       "      <td>US</td>\n",
       "      <td>Oak and earth intermingle around robust aromas...</td>\n",
       "      <td>King Ridge Vineyard</td>\n",
       "      <td>87</td>\n",
       "      <td>69.0</td>\n",
       "      <td>California</td>\n",
       "      <td>Sonoma Coast</td>\n",
       "      <td>Sonoma</td>\n",
       "      <td>Virginie Boone</td>\n",
       "      <td>@vboone</td>\n",
       "      <td>Castello di Amorosa 2011 King Ridge Vineyard P...</td>\n",
       "      <td>Pinot Noir</td>\n",
       "      <td>Castello di Amorosa</td>\n",
       "    </tr>\n",
       "    <tr>\n",
       "      <th>35</th>\n",
       "      <td>US</td>\n",
       "      <td>As with many of the Erath 2010 vineyard design...</td>\n",
       "      <td>Hyland</td>\n",
       "      <td>86</td>\n",
       "      <td>50.0</td>\n",
       "      <td>Oregon</td>\n",
       "      <td>McMinnville</td>\n",
       "      <td>Willamette Valley</td>\n",
       "      <td>Paul Gregutt</td>\n",
       "      <td>@paulgwine</td>\n",
       "      <td>Erath 2010 Hyland Pinot Noir (McMinnville)</td>\n",
       "      <td>Pinot Noir</td>\n",
       "      <td>Erath</td>\n",
       "    </tr>\n",
       "    <tr>\n",
       "      <th>...</th>\n",
       "      <td>...</td>\n",
       "      <td>...</td>\n",
       "      <td>...</td>\n",
       "      <td>...</td>\n",
       "      <td>...</td>\n",
       "      <td>...</td>\n",
       "      <td>...</td>\n",
       "      <td>...</td>\n",
       "      <td>...</td>\n",
       "      <td>...</td>\n",
       "      <td>...</td>\n",
       "      <td>...</td>\n",
       "      <td>...</td>\n",
       "    </tr>\n",
       "    <tr>\n",
       "      <th>129919</th>\n",
       "      <td>US</td>\n",
       "      <td>This ripe, rich, almost decadently thick wine ...</td>\n",
       "      <td>Reserve</td>\n",
       "      <td>91</td>\n",
       "      <td>105.0</td>\n",
       "      <td>Washington</td>\n",
       "      <td>Walla Walla Valley (WA)</td>\n",
       "      <td>Columbia Valley</td>\n",
       "      <td>Paul Gregutt</td>\n",
       "      <td>@paulgwine</td>\n",
       "      <td>Nicholas Cole Cellars 2004 Reserve Red (Walla ...</td>\n",
       "      <td>Red Blend</td>\n",
       "      <td>Nicholas Cole Cellars</td>\n",
       "    </tr>\n",
       "    <tr>\n",
       "      <th>129926</th>\n",
       "      <td>US</td>\n",
       "      <td>This pure Syrah from Reininger's estate vineya...</td>\n",
       "      <td>Ash Hollow Vineyard</td>\n",
       "      <td>91</td>\n",
       "      <td>41.0</td>\n",
       "      <td>Washington</td>\n",
       "      <td>Walla Walla Valley (WA)</td>\n",
       "      <td>Columbia Valley</td>\n",
       "      <td>Paul Gregutt</td>\n",
       "      <td>@paulgwine</td>\n",
       "      <td>Reininger 2005 Ash Hollow Vineyard Syrah (Wall...</td>\n",
       "      <td>Syrah</td>\n",
       "      <td>Reininger</td>\n",
       "    </tr>\n",
       "    <tr>\n",
       "      <th>129945</th>\n",
       "      <td>US</td>\n",
       "      <td>Hailing from one of the more popular vineyards...</td>\n",
       "      <td>Jurassic Park Vineyard Old Vines</td>\n",
       "      <td>90</td>\n",
       "      <td>20.0</td>\n",
       "      <td>California</td>\n",
       "      <td>Santa Ynez Valley</td>\n",
       "      <td>Central Coast</td>\n",
       "      <td>Matt Kettmann</td>\n",
       "      <td>@mattkettmann</td>\n",
       "      <td>Birichino 2013 Jurassic Park Vineyard Old Vine...</td>\n",
       "      <td>Chenin Blanc</td>\n",
       "      <td>Birichino</td>\n",
       "    </tr>\n",
       "    <tr>\n",
       "      <th>129949</th>\n",
       "      <td>US</td>\n",
       "      <td>There's no bones about the use of oak in this ...</td>\n",
       "      <td>Barrel Fermented</td>\n",
       "      <td>90</td>\n",
       "      <td>35.0</td>\n",
       "      <td>California</td>\n",
       "      <td>Napa Valley</td>\n",
       "      <td>Napa</td>\n",
       "      <td>Virginie Boone</td>\n",
       "      <td>@vboone</td>\n",
       "      <td>Flora Springs 2013 Barrel Fermented Chardonnay...</td>\n",
       "      <td>Chardonnay</td>\n",
       "      <td>Flora Springs</td>\n",
       "    </tr>\n",
       "    <tr>\n",
       "      <th>129950</th>\n",
       "      <td>US</td>\n",
       "      <td>This opens with herbaceous dollops of thyme an...</td>\n",
       "      <td>Blocks 7 &amp; 22</td>\n",
       "      <td>90</td>\n",
       "      <td>35.0</td>\n",
       "      <td>California</td>\n",
       "      <td>Napa Valley</td>\n",
       "      <td>Napa</td>\n",
       "      <td>Virginie Boone</td>\n",
       "      <td>@vboone</td>\n",
       "      <td>Hendry 2012 Blocks 7 &amp; 22 Zinfandel (Napa Valley)</td>\n",
       "      <td>Zinfandel</td>\n",
       "      <td>Hendry</td>\n",
       "    </tr>\n",
       "  </tbody>\n",
       "</table>\n",
       "<p>22387 rows × 13 columns</p>\n",
       "</div>"
      ],
      "text/plain": [
       "            country                                        description   \n",
       "firstEntry       US  Much like the regular bottling from 2012, this...  \\\n",
       "secondEntry      US  Soft, supple plum envelopes an oaky structure ...   \n",
       "23               US  This wine from the Geneseo district offers aro...   \n",
       "25               US  Oak and earth intermingle around robust aromas...   \n",
       "35               US  As with many of the Erath 2010 vineyard design...   \n",
       "...             ...                                                ...   \n",
       "129919           US  This ripe, rich, almost decadently thick wine ...   \n",
       "129926           US  This pure Syrah from Reininger's estate vineya...   \n",
       "129945           US  Hailing from one of the more popular vineyards...   \n",
       "129949           US  There's no bones about the use of oak in this ...   \n",
       "129950           US  This opens with herbaceous dollops of thyme an...   \n",
       "\n",
       "                                    designation  score  price    province   \n",
       "firstEntry   Vintner's Reserve Wild Child Block     87   65.0      Oregon  \\\n",
       "secondEntry                      Mountain Cuvée     87   19.0  California   \n",
       "23                          Signature Selection     87   22.0  California   \n",
       "25                          King Ridge Vineyard     87   69.0  California   \n",
       "35                                       Hyland     86   50.0      Oregon   \n",
       "...                                         ...    ...    ...         ...   \n",
       "129919                                  Reserve     91  105.0  Washington   \n",
       "129926                      Ash Hollow Vineyard     91   41.0  Washington   \n",
       "129945         Jurassic Park Vineyard Old Vines     90   20.0  California   \n",
       "129949                         Barrel Fermented     90   35.0  California   \n",
       "129950                            Blocks 7 & 22     90   35.0  California   \n",
       "\n",
       "                            region_1           region_2     taster_name   \n",
       "firstEntry         Willamette Valley  Willamette Valley    Paul Gregutt  \\\n",
       "secondEntry              Napa Valley               Napa  Virginie Boone   \n",
       "23                       Paso Robles      Central Coast   Matt Kettmann   \n",
       "25                      Sonoma Coast             Sonoma  Virginie Boone   \n",
       "35                       McMinnville  Willamette Valley    Paul Gregutt   \n",
       "...                              ...                ...             ...   \n",
       "129919       Walla Walla Valley (WA)    Columbia Valley    Paul Gregutt   \n",
       "129926       Walla Walla Valley (WA)    Columbia Valley    Paul Gregutt   \n",
       "129945             Santa Ynez Valley      Central Coast   Matt Kettmann   \n",
       "129949                   Napa Valley               Napa  Virginie Boone   \n",
       "129950                   Napa Valley               Napa  Virginie Boone   \n",
       "\n",
       "            taster_twitter_handle   \n",
       "firstEntry            @paulgwine   \\\n",
       "secondEntry               @vboone   \n",
       "23                  @mattkettmann   \n",
       "25                        @vboone   \n",
       "35                    @paulgwine    \n",
       "...                           ...   \n",
       "129919                @paulgwine    \n",
       "129926                @paulgwine    \n",
       "129945              @mattkettmann   \n",
       "129949                    @vboone   \n",
       "129950                    @vboone   \n",
       "\n",
       "                                                         title   \n",
       "firstEntry   Sweet Cheeks 2012 Vintner's Reserve Wild Child...  \\\n",
       "secondEntry  Kirkland Signature 2011 Mountain Cuvée Caberne...   \n",
       "23           Bianchi 2011 Signature Selection Merlot (Paso ...   \n",
       "25           Castello di Amorosa 2011 King Ridge Vineyard P...   \n",
       "35                  Erath 2010 Hyland Pinot Noir (McMinnville)   \n",
       "...                                                        ...   \n",
       "129919       Nicholas Cole Cellars 2004 Reserve Red (Walla ...   \n",
       "129926       Reininger 2005 Ash Hollow Vineyard Syrah (Wall...   \n",
       "129945       Birichino 2013 Jurassic Park Vineyard Old Vine...   \n",
       "129949       Flora Springs 2013 Barrel Fermented Chardonnay...   \n",
       "129950       Hendry 2012 Blocks 7 & 22 Zinfandel (Napa Valley)   \n",
       "\n",
       "                        variety                 winery  \n",
       "firstEntry           Pinot Noir           Sweet Cheeks  \n",
       "secondEntry  Cabernet Sauvignon     Kirkland Signature  \n",
       "23                       Merlot                Bianchi  \n",
       "25                   Pinot Noir    Castello di Amorosa  \n",
       "35                   Pinot Noir                  Erath  \n",
       "...                         ...                    ...  \n",
       "129919                Red Blend  Nicholas Cole Cellars  \n",
       "129926                    Syrah              Reininger  \n",
       "129945             Chenin Blanc              Birichino  \n",
       "129949               Chardonnay          Flora Springs  \n",
       "129950                Zinfandel                 Hendry  \n",
       "\n",
       "[22387 rows x 13 columns]"
      ]
     },
     "execution_count": 216,
     "metadata": {},
     "output_type": "execute_result"
    }
   ],
   "source": [
    "reviews.rename(index={4: 'firstEntry', 10: 'secondEntry'})"
   ]
  },
  {
   "cell_type": "markdown",
   "id": "c59ed2a4",
   "metadata": {
    "slideshow": {
     "slide_type": "slide"
    }
   },
   "source": [
    "You'll probably rename columns very often, but rename index values very rarely. For that, set_index() is usually more convenient.\n",
    "\n",
    "Both the row index and the column index can have their own name attribute. The complimentary rename_axis() method may be used to change these names. For example:"
   ]
  },
  {
   "cell_type": "code",
   "execution_count": 217,
   "id": "c1f4c9c4",
   "metadata": {},
   "outputs": [
    {
     "data": {
      "text/html": [
       "<div>\n",
       "<style scoped>\n",
       "    .dataframe tbody tr th:only-of-type {\n",
       "        vertical-align: middle;\n",
       "    }\n",
       "\n",
       "    .dataframe tbody tr th {\n",
       "        vertical-align: top;\n",
       "    }\n",
       "\n",
       "    .dataframe thead th {\n",
       "        text-align: right;\n",
       "    }\n",
       "</style>\n",
       "<table border=\"1\" class=\"dataframe\">\n",
       "  <thead>\n",
       "    <tr style=\"text-align: right;\">\n",
       "      <th>fields</th>\n",
       "      <th>country</th>\n",
       "      <th>description</th>\n",
       "      <th>designation</th>\n",
       "      <th>score</th>\n",
       "      <th>price</th>\n",
       "      <th>province</th>\n",
       "      <th>region_1</th>\n",
       "      <th>region_2</th>\n",
       "      <th>taster_name</th>\n",
       "      <th>taster_twitter_handle</th>\n",
       "      <th>title</th>\n",
       "      <th>variety</th>\n",
       "      <th>winery</th>\n",
       "    </tr>\n",
       "    <tr>\n",
       "      <th>wines</th>\n",
       "      <th></th>\n",
       "      <th></th>\n",
       "      <th></th>\n",
       "      <th></th>\n",
       "      <th></th>\n",
       "      <th></th>\n",
       "      <th></th>\n",
       "      <th></th>\n",
       "      <th></th>\n",
       "      <th></th>\n",
       "      <th></th>\n",
       "      <th></th>\n",
       "      <th></th>\n",
       "    </tr>\n",
       "  </thead>\n",
       "  <tbody>\n",
       "    <tr>\n",
       "      <th>4</th>\n",
       "      <td>US</td>\n",
       "      <td>Much like the regular bottling from 2012, this...</td>\n",
       "      <td>Vintner's Reserve Wild Child Block</td>\n",
       "      <td>87</td>\n",
       "      <td>65.0</td>\n",
       "      <td>Oregon</td>\n",
       "      <td>Willamette Valley</td>\n",
       "      <td>Willamette Valley</td>\n",
       "      <td>Paul Gregutt</td>\n",
       "      <td>@paulgwine</td>\n",
       "      <td>Sweet Cheeks 2012 Vintner's Reserve Wild Child...</td>\n",
       "      <td>Pinot Noir</td>\n",
       "      <td>Sweet Cheeks</td>\n",
       "    </tr>\n",
       "    <tr>\n",
       "      <th>10</th>\n",
       "      <td>US</td>\n",
       "      <td>Soft, supple plum envelopes an oaky structure ...</td>\n",
       "      <td>Mountain Cuvée</td>\n",
       "      <td>87</td>\n",
       "      <td>19.0</td>\n",
       "      <td>California</td>\n",
       "      <td>Napa Valley</td>\n",
       "      <td>Napa</td>\n",
       "      <td>Virginie Boone</td>\n",
       "      <td>@vboone</td>\n",
       "      <td>Kirkland Signature 2011 Mountain Cuvée Caberne...</td>\n",
       "      <td>Cabernet Sauvignon</td>\n",
       "      <td>Kirkland Signature</td>\n",
       "    </tr>\n",
       "    <tr>\n",
       "      <th>23</th>\n",
       "      <td>US</td>\n",
       "      <td>This wine from the Geneseo district offers aro...</td>\n",
       "      <td>Signature Selection</td>\n",
       "      <td>87</td>\n",
       "      <td>22.0</td>\n",
       "      <td>California</td>\n",
       "      <td>Paso Robles</td>\n",
       "      <td>Central Coast</td>\n",
       "      <td>Matt Kettmann</td>\n",
       "      <td>@mattkettmann</td>\n",
       "      <td>Bianchi 2011 Signature Selection Merlot (Paso ...</td>\n",
       "      <td>Merlot</td>\n",
       "      <td>Bianchi</td>\n",
       "    </tr>\n",
       "    <tr>\n",
       "      <th>25</th>\n",
       "      <td>US</td>\n",
       "      <td>Oak and earth intermingle around robust aromas...</td>\n",
       "      <td>King Ridge Vineyard</td>\n",
       "      <td>87</td>\n",
       "      <td>69.0</td>\n",
       "      <td>California</td>\n",
       "      <td>Sonoma Coast</td>\n",
       "      <td>Sonoma</td>\n",
       "      <td>Virginie Boone</td>\n",
       "      <td>@vboone</td>\n",
       "      <td>Castello di Amorosa 2011 King Ridge Vineyard P...</td>\n",
       "      <td>Pinot Noir</td>\n",
       "      <td>Castello di Amorosa</td>\n",
       "    </tr>\n",
       "    <tr>\n",
       "      <th>35</th>\n",
       "      <td>US</td>\n",
       "      <td>As with many of the Erath 2010 vineyard design...</td>\n",
       "      <td>Hyland</td>\n",
       "      <td>86</td>\n",
       "      <td>50.0</td>\n",
       "      <td>Oregon</td>\n",
       "      <td>McMinnville</td>\n",
       "      <td>Willamette Valley</td>\n",
       "      <td>Paul Gregutt</td>\n",
       "      <td>@paulgwine</td>\n",
       "      <td>Erath 2010 Hyland Pinot Noir (McMinnville)</td>\n",
       "      <td>Pinot Noir</td>\n",
       "      <td>Erath</td>\n",
       "    </tr>\n",
       "    <tr>\n",
       "      <th>...</th>\n",
       "      <td>...</td>\n",
       "      <td>...</td>\n",
       "      <td>...</td>\n",
       "      <td>...</td>\n",
       "      <td>...</td>\n",
       "      <td>...</td>\n",
       "      <td>...</td>\n",
       "      <td>...</td>\n",
       "      <td>...</td>\n",
       "      <td>...</td>\n",
       "      <td>...</td>\n",
       "      <td>...</td>\n",
       "      <td>...</td>\n",
       "    </tr>\n",
       "    <tr>\n",
       "      <th>129919</th>\n",
       "      <td>US</td>\n",
       "      <td>This ripe, rich, almost decadently thick wine ...</td>\n",
       "      <td>Reserve</td>\n",
       "      <td>91</td>\n",
       "      <td>105.0</td>\n",
       "      <td>Washington</td>\n",
       "      <td>Walla Walla Valley (WA)</td>\n",
       "      <td>Columbia Valley</td>\n",
       "      <td>Paul Gregutt</td>\n",
       "      <td>@paulgwine</td>\n",
       "      <td>Nicholas Cole Cellars 2004 Reserve Red (Walla ...</td>\n",
       "      <td>Red Blend</td>\n",
       "      <td>Nicholas Cole Cellars</td>\n",
       "    </tr>\n",
       "    <tr>\n",
       "      <th>129926</th>\n",
       "      <td>US</td>\n",
       "      <td>This pure Syrah from Reininger's estate vineya...</td>\n",
       "      <td>Ash Hollow Vineyard</td>\n",
       "      <td>91</td>\n",
       "      <td>41.0</td>\n",
       "      <td>Washington</td>\n",
       "      <td>Walla Walla Valley (WA)</td>\n",
       "      <td>Columbia Valley</td>\n",
       "      <td>Paul Gregutt</td>\n",
       "      <td>@paulgwine</td>\n",
       "      <td>Reininger 2005 Ash Hollow Vineyard Syrah (Wall...</td>\n",
       "      <td>Syrah</td>\n",
       "      <td>Reininger</td>\n",
       "    </tr>\n",
       "    <tr>\n",
       "      <th>129945</th>\n",
       "      <td>US</td>\n",
       "      <td>Hailing from one of the more popular vineyards...</td>\n",
       "      <td>Jurassic Park Vineyard Old Vines</td>\n",
       "      <td>90</td>\n",
       "      <td>20.0</td>\n",
       "      <td>California</td>\n",
       "      <td>Santa Ynez Valley</td>\n",
       "      <td>Central Coast</td>\n",
       "      <td>Matt Kettmann</td>\n",
       "      <td>@mattkettmann</td>\n",
       "      <td>Birichino 2013 Jurassic Park Vineyard Old Vine...</td>\n",
       "      <td>Chenin Blanc</td>\n",
       "      <td>Birichino</td>\n",
       "    </tr>\n",
       "    <tr>\n",
       "      <th>129949</th>\n",
       "      <td>US</td>\n",
       "      <td>There's no bones about the use of oak in this ...</td>\n",
       "      <td>Barrel Fermented</td>\n",
       "      <td>90</td>\n",
       "      <td>35.0</td>\n",
       "      <td>California</td>\n",
       "      <td>Napa Valley</td>\n",
       "      <td>Napa</td>\n",
       "      <td>Virginie Boone</td>\n",
       "      <td>@vboone</td>\n",
       "      <td>Flora Springs 2013 Barrel Fermented Chardonnay...</td>\n",
       "      <td>Chardonnay</td>\n",
       "      <td>Flora Springs</td>\n",
       "    </tr>\n",
       "    <tr>\n",
       "      <th>129950</th>\n",
       "      <td>US</td>\n",
       "      <td>This opens with herbaceous dollops of thyme an...</td>\n",
       "      <td>Blocks 7 &amp; 22</td>\n",
       "      <td>90</td>\n",
       "      <td>35.0</td>\n",
       "      <td>California</td>\n",
       "      <td>Napa Valley</td>\n",
       "      <td>Napa</td>\n",
       "      <td>Virginie Boone</td>\n",
       "      <td>@vboone</td>\n",
       "      <td>Hendry 2012 Blocks 7 &amp; 22 Zinfandel (Napa Valley)</td>\n",
       "      <td>Zinfandel</td>\n",
       "      <td>Hendry</td>\n",
       "    </tr>\n",
       "  </tbody>\n",
       "</table>\n",
       "<p>22387 rows × 13 columns</p>\n",
       "</div>"
      ],
      "text/plain": [
       "fields country                                        description   \n",
       "wines                                                               \n",
       "4           US  Much like the regular bottling from 2012, this...  \\\n",
       "10          US  Soft, supple plum envelopes an oaky structure ...   \n",
       "23          US  This wine from the Geneseo district offers aro...   \n",
       "25          US  Oak and earth intermingle around robust aromas...   \n",
       "35          US  As with many of the Erath 2010 vineyard design...   \n",
       "...        ...                                                ...   \n",
       "129919      US  This ripe, rich, almost decadently thick wine ...   \n",
       "129926      US  This pure Syrah from Reininger's estate vineya...   \n",
       "129945      US  Hailing from one of the more popular vineyards...   \n",
       "129949      US  There's no bones about the use of oak in this ...   \n",
       "129950      US  This opens with herbaceous dollops of thyme an...   \n",
       "\n",
       "fields                         designation  score  price    province   \n",
       "wines                                                                  \n",
       "4       Vintner's Reserve Wild Child Block     87   65.0      Oregon  \\\n",
       "10                          Mountain Cuvée     87   19.0  California   \n",
       "23                     Signature Selection     87   22.0  California   \n",
       "25                     King Ridge Vineyard     87   69.0  California   \n",
       "35                                  Hyland     86   50.0      Oregon   \n",
       "...                                    ...    ...    ...         ...   \n",
       "129919                             Reserve     91  105.0  Washington   \n",
       "129926                 Ash Hollow Vineyard     91   41.0  Washington   \n",
       "129945    Jurassic Park Vineyard Old Vines     90   20.0  California   \n",
       "129949                    Barrel Fermented     90   35.0  California   \n",
       "129950                       Blocks 7 & 22     90   35.0  California   \n",
       "\n",
       "fields                 region_1           region_2     taster_name   \n",
       "wines                                                                \n",
       "4             Willamette Valley  Willamette Valley    Paul Gregutt  \\\n",
       "10                  Napa Valley               Napa  Virginie Boone   \n",
       "23                  Paso Robles      Central Coast   Matt Kettmann   \n",
       "25                 Sonoma Coast             Sonoma  Virginie Boone   \n",
       "35                  McMinnville  Willamette Valley    Paul Gregutt   \n",
       "...                         ...                ...             ...   \n",
       "129919  Walla Walla Valley (WA)    Columbia Valley    Paul Gregutt   \n",
       "129926  Walla Walla Valley (WA)    Columbia Valley    Paul Gregutt   \n",
       "129945        Santa Ynez Valley      Central Coast   Matt Kettmann   \n",
       "129949              Napa Valley               Napa  Virginie Boone   \n",
       "129950              Napa Valley               Napa  Virginie Boone   \n",
       "\n",
       "fields taster_twitter_handle   \n",
       "wines                          \n",
       "4                @paulgwine   \\\n",
       "10                   @vboone   \n",
       "23             @mattkettmann   \n",
       "25                   @vboone   \n",
       "35               @paulgwine    \n",
       "...                      ...   \n",
       "129919           @paulgwine    \n",
       "129926           @paulgwine    \n",
       "129945         @mattkettmann   \n",
       "129949               @vboone   \n",
       "129950               @vboone   \n",
       "\n",
       "fields                                              title             variety   \n",
       "wines                                                                           \n",
       "4       Sweet Cheeks 2012 Vintner's Reserve Wild Child...          Pinot Noir  \\\n",
       "10      Kirkland Signature 2011 Mountain Cuvée Caberne...  Cabernet Sauvignon   \n",
       "23      Bianchi 2011 Signature Selection Merlot (Paso ...              Merlot   \n",
       "25      Castello di Amorosa 2011 King Ridge Vineyard P...          Pinot Noir   \n",
       "35             Erath 2010 Hyland Pinot Noir (McMinnville)          Pinot Noir   \n",
       "...                                                   ...                 ...   \n",
       "129919  Nicholas Cole Cellars 2004 Reserve Red (Walla ...           Red Blend   \n",
       "129926  Reininger 2005 Ash Hollow Vineyard Syrah (Wall...               Syrah   \n",
       "129945  Birichino 2013 Jurassic Park Vineyard Old Vine...        Chenin Blanc   \n",
       "129949  Flora Springs 2013 Barrel Fermented Chardonnay...          Chardonnay   \n",
       "129950  Hendry 2012 Blocks 7 & 22 Zinfandel (Napa Valley)           Zinfandel   \n",
       "\n",
       "fields                 winery  \n",
       "wines                          \n",
       "4                Sweet Cheeks  \n",
       "10         Kirkland Signature  \n",
       "23                    Bianchi  \n",
       "25        Castello di Amorosa  \n",
       "35                      Erath  \n",
       "...                       ...  \n",
       "129919  Nicholas Cole Cellars  \n",
       "129926              Reininger  \n",
       "129945              Birichino  \n",
       "129949          Flora Springs  \n",
       "129950                 Hendry  \n",
       "\n",
       "[22387 rows x 13 columns]"
      ]
     },
     "execution_count": 217,
     "metadata": {},
     "output_type": "execute_result"
    }
   ],
   "source": [
    "reviews.rename_axis(\"wines\", axis='rows').rename_axis(\"fields\", axis='columns')"
   ]
  },
  {
   "cell_type": "markdown",
   "id": "abe8c17c",
   "metadata": {
    "slideshow": {
     "slide_type": "slide"
    }
   },
   "source": [
    "### Combining\n",
    "\n",
    "When performing operations on a dataset, we will sometimes need to combine different DataFrames and/or Series in non-trivial ways. Pandas has three core methods for doing this. In order of increasing complexity, these are concat(), join(), and merge(). Most of what merge() can do can also be done more simply with join(), so we will omit it and focus on the first two functions here.\n",
    "\n",
    "The simplest combining method is concat(). Given a list of elements, this function will smush those elements together along an axis.\n",
    "\n",
    "This is useful when we have data in different DataFrame or Series objects but having the same fields (columns). One example: the YouTube Videos dataset, which splits the data up based on country of origin (e.g. Canada and the UK, in this example). If we want to study multiple countries simultaneously, we can use concat() to smush them together:"
   ]
  },
  {
   "cell_type": "code",
   "execution_count": 223,
   "id": "e7674911",
   "metadata": {
    "scrolled": true
   },
   "outputs": [
    {
     "name": "stdout",
     "output_type": "stream",
     "text": [
      "(40881, 16)\n",
      "(38916, 16)\n"
     ]
    },
    {
     "data": {
      "text/html": [
       "<div>\n",
       "<style scoped>\n",
       "    .dataframe tbody tr th:only-of-type {\n",
       "        vertical-align: middle;\n",
       "    }\n",
       "\n",
       "    .dataframe tbody tr th {\n",
       "        vertical-align: top;\n",
       "    }\n",
       "\n",
       "    .dataframe thead th {\n",
       "        text-align: right;\n",
       "    }\n",
       "</style>\n",
       "<table border=\"1\" class=\"dataframe\">\n",
       "  <thead>\n",
       "    <tr style=\"text-align: right;\">\n",
       "      <th></th>\n",
       "      <th>video_id</th>\n",
       "      <th>trending_date</th>\n",
       "      <th>title</th>\n",
       "      <th>channel_title</th>\n",
       "      <th>category_id</th>\n",
       "      <th>publish_time</th>\n",
       "      <th>tags</th>\n",
       "      <th>views</th>\n",
       "      <th>likes</th>\n",
       "      <th>dislikes</th>\n",
       "      <th>comment_count</th>\n",
       "      <th>thumbnail_link</th>\n",
       "      <th>comments_disabled</th>\n",
       "      <th>ratings_disabled</th>\n",
       "      <th>video_error_or_removed</th>\n",
       "      <th>description</th>\n",
       "    </tr>\n",
       "  </thead>\n",
       "  <tbody>\n",
       "    <tr>\n",
       "      <th>0</th>\n",
       "      <td>n1WpP7iowLc</td>\n",
       "      <td>17.14.11</td>\n",
       "      <td>Eminem - Walk On Water (Audio) ft. Beyoncé</td>\n",
       "      <td>EminemVEVO</td>\n",
       "      <td>10</td>\n",
       "      <td>2017-11-10T17:00:03.000Z</td>\n",
       "      <td>Eminem|\"Walk\"|\"On\"|\"Water\"|\"Aftermath/Shady/In...</td>\n",
       "      <td>17158579</td>\n",
       "      <td>787425</td>\n",
       "      <td>43420</td>\n",
       "      <td>125882</td>\n",
       "      <td>https://i.ytimg.com/vi/n1WpP7iowLc/default.jpg</td>\n",
       "      <td>False</td>\n",
       "      <td>False</td>\n",
       "      <td>False</td>\n",
       "      <td>Eminem's new track Walk on Water ft. Beyoncé i...</td>\n",
       "    </tr>\n",
       "    <tr>\n",
       "      <th>1</th>\n",
       "      <td>0dBIkQ4Mz1M</td>\n",
       "      <td>17.14.11</td>\n",
       "      <td>PLUSH - Bad Unboxing Fan Mail</td>\n",
       "      <td>iDubbbzTV</td>\n",
       "      <td>23</td>\n",
       "      <td>2017-11-13T17:00:00.000Z</td>\n",
       "      <td>plush|\"bad unboxing\"|\"unboxing\"|\"fan mail\"|\"id...</td>\n",
       "      <td>1014651</td>\n",
       "      <td>127794</td>\n",
       "      <td>1688</td>\n",
       "      <td>13030</td>\n",
       "      <td>https://i.ytimg.com/vi/0dBIkQ4Mz1M/default.jpg</td>\n",
       "      <td>False</td>\n",
       "      <td>False</td>\n",
       "      <td>False</td>\n",
       "      <td>STill got a lot of packages. Probably will las...</td>\n",
       "    </tr>\n",
       "    <tr>\n",
       "      <th>2</th>\n",
       "      <td>5qpjK5DgCt4</td>\n",
       "      <td>17.14.11</td>\n",
       "      <td>Racist Superman | Rudy Mancuso, King Bach &amp; Le...</td>\n",
       "      <td>Rudy Mancuso</td>\n",
       "      <td>23</td>\n",
       "      <td>2017-11-12T19:05:24.000Z</td>\n",
       "      <td>racist superman|\"rudy\"|\"mancuso\"|\"king\"|\"bach\"...</td>\n",
       "      <td>3191434</td>\n",
       "      <td>146035</td>\n",
       "      <td>5339</td>\n",
       "      <td>8181</td>\n",
       "      <td>https://i.ytimg.com/vi/5qpjK5DgCt4/default.jpg</td>\n",
       "      <td>False</td>\n",
       "      <td>False</td>\n",
       "      <td>False</td>\n",
       "      <td>WATCH MY PREVIOUS VIDEO ▶ \\n\\nSUBSCRIBE ► http...</td>\n",
       "    </tr>\n",
       "    <tr>\n",
       "      <th>3</th>\n",
       "      <td>d380meD0W0M</td>\n",
       "      <td>17.14.11</td>\n",
       "      <td>I Dare You: GOING BALD!?</td>\n",
       "      <td>nigahiga</td>\n",
       "      <td>24</td>\n",
       "      <td>2017-11-12T18:01:41.000Z</td>\n",
       "      <td>ryan|\"higa\"|\"higatv\"|\"nigahiga\"|\"i dare you\"|\"...</td>\n",
       "      <td>2095828</td>\n",
       "      <td>132239</td>\n",
       "      <td>1989</td>\n",
       "      <td>17518</td>\n",
       "      <td>https://i.ytimg.com/vi/d380meD0W0M/default.jpg</td>\n",
       "      <td>False</td>\n",
       "      <td>False</td>\n",
       "      <td>False</td>\n",
       "      <td>I know it's been a while since we did this sho...</td>\n",
       "    </tr>\n",
       "    <tr>\n",
       "      <th>4</th>\n",
       "      <td>2Vv-BfVoq4g</td>\n",
       "      <td>17.14.11</td>\n",
       "      <td>Ed Sheeran - Perfect (Official Music Video)</td>\n",
       "      <td>Ed Sheeran</td>\n",
       "      <td>10</td>\n",
       "      <td>2017-11-09T11:04:14.000Z</td>\n",
       "      <td>edsheeran|\"ed sheeran\"|\"acoustic\"|\"live\"|\"cove...</td>\n",
       "      <td>33523622</td>\n",
       "      <td>1634130</td>\n",
       "      <td>21082</td>\n",
       "      <td>85067</td>\n",
       "      <td>https://i.ytimg.com/vi/2Vv-BfVoq4g/default.jpg</td>\n",
       "      <td>False</td>\n",
       "      <td>False</td>\n",
       "      <td>False</td>\n",
       "      <td>🎧: https://ad.gt/yt-perfect\\n💰: https://atlant...</td>\n",
       "    </tr>\n",
       "    <tr>\n",
       "      <th>...</th>\n",
       "      <td>...</td>\n",
       "      <td>...</td>\n",
       "      <td>...</td>\n",
       "      <td>...</td>\n",
       "      <td>...</td>\n",
       "      <td>...</td>\n",
       "      <td>...</td>\n",
       "      <td>...</td>\n",
       "      <td>...</td>\n",
       "      <td>...</td>\n",
       "      <td>...</td>\n",
       "      <td>...</td>\n",
       "      <td>...</td>\n",
       "      <td>...</td>\n",
       "      <td>...</td>\n",
       "      <td>...</td>\n",
       "    </tr>\n",
       "    <tr>\n",
       "      <th>38911</th>\n",
       "      <td>l884wKofd54</td>\n",
       "      <td>18.14.06</td>\n",
       "      <td>Enrique Iglesias - MOVE TO MIAMI (Official Vid...</td>\n",
       "      <td>EnriqueIglesiasVEVO</td>\n",
       "      <td>10</td>\n",
       "      <td>2018-05-09T07:00:01.000Z</td>\n",
       "      <td>Enrique Iglesias feat. Pitbull|\"MOVE TO MIAMI\"...</td>\n",
       "      <td>25066952</td>\n",
       "      <td>268088</td>\n",
       "      <td>12783</td>\n",
       "      <td>9933</td>\n",
       "      <td>https://i.ytimg.com/vi/l884wKofd54/default.jpg</td>\n",
       "      <td>False</td>\n",
       "      <td>False</td>\n",
       "      <td>False</td>\n",
       "      <td>NEW SONG - MOVE TO MIAMI feat. Pitbull (Click ...</td>\n",
       "    </tr>\n",
       "    <tr>\n",
       "      <th>38912</th>\n",
       "      <td>IP8k2xkhOdI</td>\n",
       "      <td>18.14.06</td>\n",
       "      <td>Jacob Sartorius - Up With It (Official Music V...</td>\n",
       "      <td>Jacob Sartorius</td>\n",
       "      <td>10</td>\n",
       "      <td>2018-05-11T17:09:16.000Z</td>\n",
       "      <td>jacob sartorius|\"jacob\"|\"up with it\"|\"jacob sa...</td>\n",
       "      <td>1492219</td>\n",
       "      <td>61998</td>\n",
       "      <td>13781</td>\n",
       "      <td>24330</td>\n",
       "      <td>https://i.ytimg.com/vi/IP8k2xkhOdI/default.jpg</td>\n",
       "      <td>False</td>\n",
       "      <td>False</td>\n",
       "      <td>False</td>\n",
       "      <td>THE OFFICIAL UP WITH IT MUSIC VIDEO!Get my new...</td>\n",
       "    </tr>\n",
       "    <tr>\n",
       "      <th>38913</th>\n",
       "      <td>Il-an3K9pjg</td>\n",
       "      <td>18.14.06</td>\n",
       "      <td>Anne-Marie - 2002 [Official Video]</td>\n",
       "      <td>Anne-Marie</td>\n",
       "      <td>10</td>\n",
       "      <td>2018-05-08T11:05:08.000Z</td>\n",
       "      <td>anne|\"marie\"|\"anne-marie\"|\"2002\"|\"two thousand...</td>\n",
       "      <td>29641412</td>\n",
       "      <td>394830</td>\n",
       "      <td>8892</td>\n",
       "      <td>19988</td>\n",
       "      <td>https://i.ytimg.com/vi/Il-an3K9pjg/default.jpg</td>\n",
       "      <td>False</td>\n",
       "      <td>False</td>\n",
       "      <td>False</td>\n",
       "      <td>Get 2002 by Anne-Marie HERE ▶ http://ad.gt/200...</td>\n",
       "    </tr>\n",
       "    <tr>\n",
       "      <th>38914</th>\n",
       "      <td>-DRsfNObKIQ</td>\n",
       "      <td>18.14.06</td>\n",
       "      <td>Eleni Foureira - Fuego - Cyprus - LIVE - First...</td>\n",
       "      <td>Eurovision Song Contest</td>\n",
       "      <td>24</td>\n",
       "      <td>2018-05-08T20:32:32.000Z</td>\n",
       "      <td>Eurovision Song Contest|\"2018\"|\"Lisbon\"|\"Cypru...</td>\n",
       "      <td>14317515</td>\n",
       "      <td>151870</td>\n",
       "      <td>45875</td>\n",
       "      <td>26766</td>\n",
       "      <td>https://i.ytimg.com/vi/-DRsfNObKIQ/default.jpg</td>\n",
       "      <td>False</td>\n",
       "      <td>False</td>\n",
       "      <td>False</td>\n",
       "      <td>Eleni Foureira represented Cyprus at the first...</td>\n",
       "    </tr>\n",
       "    <tr>\n",
       "      <th>38915</th>\n",
       "      <td>4YFo4bdMO8Q</td>\n",
       "      <td>18.14.06</td>\n",
       "      <td>KYLE - Ikuyo feat.  2 Chainz &amp; Sophia Black [A...</td>\n",
       "      <td>SuperDuperKyle</td>\n",
       "      <td>10</td>\n",
       "      <td>2018-05-11T04:06:35.000Z</td>\n",
       "      <td>Kyle|\"SuperDuperKyle\"|\"Ikuyo\"|\"2 Chainz\"|\"Soph...</td>\n",
       "      <td>607552</td>\n",
       "      <td>18271</td>\n",
       "      <td>274</td>\n",
       "      <td>1423</td>\n",
       "      <td>https://i.ytimg.com/vi/4YFo4bdMO8Q/default.jpg</td>\n",
       "      <td>False</td>\n",
       "      <td>False</td>\n",
       "      <td>False</td>\n",
       "      <td>Debut album 'Light of Mine' out now: http://ky...</td>\n",
       "    </tr>\n",
       "  </tbody>\n",
       "</table>\n",
       "<p>79797 rows × 16 columns</p>\n",
       "</div>"
      ],
      "text/plain": [
       "          video_id trending_date   \n",
       "0      n1WpP7iowLc      17.14.11  \\\n",
       "1      0dBIkQ4Mz1M      17.14.11   \n",
       "2      5qpjK5DgCt4      17.14.11   \n",
       "3      d380meD0W0M      17.14.11   \n",
       "4      2Vv-BfVoq4g      17.14.11   \n",
       "...            ...           ...   \n",
       "38911  l884wKofd54      18.14.06   \n",
       "38912  IP8k2xkhOdI      18.14.06   \n",
       "38913  Il-an3K9pjg      18.14.06   \n",
       "38914  -DRsfNObKIQ      18.14.06   \n",
       "38915  4YFo4bdMO8Q      18.14.06   \n",
       "\n",
       "                                                   title   \n",
       "0             Eminem - Walk On Water (Audio) ft. Beyoncé  \\\n",
       "1                          PLUSH - Bad Unboxing Fan Mail   \n",
       "2      Racist Superman | Rudy Mancuso, King Bach & Le...   \n",
       "3                               I Dare You: GOING BALD!?   \n",
       "4            Ed Sheeran - Perfect (Official Music Video)   \n",
       "...                                                  ...   \n",
       "38911  Enrique Iglesias - MOVE TO MIAMI (Official Vid...   \n",
       "38912  Jacob Sartorius - Up With It (Official Music V...   \n",
       "38913                 Anne-Marie - 2002 [Official Video]   \n",
       "38914  Eleni Foureira - Fuego - Cyprus - LIVE - First...   \n",
       "38915  KYLE - Ikuyo feat.  2 Chainz & Sophia Black [A...   \n",
       "\n",
       "                 channel_title  category_id              publish_time   \n",
       "0                   EminemVEVO           10  2017-11-10T17:00:03.000Z  \\\n",
       "1                    iDubbbzTV           23  2017-11-13T17:00:00.000Z   \n",
       "2                 Rudy Mancuso           23  2017-11-12T19:05:24.000Z   \n",
       "3                     nigahiga           24  2017-11-12T18:01:41.000Z   \n",
       "4                   Ed Sheeran           10  2017-11-09T11:04:14.000Z   \n",
       "...                        ...          ...                       ...   \n",
       "38911      EnriqueIglesiasVEVO           10  2018-05-09T07:00:01.000Z   \n",
       "38912          Jacob Sartorius           10  2018-05-11T17:09:16.000Z   \n",
       "38913               Anne-Marie           10  2018-05-08T11:05:08.000Z   \n",
       "38914  Eurovision Song Contest           24  2018-05-08T20:32:32.000Z   \n",
       "38915           SuperDuperKyle           10  2018-05-11T04:06:35.000Z   \n",
       "\n",
       "                                                    tags     views    likes   \n",
       "0      Eminem|\"Walk\"|\"On\"|\"Water\"|\"Aftermath/Shady/In...  17158579   787425  \\\n",
       "1      plush|\"bad unboxing\"|\"unboxing\"|\"fan mail\"|\"id...   1014651   127794   \n",
       "2      racist superman|\"rudy\"|\"mancuso\"|\"king\"|\"bach\"...   3191434   146035   \n",
       "3      ryan|\"higa\"|\"higatv\"|\"nigahiga\"|\"i dare you\"|\"...   2095828   132239   \n",
       "4      edsheeran|\"ed sheeran\"|\"acoustic\"|\"live\"|\"cove...  33523622  1634130   \n",
       "...                                                  ...       ...      ...   \n",
       "38911  Enrique Iglesias feat. Pitbull|\"MOVE TO MIAMI\"...  25066952   268088   \n",
       "38912  jacob sartorius|\"jacob\"|\"up with it\"|\"jacob sa...   1492219    61998   \n",
       "38913  anne|\"marie\"|\"anne-marie\"|\"2002\"|\"two thousand...  29641412   394830   \n",
       "38914  Eurovision Song Contest|\"2018\"|\"Lisbon\"|\"Cypru...  14317515   151870   \n",
       "38915  Kyle|\"SuperDuperKyle\"|\"Ikuyo\"|\"2 Chainz\"|\"Soph...    607552    18271   \n",
       "\n",
       "       dislikes  comment_count   \n",
       "0         43420         125882  \\\n",
       "1          1688          13030   \n",
       "2          5339           8181   \n",
       "3          1989          17518   \n",
       "4         21082          85067   \n",
       "...         ...            ...   \n",
       "38911     12783           9933   \n",
       "38912     13781          24330   \n",
       "38913      8892          19988   \n",
       "38914     45875          26766   \n",
       "38915       274           1423   \n",
       "\n",
       "                                       thumbnail_link  comments_disabled   \n",
       "0      https://i.ytimg.com/vi/n1WpP7iowLc/default.jpg              False  \\\n",
       "1      https://i.ytimg.com/vi/0dBIkQ4Mz1M/default.jpg              False   \n",
       "2      https://i.ytimg.com/vi/5qpjK5DgCt4/default.jpg              False   \n",
       "3      https://i.ytimg.com/vi/d380meD0W0M/default.jpg              False   \n",
       "4      https://i.ytimg.com/vi/2Vv-BfVoq4g/default.jpg              False   \n",
       "...                                               ...                ...   \n",
       "38911  https://i.ytimg.com/vi/l884wKofd54/default.jpg              False   \n",
       "38912  https://i.ytimg.com/vi/IP8k2xkhOdI/default.jpg              False   \n",
       "38913  https://i.ytimg.com/vi/Il-an3K9pjg/default.jpg              False   \n",
       "38914  https://i.ytimg.com/vi/-DRsfNObKIQ/default.jpg              False   \n",
       "38915  https://i.ytimg.com/vi/4YFo4bdMO8Q/default.jpg              False   \n",
       "\n",
       "       ratings_disabled  video_error_or_removed   \n",
       "0                 False                   False  \\\n",
       "1                 False                   False   \n",
       "2                 False                   False   \n",
       "3                 False                   False   \n",
       "4                 False                   False   \n",
       "...                 ...                     ...   \n",
       "38911             False                   False   \n",
       "38912             False                   False   \n",
       "38913             False                   False   \n",
       "38914             False                   False   \n",
       "38915             False                   False   \n",
       "\n",
       "                                             description  \n",
       "0      Eminem's new track Walk on Water ft. Beyoncé i...  \n",
       "1      STill got a lot of packages. Probably will las...  \n",
       "2      WATCH MY PREVIOUS VIDEO ▶ \\n\\nSUBSCRIBE ► http...  \n",
       "3      I know it's been a while since we did this sho...  \n",
       "4      🎧: https://ad.gt/yt-perfect\\n💰: https://atlant...  \n",
       "...                                                  ...  \n",
       "38911  NEW SONG - MOVE TO MIAMI feat. Pitbull (Click ...  \n",
       "38912  THE OFFICIAL UP WITH IT MUSIC VIDEO!Get my new...  \n",
       "38913  Get 2002 by Anne-Marie HERE ▶ http://ad.gt/200...  \n",
       "38914  Eleni Foureira represented Cyprus at the first...  \n",
       "38915  Debut album 'Light of Mine' out now: http://ky...  \n",
       "\n",
       "[79797 rows x 16 columns]"
      ]
     },
     "execution_count": 223,
     "metadata": {},
     "output_type": "execute_result"
    }
   ],
   "source": [
    "canadian_youtube = pd.read_csv(\"./data/numpy_pandas/dataset/youtube/CAvideos.csv\")\n",
    "print(canadian_youtube.shape)\n",
    "british_youtube = pd.read_csv(\"./data/numpy_pandas/dataset/youtube/GBvideos.csv\")\n",
    "print(british_youtube.shape)\n",
    "\n",
    "pd.concat([canadian_youtube, british_youtube])"
   ]
  },
  {
   "cell_type": "markdown",
   "id": "3c5005f8",
   "metadata": {
    "slideshow": {
     "slide_type": "slide"
    }
   },
   "source": [
    "The middlemost combiner in terms of complexity is join(). join() lets you combine different DataFrame objects which have an index in common. For example, to pull down videos that happened to be trending on the same day in both Canada and the UK, we could do the following:"
   ]
  },
  {
   "cell_type": "code",
   "execution_count": 222,
   "id": "32ca4034",
   "metadata": {
    "scrolled": false
   },
   "outputs": [
    {
     "data": {
      "text/html": [
       "<div>\n",
       "<style scoped>\n",
       "    .dataframe tbody tr th:only-of-type {\n",
       "        vertical-align: middle;\n",
       "    }\n",
       "\n",
       "    .dataframe tbody tr th {\n",
       "        vertical-align: top;\n",
       "    }\n",
       "\n",
       "    .dataframe thead th {\n",
       "        text-align: right;\n",
       "    }\n",
       "</style>\n",
       "<table border=\"1\" class=\"dataframe\">\n",
       "  <thead>\n",
       "    <tr style=\"text-align: right;\">\n",
       "      <th></th>\n",
       "      <th></th>\n",
       "      <th>video_id_CAN</th>\n",
       "      <th>channel_title_CAN</th>\n",
       "      <th>category_id_CAN</th>\n",
       "      <th>publish_time_CAN</th>\n",
       "      <th>tags_CAN</th>\n",
       "      <th>views_CAN</th>\n",
       "      <th>likes_CAN</th>\n",
       "      <th>dislikes_CAN</th>\n",
       "      <th>comment_count_CAN</th>\n",
       "      <th>thumbnail_link_CAN</th>\n",
       "      <th>...</th>\n",
       "      <th>tags_UK</th>\n",
       "      <th>views_UK</th>\n",
       "      <th>likes_UK</th>\n",
       "      <th>dislikes_UK</th>\n",
       "      <th>comment_count_UK</th>\n",
       "      <th>thumbnail_link_UK</th>\n",
       "      <th>comments_disabled_UK</th>\n",
       "      <th>ratings_disabled_UK</th>\n",
       "      <th>video_error_or_removed_UK</th>\n",
       "      <th>description_UK</th>\n",
       "    </tr>\n",
       "    <tr>\n",
       "      <th>title</th>\n",
       "      <th>trending_date</th>\n",
       "      <th></th>\n",
       "      <th></th>\n",
       "      <th></th>\n",
       "      <th></th>\n",
       "      <th></th>\n",
       "      <th></th>\n",
       "      <th></th>\n",
       "      <th></th>\n",
       "      <th></th>\n",
       "      <th></th>\n",
       "      <th></th>\n",
       "      <th></th>\n",
       "      <th></th>\n",
       "      <th></th>\n",
       "      <th></th>\n",
       "      <th></th>\n",
       "      <th></th>\n",
       "      <th></th>\n",
       "      <th></th>\n",
       "      <th></th>\n",
       "      <th></th>\n",
       "    </tr>\n",
       "  </thead>\n",
       "  <tbody>\n",
       "    <tr>\n",
       "      <th>!! THIS VIDEO IS NOTHING BUT PAIN !! | Getting Over It - Part 7</th>\n",
       "      <th>18.04.01</th>\n",
       "      <td>PNn8sECd7io</td>\n",
       "      <td>Markiplier</td>\n",
       "      <td>20</td>\n",
       "      <td>2018-01-03T19:33:53.000Z</td>\n",
       "      <td>getting over it|\"markiplier\"|\"funny moments\"|\"...</td>\n",
       "      <td>835930</td>\n",
       "      <td>47058</td>\n",
       "      <td>1023</td>\n",
       "      <td>8250</td>\n",
       "      <td>https://i.ytimg.com/vi/PNn8sECd7io/default.jpg</td>\n",
       "      <td>...</td>\n",
       "      <td>NaN</td>\n",
       "      <td>NaN</td>\n",
       "      <td>NaN</td>\n",
       "      <td>NaN</td>\n",
       "      <td>NaN</td>\n",
       "      <td>NaN</td>\n",
       "      <td>NaN</td>\n",
       "      <td>NaN</td>\n",
       "      <td>NaN</td>\n",
       "      <td>NaN</td>\n",
       "    </tr>\n",
       "    <tr>\n",
       "      <th>#1 Fortnite World Rank - 2,323 Solo Wins!</th>\n",
       "      <th>18.09.03</th>\n",
       "      <td>DvPW66IFhMI</td>\n",
       "      <td>AlexRamiGaming</td>\n",
       "      <td>20</td>\n",
       "      <td>2018-03-09T07:15:52.000Z</td>\n",
       "      <td>PS4 Battle Royale|\"PS4 Pro Battle Royale\"|\"Bat...</td>\n",
       "      <td>212838</td>\n",
       "      <td>5199</td>\n",
       "      <td>542</td>\n",
       "      <td>11</td>\n",
       "      <td>https://i.ytimg.com/vi/DvPW66IFhMI/default.jpg</td>\n",
       "      <td>...</td>\n",
       "      <td>NaN</td>\n",
       "      <td>NaN</td>\n",
       "      <td>NaN</td>\n",
       "      <td>NaN</td>\n",
       "      <td>NaN</td>\n",
       "      <td>NaN</td>\n",
       "      <td>NaN</td>\n",
       "      <td>NaN</td>\n",
       "      <td>NaN</td>\n",
       "      <td>NaN</td>\n",
       "    </tr>\n",
       "    <tr>\n",
       "      <th>#1 Fortnite World Rank - 2,330 Solo Wins!</th>\n",
       "      <th>18.10.03</th>\n",
       "      <td>EXEaMjFeiEk</td>\n",
       "      <td>AlexRamiGaming</td>\n",
       "      <td>20</td>\n",
       "      <td>2018-03-10T06:26:17.000Z</td>\n",
       "      <td>PS4 Battle Royale|\"PS4 Pro Battle Royale\"|\"Bat...</td>\n",
       "      <td>200764</td>\n",
       "      <td>5620</td>\n",
       "      <td>537</td>\n",
       "      <td>45</td>\n",
       "      <td>https://i.ytimg.com/vi/EXEaMjFeiEk/default.jpg</td>\n",
       "      <td>...</td>\n",
       "      <td>NaN</td>\n",
       "      <td>NaN</td>\n",
       "      <td>NaN</td>\n",
       "      <td>NaN</td>\n",
       "      <td>NaN</td>\n",
       "      <td>NaN</td>\n",
       "      <td>NaN</td>\n",
       "      <td>NaN</td>\n",
       "      <td>NaN</td>\n",
       "      <td>NaN</td>\n",
       "    </tr>\n",
       "    <tr>\n",
       "      <th rowspan=\"2\" valign=\"top\">#1 MOST ANTICIPATED VIDEO (Timber Frame House Raising)</th>\n",
       "      <th>17.20.12</th>\n",
       "      <td>bYvQmusLaxw</td>\n",
       "      <td>Pure Living for Life</td>\n",
       "      <td>24</td>\n",
       "      <td>2017-12-20T02:49:11.000Z</td>\n",
       "      <td>timber frame|\"timber framing\"|\"timber frame ra...</td>\n",
       "      <td>79152</td>\n",
       "      <td>7761</td>\n",
       "      <td>159</td>\n",
       "      <td>1965</td>\n",
       "      <td>https://i.ytimg.com/vi/bYvQmusLaxw/default.jpg</td>\n",
       "      <td>...</td>\n",
       "      <td>NaN</td>\n",
       "      <td>NaN</td>\n",
       "      <td>NaN</td>\n",
       "      <td>NaN</td>\n",
       "      <td>NaN</td>\n",
       "      <td>NaN</td>\n",
       "      <td>NaN</td>\n",
       "      <td>NaN</td>\n",
       "      <td>NaN</td>\n",
       "      <td>NaN</td>\n",
       "    </tr>\n",
       "    <tr>\n",
       "      <th>17.21.12</th>\n",
       "      <td>bYvQmusLaxw</td>\n",
       "      <td>Pure Living for Life</td>\n",
       "      <td>24</td>\n",
       "      <td>2017-12-20T02:49:11.000Z</td>\n",
       "      <td>timber frame|\"timber framing\"|\"timber frame ra...</td>\n",
       "      <td>232762</td>\n",
       "      <td>15515</td>\n",
       "      <td>329</td>\n",
       "      <td>3601</td>\n",
       "      <td>https://i.ytimg.com/vi/bYvQmusLaxw/default.jpg</td>\n",
       "      <td>...</td>\n",
       "      <td>NaN</td>\n",
       "      <td>NaN</td>\n",
       "      <td>NaN</td>\n",
       "      <td>NaN</td>\n",
       "      <td>NaN</td>\n",
       "      <td>NaN</td>\n",
       "      <td>NaN</td>\n",
       "      <td>NaN</td>\n",
       "      <td>NaN</td>\n",
       "      <td>NaN</td>\n",
       "    </tr>\n",
       "    <tr>\n",
       "      <th>...</th>\n",
       "      <th>...</th>\n",
       "      <td>...</td>\n",
       "      <td>...</td>\n",
       "      <td>...</td>\n",
       "      <td>...</td>\n",
       "      <td>...</td>\n",
       "      <td>...</td>\n",
       "      <td>...</td>\n",
       "      <td>...</td>\n",
       "      <td>...</td>\n",
       "      <td>...</td>\n",
       "      <td>...</td>\n",
       "      <td>...</td>\n",
       "      <td>...</td>\n",
       "      <td>...</td>\n",
       "      <td>...</td>\n",
       "      <td>...</td>\n",
       "      <td>...</td>\n",
       "      <td>...</td>\n",
       "      <td>...</td>\n",
       "      <td>...</td>\n",
       "      <td>...</td>\n",
       "    </tr>\n",
       "    <tr>\n",
       "      <th rowspan=\"3\" valign=\"top\">😲She Is So Nervous But BLOWS The ROOF After Taking on OPERA Song! | Britain´s Got Talent 2018</th>\n",
       "      <th>18.02.05</th>\n",
       "      <td>WttN1Z0XF4k</td>\n",
       "      <td>How Talented</td>\n",
       "      <td>24</td>\n",
       "      <td>2018-04-28T19:40:58.000Z</td>\n",
       "      <td>bgt|\"bgt 2018\"|\"britain got talent\"|\"britain´s...</td>\n",
       "      <td>713400</td>\n",
       "      <td>4684</td>\n",
       "      <td>260</td>\n",
       "      <td>266</td>\n",
       "      <td>https://i.ytimg.com/vi/WttN1Z0XF4k/default.jpg</td>\n",
       "      <td>...</td>\n",
       "      <td>NaN</td>\n",
       "      <td>NaN</td>\n",
       "      <td>NaN</td>\n",
       "      <td>NaN</td>\n",
       "      <td>NaN</td>\n",
       "      <td>NaN</td>\n",
       "      <td>NaN</td>\n",
       "      <td>NaN</td>\n",
       "      <td>NaN</td>\n",
       "      <td>NaN</td>\n",
       "    </tr>\n",
       "    <tr>\n",
       "      <th>18.29.04</th>\n",
       "      <td>WttN1Z0XF4k</td>\n",
       "      <td>How Talented</td>\n",
       "      <td>24</td>\n",
       "      <td>2018-04-28T19:40:58.000Z</td>\n",
       "      <td>bgt|\"bgt 2018\"|\"britain got talent\"|\"britain´s...</td>\n",
       "      <td>231906</td>\n",
       "      <td>1924</td>\n",
       "      <td>78</td>\n",
       "      <td>146</td>\n",
       "      <td>https://i.ytimg.com/vi/WttN1Z0XF4k/default.jpg</td>\n",
       "      <td>...</td>\n",
       "      <td>NaN</td>\n",
       "      <td>NaN</td>\n",
       "      <td>NaN</td>\n",
       "      <td>NaN</td>\n",
       "      <td>NaN</td>\n",
       "      <td>NaN</td>\n",
       "      <td>NaN</td>\n",
       "      <td>NaN</td>\n",
       "      <td>NaN</td>\n",
       "      <td>NaN</td>\n",
       "    </tr>\n",
       "    <tr>\n",
       "      <th>18.30.04</th>\n",
       "      <td>WttN1Z0XF4k</td>\n",
       "      <td>How Talented</td>\n",
       "      <td>24</td>\n",
       "      <td>2018-04-28T19:40:58.000Z</td>\n",
       "      <td>bgt|\"bgt 2018\"|\"britain got talent\"|\"britain´s...</td>\n",
       "      <td>476253</td>\n",
       "      <td>3417</td>\n",
       "      <td>176</td>\n",
       "      <td>240</td>\n",
       "      <td>https://i.ytimg.com/vi/WttN1Z0XF4k/default.jpg</td>\n",
       "      <td>...</td>\n",
       "      <td>NaN</td>\n",
       "      <td>NaN</td>\n",
       "      <td>NaN</td>\n",
       "      <td>NaN</td>\n",
       "      <td>NaN</td>\n",
       "      <td>NaN</td>\n",
       "      <td>NaN</td>\n",
       "      <td>NaN</td>\n",
       "      <td>NaN</td>\n",
       "      <td>NaN</td>\n",
       "    </tr>\n",
       "    <tr>\n",
       "      <th>🚨 BREAKING NEWS 🔴 Raja Live all Slot Channels Welcome 🎰</th>\n",
       "      <th>18.07.05</th>\n",
       "      <td>Wt9Gkpmbt44</td>\n",
       "      <td>TheBigJackpot</td>\n",
       "      <td>24</td>\n",
       "      <td>2018-05-07T06:58:59.000Z</td>\n",
       "      <td>Slot Machine|\"win\"|\"Gambling\"|\"Big Win\"|\"raja\"...</td>\n",
       "      <td>28973</td>\n",
       "      <td>2167</td>\n",
       "      <td>175</td>\n",
       "      <td>10</td>\n",
       "      <td>https://i.ytimg.com/vi/Wt9Gkpmbt44/default.jpg</td>\n",
       "      <td>...</td>\n",
       "      <td>NaN</td>\n",
       "      <td>NaN</td>\n",
       "      <td>NaN</td>\n",
       "      <td>NaN</td>\n",
       "      <td>NaN</td>\n",
       "      <td>NaN</td>\n",
       "      <td>NaN</td>\n",
       "      <td>NaN</td>\n",
       "      <td>NaN</td>\n",
       "      <td>NaN</td>\n",
       "    </tr>\n",
       "    <tr>\n",
       "      <th>🚨Active Shooter at YouTube Headquarters - LIVE BREAKING NEWS COVERAGE</th>\n",
       "      <th>18.04.04</th>\n",
       "      <td>Az72jrKbANA</td>\n",
       "      <td>Right Side Broadcasting Network</td>\n",
       "      <td>25</td>\n",
       "      <td>2018-04-03T23:12:37.000Z</td>\n",
       "      <td>YouTube shooter|\"YouTube active shooter\"|\"acti...</td>\n",
       "      <td>103513</td>\n",
       "      <td>1722</td>\n",
       "      <td>181</td>\n",
       "      <td>76</td>\n",
       "      <td>https://i.ytimg.com/vi/Az72jrKbANA/default.jpg</td>\n",
       "      <td>...</td>\n",
       "      <td>NaN</td>\n",
       "      <td>NaN</td>\n",
       "      <td>NaN</td>\n",
       "      <td>NaN</td>\n",
       "      <td>NaN</td>\n",
       "      <td>NaN</td>\n",
       "      <td>NaN</td>\n",
       "      <td>NaN</td>\n",
       "      <td>NaN</td>\n",
       "      <td>NaN</td>\n",
       "    </tr>\n",
       "  </tbody>\n",
       "</table>\n",
       "<p>40900 rows × 28 columns</p>\n",
       "</div>"
      ],
      "text/plain": [
       "                                                                 video_id_CAN   \n",
       "title                                              trending_date                \n",
       "!! THIS VIDEO IS NOTHING BUT PAIN !! | Getting ... 18.04.01       PNn8sECd7io  \\\n",
       "#1 Fortnite World Rank - 2,323 Solo Wins!          18.09.03       DvPW66IFhMI   \n",
       "#1 Fortnite World Rank - 2,330 Solo Wins!          18.10.03       EXEaMjFeiEk   \n",
       "#1 MOST ANTICIPATED VIDEO (Timber Frame House R... 17.20.12       bYvQmusLaxw   \n",
       "                                                   17.21.12       bYvQmusLaxw   \n",
       "...                                                                       ...   \n",
       "😲She Is So Nervous But BLOWS The ROOF After Tak... 18.02.05       WttN1Z0XF4k   \n",
       "                                                   18.29.04       WttN1Z0XF4k   \n",
       "                                                   18.30.04       WttN1Z0XF4k   \n",
       "🚨 BREAKING NEWS 🔴 Raja Live all Slot Channels W... 18.07.05       Wt9Gkpmbt44   \n",
       "🚨Active Shooter at YouTube Headquarters - LIVE ... 18.04.04       Az72jrKbANA   \n",
       "\n",
       "                                                                                channel_title_CAN   \n",
       "title                                              trending_date                                    \n",
       "!! THIS VIDEO IS NOTHING BUT PAIN !! | Getting ... 18.04.01                            Markiplier  \\\n",
       "#1 Fortnite World Rank - 2,323 Solo Wins!          18.09.03                        AlexRamiGaming   \n",
       "#1 Fortnite World Rank - 2,330 Solo Wins!          18.10.03                        AlexRamiGaming   \n",
       "#1 MOST ANTICIPATED VIDEO (Timber Frame House R... 17.20.12                  Pure Living for Life   \n",
       "                                                   17.21.12                  Pure Living for Life   \n",
       "...                                                                                           ...   \n",
       "😲She Is So Nervous But BLOWS The ROOF After Tak... 18.02.05                          How Talented   \n",
       "                                                   18.29.04                          How Talented   \n",
       "                                                   18.30.04                          How Talented   \n",
       "🚨 BREAKING NEWS 🔴 Raja Live all Slot Channels W... 18.07.05                         TheBigJackpot   \n",
       "🚨Active Shooter at YouTube Headquarters - LIVE ... 18.04.04       Right Side Broadcasting Network   \n",
       "\n",
       "                                                                  category_id_CAN   \n",
       "title                                              trending_date                    \n",
       "!! THIS VIDEO IS NOTHING BUT PAIN !! | Getting ... 18.04.01                    20  \\\n",
       "#1 Fortnite World Rank - 2,323 Solo Wins!          18.09.03                    20   \n",
       "#1 Fortnite World Rank - 2,330 Solo Wins!          18.10.03                    20   \n",
       "#1 MOST ANTICIPATED VIDEO (Timber Frame House R... 17.20.12                    24   \n",
       "                                                   17.21.12                    24   \n",
       "...                                                                           ...   \n",
       "😲She Is So Nervous But BLOWS The ROOF After Tak... 18.02.05                    24   \n",
       "                                                   18.29.04                    24   \n",
       "                                                   18.30.04                    24   \n",
       "🚨 BREAKING NEWS 🔴 Raja Live all Slot Channels W... 18.07.05                    24   \n",
       "🚨Active Shooter at YouTube Headquarters - LIVE ... 18.04.04                    25   \n",
       "\n",
       "                                                                          publish_time_CAN   \n",
       "title                                              trending_date                             \n",
       "!! THIS VIDEO IS NOTHING BUT PAIN !! | Getting ... 18.04.01       2018-01-03T19:33:53.000Z  \\\n",
       "#1 Fortnite World Rank - 2,323 Solo Wins!          18.09.03       2018-03-09T07:15:52.000Z   \n",
       "#1 Fortnite World Rank - 2,330 Solo Wins!          18.10.03       2018-03-10T06:26:17.000Z   \n",
       "#1 MOST ANTICIPATED VIDEO (Timber Frame House R... 17.20.12       2017-12-20T02:49:11.000Z   \n",
       "                                                   17.21.12       2017-12-20T02:49:11.000Z   \n",
       "...                                                                                    ...   \n",
       "😲She Is So Nervous But BLOWS The ROOF After Tak... 18.02.05       2018-04-28T19:40:58.000Z   \n",
       "                                                   18.29.04       2018-04-28T19:40:58.000Z   \n",
       "                                                   18.30.04       2018-04-28T19:40:58.000Z   \n",
       "🚨 BREAKING NEWS 🔴 Raja Live all Slot Channels W... 18.07.05       2018-05-07T06:58:59.000Z   \n",
       "🚨Active Shooter at YouTube Headquarters - LIVE ... 18.04.04       2018-04-03T23:12:37.000Z   \n",
       "\n",
       "                                                                                                           tags_CAN   \n",
       "title                                              trending_date                                                      \n",
       "!! THIS VIDEO IS NOTHING BUT PAIN !! | Getting ... 18.04.01       getting over it|\"markiplier\"|\"funny moments\"|\"...  \\\n",
       "#1 Fortnite World Rank - 2,323 Solo Wins!          18.09.03       PS4 Battle Royale|\"PS4 Pro Battle Royale\"|\"Bat...   \n",
       "#1 Fortnite World Rank - 2,330 Solo Wins!          18.10.03       PS4 Battle Royale|\"PS4 Pro Battle Royale\"|\"Bat...   \n",
       "#1 MOST ANTICIPATED VIDEO (Timber Frame House R... 17.20.12       timber frame|\"timber framing\"|\"timber frame ra...   \n",
       "                                                   17.21.12       timber frame|\"timber framing\"|\"timber frame ra...   \n",
       "...                                                                                                             ...   \n",
       "😲She Is So Nervous But BLOWS The ROOF After Tak... 18.02.05       bgt|\"bgt 2018\"|\"britain got talent\"|\"britain´s...   \n",
       "                                                   18.29.04       bgt|\"bgt 2018\"|\"britain got talent\"|\"britain´s...   \n",
       "                                                   18.30.04       bgt|\"bgt 2018\"|\"britain got talent\"|\"britain´s...   \n",
       "🚨 BREAKING NEWS 🔴 Raja Live all Slot Channels W... 18.07.05       Slot Machine|\"win\"|\"Gambling\"|\"Big Win\"|\"raja\"...   \n",
       "🚨Active Shooter at YouTube Headquarters - LIVE ... 18.04.04       YouTube shooter|\"YouTube active shooter\"|\"acti...   \n",
       "\n",
       "                                                                  views_CAN   \n",
       "title                                              trending_date              \n",
       "!! THIS VIDEO IS NOTHING BUT PAIN !! | Getting ... 18.04.01          835930  \\\n",
       "#1 Fortnite World Rank - 2,323 Solo Wins!          18.09.03          212838   \n",
       "#1 Fortnite World Rank - 2,330 Solo Wins!          18.10.03          200764   \n",
       "#1 MOST ANTICIPATED VIDEO (Timber Frame House R... 17.20.12           79152   \n",
       "                                                   17.21.12          232762   \n",
       "...                                                                     ...   \n",
       "😲She Is So Nervous But BLOWS The ROOF After Tak... 18.02.05          713400   \n",
       "                                                   18.29.04          231906   \n",
       "                                                   18.30.04          476253   \n",
       "🚨 BREAKING NEWS 🔴 Raja Live all Slot Channels W... 18.07.05           28973   \n",
       "🚨Active Shooter at YouTube Headquarters - LIVE ... 18.04.04          103513   \n",
       "\n",
       "                                                                  likes_CAN   \n",
       "title                                              trending_date              \n",
       "!! THIS VIDEO IS NOTHING BUT PAIN !! | Getting ... 18.04.01           47058  \\\n",
       "#1 Fortnite World Rank - 2,323 Solo Wins!          18.09.03            5199   \n",
       "#1 Fortnite World Rank - 2,330 Solo Wins!          18.10.03            5620   \n",
       "#1 MOST ANTICIPATED VIDEO (Timber Frame House R... 17.20.12            7761   \n",
       "                                                   17.21.12           15515   \n",
       "...                                                                     ...   \n",
       "😲She Is So Nervous But BLOWS The ROOF After Tak... 18.02.05            4684   \n",
       "                                                   18.29.04            1924   \n",
       "                                                   18.30.04            3417   \n",
       "🚨 BREAKING NEWS 🔴 Raja Live all Slot Channels W... 18.07.05            2167   \n",
       "🚨Active Shooter at YouTube Headquarters - LIVE ... 18.04.04            1722   \n",
       "\n",
       "                                                                  dislikes_CAN   \n",
       "title                                              trending_date                 \n",
       "!! THIS VIDEO IS NOTHING BUT PAIN !! | Getting ... 18.04.01               1023  \\\n",
       "#1 Fortnite World Rank - 2,323 Solo Wins!          18.09.03                542   \n",
       "#1 Fortnite World Rank - 2,330 Solo Wins!          18.10.03                537   \n",
       "#1 MOST ANTICIPATED VIDEO (Timber Frame House R... 17.20.12                159   \n",
       "                                                   17.21.12                329   \n",
       "...                                                                        ...   \n",
       "😲She Is So Nervous But BLOWS The ROOF After Tak... 18.02.05                260   \n",
       "                                                   18.29.04                 78   \n",
       "                                                   18.30.04                176   \n",
       "🚨 BREAKING NEWS 🔴 Raja Live all Slot Channels W... 18.07.05                175   \n",
       "🚨Active Shooter at YouTube Headquarters - LIVE ... 18.04.04                181   \n",
       "\n",
       "                                                                  comment_count_CAN   \n",
       "title                                              trending_date                      \n",
       "!! THIS VIDEO IS NOTHING BUT PAIN !! | Getting ... 18.04.01                    8250  \\\n",
       "#1 Fortnite World Rank - 2,323 Solo Wins!          18.09.03                      11   \n",
       "#1 Fortnite World Rank - 2,330 Solo Wins!          18.10.03                      45   \n",
       "#1 MOST ANTICIPATED VIDEO (Timber Frame House R... 17.20.12                    1965   \n",
       "                                                   17.21.12                    3601   \n",
       "...                                                                             ...   \n",
       "😲She Is So Nervous But BLOWS The ROOF After Tak... 18.02.05                     266   \n",
       "                                                   18.29.04                     146   \n",
       "                                                   18.30.04                     240   \n",
       "🚨 BREAKING NEWS 🔴 Raja Live all Slot Channels W... 18.07.05                      10   \n",
       "🚨Active Shooter at YouTube Headquarters - LIVE ... 18.04.04                      76   \n",
       "\n",
       "                                                                                              thumbnail_link_CAN   \n",
       "title                                              trending_date                                                   \n",
       "!! THIS VIDEO IS NOTHING BUT PAIN !! | Getting ... 18.04.01       https://i.ytimg.com/vi/PNn8sECd7io/default.jpg  \\\n",
       "#1 Fortnite World Rank - 2,323 Solo Wins!          18.09.03       https://i.ytimg.com/vi/DvPW66IFhMI/default.jpg   \n",
       "#1 Fortnite World Rank - 2,330 Solo Wins!          18.10.03       https://i.ytimg.com/vi/EXEaMjFeiEk/default.jpg   \n",
       "#1 MOST ANTICIPATED VIDEO (Timber Frame House R... 17.20.12       https://i.ytimg.com/vi/bYvQmusLaxw/default.jpg   \n",
       "                                                   17.21.12       https://i.ytimg.com/vi/bYvQmusLaxw/default.jpg   \n",
       "...                                                                                                          ...   \n",
       "😲She Is So Nervous But BLOWS The ROOF After Tak... 18.02.05       https://i.ytimg.com/vi/WttN1Z0XF4k/default.jpg   \n",
       "                                                   18.29.04       https://i.ytimg.com/vi/WttN1Z0XF4k/default.jpg   \n",
       "                                                   18.30.04       https://i.ytimg.com/vi/WttN1Z0XF4k/default.jpg   \n",
       "🚨 BREAKING NEWS 🔴 Raja Live all Slot Channels W... 18.07.05       https://i.ytimg.com/vi/Wt9Gkpmbt44/default.jpg   \n",
       "🚨Active Shooter at YouTube Headquarters - LIVE ... 18.04.04       https://i.ytimg.com/vi/Az72jrKbANA/default.jpg   \n",
       "\n",
       "                                                                  ...   \n",
       "title                                              trending_date  ...   \n",
       "!! THIS VIDEO IS NOTHING BUT PAIN !! | Getting ... 18.04.01       ...  \\\n",
       "#1 Fortnite World Rank - 2,323 Solo Wins!          18.09.03       ...   \n",
       "#1 Fortnite World Rank - 2,330 Solo Wins!          18.10.03       ...   \n",
       "#1 MOST ANTICIPATED VIDEO (Timber Frame House R... 17.20.12       ...   \n",
       "                                                   17.21.12       ...   \n",
       "...                                                               ...   \n",
       "😲She Is So Nervous But BLOWS The ROOF After Tak... 18.02.05       ...   \n",
       "                                                   18.29.04       ...   \n",
       "                                                   18.30.04       ...   \n",
       "🚨 BREAKING NEWS 🔴 Raja Live all Slot Channels W... 18.07.05       ...   \n",
       "🚨Active Shooter at YouTube Headquarters - LIVE ... 18.04.04       ...   \n",
       "\n",
       "                                                                  tags_UK   \n",
       "title                                              trending_date            \n",
       "!! THIS VIDEO IS NOTHING BUT PAIN !! | Getting ... 18.04.01           NaN  \\\n",
       "#1 Fortnite World Rank - 2,323 Solo Wins!          18.09.03           NaN   \n",
       "#1 Fortnite World Rank - 2,330 Solo Wins!          18.10.03           NaN   \n",
       "#1 MOST ANTICIPATED VIDEO (Timber Frame House R... 17.20.12           NaN   \n",
       "                                                   17.21.12           NaN   \n",
       "...                                                                   ...   \n",
       "😲She Is So Nervous But BLOWS The ROOF After Tak... 18.02.05           NaN   \n",
       "                                                   18.29.04           NaN   \n",
       "                                                   18.30.04           NaN   \n",
       "🚨 BREAKING NEWS 🔴 Raja Live all Slot Channels W... 18.07.05           NaN   \n",
       "🚨Active Shooter at YouTube Headquarters - LIVE ... 18.04.04           NaN   \n",
       "\n",
       "                                                                  views_UK   \n",
       "title                                              trending_date             \n",
       "!! THIS VIDEO IS NOTHING BUT PAIN !! | Getting ... 18.04.01            NaN  \\\n",
       "#1 Fortnite World Rank - 2,323 Solo Wins!          18.09.03            NaN   \n",
       "#1 Fortnite World Rank - 2,330 Solo Wins!          18.10.03            NaN   \n",
       "#1 MOST ANTICIPATED VIDEO (Timber Frame House R... 17.20.12            NaN   \n",
       "                                                   17.21.12            NaN   \n",
       "...                                                                    ...   \n",
       "😲She Is So Nervous But BLOWS The ROOF After Tak... 18.02.05            NaN   \n",
       "                                                   18.29.04            NaN   \n",
       "                                                   18.30.04            NaN   \n",
       "🚨 BREAKING NEWS 🔴 Raja Live all Slot Channels W... 18.07.05            NaN   \n",
       "🚨Active Shooter at YouTube Headquarters - LIVE ... 18.04.04            NaN   \n",
       "\n",
       "                                                                  likes_UK   \n",
       "title                                              trending_date             \n",
       "!! THIS VIDEO IS NOTHING BUT PAIN !! | Getting ... 18.04.01            NaN  \\\n",
       "#1 Fortnite World Rank - 2,323 Solo Wins!          18.09.03            NaN   \n",
       "#1 Fortnite World Rank - 2,330 Solo Wins!          18.10.03            NaN   \n",
       "#1 MOST ANTICIPATED VIDEO (Timber Frame House R... 17.20.12            NaN   \n",
       "                                                   17.21.12            NaN   \n",
       "...                                                                    ...   \n",
       "😲She Is So Nervous But BLOWS The ROOF After Tak... 18.02.05            NaN   \n",
       "                                                   18.29.04            NaN   \n",
       "                                                   18.30.04            NaN   \n",
       "🚨 BREAKING NEWS 🔴 Raja Live all Slot Channels W... 18.07.05            NaN   \n",
       "🚨Active Shooter at YouTube Headquarters - LIVE ... 18.04.04            NaN   \n",
       "\n",
       "                                                                 dislikes_UK   \n",
       "title                                              trending_date               \n",
       "!! THIS VIDEO IS NOTHING BUT PAIN !! | Getting ... 18.04.01              NaN  \\\n",
       "#1 Fortnite World Rank - 2,323 Solo Wins!          18.09.03              NaN   \n",
       "#1 Fortnite World Rank - 2,330 Solo Wins!          18.10.03              NaN   \n",
       "#1 MOST ANTICIPATED VIDEO (Timber Frame House R... 17.20.12              NaN   \n",
       "                                                   17.21.12              NaN   \n",
       "...                                                                      ...   \n",
       "😲She Is So Nervous But BLOWS The ROOF After Tak... 18.02.05              NaN   \n",
       "                                                   18.29.04              NaN   \n",
       "                                                   18.30.04              NaN   \n",
       "🚨 BREAKING NEWS 🔴 Raja Live all Slot Channels W... 18.07.05              NaN   \n",
       "🚨Active Shooter at YouTube Headquarters - LIVE ... 18.04.04              NaN   \n",
       "\n",
       "                                                                 comment_count_UK   \n",
       "title                                              trending_date                    \n",
       "!! THIS VIDEO IS NOTHING BUT PAIN !! | Getting ... 18.04.01                   NaN  \\\n",
       "#1 Fortnite World Rank - 2,323 Solo Wins!          18.09.03                   NaN   \n",
       "#1 Fortnite World Rank - 2,330 Solo Wins!          18.10.03                   NaN   \n",
       "#1 MOST ANTICIPATED VIDEO (Timber Frame House R... 17.20.12                   NaN   \n",
       "                                                   17.21.12                   NaN   \n",
       "...                                                                           ...   \n",
       "😲She Is So Nervous But BLOWS The ROOF After Tak... 18.02.05                   NaN   \n",
       "                                                   18.29.04                   NaN   \n",
       "                                                   18.30.04                   NaN   \n",
       "🚨 BREAKING NEWS 🔴 Raja Live all Slot Channels W... 18.07.05                   NaN   \n",
       "🚨Active Shooter at YouTube Headquarters - LIVE ... 18.04.04                   NaN   \n",
       "\n",
       "                                                                 thumbnail_link_UK   \n",
       "title                                              trending_date                     \n",
       "!! THIS VIDEO IS NOTHING BUT PAIN !! | Getting ... 18.04.01                    NaN  \\\n",
       "#1 Fortnite World Rank - 2,323 Solo Wins!          18.09.03                    NaN   \n",
       "#1 Fortnite World Rank - 2,330 Solo Wins!          18.10.03                    NaN   \n",
       "#1 MOST ANTICIPATED VIDEO (Timber Frame House R... 17.20.12                    NaN   \n",
       "                                                   17.21.12                    NaN   \n",
       "...                                                                            ...   \n",
       "😲She Is So Nervous But BLOWS The ROOF After Tak... 18.02.05                    NaN   \n",
       "                                                   18.29.04                    NaN   \n",
       "                                                   18.30.04                    NaN   \n",
       "🚨 BREAKING NEWS 🔴 Raja Live all Slot Channels W... 18.07.05                    NaN   \n",
       "🚨Active Shooter at YouTube Headquarters - LIVE ... 18.04.04                    NaN   \n",
       "\n",
       "                                                                  comments_disabled_UK   \n",
       "title                                              trending_date                         \n",
       "!! THIS VIDEO IS NOTHING BUT PAIN !! | Getting ... 18.04.01                        NaN  \\\n",
       "#1 Fortnite World Rank - 2,323 Solo Wins!          18.09.03                        NaN   \n",
       "#1 Fortnite World Rank - 2,330 Solo Wins!          18.10.03                        NaN   \n",
       "#1 MOST ANTICIPATED VIDEO (Timber Frame House R... 17.20.12                        NaN   \n",
       "                                                   17.21.12                        NaN   \n",
       "...                                                                                ...   \n",
       "😲She Is So Nervous But BLOWS The ROOF After Tak... 18.02.05                        NaN   \n",
       "                                                   18.29.04                        NaN   \n",
       "                                                   18.30.04                        NaN   \n",
       "🚨 BREAKING NEWS 🔴 Raja Live all Slot Channels W... 18.07.05                        NaN   \n",
       "🚨Active Shooter at YouTube Headquarters - LIVE ... 18.04.04                        NaN   \n",
       "\n",
       "                                                                 ratings_disabled_UK   \n",
       "title                                              trending_date                       \n",
       "!! THIS VIDEO IS NOTHING BUT PAIN !! | Getting ... 18.04.01                      NaN  \\\n",
       "#1 Fortnite World Rank - 2,323 Solo Wins!          18.09.03                      NaN   \n",
       "#1 Fortnite World Rank - 2,330 Solo Wins!          18.10.03                      NaN   \n",
       "#1 MOST ANTICIPATED VIDEO (Timber Frame House R... 17.20.12                      NaN   \n",
       "                                                   17.21.12                      NaN   \n",
       "...                                                                              ...   \n",
       "😲She Is So Nervous But BLOWS The ROOF After Tak... 18.02.05                      NaN   \n",
       "                                                   18.29.04                      NaN   \n",
       "                                                   18.30.04                      NaN   \n",
       "🚨 BREAKING NEWS 🔴 Raja Live all Slot Channels W... 18.07.05                      NaN   \n",
       "🚨Active Shooter at YouTube Headquarters - LIVE ... 18.04.04                      NaN   \n",
       "\n",
       "                                                                 video_error_or_removed_UK   \n",
       "title                                              trending_date                             \n",
       "!! THIS VIDEO IS NOTHING BUT PAIN !! | Getting ... 18.04.01                            NaN  \\\n",
       "#1 Fortnite World Rank - 2,323 Solo Wins!          18.09.03                            NaN   \n",
       "#1 Fortnite World Rank - 2,330 Solo Wins!          18.10.03                            NaN   \n",
       "#1 MOST ANTICIPATED VIDEO (Timber Frame House R... 17.20.12                            NaN   \n",
       "                                                   17.21.12                            NaN   \n",
       "...                                                                                    ...   \n",
       "😲She Is So Nervous But BLOWS The ROOF After Tak... 18.02.05                            NaN   \n",
       "                                                   18.29.04                            NaN   \n",
       "                                                   18.30.04                            NaN   \n",
       "🚨 BREAKING NEWS 🔴 Raja Live all Slot Channels W... 18.07.05                            NaN   \n",
       "🚨Active Shooter at YouTube Headquarters - LIVE ... 18.04.04                            NaN   \n",
       "\n",
       "                                                                  description_UK  \n",
       "title                                              trending_date                  \n",
       "!! THIS VIDEO IS NOTHING BUT PAIN !! | Getting ... 18.04.01                  NaN  \n",
       "#1 Fortnite World Rank - 2,323 Solo Wins!          18.09.03                  NaN  \n",
       "#1 Fortnite World Rank - 2,330 Solo Wins!          18.10.03                  NaN  \n",
       "#1 MOST ANTICIPATED VIDEO (Timber Frame House R... 17.20.12                  NaN  \n",
       "                                                   17.21.12                  NaN  \n",
       "...                                                                          ...  \n",
       "😲She Is So Nervous But BLOWS The ROOF After Tak... 18.02.05                  NaN  \n",
       "                                                   18.29.04                  NaN  \n",
       "                                                   18.30.04                  NaN  \n",
       "🚨 BREAKING NEWS 🔴 Raja Live all Slot Channels W... 18.07.05                  NaN  \n",
       "🚨Active Shooter at YouTube Headquarters - LIVE ... 18.04.04                  NaN  \n",
       "\n",
       "[40900 rows x 28 columns]"
      ]
     },
     "execution_count": 222,
     "metadata": {},
     "output_type": "execute_result"
    }
   ],
   "source": [
    "left = canadian_youtube.set_index(['title', 'trending_date'])\n",
    "right = british_youtube.set_index(['title', 'trending_date'])\n",
    "\n",
    "left.join(right, lsuffix='_CAN', rsuffix='_UK')"
   ]
  },
  {
   "cell_type": "markdown",
   "id": "fd502693",
   "metadata": {
    "slideshow": {
     "slide_type": "slide"
    }
   },
   "source": [
    "Here we do a join on two DataFrames based on the index of the two DataFrames. The lsuffix and rsuffix parameters are used to indicate the suffixes of the column names in the left and right DataFrame, respectively.\n",
    "\n",
    "The lsuffix and rsuffix parameters are necessary here because the data has the same column names in both British and Canadian datasets. If this wasn't true (because, say, we'd renamed them beforehand) we wouldn't need them."
   ]
  },
  {
   "cell_type": "code",
   "execution_count": 225,
   "id": "eae0912c",
   "metadata": {},
   "outputs": [
    {
     "data": {
      "image/png": "[encoded data removed]",
      "text/plain": [
       "<Figure size 640x480 with 1 Axes>"
      ]
     },
     "metadata": {},
     "output_type": "display_data"
    }
   ],
   "source": [
    "np.random.seed()\n",
    "ts = pd.Series(np.random.randn(1000), index=pd.date_range(\"1/1/2000\", periods=1000))\n",
    "ts = ts.cumsum()\n",
    "ts.plot();"
   ]
  },
  {
   "cell_type": "code",
   "execution_count": null,
   "id": "4b45e0b9",
   "metadata": {},
   "outputs": [],
   "source": []
  }
 ],
 "metadata": {
  "celltoolbar": "Slideshow",
  "kernelspec": {
   "display_name": "Python 3 (ipykernel)",
   "language": "python",
   "name": "python3"
  },
  "language_info": {
   "codemirror_mode": {
    "name": "ipython",
    "version": 3
   },
   "file_extension": ".py",
   "mimetype": "text/x-python",
   "name": "python",
   "nbconvert_exporter": "python",
   "pygments_lexer": "ipython3",
   "version": "3.10.13"
  }
 },
 "nbformat": 4,
 "nbformat_minor": 5
}
