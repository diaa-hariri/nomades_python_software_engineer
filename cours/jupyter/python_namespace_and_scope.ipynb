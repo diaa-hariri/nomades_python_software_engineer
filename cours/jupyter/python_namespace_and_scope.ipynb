{
 "cells": [
  {
   "cell_type": "markdown",
   "id": "d09667ba",
   "metadata": {
    "slideshow": {
     "slide_type": "slide"
    }
   },
   "source": [
    "# Python Namespace and Scope\n",
    "\n",
    "En python, les variables sont stockées dans des espaces de noms (namespace). Un espace de nom est un dictionnaire qui contient toutes les variables et leurs valeurs. Il existe plusieurs espaces de noms dans un programme python. Par exemple, chaque module a son propre espace de nom. De plus, les fonctions et les classes ont également leur propre espace de nom. Enfin, il existe un espace de nom global qui contient toutes les variables globales. L'espace de nom global est créé lorsque le programme démarre et dure jusqu'à ce que le programme se termine. Lorsque vous utilisez une variable, Python recherche d'abord dans l'espace de nom local, puis dans l'espace de nom global et enfin dans l'espace de nom intégré."
   ]
  },
  {
   "cell_type": "markdown",
   "id": "579977d1",
   "metadata": {
    "slideshow": {
     "slide_type": "slide"
    }
   },
   "source": [
    "Il est possible d'utiliser plusieurs fois le même nom de variable dans différents espaces de noms. Cependant, les variables ne sont pas liées entre elles. Par exemple, si vous définissez une variable dans une fonction, cette variable n'existe pas dans l'espace de nom global. De plus, si vous définissez une variable dans un module, cette variable n'existe pas dans l'espace de nom d'une fonction ou d'une classe."
   ]
  },
  {
   "cell_type": "markdown",
   "id": "72eebe87",
   "metadata": {},
   "source": [
    "![Namespace schema](./imgs/python-namespace.png)\n",
    "[Source](https://www.programiz.com/python-programming/namespace)"
   ]
  },
  {
   "cell_type": "markdown",
   "id": "c7b7aa73",
   "metadata": {},
   "source": [
    "si nous avons une fonctions dans une fonction, la fonction interne peut accéder aux variables de la fonction externe, mais pas l'inverse. C'est ce qu'on appelle la portée (scope) des variables. La portée d'une variable est l'endroit où la variable est accessible. La portée d'une variable dépend de l'endroit où la variable est définie. Les variables définies dans une fonction ne sont accessibles que dans cette fonction. Les variables définies dans une classe ne sont accessibles que dans cette classe et les variables définies dans un module ne sont accessibles que dans ce module."
   ]
  },
  {
   "cell_type": "markdown",
   "id": "98eac788",
   "metadata": {
    "slideshow": {
     "slide_type": "slide"
    }
   },
   "source": [
    "## Exemple 1: Scope and Namespace in Python"
   ]
  },
  {
   "cell_type": "code",
   "execution_count": 4,
   "id": "c0ae058d",
   "metadata": {},
   "outputs": [
    {
     "name": "stdout",
     "output_type": "stream",
     "text": [
      "10\n",
      "20\n",
      "30\n"
     ]
    }
   ],
   "source": [
    "# global_var is in the global namespace\n",
    "global_var = 10\n",
    "\n",
    "def outer_function():\n",
    "    #  outer_var is in the local namespace \n",
    "    outer_var = 20\n",
    "\n",
    "    def inner_function():\n",
    "        #  inner_var is in the nested local namespace \n",
    "        inner_var = 30\n",
    "\n",
    "        print(inner_var)\n",
    "\n",
    "    print(outer_var)\n",
    "\n",
    "    inner_function()\n",
    "\n",
    "# print the value of the global variable\n",
    "print(global_var)\n",
    "\n",
    "# call the outer function and print local and nested local variables\n",
    "outer_function()"
   ]
  },
  {
   "cell_type": "markdown",
   "id": "591fd52e",
   "metadata": {
    "slideshow": {
     "slide_type": "slide"
    }
   },
   "source": [
    "Dans l'exemple ci-dessus, Nous avons définit 3 `Namespace` différents: le `global`, le `local de outer function` ` et le `local de inner function`. \n",
    "\n",
    "De ce fait :\n",
    "- `global_var` - est dans le `global namespace` avec la valeur `10`, cette variable est accessible dans tout le programme.\n",
    "- `outer_val` - est dans le `local namespace` de la fonction `outer_function` avec la valeur `20`, cette variable est accessible dans la fonction `outer_function` et dans la fonction `inner_function`.\n",
    "- `inner_val` - est dans le `local namespace` de la fonction `inner_function` avec la valeur `30`, cette variable est accessible uniquement dans la fonction `inner_function`."
   ]
  },
  {
   "cell_type": "markdown",
   "id": "910fbdbe",
   "metadata": {
    "slideshow": {
     "slide_type": "slide"
    }
   },
   "source": [
    "## Exemple 2: Le mot clé `global`\n",
    "\n",
    "Le mot clé `global` est utilisé pour définir une variable dans l'espace de nom global. Le mot clé `global` est utilisé à l'intérieur d'une fonction uniquement lorsque nous voulons modifier / lire une variable globale à l'intérieur d'une fonction."
   ]
  },
  {
   "cell_type": "code",
   "execution_count": 7,
   "id": "75e689fd",
   "metadata": {
    "slideshow": {
     "slide_type": "slide"
    }
   },
   "outputs": [
    {
     "name": "stdout",
     "output_type": "stream",
     "text": [
      "10\n",
      "30\n"
     ]
    }
   ],
   "source": [
    "# define global variable \n",
    "global_var = 10\n",
    "\n",
    "def my_function():\n",
    "    # define local variable\n",
    "    local_var = 20\n",
    "\n",
    "    # modify global variable value \n",
    "    global global_var\n",
    "    global_var = 30\n",
    "\n",
    "# print global variable value\n",
    "print(global_var)\n",
    "\n",
    "# call the function and modify the global variable\n",
    "my_function()\n",
    "\n",
    "# print the modified value of the global variable\n",
    "print(global_var)"
   ]
  },
  {
   "cell_type": "markdown",
   "id": "012319d3",
   "metadata": {
    "slideshow": {
     "slide_type": "slide"
    }
   },
   "source": [
    "Ici, quand la fonctio `my_function` est appelée, la variable `global_var` est définie dans l'espace de nom global. En utilisant le mot clé `global`, nous pouvons modifier la valeur de `global_var` à l'intérieur de la fonction.\n",
    "Si on n'utilise pas le mot clé `global`, la variable `global_var` sera une nouvelle variable locale à l'intérieur de la fonction `my_function` avec la valeur `30`. La variable `global_var` globale sera inchangée."
   ]
  }
 ],
 "metadata": {
  "celltoolbar": "Slideshow",
  "kernelspec": {
   "display_name": "Python 3",
   "language": "python",
   "name": "python3"
  },
  "language_info": {
   "codemirror_mode": {
    "name": "ipython",
    "version": 3
   },
   "file_extension": ".py",
   "mimetype": "text/x-python",
   "name": "python",
   "nbconvert_exporter": "python",
   "pygments_lexer": "ipython3",
   "version": "3.9.17"
  }
 },
 "nbformat": 4,
 "nbformat_minor": 5
}
