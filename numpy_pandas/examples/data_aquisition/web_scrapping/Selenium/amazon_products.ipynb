{
 "cells": [
  {
   "cell_type": "code",
   "execution_count": 13,
   "metadata": {},
   "outputs": [],
   "source": [
    "from selenium import webdriver\n",
    "from selenium.webdriver.common.by import By\n",
    "# import NoSuchElementException\n",
    "from selenium.common.exceptions import NoSuchElementException\n",
    "from time import sleep"
   ]
  },
  {
   "cell_type": "code",
   "execution_count": 14,
   "metadata": {},
   "outputs": [],
   "source": [
    "# Path to chromedriver\n",
    "PATH = \"./webdrivers/chrome/chromedriver\"\n",
    "browser = webdriver.Chrome()"
   ]
  },
  {
   "cell_type": "code",
   "execution_count": 17,
   "metadata": {},
   "outputs": [],
   "source": [
    "# load the webpage\n",
    "browser.get('https://www.amazon.fr')"
   ]
  },
  {
   "cell_type": "code",
   "execution_count": null,
   "metadata": {},
   "outputs": [],
   "source": []
  },
  {
   "cell_type": "code",
   "execution_count": 16,
   "metadata": {},
   "outputs": [
    {
     "ename": "NoSuchElementException",
     "evalue": "Message: no such element: Unable to locate element: {\"method\":\"css selector\",\"selector\":\"[id=\"nav-bb-search\"]\"}\n  (Session info: chrome=119.0.6045.159); For documentation on this error, please visit: https://www.selenium.dev/documentation/webdriver/troubleshooting/errors#no-such-element-exception\nStacktrace:\n0   chromedriver                        0x00000001049c6004 chromedriver + 4169732\n1   chromedriver                        0x00000001049bdff8 chromedriver + 4136952\n2   chromedriver                        0x0000000104613500 chromedriver + 292096\n3   chromedriver                        0x00000001046587a0 chromedriver + 575392\n4   chromedriver                        0x0000000104693818 chromedriver + 817176\n5   chromedriver                        0x000000010464c5e8 chromedriver + 525800\n6   chromedriver                        0x000000010464d4b8 chromedriver + 529592\n7   chromedriver                        0x000000010498c334 chromedriver + 3932980\n8   chromedriver                        0x0000000104990970 chromedriver + 3950960\n9   chromedriver                        0x0000000104974774 chromedriver + 3835764\n10  chromedriver                        0x0000000104991478 chromedriver + 3953784\n11  chromedriver                        0x0000000104966ab4 chromedriver + 3779252\n12  chromedriver                        0x00000001049ad914 chromedriver + 4069652\n13  chromedriver                        0x00000001049ada90 chromedriver + 4070032\n14  chromedriver                        0x00000001049bdc70 chromedriver + 4136048\n15  libsystem_pthread.dylib             0x0000000187669034 _pthread_start + 136\n16  libsystem_pthread.dylib             0x0000000187663e3c thread_start + 8\n",
     "output_type": "error",
     "traceback": [
      "\u001b[0;31m---------------------------------------------------------------------------\u001b[0m",
      "\u001b[0;31mNoSuchElementException\u001b[0m                    Traceback (most recent call last)",
      "\u001b[1;32m/Users/antonio/Documents/Depannit/Nomades/2023/Python/Winter_2/nomades_python_software_engineer/Numpy_Pandas/examples/data_aquisition/web_scrapping/Selenium/amazon_products.ipynb Cell 5\u001b[0m line \u001b[0;36m2\n\u001b[1;32m      <a href='vscode-notebook-cell:/Users/antonio/Documents/Depannit/Nomades/2023/Python/Winter_2/nomades_python_software_engineer/Numpy_Pandas/examples/data_aquisition/web_scrapping/Selenium/amazon_products.ipynb#W3sZmlsZQ%3D%3D?line=0'>1</a>\u001b[0m \u001b[39m# get the input elements\u001b[39;00m\n\u001b[0;32m----> <a href='vscode-notebook-cell:/Users/antonio/Documents/Depannit/Nomades/2023/Python/Winter_2/nomades_python_software_engineer/Numpy_Pandas/examples/data_aquisition/web_scrapping/Selenium/amazon_products.ipynb#W3sZmlsZQ%3D%3D?line=1'>2</a>\u001b[0m input_search \u001b[39m=\u001b[39m browser\u001b[39m.\u001b[39;49mfind_element(By\u001b[39m.\u001b[39;49mID, \u001b[39m'\u001b[39;49m\u001b[39mnav-bb-search\u001b[39;49m\u001b[39m'\u001b[39;49m)\n\u001b[1;32m      <a href='vscode-notebook-cell:/Users/antonio/Documents/Depannit/Nomades/2023/Python/Winter_2/nomades_python_software_engineer/Numpy_Pandas/examples/data_aquisition/web_scrapping/Selenium/amazon_products.ipynb#W3sZmlsZQ%3D%3D?line=2'>3</a>\u001b[0m search_button \u001b[39m=\u001b[39m browser\u001b[39m.\u001b[39mfind_element(By\u001b[39m.\u001b[39mCSS_SELECTOR, \u001b[39m'\u001b[39m\u001b[39m#nav-bb-searchbar input[type=\u001b[39m\u001b[39m\"\u001b[39m\u001b[39msubmit\u001b[39m\u001b[39m\"\u001b[39m\u001b[39m]\u001b[39m\u001b[39m'\u001b[39m)\n\u001b[1;32m      <a href='vscode-notebook-cell:/Users/antonio/Documents/Depannit/Nomades/2023/Python/Winter_2/nomades_python_software_engineer/Numpy_Pandas/examples/data_aquisition/web_scrapping/Selenium/amazon_products.ipynb#W3sZmlsZQ%3D%3D?line=3'>4</a>\u001b[0m \u001b[39m# search_button = browser.find_element(By.XPATH, \"(//input[@type='submit'])[1]\")\u001b[39;00m\n",
      "File \u001b[0;32m~/miniconda3/envs/nomades_nppd_env_310/lib/python3.10/site-packages/selenium/webdriver/remote/webdriver.py:741\u001b[0m, in \u001b[0;36mWebDriver.find_element\u001b[0;34m(self, by, value)\u001b[0m\n\u001b[1;32m    738\u001b[0m     by \u001b[39m=\u001b[39m By\u001b[39m.\u001b[39mCSS_SELECTOR\n\u001b[1;32m    739\u001b[0m     value \u001b[39m=\u001b[39m \u001b[39mf\u001b[39m\u001b[39m'\u001b[39m\u001b[39m[name=\u001b[39m\u001b[39m\"\u001b[39m\u001b[39m{\u001b[39;00mvalue\u001b[39m}\u001b[39;00m\u001b[39m\"\u001b[39m\u001b[39m]\u001b[39m\u001b[39m'\u001b[39m\n\u001b[0;32m--> 741\u001b[0m \u001b[39mreturn\u001b[39;00m \u001b[39mself\u001b[39;49m\u001b[39m.\u001b[39;49mexecute(Command\u001b[39m.\u001b[39;49mFIND_ELEMENT, {\u001b[39m\"\u001b[39;49m\u001b[39musing\u001b[39;49m\u001b[39m\"\u001b[39;49m: by, \u001b[39m\"\u001b[39;49m\u001b[39mvalue\u001b[39;49m\u001b[39m\"\u001b[39;49m: value})[\u001b[39m\"\u001b[39m\u001b[39mvalue\u001b[39m\u001b[39m\"\u001b[39m]\n",
      "File \u001b[0;32m~/miniconda3/envs/nomades_nppd_env_310/lib/python3.10/site-packages/selenium/webdriver/remote/webdriver.py:347\u001b[0m, in \u001b[0;36mWebDriver.execute\u001b[0;34m(self, driver_command, params)\u001b[0m\n\u001b[1;32m    345\u001b[0m response \u001b[39m=\u001b[39m \u001b[39mself\u001b[39m\u001b[39m.\u001b[39mcommand_executor\u001b[39m.\u001b[39mexecute(driver_command, params)\n\u001b[1;32m    346\u001b[0m \u001b[39mif\u001b[39;00m response:\n\u001b[0;32m--> 347\u001b[0m     \u001b[39mself\u001b[39;49m\u001b[39m.\u001b[39;49merror_handler\u001b[39m.\u001b[39;49mcheck_response(response)\n\u001b[1;32m    348\u001b[0m     response[\u001b[39m\"\u001b[39m\u001b[39mvalue\u001b[39m\u001b[39m\"\u001b[39m] \u001b[39m=\u001b[39m \u001b[39mself\u001b[39m\u001b[39m.\u001b[39m_unwrap_value(response\u001b[39m.\u001b[39mget(\u001b[39m\"\u001b[39m\u001b[39mvalue\u001b[39m\u001b[39m\"\u001b[39m, \u001b[39mNone\u001b[39;00m))\n\u001b[1;32m    349\u001b[0m     \u001b[39mreturn\u001b[39;00m response\n",
      "File \u001b[0;32m~/miniconda3/envs/nomades_nppd_env_310/lib/python3.10/site-packages/selenium/webdriver/remote/errorhandler.py:229\u001b[0m, in \u001b[0;36mErrorHandler.check_response\u001b[0;34m(self, response)\u001b[0m\n\u001b[1;32m    227\u001b[0m         alert_text \u001b[39m=\u001b[39m value[\u001b[39m\"\u001b[39m\u001b[39malert\u001b[39m\u001b[39m\"\u001b[39m]\u001b[39m.\u001b[39mget(\u001b[39m\"\u001b[39m\u001b[39mtext\u001b[39m\u001b[39m\"\u001b[39m)\n\u001b[1;32m    228\u001b[0m     \u001b[39mraise\u001b[39;00m exception_class(message, screen, stacktrace, alert_text)  \u001b[39m# type: ignore[call-arg]  # mypy is not smart enough here\u001b[39;00m\n\u001b[0;32m--> 229\u001b[0m \u001b[39mraise\u001b[39;00m exception_class(message, screen, stacktrace)\n",
      "\u001b[0;31mNoSuchElementException\u001b[0m: Message: no such element: Unable to locate element: {\"method\":\"css selector\",\"selector\":\"[id=\"nav-bb-search\"]\"}\n  (Session info: chrome=119.0.6045.159); For documentation on this error, please visit: https://www.selenium.dev/documentation/webdriver/troubleshooting/errors#no-such-element-exception\nStacktrace:\n0   chromedriver                        0x00000001049c6004 chromedriver + 4169732\n1   chromedriver                        0x00000001049bdff8 chromedriver + 4136952\n2   chromedriver                        0x0000000104613500 chromedriver + 292096\n3   chromedriver                        0x00000001046587a0 chromedriver + 575392\n4   chromedriver                        0x0000000104693818 chromedriver + 817176\n5   chromedriver                        0x000000010464c5e8 chromedriver + 525800\n6   chromedriver                        0x000000010464d4b8 chromedriver + 529592\n7   chromedriver                        0x000000010498c334 chromedriver + 3932980\n8   chromedriver                        0x0000000104990970 chromedriver + 3950960\n9   chromedriver                        0x0000000104974774 chromedriver + 3835764\n10  chromedriver                        0x0000000104991478 chromedriver + 3953784\n11  chromedriver                        0x0000000104966ab4 chromedriver + 3779252\n12  chromedriver                        0x00000001049ad914 chromedriver + 4069652\n13  chromedriver                        0x00000001049ada90 chromedriver + 4070032\n14  chromedriver                        0x00000001049bdc70 chromedriver + 4136048\n15  libsystem_pthread.dylib             0x0000000187669034 _pthread_start + 136\n16  libsystem_pthread.dylib             0x0000000187663e3c thread_start + 8\n"
     ]
    }
   ],
   "source": [
    "# get the input elements\n",
    "input_search = browser.find_element(By.ID, 'twotabsearchtextbox')\n",
    "search_button = browser.find_element(By.CSS_SELECTOR, '#nav-search-submit-button')\n",
    "# search_button = browser.find_element(By.XPATH, \"(//input[@type='submit'])[1]\")"
   ]
  },
  {
   "cell_type": "code",
   "execution_count": 7,
   "metadata": {},
   "outputs": [],
   "source": [
    "# send the input to the webpage\n",
    "# input_search.send_keys(\"Smartphones android 500 euro\")\n",
    "sleep(1)\n",
    "search_button.click()"
   ]
  },
  {
   "cell_type": "code",
   "execution_count": 8,
   "metadata": {},
   "outputs": [
    {
     "name": "stdout",
     "output_type": "stream",
     "text": [
      "Scraping page 1\n",
      "Scraping page 2\n",
      "Scraping page 3\n",
      "Scraping page 4\n",
      "Scraping page 5\n"
     ]
    }
   ],
   "source": [
    "products = []\n",
    "for i in range(5):\n",
    "    print('Scraping page', i+1)\n",
    "    # product = browser.find_elements(By.XPATH, \"//span[@class='a-size-medium a-color-base a-text-normal']\")\n",
    "    product = browser.find_elements(By.XPATH, \"//div[@class='sg-col-4-of-24 sg-col-4-of-12 s-result-item s-asin sg-col-4-of-16 sg-col s-widget-spacing-small sg-col-4-of-20']\")\n",
    "    for p in product:\n",
    "        try:\n",
    "          price = float(p.find_element(By.XPATH, \".//span[@class='a-price-whole']\").text.strip().replace(',', '.'))\n",
    "        except:\n",
    "          continue\n",
    "        try:\n",
    "          sponsored: bool = p.find_element(By.XPATH, \".//span[@class='puis-label-popover-default']\")\n",
    "        except:\n",
    "          sponsored = False\n",
    "           \n",
    "        if price < 500 and not sponsored:\n",
    "            name = p.find_element(By.CSS_SELECTOR, \".a-text-normal\").text\n",
    "            products.append(name)\n",
    "    next_button = browser.find_element(By.XPATH, \"//a[text()='Suivant']\")\n",
    "    if next_button:\n",
    "      next_button.click()\n",
    "    sleep(2)"
   ]
  },
  {
   "cell_type": "code",
   "execution_count": 9,
   "metadata": {},
   "outputs": [
    {
     "data": {
      "text/plain": [
       "201"
      ]
     },
     "execution_count": 9,
     "metadata": {},
     "output_type": "execute_result"
    }
   ],
   "source": [
    "len(products)"
   ]
  },
  {
   "cell_type": "code",
   "execution_count": 11,
   "metadata": {},
   "outputs": [
    {
     "data": {
      "text/plain": [
       "['Redmi 9A Smartphone 2GB 32GB 6.53\" HD+ DotDrop Display 5000mAh (typ) 13 MP AI Rear Camera [Global Version] Gray',\n",
       " \"MTGud Offre du Jour pour Les Smartphones S23+ 5.0” Android 9.0, Téléphone Portable à Double SIM, 16 Go ROM（Extensible jusqu'à 128 Go）, Double Caméra, Bluetooth, GPS, Wi-FI (S23+_Golden)\",\n",
       " 'QrZrQ i14Pro Téléphone Mobile, écran HD 6,1 Pouces, Android 10.0, 16GB (Extensible à 128GB), Quad Core, Dual SIM Dual Camera Cheap 3G Smartphone (i14Pro-Purple)',\n",
       " 'UMIDIGI A15C Téléphone Portable(2023),Android 13 Smartphone Pas Cher,16Go+128Go/1To Mobile Débloqué,6.7\" HD+ Écran,Batterie 5000mAh,48MP Trois Caméras,Octa Core,Dual SIM 4G,Fingerprint/NFC/OTG（Gris）',\n",
       " 'Blackview A52 Téléphone Portable Android 12(3Go+64Go/TF-1To, Octa-Core, Écran 6.52\" HD+, Caméra 13MP+5MP, 5180mAh) Smartphone Pas Cher 4G Dual SIM/WiFi/Face ID/Fingerprint/GPS/OTG/2Ans Garantie']"
      ]
     },
     "execution_count": 11,
     "metadata": {},
     "output_type": "execute_result"
    }
   ],
   "source": [
    "products[:5]"
   ]
  },
  {
   "cell_type": "code",
   "execution_count": 12,
   "metadata": {},
   "outputs": [],
   "source": [
    "browser.quit()"
   ]
  }
 ],
 "metadata": {
  "kernelspec": {
   "display_name": "nomades_nppd_env_310",
   "language": "python",
   "name": "python3"
  },
  "language_info": {
   "codemirror_mode": {
    "name": "ipython",
    "version": 3
   },
   "file_extension": ".py",
   "mimetype": "text/x-python",
   "name": "python",
   "nbconvert_exporter": "python",
   "pygments_lexer": "ipython3",
   "version": "3.10.13"
  }
 },
 "nbformat": 4,
 "nbformat_minor": 2
}
