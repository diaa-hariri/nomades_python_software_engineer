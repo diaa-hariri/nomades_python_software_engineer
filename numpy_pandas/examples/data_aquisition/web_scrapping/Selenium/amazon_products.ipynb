{
 "cells": [
  {
   "cell_type": "code",
   "execution_count": 11,
   "metadata": {},
   "outputs": [],
   "source": [
    "from selenium import webdriver\n",
    "from selenium.webdriver.common.by import By\n",
    "# import NoSuchElementException\n",
    "from selenium.common.exceptions import NoSuchElementException\n",
    "from time import sleep"
   ]
  },
  {
   "cell_type": "markdown",
   "metadata": {},
   "source": []
  },
  {
   "cell_type": "code",
   "execution_count": 12,
   "metadata": {},
   "outputs": [],
   "source": [
    "# Path to chromedriver\n",
    "PATH = \"./webdrivers/chrome/chromedriver\"\n",
    "browser = webdriver.Chrome()"
   ]
  },
  {
   "cell_type": "code",
   "execution_count": 19,
   "metadata": {},
   "outputs": [],
   "source": [
    "# load the webpage\n",
    "browser.get('https://www.amazon.fr')"
   ]
  },
  {
   "cell_type": "code",
   "execution_count": null,
   "metadata": {},
   "outputs": [],
   "source": []
  },
  {
   "cell_type": "markdown",
   "metadata": {},
   "source": []
  },
  {
   "cell_type": "code",
   "execution_count": 22,
   "metadata": {},
   "outputs": [],
   "source": [
    "# get the input elements\n",
    "input_search = browser.find_element(By.ID, 'twotabsearchtextbox')\n",
    "search_button = browser.find_element(By.CSS_SELECTOR, '#nav-search-submit-button')\n",
    "# search_button = browser.find_element(By.XPATH, \"(//input[@type='submit'])[1]\")"
   ]
  },
  {
   "cell_type": "code",
   "execution_count": 23,
   "metadata": {},
   "outputs": [],
   "source": [
    "# send the input to the webpage\n",
    "input_search.send_keys(\"Smartphones android 500 euro\")\n",
    "sleep(1)\n",
    "search_button.click()"
   ]
  },
  {
   "cell_type": "code",
   "execution_count": 24,
   "metadata": {},
   "outputs": [
    {
     "name": "stdout",
     "output_type": "stream",
     "text": [
      "Scraping page 1\n",
      "Scraping page 2\n",
      "Scraping page 3\n",
      "Scraping page 4\n",
      "Scraping page 5\n"
     ]
    }
   ],
   "source": [
    "products = []\n",
    "for i in range(5):\n",
    "    print('Scraping page', i+1)\n",
    "    # product = browser.find_elements(By.XPATH, \"//span[@class='a-size-medium a-color-base a-text-normal']\")\n",
    "    product = browser.find_elements(By.XPATH, \"//div[@class='sg-col-4-of-24 sg-col-4-of-12 s-result-item s-asin sg-col-4-of-16 sg-col s-widget-spacing-small sg-col-4-of-20']\")\n",
    "    for p in product:\n",
    "        try:\n",
    "          price = float(p.find_element(By.XPATH, \".//span[@class='a-price-whole']\").text.strip().replace(',', '.'))\n",
    "        except:\n",
    "          continue\n",
    "        try:\n",
    "          sponsored: bool = p.find_element(By.XPATH, \".//span[@class='puis-label-popover-default']\")\n",
    "        except:\n",
    "          sponsored = False\n",
    "           \n",
    "        if price < 500 and not sponsored:\n",
    "            name = p.find_element(By.CSS_SELECTOR, \".a-text-normal\").text\n",
    "            products.append((name, price))\n",
    "    next_button = browser.find_element(By.XPATH, \"//a[text()='Suivant']\")\n",
    "    if next_button:\n",
    "      next_button.click()\n",
    "    sleep(2)"
   ]
  },
  {
   "cell_type": "code",
   "execution_count": 25,
   "metadata": {},
   "outputs": [
    {
     "data": {
      "text/plain": [
       "179"
      ]
     },
     "execution_count": 25,
     "metadata": {},
     "output_type": "execute_result"
    }
   ],
   "source": [
    "len(products)"
   ]
  },
  {
   "cell_type": "code",
   "execution_count": 26,
   "metadata": {},
   "outputs": [
    {
     "data": {
      "text/plain": [
       "[('Movil Xiaomi Redmi 9a 6,53\" Hd Octacore 2gb 32gb Grey', 66.0),\n",
       " ('OSCAL Telephone Portable(2023), C30 Smartphone Pas Cher, 7GO RAM+256Go ROM Extensible, Téléphone Portable avec 6,5\" HD+ Écran, Caméras 12+5MP, Batterie 5080 mAh, Android 12,Face ID/OTG',\n",
       "  99.0),\n",
       " ('UMIDIGI G5A Smartphone Pas Cher Android 13(2023), 4+4Go+64Go/Extensible 1To, Telephone Portable 6.52\" HD+ Quad-Core, 13MP+5MP Caméra, 5000mAh Smartphone Dual SIM 4G/Fingerprint/Face ID/GPS',\n",
       "  109.0),\n",
       " ('Samsung Galaxy A33, Téléphone mobile 5G 128Go Noir, Carte SIM non incluse, smartphone Android, Version FR',\n",
       "  242.0),\n",
       " ('CUBOT X70 Telephone Portable, 24Go +256Go/1To, Android 13 Smartphone, 100MP+32MP Caméras, 6.58\" FHD+Écran 120Hz Ultra Fluide, MediaTek Helio G99 Octa Core, 5200mAh, Dual SIM/NFC/GPS, Noir Technique',\n",
       "  229.0)]"
      ]
     },
     "execution_count": 26,
     "metadata": {},
     "output_type": "execute_result"
    }
   ],
   "source": [
    "products[:5]"
   ]
  },
  {
   "cell_type": "code",
   "execution_count": null,
   "metadata": {},
   "outputs": [],
   "source": [
    "browser.quit()"
   ]
  }
 ],
 "metadata": {
  "kernelspec": {
   "display_name": "nomades_nppd_env_310",
   "language": "python",
   "name": "python3"
  },
  "language_info": {
   "codemirror_mode": {
    "name": "ipython",
    "version": 3
   },
   "file_extension": ".py",
   "mimetype": "text/x-python",
   "name": "python",
   "nbconvert_exporter": "python",
   "pygments_lexer": "ipython3",
   "version": "3.10.13"
  }
 },
 "nbformat": 4,
 "nbformat_minor": 2
}
