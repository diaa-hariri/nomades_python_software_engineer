{
 "cells": [
  {
   "cell_type": "code",
   "execution_count": 23,
   "metadata": {},
   "outputs": [],
   "source": [
    "import requests\n",
    "from bs4 import BeautifulSoup\n",
    "import pandas as pd\n",
    "import matplotlib.pyplot as plt"
   ]
  },
  {
   "cell_type": "code",
   "execution_count": 2,
   "metadata": {},
   "outputs": [],
   "source": [
    "url = \"https://www.imdb.com/chart/top/\"\n",
    "HEADERS = {'User-Agent': 'Mozilla/5.0 (iPad; CPU OS 12_2 like Mac OS X) AppleWebKit/605.1.15 (KHTML, like Gecko) Mobile/15E14'}"
   ]
  },
  {
   "cell_type": "code",
   "execution_count": 3,
   "metadata": {},
   "outputs": [],
   "source": [
    "page = requests.get(url, headers=HEADERS)"
   ]
  },
  {
   "cell_type": "code",
   "execution_count": 4,
   "metadata": {},
   "outputs": [],
   "source": [
    "soup = BeautifulSoup(page.text, \"html.parser\")"
   ]
  },
  {
   "cell_type": "code",
   "execution_count": 17,
   "metadata": {},
   "outputs": [
    {
     "data": {
      "text/html": [
       "<div>\n",
       "<style scoped>\n",
       "    .dataframe tbody tr th:only-of-type {\n",
       "        vertical-align: middle;\n",
       "    }\n",
       "\n",
       "    .dataframe tbody tr th {\n",
       "        vertical-align: top;\n",
       "    }\n",
       "\n",
       "    .dataframe thead th {\n",
       "        text-align: right;\n",
       "    }\n",
       "</style>\n",
       "<table border=\"1\" class=\"dataframe\">\n",
       "  <thead>\n",
       "    <tr style=\"text-align: right;\">\n",
       "      <th></th>\n",
       "      <th>title</th>\n",
       "      <th>year</th>\n",
       "      <th>duration</th>\n",
       "      <th>rating</th>\n",
       "      <th>nb_rating</th>\n",
       "    </tr>\n",
       "  </thead>\n",
       "  <tbody>\n",
       "    <tr>\n",
       "      <th>0</th>\n",
       "      <td>The Shawshank Redemption</td>\n",
       "      <td>1994</td>\n",
       "      <td>142</td>\n",
       "      <td>9.3</td>\n",
       "      <td>2800000.0</td>\n",
       "    </tr>\n",
       "    <tr>\n",
       "      <th>1</th>\n",
       "      <td>The Godfather</td>\n",
       "      <td>1972</td>\n",
       "      <td>175</td>\n",
       "      <td>9.2</td>\n",
       "      <td>2000000.0</td>\n",
       "    </tr>\n",
       "    <tr>\n",
       "      <th>2</th>\n",
       "      <td>The Dark Knight</td>\n",
       "      <td>2008</td>\n",
       "      <td>152</td>\n",
       "      <td>9.0</td>\n",
       "      <td>2800000.0</td>\n",
       "    </tr>\n",
       "    <tr>\n",
       "      <th>3</th>\n",
       "      <td>The Godfather Part II</td>\n",
       "      <td>1974</td>\n",
       "      <td>202</td>\n",
       "      <td>9.0</td>\n",
       "      <td>1300000.0</td>\n",
       "    </tr>\n",
       "    <tr>\n",
       "      <th>4</th>\n",
       "      <td>12 Angry Men</td>\n",
       "      <td>1957</td>\n",
       "      <td>96</td>\n",
       "      <td>9.0</td>\n",
       "      <td>841000.0</td>\n",
       "    </tr>\n",
       "    <tr>\n",
       "      <th>...</th>\n",
       "      <td>...</td>\n",
       "      <td>...</td>\n",
       "      <td>...</td>\n",
       "      <td>...</td>\n",
       "      <td>...</td>\n",
       "    </tr>\n",
       "    <tr>\n",
       "      <th>245</th>\n",
       "      <td>Les quatre cents coups</td>\n",
       "      <td>1959</td>\n",
       "      <td>99</td>\n",
       "      <td>8.1</td>\n",
       "      <td>125000.0</td>\n",
       "    </tr>\n",
       "    <tr>\n",
       "      <th>246</th>\n",
       "      <td>Aladdin</td>\n",
       "      <td>1992</td>\n",
       "      <td>90</td>\n",
       "      <td>8.0</td>\n",
       "      <td>454000.0</td>\n",
       "    </tr>\n",
       "    <tr>\n",
       "      <th>247</th>\n",
       "      <td>Dances with Wolves</td>\n",
       "      <td>1990</td>\n",
       "      <td>181</td>\n",
       "      <td>8.0</td>\n",
       "      <td>284000.0</td>\n",
       "    </tr>\n",
       "    <tr>\n",
       "      <th>248</th>\n",
       "      <td>Drishyam</td>\n",
       "      <td>2015</td>\n",
       "      <td>163</td>\n",
       "      <td>8.2</td>\n",
       "      <td>92000.0</td>\n",
       "    </tr>\n",
       "    <tr>\n",
       "      <th>249</th>\n",
       "      <td>Persona</td>\n",
       "      <td>1966</td>\n",
       "      <td>85</td>\n",
       "      <td>8.1</td>\n",
       "      <td>128000.0</td>\n",
       "    </tr>\n",
       "  </tbody>\n",
       "</table>\n",
       "<p>250 rows × 5 columns</p>\n",
       "</div>"
      ],
      "text/plain": [
       "                         title  year  duration  rating  nb_rating\n",
       "0     The Shawshank Redemption  1994       142     9.3  2800000.0\n",
       "1                The Godfather  1972       175     9.2  2000000.0\n",
       "2              The Dark Knight  2008       152     9.0  2800000.0\n",
       "3        The Godfather Part II  1974       202     9.0  1300000.0\n",
       "4                 12 Angry Men  1957        96     9.0   841000.0\n",
       "..                         ...   ...       ...     ...        ...\n",
       "245     Les quatre cents coups  1959        99     8.1   125000.0\n",
       "246                    Aladdin  1992        90     8.0   454000.0\n",
       "247         Dances with Wolves  1990       181     8.0   284000.0\n",
       "248                   Drishyam  2015       163     8.2    92000.0\n",
       "249                    Persona  1966        85     8.1   128000.0\n",
       "\n",
       "[250 rows x 5 columns]"
      ]
     },
     "execution_count": 17,
     "metadata": {},
     "output_type": "execute_result"
    }
   ],
   "source": [
    "movies = soup.findAll(\"div\", class_='sc-479faa3c-0 fMoWnh cli-children')\n",
    "\n",
    "data = []\n",
    "for movie in movies:\n",
    "  title = movie.find(\"h3\", class_=\"ipc-title__text\")\n",
    "  year = movie.find(\"div\", class_=\"jXgjdT\").contents[0]\n",
    "  duration = movie.find(\"div\", class_=\"jXgjdT\").contents[1]\n",
    "  rating = movie.find(\"span\", class_=\"ipc-rating-star ipc-rating-star--base ipc-rating-star--imdb ratingGroup--imdb-rating\").contents[1]\n",
    "  nb_rating = movie.find(\"span\", class_=\"ipc-rating-star ipc-rating-star--base ipc-rating-star--imdb ratingGroup--imdb-rating\").contents[2]\n",
    "\n",
    "  if title and year and duration and rating and nb_rating:\n",
    "    title = \".\".join(title.text.strip().split(\".\")[1:]).strip()\n",
    "    \n",
    "\n",
    "    duration_split = duration.text.strip().split(\"h\")\n",
    "    if len(duration_split) == 1:\n",
    "      duration_m = 0\n",
    "    elif 'm' in duration_split[1]:\n",
    "      duration_m = duration_split[1].split(\"m\")[0]\n",
    "    else:\n",
    "      duration_m = 0\n",
    "\n",
    "    duration_h = duration_split[0]\n",
    "    int_m = int(duration_m)\n",
    "\n",
    "    if 'm' in duration_h:\n",
    "      int_m += int(duration_split[0].split(\"m\")[0])\n",
    "      duration_h = 0\n",
    "    \n",
    "    int_h = int(duration_h)\n",
    "    duration =  int_h * 60 + int_m\n",
    "\n",
    "    nb_rating = nb_rating.text.replace(\"(\", \"\").replace(\")\", \"\")\n",
    "    if \"M\" in nb_rating:\n",
    "      nb_rating = float(nb_rating.replace(\"M\", \"\")) * 1000000\n",
    "    elif \"K\" in nb_rating:\n",
    "      nb_rating = float(nb_rating.replace(\"K\", \"\")) * 1000\n",
    "    else:\n",
    "      nb_rating = float(nb_rating)\n",
    "\n",
    "    data.append({\n",
    "      'title': title,\n",
    "      'year': year.text.strip(),\n",
    "      'duration': duration,\n",
    "      'rating': float(rating),\n",
    "      'nb_rating': nb_rating\n",
    "    })\n",
    "\n",
    "df = pd.DataFrame(data)\n",
    "df"
   ]
  },
  {
   "cell_type": "code",
   "execution_count": 30,
   "metadata": {},
   "outputs": [
    {
     "data": {
      "text/plain": [
       "year\n",
       "1921    1\n",
       "1924    1\n",
       "1925    1\n",
       "1926    1\n",
       "1927    1\n",
       "       ..\n",
       "2019    6\n",
       "2020    2\n",
       "2021    2\n",
       "2022    1\n",
       "2023    2\n",
       "Length: 87, dtype: int64"
      ]
     },
     "execution_count": 30,
     "metadata": {},
     "output_type": "execute_result"
    }
   ],
   "source": [
    "movies_year = df.groupby('year').size()\n",
    "movies_year"
   ]
  },
  {
   "cell_type": "code",
   "execution_count": 31,
   "metadata": {},
   "outputs": [
    {
     "data": {
      "text/plain": [
       "year\n",
       "1921    8.20\n",
       "1924    8.20\n",
       "1925    8.10\n",
       "1926    8.10\n",
       "1927    8.30\n",
       "        ... \n",
       "2019    8.30\n",
       "2020    8.25\n",
       "2021    8.50\n",
       "2022    8.30\n",
       "2023    8.60\n",
       "Name: rating, Length: 87, dtype: float64"
      ]
     },
     "execution_count": 31,
     "metadata": {},
     "output_type": "execute_result"
    }
   ],
   "source": [
    "year_mean_grade = df.groupby('year')[\"rating\"].mean()\n",
    "year_mean_grade"
   ]
  },
  {
   "cell_type": "code",
   "execution_count": 32,
   "metadata": {},
   "outputs": [
    {
     "data": {
      "image/png": "[encoded data removed]",
      "text/plain": [
       "<Figure size 640x480 with 1 Axes>"
      ]
     },
     "metadata": {},
     "output_type": "display_data"
    }
   ],
   "source": [
    "plt.bar(movies_year.index, movies_year.values)\n",
    "plt.xticks(movies_year.index[::3], rotation=90)\n",
    "plt.show()"
   ]
  },
  {
   "cell_type": "code",
   "execution_count": 33,
   "metadata": {},
   "outputs": [
    {
     "data": {
      "image/png": "[encoded data removed]",
      "text/plain": [
       "<Figure size 640x480 with 1 Axes>"
      ]
     },
     "metadata": {},
     "output_type": "display_data"
    }
   ],
   "source": [
    "plt.plot(year_mean_grade.index, year_mean_grade.values, \"r\")\n",
    "plt.xticks(year_mean_grade.index[::3], rotation=90)\n",
    "plt.show()"
   ]
  },
  {
   "cell_type": "code",
   "execution_count": null,
   "metadata": {},
   "outputs": [],
   "source": []
  }
 ],
 "metadata": {
  "kernelspec": {
   "display_name": "nomades_nppd_env_310",
   "language": "python",
   "name": "python3"
  },
  "language_info": {
   "codemirror_mode": {
    "name": "ipython",
    "version": 3
   },
   "file_extension": ".py",
   "mimetype": "text/x-python",
   "name": "python",
   "nbconvert_exporter": "python",
   "pygments_lexer": "ipython3",
   "version": "3.10.13"
  }
 },
 "nbformat": 4,
 "nbformat_minor": 2
}
