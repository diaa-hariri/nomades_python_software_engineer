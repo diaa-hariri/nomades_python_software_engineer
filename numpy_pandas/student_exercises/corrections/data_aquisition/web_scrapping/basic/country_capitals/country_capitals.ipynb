{
 "cells": [
  {
   "cell_type": "code",
   "execution_count": 1,
   "metadata": {},
   "outputs": [],
   "source": [
    "from bs4 import BeautifulSoup\n",
    "import requests"
   ]
  },
  {
   "cell_type": "code",
   "execution_count": 2,
   "metadata": {},
   "outputs": [],
   "source": [
    "# The url of a lisst of country with capitals\n",
    "# HINT: do not hesitate to look at the website using a browser to identify the pattern of the data you want to scrap\n",
    "url = \"https://scrapethissite.com/pages/simple/\""
   ]
  },
  {
   "cell_type": "code",
   "execution_count": 7,
   "metadata": {},
   "outputs": [],
   "source": [
    "# Make a GET request to fetch the raw HTML content\n",
    "html_content = requests.get(url)"
   ]
  },
  {
   "cell_type": "code",
   "execution_count": 8,
   "metadata": {},
   "outputs": [],
   "source": [
    "# Parse the html content\n",
    "soup = BeautifulSoup(html_content.text, \"html.parser\")\n",
    "# soup.prettify()"
   ]
  },
  {
   "cell_type": "code",
   "execution_count": 14,
   "metadata": {},
   "outputs": [
    {
     "name": "stdout",
     "output_type": "stream",
     "text": [
      "{'Andorra': {'Capitals': 'Andorra la Vella', 'Population': 84000.0, 'Area_km2': 468.0}, 'United Arab Emirates': {'Capitals': 'Abu Dhabi', 'Population': 4975593.0, 'Area_km2': 82880.0}, 'Afghanistan': {'Capitals': 'Kabul', 'Population': 29121286.0, 'Area_km2': 647500.0}, 'Antigua and Barbuda': {'Capitals': \"St. John's\", 'Population': 86754.0, 'Area_km2': 443.0}, 'Anguilla': {'Capitals': 'The Valley', 'Population': 13254.0, 'Area_km2': 102.0}, 'Albania': {'Capitals': 'Tirana', 'Population': 2986952.0, 'Area_km2': 28748.0}, 'Armenia': {'Capitals': 'Yerevan', 'Population': 2968000.0, 'Area_km2': 29800.0}, 'Angola': {'Capitals': 'Luanda', 'Population': 13068161.0, 'Area_km2': 1246700.0}, 'Antarctica': {'Capitals': '', 'Population': 0.0, 'Area_km2': 14000000.0}, 'Argentina': {'Capitals': 'Buenos Aires', 'Population': 41343201.0, 'Area_km2': 2766890.0}, 'American Samoa': {'Capitals': 'Pago Pago', 'Population': 57881.0, 'Area_km2': 199.0}, 'Austria': {'Capitals': 'Vienna', 'Population': 8205000.0, 'Area_km2': 83858.0}, 'Australia': {'Capitals': 'Canberra', 'Population': 21515754.0, 'Area_km2': 7686850.0}, 'Aruba': {'Capitals': 'Oranjestad', 'Population': 71566.0, 'Area_km2': 193.0}, 'Åland': {'Capitals': 'Mariehamn', 'Population': 26711.0, 'Area_km2': 1580.0}, 'Azerbaijan': {'Capitals': 'Baku', 'Population': 8303512.0, 'Area_km2': 86600.0}, 'Bosnia and Herzegovina': {'Capitals': 'Sarajevo', 'Population': 4590000.0, 'Area_km2': 51129.0}, 'Barbados': {'Capitals': 'Bridgetown', 'Population': 285653.0, 'Area_km2': 431.0}, 'Bangladesh': {'Capitals': 'Dhaka', 'Population': 156118464.0, 'Area_km2': 144000.0}, 'Belgium': {'Capitals': 'Brussels', 'Population': 10403000.0, 'Area_km2': 30510.0}, 'Burkina Faso': {'Capitals': 'Ouagadougou', 'Population': 16241811.0, 'Area_km2': 274200.0}, 'Bulgaria': {'Capitals': 'Sofia', 'Population': 7148785.0, 'Area_km2': 110910.0}, 'Bahrain': {'Capitals': 'Manama', 'Population': 738004.0, 'Area_km2': 665.0}, 'Burundi': {'Capitals': 'Bujumbura', 'Population': 9863117.0, 'Area_km2': 27830.0}, 'Benin': {'Capitals': 'Porto-Novo', 'Population': 9056010.0, 'Area_km2': 112620.0}, 'Saint Barthélemy': {'Capitals': 'Gustavia', 'Population': 8450.0, 'Area_km2': 21.0}, 'Bermuda': {'Capitals': 'Hamilton', 'Population': 65365.0, 'Area_km2': 53.0}, 'Brunei': {'Capitals': 'Bandar Seri Begawan', 'Population': 395027.0, 'Area_km2': 5770.0}, 'Bolivia': {'Capitals': 'Sucre', 'Population': 9947418.0, 'Area_km2': 1098580.0}, 'Bonaire': {'Capitals': 'Kralendijk', 'Population': 18012.0, 'Area_km2': 328.0}, 'Brazil': {'Capitals': 'Brasília', 'Population': 201103330.0, 'Area_km2': 8511965.0}, 'Bahamas': {'Capitals': 'Nassau', 'Population': 301790.0, 'Area_km2': 13940.0}, 'Bhutan': {'Capitals': 'Thimphu', 'Population': 699847.0, 'Area_km2': 47000.0}, 'Bouvet Island': {'Capitals': '', 'Population': 0.0, 'Area_km2': 49.0}, 'Botswana': {'Capitals': 'Gaborone', 'Population': 2029307.0, 'Area_km2': 600370.0}, 'Belarus': {'Capitals': 'Minsk', 'Population': 9685000.0, 'Area_km2': 207600.0}, 'Belize': {'Capitals': 'Belmopan', 'Population': 314522.0, 'Area_km2': 22966.0}, 'Canada': {'Capitals': 'Ottawa', 'Population': 33679000.0, 'Area_km2': 9984670.0}, 'Cocos [Keeling] Islands': {'Capitals': 'West Island', 'Population': 628.0, 'Area_km2': 14.0}, 'Democratic Republic of the Congo': {'Capitals': 'Kinshasa', 'Population': 70916439.0, 'Area_km2': 2345410.0}, 'Central African Republic': {'Capitals': 'Bangui', 'Population': 4844927.0, 'Area_km2': 622984.0}, 'Republic of the Congo': {'Capitals': 'Brazzaville', 'Population': 3039126.0, 'Area_km2': 342000.0}, 'Switzerland': {'Capitals': 'Bern', 'Population': 7581000.0, 'Area_km2': 41290.0}, 'Ivory Coast': {'Capitals': 'Yamoussoukro', 'Population': 21058798.0, 'Area_km2': 322460.0}, 'Cook Islands': {'Capitals': 'Avarua', 'Population': 21388.0, 'Area_km2': 240.0}, 'Chile': {'Capitals': 'Santiago', 'Population': 16746491.0, 'Area_km2': 756950.0}, 'Cameroon': {'Capitals': 'Yaoundé', 'Population': 19294149.0, 'Area_km2': 475440.0}, 'China': {'Capitals': 'Beijing', 'Population': 1330044000.0, 'Area_km2': 9596960.0}, 'Colombia': {'Capitals': 'Bogotá', 'Population': 47790000.0, 'Area_km2': 1138910.0}, 'Costa Rica': {'Capitals': 'San José', 'Population': 4516220.0, 'Area_km2': 51100.0}, 'Cuba': {'Capitals': 'Havana', 'Population': 11423000.0, 'Area_km2': 110860.0}, 'Cape Verde': {'Capitals': 'Praia', 'Population': 508659.0, 'Area_km2': 4033.0}, 'Curacao': {'Capitals': 'Willemstad', 'Population': 141766.0, 'Area_km2': 444.0}, 'Christmas Island': {'Capitals': 'Flying Fish Cove', 'Population': 1500.0, 'Area_km2': 135.0}, 'Cyprus': {'Capitals': 'Nicosia', 'Population': 1102677.0, 'Area_km2': 9250.0}, 'Czech Republic': {'Capitals': 'Prague', 'Population': 10476000.0, 'Area_km2': 78866.0}, 'Germany': {'Capitals': 'Berlin', 'Population': 81802257.0, 'Area_km2': 357021.0}, 'Djibouti': {'Capitals': 'Djibouti', 'Population': 740528.0, 'Area_km2': 23000.0}, 'Denmark': {'Capitals': 'Copenhagen', 'Population': 5484000.0, 'Area_km2': 43094.0}, 'Dominica': {'Capitals': 'Roseau', 'Population': 72813.0, 'Area_km2': 754.0}, 'Dominican Republic': {'Capitals': 'Santo Domingo', 'Population': 9823821.0, 'Area_km2': 48730.0}, 'Algeria': {'Capitals': 'Algiers', 'Population': 34586184.0, 'Area_km2': 2381740.0}, 'Ecuador': {'Capitals': 'Quito', 'Population': 14790608.0, 'Area_km2': 283560.0}, 'Estonia': {'Capitals': 'Tallinn', 'Population': 1291170.0, 'Area_km2': 45226.0}, 'Egypt': {'Capitals': 'Cairo', 'Population': 80471869.0, 'Area_km2': 1001450.0}, 'Western Sahara': {'Capitals': 'Laâyoune / El Aaiún', 'Population': 273008.0, 'Area_km2': 266000.0}, 'Eritrea': {'Capitals': 'Asmara', 'Population': 5792984.0, 'Area_km2': 121320.0}, 'Spain': {'Capitals': 'Madrid', 'Population': 46505963.0, 'Area_km2': 504782.0}, 'Ethiopia': {'Capitals': 'Addis Ababa', 'Population': 88013491.0, 'Area_km2': 1127127.0}, 'Finland': {'Capitals': 'Helsinki', 'Population': 5244000.0, 'Area_km2': 337030.0}, 'Fiji': {'Capitals': 'Suva', 'Population': 875983.0, 'Area_km2': 18270.0}, 'Falkland Islands': {'Capitals': 'Stanley', 'Population': 2638.0, 'Area_km2': 12173.0}, 'Micronesia': {'Capitals': 'Palikir', 'Population': 107708.0, 'Area_km2': 702.0}, 'Faroe Islands': {'Capitals': 'Tórshavn', 'Population': 48228.0, 'Area_km2': 1399.0}, 'France': {'Capitals': 'Paris', 'Population': 64768389.0, 'Area_km2': 547030.0}, 'Gabon': {'Capitals': 'Libreville', 'Population': 1545255.0, 'Area_km2': 267667.0}, 'United Kingdom': {'Capitals': 'London', 'Population': 62348447.0, 'Area_km2': 244820.0}, 'Grenada': {'Capitals': \"St. George's\", 'Population': 107818.0, 'Area_km2': 344.0}, 'Georgia': {'Capitals': 'Tbilisi', 'Population': 4630000.0, 'Area_km2': 69700.0}, 'French Guiana': {'Capitals': 'Cayenne', 'Population': 195506.0, 'Area_km2': 91000.0}, 'Guernsey': {'Capitals': 'St Peter Port', 'Population': 65228.0, 'Area_km2': 78.0}, 'Ghana': {'Capitals': 'Accra', 'Population': 24339838.0, 'Area_km2': 239460.0}, 'Gibraltar': {'Capitals': 'Gibraltar', 'Population': 27884.0, 'Area_km2': 6.5}, 'Greenland': {'Capitals': 'Nuuk', 'Population': 56375.0, 'Area_km2': 2166086.0}, 'Gambia': {'Capitals': 'Bathurst', 'Population': 1593256.0, 'Area_km2': 11300.0}, 'Guinea': {'Capitals': 'Conakry', 'Population': 10324025.0, 'Area_km2': 245857.0}, 'Guadeloupe': {'Capitals': 'Basse-Terre', 'Population': 443000.0, 'Area_km2': 1780.0}, 'Equatorial Guinea': {'Capitals': 'Malabo', 'Population': 1014999.0, 'Area_km2': 28051.0}, 'Greece': {'Capitals': 'Athens', 'Population': 11000000.0, 'Area_km2': 131940.0}, 'South Georgia and the South Sandwich Islands': {'Capitals': 'Grytviken', 'Population': 30.0, 'Area_km2': 3903.0}, 'Guatemala': {'Capitals': 'Guatemala City', 'Population': 13550440.0, 'Area_km2': 108890.0}, 'Guam': {'Capitals': 'Hagåtña', 'Population': 159358.0, 'Area_km2': 549.0}, 'Guinea-Bissau': {'Capitals': 'Bissau', 'Population': 1565126.0, 'Area_km2': 36120.0}, 'Guyana': {'Capitals': 'Georgetown', 'Population': 748486.0, 'Area_km2': 214970.0}, 'Hong Kong': {'Capitals': 'Hong Kong', 'Population': 6898686.0, 'Area_km2': 1092.0}, 'Heard Island and McDonald Islands': {'Capitals': '', 'Population': 0.0, 'Area_km2': 412.0}, 'Honduras': {'Capitals': 'Tegucigalpa', 'Population': 7989415.0, 'Area_km2': 112090.0}, 'Croatia': {'Capitals': 'Zagreb', 'Population': 4491000.0, 'Area_km2': 56542.0}, 'Haiti': {'Capitals': 'Port-au-Prince', 'Population': 9648924.0, 'Area_km2': 27750.0}, 'Hungary': {'Capitals': 'Budapest', 'Population': 9982000.0, 'Area_km2': 93030.0}, 'Indonesia': {'Capitals': 'Jakarta', 'Population': 242968342.0, 'Area_km2': 1919440.0}, 'Ireland': {'Capitals': 'Dublin', 'Population': 4622917.0, 'Area_km2': 70280.0}, 'Israel': {'Capitals': '', 'Population': 7353985.0, 'Area_km2': 20770.0}, 'Isle of Man': {'Capitals': 'Douglas', 'Population': 75049.0, 'Area_km2': 572.0}, 'India': {'Capitals': 'New Delhi', 'Population': 1173108018.0, 'Area_km2': 3287590.0}, 'British Indian Ocean Territory': {'Capitals': '', 'Population': 4000.0, 'Area_km2': 60.0}, 'Iraq': {'Capitals': 'Baghdad', 'Population': 29671605.0, 'Area_km2': 437072.0}, 'Iran': {'Capitals': 'Tehran', 'Population': 76923300.0, 'Area_km2': 1648000.0}, 'Iceland': {'Capitals': 'Reykjavik', 'Population': 308910.0, 'Area_km2': 103000.0}, 'Italy': {'Capitals': 'Rome', 'Population': 60340328.0, 'Area_km2': 301230.0}, 'Jersey': {'Capitals': 'Saint Helier', 'Population': 90812.0, 'Area_km2': 116.0}, 'Jamaica': {'Capitals': 'Kingston', 'Population': 2847232.0, 'Area_km2': 10991.0}, 'Jordan': {'Capitals': 'Amman', 'Population': 6407085.0, 'Area_km2': 92300.0}, 'Japan': {'Capitals': 'Tokyo', 'Population': 127288000.0, 'Area_km2': 377835.0}, 'Kenya': {'Capitals': 'Nairobi', 'Population': 40046566.0, 'Area_km2': 582650.0}, 'Kyrgyzstan': {'Capitals': 'Bishkek', 'Population': 5776500.0, 'Area_km2': 198500.0}, 'Cambodia': {'Capitals': 'Phnom Penh', 'Population': 14453680.0, 'Area_km2': 181040.0}, 'Kiribati': {'Capitals': 'Tarawa', 'Population': 92533.0, 'Area_km2': 811.0}, 'Comoros': {'Capitals': 'Moroni', 'Population': 773407.0, 'Area_km2': 2170.0}, 'Saint Kitts and Nevis': {'Capitals': 'Basseterre', 'Population': 51134.0, 'Area_km2': 261.0}, 'North Korea': {'Capitals': 'Pyongyang', 'Population': 22912177.0, 'Area_km2': 120540.0}, 'South Korea': {'Capitals': 'Seoul', 'Population': 48422644.0, 'Area_km2': 98480.0}, 'Kuwait': {'Capitals': 'Kuwait City', 'Population': 2789132.0, 'Area_km2': 17820.0}, 'Cayman Islands': {'Capitals': 'George Town', 'Population': 44270.0, 'Area_km2': 262.0}, 'Kazakhstan': {'Capitals': 'Astana', 'Population': 15340000.0, 'Area_km2': 2717300.0}, 'Laos': {'Capitals': 'Vientiane', 'Population': 6368162.0, 'Area_km2': 236800.0}, 'Lebanon': {'Capitals': 'Beirut', 'Population': 4125247.0, 'Area_km2': 10400.0}, 'Saint Lucia': {'Capitals': 'Castries', 'Population': 160922.0, 'Area_km2': 616.0}, 'Liechtenstein': {'Capitals': 'Vaduz', 'Population': 35000.0, 'Area_km2': 160.0}, 'Sri Lanka': {'Capitals': 'Colombo', 'Population': 21513990.0, 'Area_km2': 65610.0}, 'Liberia': {'Capitals': 'Monrovia', 'Population': 3685076.0, 'Area_km2': 111370.0}, 'Lesotho': {'Capitals': 'Maseru', 'Population': 1919552.0, 'Area_km2': 30355.0}, 'Lithuania': {'Capitals': 'Vilnius', 'Population': 2944459.0, 'Area_km2': 65200.0}, 'Luxembourg': {'Capitals': 'Luxembourg', 'Population': 497538.0, 'Area_km2': 2586.0}, 'Latvia': {'Capitals': 'Riga', 'Population': 2217969.0, 'Area_km2': 64589.0}, 'Libya': {'Capitals': 'Tripoli', 'Population': 6461454.0, 'Area_km2': 1759540.0}, 'Morocco': {'Capitals': 'Rabat', 'Population': 31627428.0, 'Area_km2': 446550.0}, 'Monaco': {'Capitals': 'Monaco', 'Population': 32965.0, 'Area_km2': 1.95}, 'Moldova': {'Capitals': 'Chişinău', 'Population': 4324000.0, 'Area_km2': 33843.0}, 'Montenegro': {'Capitals': 'Podgorica', 'Population': 666730.0, 'Area_km2': 14026.0}, 'Saint Martin': {'Capitals': 'Marigot', 'Population': 35925.0, 'Area_km2': 53.0}, 'Madagascar': {'Capitals': 'Antananarivo', 'Population': 21281844.0, 'Area_km2': 587040.0}, 'Marshall Islands': {'Capitals': 'Majuro', 'Population': 65859.0, 'Area_km2': 181.3}, 'Macedonia': {'Capitals': 'Skopje', 'Population': 2062294.0, 'Area_km2': 25333.0}, 'Mali': {'Capitals': 'Bamako', 'Population': 13796354.0, 'Area_km2': 1240000.0}, 'Myanmar [Burma]': {'Capitals': 'Naypyitaw', 'Population': 53414374.0, 'Area_km2': 678500.0}, 'Mongolia': {'Capitals': 'Ulan Bator', 'Population': 3086918.0, 'Area_km2': 1565000.0}, 'Macao': {'Capitals': 'Macao', 'Population': 449198.0, 'Area_km2': 254.0}, 'Northern Mariana Islands': {'Capitals': 'Saipan', 'Population': 53883.0, 'Area_km2': 477.0}, 'Martinique': {'Capitals': 'Fort-de-France', 'Population': 432900.0, 'Area_km2': 1100.0}, 'Mauritania': {'Capitals': 'Nouakchott', 'Population': 3205060.0, 'Area_km2': 1030700.0}, 'Montserrat': {'Capitals': 'Plymouth', 'Population': 9341.0, 'Area_km2': 102.0}, 'Malta': {'Capitals': 'Valletta', 'Population': 403000.0, 'Area_km2': 316.0}, 'Mauritius': {'Capitals': 'Port Louis', 'Population': 1294104.0, 'Area_km2': 2040.0}, 'Maldives': {'Capitals': 'Malé', 'Population': 395650.0, 'Area_km2': 300.0}, 'Malawi': {'Capitals': 'Lilongwe', 'Population': 15447500.0, 'Area_km2': 118480.0}, 'Mexico': {'Capitals': 'Mexico City', 'Population': 112468855.0, 'Area_km2': 1972550.0}, 'Malaysia': {'Capitals': 'Kuala Lumpur', 'Population': 28274729.0, 'Area_km2': 329750.0}, 'Mozambique': {'Capitals': 'Maputo', 'Population': 22061451.0, 'Area_km2': 801590.0}, 'Namibia': {'Capitals': 'Windhoek', 'Population': 2128471.0, 'Area_km2': 825418.0}, 'New Caledonia': {'Capitals': 'Noumea', 'Population': 216494.0, 'Area_km2': 19060.0}, 'Niger': {'Capitals': 'Niamey', 'Population': 15878271.0, 'Area_km2': 1267000.0}, 'Norfolk Island': {'Capitals': 'Kingston', 'Population': 1828.0, 'Area_km2': 34.6}, 'Nigeria': {'Capitals': 'Abuja', 'Population': 154000000.0, 'Area_km2': 923768.0}, 'Nicaragua': {'Capitals': 'Managua', 'Population': 5995928.0, 'Area_km2': 129494.0}, 'Netherlands': {'Capitals': 'Amsterdam', 'Population': 16645000.0, 'Area_km2': 41526.0}, 'Norway': {'Capitals': 'Oslo', 'Population': 5009150.0, 'Area_km2': 324220.0}, 'Nepal': {'Capitals': 'Kathmandu', 'Population': 28951852.0, 'Area_km2': 140800.0}, 'Nauru': {'Capitals': 'Yaren', 'Population': 10065.0, 'Area_km2': 21.0}, 'Niue': {'Capitals': 'Alofi', 'Population': 2166.0, 'Area_km2': 260.0}, 'New Zealand': {'Capitals': 'Wellington', 'Population': 4252277.0, 'Area_km2': 268680.0}, 'Oman': {'Capitals': 'Muscat', 'Population': 2967717.0, 'Area_km2': 212460.0}, 'Panama': {'Capitals': 'Panama City', 'Population': 3410676.0, 'Area_km2': 78200.0}, 'Peru': {'Capitals': 'Lima', 'Population': 29907003.0, 'Area_km2': 1285220.0}, 'French Polynesia': {'Capitals': 'Papeete', 'Population': 270485.0, 'Area_km2': 4167.0}, 'Papua New Guinea': {'Capitals': 'Port Moresby', 'Population': 6064515.0, 'Area_km2': 462840.0}, 'Philippines': {'Capitals': 'Manila', 'Population': 99900177.0, 'Area_km2': 300000.0}, 'Pakistan': {'Capitals': 'Islamabad', 'Population': 184404791.0, 'Area_km2': 803940.0}, 'Poland': {'Capitals': 'Warsaw', 'Population': 38500000.0, 'Area_km2': 312685.0}, 'Saint Pierre and Miquelon': {'Capitals': 'Saint-Pierre', 'Population': 7012.0, 'Area_km2': 242.0}, 'Pitcairn Islands': {'Capitals': 'Adamstown', 'Population': 46.0, 'Area_km2': 47.0}, 'Puerto Rico': {'Capitals': 'San Juan', 'Population': 3916632.0, 'Area_km2': 9104.0}, 'Palestine': {'Capitals': '', 'Population': 3800000.0, 'Area_km2': 5970.0}, 'Portugal': {'Capitals': 'Lisbon', 'Population': 10676000.0, 'Area_km2': 92391.0}, 'Palau': {'Capitals': 'Melekeok', 'Population': 19907.0, 'Area_km2': 458.0}, 'Paraguay': {'Capitals': 'Asunción', 'Population': 6375830.0, 'Area_km2': 406750.0}, 'Qatar': {'Capitals': 'Doha', 'Population': 840926.0, 'Area_km2': 11437.0}, 'Réunion': {'Capitals': 'Saint-Denis', 'Population': 776948.0, 'Area_km2': 2517.0}, 'Romania': {'Capitals': 'Bucharest', 'Population': 21959278.0, 'Area_km2': 237500.0}, 'Serbia': {'Capitals': 'Belgrade', 'Population': 7344847.0, 'Area_km2': 88361.0}, 'Russia': {'Capitals': 'Moscow', 'Population': 140702000.0, 'Area_km2': 17100000.0}, 'Rwanda': {'Capitals': 'Kigali', 'Population': 11055976.0, 'Area_km2': 26338.0}, 'Saudi Arabia': {'Capitals': 'Riyadh', 'Population': 25731776.0, 'Area_km2': 1960582.0}, 'Solomon Islands': {'Capitals': 'Honiara', 'Population': 559198.0, 'Area_km2': 28450.0}, 'Seychelles': {'Capitals': 'Victoria', 'Population': 88340.0, 'Area_km2': 455.0}, 'Sudan': {'Capitals': 'Khartoum', 'Population': 35000000.0, 'Area_km2': 1861484.0}, 'Sweden': {'Capitals': 'Stockholm', 'Population': 9828655.0, 'Area_km2': 449964.0}, 'Singapore': {'Capitals': 'Singapore', 'Population': 4701069.0, 'Area_km2': 692.7}, 'Saint Helena': {'Capitals': 'Jamestown', 'Population': 7460.0, 'Area_km2': 410.0}, 'Slovenia': {'Capitals': 'Ljubljana', 'Population': 2007000.0, 'Area_km2': 20273.0}, 'Svalbard and Jan Mayen': {'Capitals': 'Longyearbyen', 'Population': 2550.0, 'Area_km2': 62049.0}, 'Slovakia': {'Capitals': 'Bratislava', 'Population': 5455000.0, 'Area_km2': 48845.0}, 'Sierra Leone': {'Capitals': 'Freetown', 'Population': 5245695.0, 'Area_km2': 71740.0}, 'San Marino': {'Capitals': 'San Marino', 'Population': 31477.0, 'Area_km2': 61.2}, 'Senegal': {'Capitals': 'Dakar', 'Population': 12323252.0, 'Area_km2': 196190.0}, 'Somalia': {'Capitals': 'Mogadishu', 'Population': 10112453.0, 'Area_km2': 637657.0}, 'Suriname': {'Capitals': 'Paramaribo', 'Population': 492829.0, 'Area_km2': 163270.0}, 'South Sudan': {'Capitals': 'Juba', 'Population': 8260490.0, 'Area_km2': 644329.0}, 'São Tomé and Príncipe': {'Capitals': 'São Tomé', 'Population': 175808.0, 'Area_km2': 1001.0}, 'El Salvador': {'Capitals': 'San Salvador', 'Population': 6052064.0, 'Area_km2': 21040.0}, 'Sint Maarten': {'Capitals': 'Philipsburg', 'Population': 37429.0, 'Area_km2': 21.0}, 'Syria': {'Capitals': 'Damascus', 'Population': 22198110.0, 'Area_km2': 185180.0}, 'Swaziland': {'Capitals': 'Mbabane', 'Population': 1354051.0, 'Area_km2': 17363.0}, 'Turks and Caicos Islands': {'Capitals': 'Cockburn Town', 'Population': 20556.0, 'Area_km2': 430.0}, 'Chad': {'Capitals': \"N'Djamena\", 'Population': 10543464.0, 'Area_km2': 1284000.0}, 'French Southern Territories': {'Capitals': 'Port-aux-Français', 'Population': 140.0, 'Area_km2': 7829.0}, 'Togo': {'Capitals': 'Lomé', 'Population': 6587239.0, 'Area_km2': 56785.0}, 'Thailand': {'Capitals': 'Bangkok', 'Population': 67089500.0, 'Area_km2': 514000.0}, 'Tajikistan': {'Capitals': 'Dushanbe', 'Population': 7487489.0, 'Area_km2': 143100.0}, 'Tokelau': {'Capitals': '', 'Population': 1466.0, 'Area_km2': 10.0}, 'East Timor': {'Capitals': 'Dili', 'Population': 1154625.0, 'Area_km2': 15007.0}, 'Turkmenistan': {'Capitals': 'Ashgabat', 'Population': 4940916.0, 'Area_km2': 488100.0}, 'Tunisia': {'Capitals': 'Tunis', 'Population': 10589025.0, 'Area_km2': 163610.0}, 'Tonga': {'Capitals': \"Nuku'alofa\", 'Population': 122580.0, 'Area_km2': 748.0}, 'Turkey': {'Capitals': 'Ankara', 'Population': 77804122.0, 'Area_km2': 780580.0}, 'Trinidad and Tobago': {'Capitals': 'Port of Spain', 'Population': 1228691.0, 'Area_km2': 5128.0}, 'Tuvalu': {'Capitals': 'Funafuti', 'Population': 10472.0, 'Area_km2': 26.0}, 'Taiwan': {'Capitals': 'Taipei', 'Population': 22894384.0, 'Area_km2': 35980.0}, 'Tanzania': {'Capitals': 'Dodoma', 'Population': 41892895.0, 'Area_km2': 945087.0}, 'Ukraine': {'Capitals': 'Kiev', 'Population': 45415596.0, 'Area_km2': 603700.0}, 'Uganda': {'Capitals': 'Kampala', 'Population': 33398682.0, 'Area_km2': 236040.0}, 'United States': {'Capitals': 'Washington', 'Population': 310232863.0, 'Area_km2': 9629091.0}, 'Uruguay': {'Capitals': 'Montevideo', 'Population': 3477000.0, 'Area_km2': 176220.0}, 'Uzbekistan': {'Capitals': 'Tashkent', 'Population': 27865738.0, 'Area_km2': 447400.0}, 'Vatican City': {'Capitals': 'Vatican City', 'Population': 921.0, 'Area_km2': 0.44}, 'Saint Vincent and the Grenadines': {'Capitals': 'Kingstown', 'Population': 104217.0, 'Area_km2': 389.0}, 'Venezuela': {'Capitals': 'Caracas', 'Population': 27223228.0, 'Area_km2': 912050.0}, 'British Virgin Islands': {'Capitals': 'Road Town', 'Population': 21730.0, 'Area_km2': 153.0}, 'U.S. Virgin Islands': {'Capitals': 'Charlotte Amalie', 'Population': 108708.0, 'Area_km2': 352.0}, 'Vietnam': {'Capitals': 'Hanoi', 'Population': 89571130.0, 'Area_km2': 329560.0}, 'Vanuatu': {'Capitals': 'Port Vila', 'Population': 221552.0, 'Area_km2': 12200.0}, 'Wallis and Futuna': {'Capitals': 'Mata-Utu', 'Population': 16025.0, 'Area_km2': 274.0}, 'Samoa': {'Capitals': 'Apia', 'Population': 192001.0, 'Area_km2': 2944.0}, 'Kosovo': {'Capitals': 'Pristina', 'Population': 1800000.0, 'Area_km2': 10908.0}, 'Yemen': {'Capitals': 'Sanaa', 'Population': 23495361.0, 'Area_km2': 527970.0}, 'Mayotte': {'Capitals': 'Mamoudzou', 'Population': 159042.0, 'Area_km2': 374.0}, 'South Africa': {'Capitals': 'Pretoria', 'Population': 49000000.0, 'Area_km2': 1219912.0}, 'Zambia': {'Capitals': 'Lusaka', 'Population': 13460305.0, 'Area_km2': 752614.0}, 'Zimbabwe': {'Capitals': 'Harare', 'Population': 11651858.0, 'Area_km2': 390580.0}}\n"
     ]
    }
   ],
   "source": [
    "# Create a dictionary to store the data\n",
    "# The keys of the dictionary will be the countries\n",
    "# The values of the dictionary will be the capitals, the population and the area in km2 of the country\n",
    "# HINT: you can use the find_all method to find all the tags of a certain type\n",
    "countries_html=soup.findAll(\"div\", class_=\"country\")\n",
    "\n",
    "data = {}\n",
    "for country in countries_html:\n",
    "    country_name = country.find(\"h3\",class_=\"country-name\").text.strip()\n",
    "    capital = country.find(\"span\",class_=\"country-capital\").text\n",
    "    population = float(country.find(\"span\",class_=\"country-population\").text)\n",
    "    area = float(country.find(\"span\",class_=\"country-area\").text)\n",
    "    \n",
    "    if capital == \"None\":\n",
    "        capital = \"\"\n",
    "    \n",
    "    if area == 0:\n",
    "        continue\n",
    "    \n",
    "    data[country_name]={\n",
    "        \"Capitals\": capital, \n",
    "        \"Population\": population,\n",
    "        \"Area_km2\": area\n",
    "    }\n",
    "\n",
    "print(data)"
   ]
  },
  {
   "cell_type": "markdown",
   "metadata": {},
   "source": [
    "# Make some computation"
   ]
  },
  {
   "cell_type": "code",
   "execution_count": 55,
   "metadata": {},
   "outputs": [
    {
     "name": "stdout",
     "output_type": "stream",
     "text": [
      "1.\tThe total area of all the countries is\t\t\t: 149909229.69 km2\n",
      "2.\tThe total population of all the countries is\t\t: 6861418895.0\n",
      "3.\tThe total population density of all the countries is\t: 45.77048997709382\n",
      "4.\tThe average area of all the countries is\t\t: 602045.0991566265 km2\n",
      "5.\tThe average population of all the countries is\t\t: 27555899.17670683\n",
      "6.\tThe average population density of all the countries is\t: 0.18381722882366994\n",
      "7.\tThe country with the highest population is\t\t: China 1330044000.0\n",
      "8.\tThe country with the lowest population is\t\t: Antarctica 0.0\n",
      "9.\tThe country with the highest population density is\t: Monaco 16905.128205128207\n",
      "10.\tThe country with the lowest population density is\t: Antarctica 0.0\n",
      "11.\tThe country with the highest area is\t\t\t: Russia 17100000.0\n",
      "12.\tThe country with the lowest area is\t\t\t: Vatican City 0.44\n",
      "13.\tThe country that have the longest capital name is\t: Brunei\n",
      "14.\tThe country that have the shortest capital name is\t: Azerbaijan Baku\n"
     ]
    }
   ],
   "source": [
    "# 1. Compute the total area of all the countries\n",
    "total_area = sum([dict[\"Area_km2\"] for dict in data.values()])\n",
    "print(f\"1.\\tThe total area of all the countries is\\t\\t\\t: {total_area} km2\")\n",
    "\n",
    "# 2. Compute the total population of all the countries\n",
    "total_population = sum([dict[\"Population\"] for dict in data.values()])\n",
    "print(f\"2.\\tThe total population of all the countries is\\t\\t: {total_population}\")\n",
    "\n",
    "# 3. Compute the total population density of all the countries\n",
    "total_population_density = total_population / total_area\n",
    "print(f\"3.\\tThe total population density of all the countries is\\t: {total_population_density}\")\n",
    "\n",
    "# 4. Compute the average area of all the countries\n",
    "average_area = total_area / len(data)\n",
    "print(f\"4.\\tThe average area of all the countries is\\t\\t: {average_area} km2\")\n",
    "\n",
    "# 5. Compute the average population of all the countries\n",
    "average_population = total_population / len(data)\n",
    "print(f\"5.\\tThe average population of all the countries is\\t\\t: {average_population}\")\n",
    "\n",
    "# 6. Compute the average population density of all the countries\n",
    "average_population_density = total_population_density / len(data)\n",
    "print(f\"6.\\tThe average population density of all the countries is\\t: {average_population_density}\")\n",
    "\n",
    "# 7. Compute the country with the highest population\n",
    "highest_population = max(data.items(), key=lambda t : t[1][\"Population\"])\n",
    "print(f\"7.\\tThe country with the highest population is\\t\\t: {highest_population[0]} {highest_population[1]['Population']}\")\n",
    "\n",
    "# 8. Compute the country with the lowest population\n",
    "lowest_population = min(data.items(), key=lambda t : t[1][\"Population\"])\n",
    "print(f\"8.\\tThe country with the lowest population is\\t\\t: {lowest_population[0]} {lowest_population[1]['Population']}\")\n",
    "\n",
    "# 9. Compute the country with the highest population density\n",
    "highest_population_density = max([{\"country\": k, \"density\" : v[\"Population\"]/v[\"Area_km2\"]} for k, v in data.items()], key=lambda d: d[\"density\"])\n",
    "print(f\"9.\\tThe country with the highest population density is\\t: {highest_population_density['country']} {highest_population_density['density']}\")\n",
    "\n",
    "# 10. Compute the country with the lowest population density\n",
    "lowest_population_density = min([{\"country\": k, \"density\" : v[\"Population\"]/v[\"Area_km2\"]} for k, v in data.items()], key=lambda d: d[\"density\"])\n",
    "print(f\"10.\\tThe country with the lowest population density is\\t: {lowest_population_density['country']} {lowest_population_density['density']}\")\n",
    "\n",
    "# 11. Compute the country with the highest area\n",
    "highest_area = max(data, key=lambda k: data[k][\"Area_km2\"])\n",
    "print(f\"11.\\tThe country with the highest area is\\t\\t\\t: {highest_area} {data[highest_area]['Area_km2']}\")\n",
    "\n",
    "# 12. Compute the country with the lowest area\n",
    "lowest_area = min(data, key=lambda k: data[k][\"Area_km2\"])\n",
    "print(f\"12.\\tThe country with the lowest area is\\t\\t\\t: {lowest_area} {data[lowest_area]['Area_km2']}\")\n",
    "\n",
    "# 13. Compute the country that have the longest capital name\n",
    "longest_capital = max([(country, len(data[country][\"Capitals\"])) for country in data], key=lambda t: t[1])\n",
    "print(f\"13.\\tThe country that have the longest capital name is\\t: {longest_capital[0]}\")\n",
    "\n",
    "# 14. Compute the country that have the shortest capital name\n",
    "shortest_capital = min([(country, len(data[country][\"Capitals\"])) for country in data if data[country][\"Capitals\"] != \"\"], key=lambda t: t[1])\n",
    "print(f\"14.\\tThe country that have the shortest capital name is\\t: {shortest_capital[0]} {data[shortest_capital[0]]['Capitals']}\")"
   ]
  }
 ],
 "metadata": {
  "kernelspec": {
   "display_name": "Python 3 (ipykernel)",
   "language": "python",
   "name": "python3"
  },
  "language_info": {
   "codemirror_mode": {
    "name": "ipython",
    "version": 3
   },
   "file_extension": ".py",
   "mimetype": "text/x-python",
   "name": "python",
   "nbconvert_exporter": "python",
   "pygments_lexer": "ipython3",
   "version": "3.10.13"
  }
 },
 "nbformat": 4,
 "nbformat_minor": 2
}
