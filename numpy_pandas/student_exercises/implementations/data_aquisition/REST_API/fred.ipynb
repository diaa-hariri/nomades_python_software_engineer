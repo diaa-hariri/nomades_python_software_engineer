{
 "cells": [
  {
   "cell_type": "markdown",
   "metadata": {},
   "source": [
    "# Fred aquisition data"
   ]
  },
  {
   "cell_type": "code",
   "execution_count": null,
   "metadata": {
    "scrolled": true
   },
   "outputs": [],
   "source": [
    "import json\n",
    "import matplotlib.pyplot as plt\n",
    "import requests"
   ]
  },
  {
   "cell_type": "code",
   "execution_count": null,
   "metadata": {},
   "outputs": [],
   "source": [
    "# Load the secret api key\n",
    "with open('api_creds.json', 'r') as f:\n",
    "    secrets = json.load(f)\n",
    "\n",
    "api_key = secrets['d5ea970e9ad508d289177289cf36f386'] # you can hardcode your value here if you want\n",
    "api_key"
   ]
  },
  {
   "cell_type": "markdown",
   "metadata": {},
   "source": [
    "### Some example without Pandas"
   ]
  },
  {
   "cell_type": "code",
   "execution_count": null,
   "metadata": {},
   "outputs": [],
   "source": [
    "seriesID = \"UNRATE\"   # Unemployment rate\n",
    "start = \"2015-01-01\"  # start date\n",
    "end = \"2023-10-31\"    # end date\n",
    "units = \"pc1\"         # Percent change from a year ago\n",
    "\n",
    "url = \"https://api.stlouisfed.org/fred/series/observations\" + \\\n",
    "      f\"?series_id={seriesID}&api_key={api_key}&file_type=json\" + \\\n",
    "      f\"&observation_start={start}&observation_end={end}&units={units}\"\n",
    "print(url)\n",
    "response = requests.get(url)\n",
    "\n",
    "# print the response\n",
    "print(\"response :\", response)\n"
   ]
  },
  {
   "cell_type": "markdown",
   "metadata": {},
   "source": [
    "Here the response is <Response [200]> which means that the request was successful.\n",
    "200 is the status code for a successful request."
   ]
  },
  {
   "cell_type": "code",
   "execution_count": null,
   "metadata": {},
   "outputs": [],
   "source": [
    "# print the status code\n",
    "print(\"status code :\", response.status_code)\n",
    "\n",
    "# print the content\n",
    "print(\"content :\", response.content)\n",
    "\"\"\"\n",
    "Here the content is in byte format. \n",
    "We can decode it to utf-8 format.\n",
    "But, as the reposnse is in json format, \n",
    "we can directly decode it to json format using the json() method from requests library\n",
    "\"\"\"\n",
    "# print the json content\n",
    "print(\"json content :\", response.json())\n",
    "\n",
    "\"\"\"\n",
    "The json response contains some keys like:\n",
    "  - realtime_start\n",
    "  - realtime_end\n",
    "  - units\n",
    "  ...\n",
    "  - observations\n",
    "\n",
    "The observations key contains the data we need.\n",
    "The observation key contains a list of dictionaries. where two keys are interesting for us:\n",
    "  - date, the date of the observation\n",
    "  - value, the value of the observation\n",
    "\"\"\"\n",
    "\n",
    "# TODO: Given the response in json format, extract a list made of tuples where the first element is the date as str type and the second element is the value as float type\n",
    "# Hint: use list comprehension\n",
    "# FRED API Observations DOC : https://fred.stlouisfed.org/docs/api/fred/series_observations.html\n",
    "data = None\n",
    "print(\"data :\", data)"
   ]
  },
  {
   "cell_type": "code",
   "execution_count": 28,
   "metadata": {},
   "outputs": [
    {
     "ename": "NameError",
     "evalue": "name 'data' is not defined",
     "output_type": "error",
     "traceback": [
      "\u001b[1;31m---------------------------------------------------------------------------\u001b[0m",
      "\u001b[1;31mNameError\u001b[0m                                 Traceback (most recent call last)",
      "Cell \u001b[1;32mIn[28], line 4\u001b[0m\n\u001b[0;32m      1\u001b[0m \u001b[38;5;66;03m# Plotting the data\u001b[39;00m\n\u001b[0;32m      2\u001b[0m \u001b[38;5;66;03m# TODO: plot the data, you need to create the same plot as the one following\u001b[39;00m\n\u001b[1;32m----> 4\u001b[0m data \u001b[38;5;241m=\u001b[39m [observation[\u001b[38;5;241m0\u001b[39m] \u001b[38;5;28;01mfor\u001b[39;00m observation \u001b[38;5;129;01min\u001b[39;00m \u001b[43mdata\u001b[49m]\n\u001b[0;32m      5\u001b[0m value \u001b[38;5;241m=\u001b[39m [observation[\u001b[38;5;241m1\u001b[39m] \u001b[38;5;28;01mfor\u001b[39;00m observation \u001b[38;5;129;01min\u001b[39;00m data]\n",
      "\u001b[1;31mNameError\u001b[0m: name 'data' is not defined"
     ]
    }
   ],
   "source": [
    "# Plotting the data\n",
    "# TODO: plot the data, you need to create the same plot as the one following\n",
    "\n",
    "data = [observation[0] for observation in data]\n",
    "value = [observation[1] for observation in data]"
   ]
  },
  {
   "cell_type": "code",
   "execution_count": null,
   "metadata": {},
   "outputs": [],
   "source": [
    "from example_plot import example_plot\n",
    "x = [x[0] for x in data]\n",
    "y = [y[1] for y in data]\n",
    "example_plot(x, y, u\"Unemployment rate\")\n",
    "# I changed the plt.xticks to display only one date per year and changed the reotation to 90degree"
   ]
  },
  {
   "cell_type": "markdown",
   "metadata": {},
   "source": [
    "# Part 2: two plots\n",
    "In this part you are required to make one chart with two plots, one for the `GDP` and one for the `UNRATE`.\n",
    "\n",
    "This tie you are asked to make the API calls by yourself (you can inspire yourself from the previous part). You can keep the same start and end date, but the seriesID should be different (`GDP` and `UNRATE` respectivelly). The units also differs:\n",
    "- for `GDP` the units would be `pc1`\n",
    "- for `UNRATE` the units would be `lin`\n",
    "\n",
    "Once you have the data you should plot the inside the same chart. You'll use the same values for `X` and the `Y` values will differs for the two plots."
   ]
  },
  {
   "cell_type": "code",
   "execution_count": null,
   "metadata": {},
   "outputs": [],
   "source": []
  }
 ],
 "metadata": {
  "kernelspec": {
   "display_name": "Python 3 (ipykernel)",
   "language": "python",
   "name": "python3"
  },
  "language_info": {
   "codemirror_mode": {
    "name": "ipython",
    "version": 3
   },
   "file_extension": ".py",
   "mimetype": "text/x-python",
   "name": "python",
   "nbconvert_exporter": "python",
   "pygments_lexer": "ipython3",
   "version": "3.10.14"
  }
 },
 "nbformat": 4,
 "nbformat_minor": 2
}
